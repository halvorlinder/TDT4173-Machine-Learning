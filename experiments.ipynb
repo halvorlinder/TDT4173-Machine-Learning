{
 "cells": [
  {
   "cell_type": "code",
   "execution_count": 118,
   "metadata": {},
   "outputs": [
    {
     "name": "stdout",
     "output_type": "stream",
     "text": [
      "The autoreload extension is already loaded. To reload it, use:\n",
      "  %reload_ext autoreload\n"
     ]
    }
   ],
   "source": [
    "# Magic to automatically update imports if functions in utils are changed\n",
    "%load_ext autoreload\n",
    "%autoreload 2\n",
    "\n",
    "import pandas as pd\n",
    "import numpy as np\n",
    "import seaborn as sns\n",
    "import sklearn\n",
    "import matplotlib.pyplot as plt"
   ]
  },
  {
   "cell_type": "code",
   "execution_count": 119,
   "metadata": {},
   "outputs": [],
   "source": [
    "from sklearn.model_selection import train_test_split\n",
    "\n",
    "stores_train = pd.read_csv(\"data/stores_train.csv\")\n",
    "stores_test = pd.read_csv(\"data/stores_test.csv\")\n",
    "stores_train, stores_val = train_test_split(stores_train, test_size=0.2, random_state=0)"
   ]
  },
  {
   "cell_type": "code",
   "execution_count": 120,
   "metadata": {},
   "outputs": [
    {
     "name": "stdout",
     "output_type": "stream",
     "text": [
      "(10287, 12)\n"
     ]
    },
    {
     "data": {
      "text/html": [
       "<div>\n",
       "<style scoped>\n",
       "    .dataframe tbody tr th:only-of-type {\n",
       "        vertical-align: middle;\n",
       "    }\n",
       "\n",
       "    .dataframe tbody tr th {\n",
       "        vertical-align: top;\n",
       "    }\n",
       "\n",
       "    .dataframe thead th {\n",
       "        text-align: right;\n",
       "    }\n",
       "</style>\n",
       "<table border=\"1\" class=\"dataframe\">\n",
       "  <thead>\n",
       "    <tr style=\"text-align: right;\">\n",
       "      <th></th>\n",
       "      <th>store_id</th>\n",
       "      <th>year</th>\n",
       "      <th>store_name</th>\n",
       "      <th>plaace_hierarchy_id</th>\n",
       "      <th>sales_channel_name</th>\n",
       "      <th>grunnkrets_id</th>\n",
       "      <th>address</th>\n",
       "      <th>lat</th>\n",
       "      <th>lon</th>\n",
       "      <th>chain_name</th>\n",
       "      <th>mall_name</th>\n",
       "      <th>revenue</th>\n",
       "    </tr>\n",
       "  </thead>\n",
       "  <tbody>\n",
       "    <tr>\n",
       "      <th>2506</th>\n",
       "      <td>990857423-990974489-88185</td>\n",
       "      <td>2016</td>\n",
       "      <td>BAKER KLAUSEN UNION</td>\n",
       "      <td>1.2.2.0</td>\n",
       "      <td>Bakery shop</td>\n",
       "      <td>6020601</td>\n",
       "      <td>GRØNLAND 54</td>\n",
       "      <td>59.743135</td>\n",
       "      <td>10.194627</td>\n",
       "      <td>BAKER KLAUSEN DRAMMEN</td>\n",
       "      <td>NaN</td>\n",
       "      <td>4.447</td>\n",
       "    </tr>\n",
       "    <tr>\n",
       "      <th>12305</th>\n",
       "      <td>948879220-972145203-18800</td>\n",
       "      <td>2016</td>\n",
       "      <td>PRIKKEN RENS AS</td>\n",
       "      <td>3.4.2.0</td>\n",
       "      <td>Laundromats and dry cleaners</td>\n",
       "      <td>2350203</td>\n",
       "      <td>ENERGIVEGEN 5</td>\n",
       "      <td>60.149288</td>\n",
       "      <td>11.187290</td>\n",
       "      <td>NaN</td>\n",
       "      <td>NaN</td>\n",
       "      <td>2.040</td>\n",
       "    </tr>\n",
       "    <tr>\n",
       "      <th>4142</th>\n",
       "      <td>951136751-971668970-6795</td>\n",
       "      <td>2016</td>\n",
       "      <td>EXPERT HOKKSUND</td>\n",
       "      <td>2.3.1.0</td>\n",
       "      <td>Electronics stores</td>\n",
       "      <td>6240307</td>\n",
       "      <td>SUNDMOEN NÆRINGSOMRÅDE</td>\n",
       "      <td>59.768986</td>\n",
       "      <td>9.899066</td>\n",
       "      <td>EXPERT</td>\n",
       "      <td>NaN</td>\n",
       "      <td>36.489</td>\n",
       "    </tr>\n",
       "    <tr>\n",
       "      <th>8561</th>\n",
       "      <td>980237508-980246167-71346</td>\n",
       "      <td>2016</td>\n",
       "      <td>INVIT AS</td>\n",
       "      <td>2.9.1.0</td>\n",
       "      <td>Gifts and interior design shops</td>\n",
       "      <td>15040206</td>\n",
       "      <td>APOTEKERGATA 9</td>\n",
       "      <td>62.471607</td>\n",
       "      <td>6.151301</td>\n",
       "      <td>NaN</td>\n",
       "      <td>NaN</td>\n",
       "      <td>5.739</td>\n",
       "    </tr>\n",
       "    <tr>\n",
       "      <th>818</th>\n",
       "      <td>974421305-974489902-136560</td>\n",
       "      <td>2016</td>\n",
       "      <td>MUCHO MAS</td>\n",
       "      <td>1.1.6.2</td>\n",
       "      <td>Restaurants</td>\n",
       "      <td>3012312</td>\n",
       "      <td>THORVALD MEYERS GATE 36</td>\n",
       "      <td>59.924205</td>\n",
       "      <td>10.759401</td>\n",
       "      <td>NaN</td>\n",
       "      <td>NaN</td>\n",
       "      <td>15.573</td>\n",
       "    </tr>\n",
       "  </tbody>\n",
       "</table>\n",
       "</div>"
      ],
      "text/plain": [
       "                         store_id  year           store_name  \\\n",
       "2506    990857423-990974489-88185  2016  BAKER KLAUSEN UNION   \n",
       "12305   948879220-972145203-18800  2016      PRIKKEN RENS AS   \n",
       "4142     951136751-971668970-6795  2016      EXPERT HOKKSUND   \n",
       "8561    980237508-980246167-71346  2016             INVIT AS   \n",
       "818    974421305-974489902-136560  2016            MUCHO MAS   \n",
       "\n",
       "      plaace_hierarchy_id               sales_channel_name  grunnkrets_id  \\\n",
       "2506              1.2.2.0                      Bakery shop        6020601   \n",
       "12305             3.4.2.0     Laundromats and dry cleaners        2350203   \n",
       "4142              2.3.1.0               Electronics stores        6240307   \n",
       "8561              2.9.1.0  Gifts and interior design shops       15040206   \n",
       "818               1.1.6.2                      Restaurants        3012312   \n",
       "\n",
       "                       address        lat        lon             chain_name  \\\n",
       "2506               GRØNLAND 54  59.743135  10.194627  BAKER KLAUSEN DRAMMEN   \n",
       "12305            ENERGIVEGEN 5  60.149288  11.187290                    NaN   \n",
       "4142    SUNDMOEN NÆRINGSOMRÅDE  59.768986   9.899066                 EXPERT   \n",
       "8561            APOTEKERGATA 9  62.471607   6.151301                    NaN   \n",
       "818    THORVALD MEYERS GATE 36  59.924205  10.759401                    NaN   \n",
       "\n",
       "      mall_name  revenue  \n",
       "2506        NaN    4.447  \n",
       "12305       NaN    2.040  \n",
       "4142        NaN   36.489  \n",
       "8561        NaN    5.739  \n",
       "818         NaN   15.573  "
      ]
     },
     "execution_count": 120,
     "metadata": {},
     "output_type": "execute_result"
    }
   ],
   "source": [
    "print(stores_train.shape)\n",
    "stores_train.head()"
   ]
  },
  {
   "cell_type": "code",
   "execution_count": 121,
   "metadata": {},
   "outputs": [
    {
     "name": "stdout",
     "output_type": "stream",
     "text": [
      "(2572, 12)\n"
     ]
    },
    {
     "data": {
      "text/html": [
       "<div>\n",
       "<style scoped>\n",
       "    .dataframe tbody tr th:only-of-type {\n",
       "        vertical-align: middle;\n",
       "    }\n",
       "\n",
       "    .dataframe tbody tr th {\n",
       "        vertical-align: top;\n",
       "    }\n",
       "\n",
       "    .dataframe thead th {\n",
       "        text-align: right;\n",
       "    }\n",
       "</style>\n",
       "<table border=\"1\" class=\"dataframe\">\n",
       "  <thead>\n",
       "    <tr style=\"text-align: right;\">\n",
       "      <th></th>\n",
       "      <th>store_id</th>\n",
       "      <th>year</th>\n",
       "      <th>store_name</th>\n",
       "      <th>plaace_hierarchy_id</th>\n",
       "      <th>sales_channel_name</th>\n",
       "      <th>grunnkrets_id</th>\n",
       "      <th>address</th>\n",
       "      <th>lat</th>\n",
       "      <th>lon</th>\n",
       "      <th>chain_name</th>\n",
       "      <th>mall_name</th>\n",
       "      <th>revenue</th>\n",
       "    </tr>\n",
       "  </thead>\n",
       "  <tbody>\n",
       "    <tr>\n",
       "      <th>3039</th>\n",
       "      <td>915895964-916348282--916348282</td>\n",
       "      <td>2016</td>\n",
       "      <td>RED ZONE NIGHT CLUB AS</td>\n",
       "      <td>1.3.2.0</td>\n",
       "      <td>Pubs</td>\n",
       "      <td>16011204</td>\n",
       "      <td>FJORDGATA 60</td>\n",
       "      <td>63.434725</td>\n",
       "      <td>10.396415</td>\n",
       "      <td>NaN</td>\n",
       "      <td>NaN</td>\n",
       "      <td>0.830</td>\n",
       "    </tr>\n",
       "    <tr>\n",
       "      <th>11932</th>\n",
       "      <td>979136463-979138423-3267</td>\n",
       "      <td>2016</td>\n",
       "      <td>BRILLEHUSET OPTIKER GUTTORMSEN</td>\n",
       "      <td>3.3.5.0</td>\n",
       "      <td>Opticians</td>\n",
       "      <td>18330701</td>\n",
       "      <td>GAMMELVEIEN 11 B</td>\n",
       "      <td>66.340746</td>\n",
       "      <td>14.144399</td>\n",
       "      <td>ALLIANCE OPTIKK</td>\n",
       "      <td>NaN</td>\n",
       "      <td>2.866</td>\n",
       "    </tr>\n",
       "    <tr>\n",
       "      <th>5875</th>\n",
       "      <td>943486220-972604380-506</td>\n",
       "      <td>2016</td>\n",
       "      <td>G-SPORT RJUKAN</td>\n",
       "      <td>2.6.3.2</td>\n",
       "      <td>Sporting goods stores</td>\n",
       "      <td>8260308</td>\n",
       "      <td>SAM EYDES GATE 69</td>\n",
       "      <td>59.878475</td>\n",
       "      <td>8.588883</td>\n",
       "      <td>G-SPORT</td>\n",
       "      <td>NaN</td>\n",
       "      <td>7.537</td>\n",
       "    </tr>\n",
       "    <tr>\n",
       "      <th>4041</th>\n",
       "      <td>979875010-979921195-105878</td>\n",
       "      <td>2016</td>\n",
       "      <td>CIRCLE K STRANDA</td>\n",
       "      <td>2.2.1.0</td>\n",
       "      <td>Gas stations</td>\n",
       "      <td>15250107</td>\n",
       "      <td>SJØGATA 11</td>\n",
       "      <td>62.309373</td>\n",
       "      <td>6.948788</td>\n",
       "      <td>CIRCLE K DETALJIST</td>\n",
       "      <td>NaN</td>\n",
       "      <td>10.324</td>\n",
       "    </tr>\n",
       "    <tr>\n",
       "      <th>4477</th>\n",
       "      <td>990122873-984715021-68207</td>\n",
       "      <td>2016</td>\n",
       "      <td>B-YOUNG GJØVIK</td>\n",
       "      <td>2.4.1.0</td>\n",
       "      <td>Women’s clothing stores</td>\n",
       "      <td>5020403</td>\n",
       "      <td>STORGATA 3</td>\n",
       "      <td>60.795677</td>\n",
       "      <td>10.691018</td>\n",
       "      <td>B-YOUNG</td>\n",
       "      <td>NaN</td>\n",
       "      <td>3.855</td>\n",
       "    </tr>\n",
       "  </tbody>\n",
       "</table>\n",
       "</div>"
      ],
      "text/plain": [
       "                             store_id  year                      store_name  \\\n",
       "3039   915895964-916348282--916348282  2016          RED ZONE NIGHT CLUB AS   \n",
       "11932        979136463-979138423-3267  2016  BRILLEHUSET OPTIKER GUTTORMSEN   \n",
       "5875          943486220-972604380-506  2016                  G-SPORT RJUKAN   \n",
       "4041       979875010-979921195-105878  2016                CIRCLE K STRANDA   \n",
       "4477        990122873-984715021-68207  2016                  B-YOUNG GJØVIK   \n",
       "\n",
       "      plaace_hierarchy_id       sales_channel_name  grunnkrets_id  \\\n",
       "3039              1.3.2.0                     Pubs       16011204   \n",
       "11932             3.3.5.0                Opticians       18330701   \n",
       "5875              2.6.3.2    Sporting goods stores        8260308   \n",
       "4041              2.2.1.0             Gas stations       15250107   \n",
       "4477              2.4.1.0  Women’s clothing stores        5020403   \n",
       "\n",
       "                 address        lat        lon          chain_name mall_name  \\\n",
       "3039        FJORDGATA 60  63.434725  10.396415                 NaN       NaN   \n",
       "11932   GAMMELVEIEN 11 B  66.340746  14.144399     ALLIANCE OPTIKK       NaN   \n",
       "5875   SAM EYDES GATE 69  59.878475   8.588883             G-SPORT       NaN   \n",
       "4041          SJØGATA 11  62.309373   6.948788  CIRCLE K DETALJIST       NaN   \n",
       "4477          STORGATA 3  60.795677  10.691018             B-YOUNG       NaN   \n",
       "\n",
       "       revenue  \n",
       "3039     0.830  \n",
       "11932    2.866  \n",
       "5875     7.537  \n",
       "4041    10.324  \n",
       "4477     3.855  "
      ]
     },
     "execution_count": 121,
     "metadata": {},
     "output_type": "execute_result"
    }
   ],
   "source": [
    "print(stores_val.shape)\n",
    "stores_val.head()"
   ]
  },
  {
   "cell_type": "code",
   "execution_count": 122,
   "metadata": {},
   "outputs": [
    {
     "name": "stdout",
     "output_type": "stream",
     "text": [
      "(8577, 11)\n"
     ]
    },
    {
     "data": {
      "text/html": [
       "<div>\n",
       "<style scoped>\n",
       "    .dataframe tbody tr th:only-of-type {\n",
       "        vertical-align: middle;\n",
       "    }\n",
       "\n",
       "    .dataframe tbody tr th {\n",
       "        vertical-align: top;\n",
       "    }\n",
       "\n",
       "    .dataframe thead th {\n",
       "        text-align: right;\n",
       "    }\n",
       "</style>\n",
       "<table border=\"1\" class=\"dataframe\">\n",
       "  <thead>\n",
       "    <tr style=\"text-align: right;\">\n",
       "      <th></th>\n",
       "      <th>store_id</th>\n",
       "      <th>year</th>\n",
       "      <th>store_name</th>\n",
       "      <th>plaace_hierarchy_id</th>\n",
       "      <th>sales_channel_name</th>\n",
       "      <th>grunnkrets_id</th>\n",
       "      <th>address</th>\n",
       "      <th>lat</th>\n",
       "      <th>lon</th>\n",
       "      <th>chain_name</th>\n",
       "      <th>mall_name</th>\n",
       "    </tr>\n",
       "  </thead>\n",
       "  <tbody>\n",
       "    <tr>\n",
       "      <th>0</th>\n",
       "      <td>914206820-914239427-717245</td>\n",
       "      <td>2016</td>\n",
       "      <td>VÅLERENGA HALAL BURGER AS</td>\n",
       "      <td>1.1.1.0</td>\n",
       "      <td>Hamburger restaurants</td>\n",
       "      <td>3012704</td>\n",
       "      <td>STRØMSVEIEN 25 A</td>\n",
       "      <td>59.908672</td>\n",
       "      <td>10.787031</td>\n",
       "      <td>NaN</td>\n",
       "      <td>NaN</td>\n",
       "    </tr>\n",
       "    <tr>\n",
       "      <th>1</th>\n",
       "      <td>916789157-916823770-824309</td>\n",
       "      <td>2016</td>\n",
       "      <td>BURGER KING MYREN</td>\n",
       "      <td>1.1.1.0</td>\n",
       "      <td>Hamburger restaurants</td>\n",
       "      <td>8061401</td>\n",
       "      <td>MYREN 1</td>\n",
       "      <td>59.201467</td>\n",
       "      <td>9.588243</td>\n",
       "      <td>BURGER KING</td>\n",
       "      <td>NaN</td>\n",
       "    </tr>\n",
       "    <tr>\n",
       "      <th>2</th>\n",
       "      <td>913341082-977479363-2948</td>\n",
       "      <td>2016</td>\n",
       "      <td>BURGER KING STOVNER</td>\n",
       "      <td>1.1.1.0</td>\n",
       "      <td>Hamburger restaurants</td>\n",
       "      <td>3013917</td>\n",
       "      <td>STOVNER SENTER 3</td>\n",
       "      <td>59.962146</td>\n",
       "      <td>10.924524</td>\n",
       "      <td>BURGER KING</td>\n",
       "      <td>Stovner Senter</td>\n",
       "    </tr>\n",
       "    <tr>\n",
       "      <th>3</th>\n",
       "      <td>889682582-889697172-28720</td>\n",
       "      <td>2016</td>\n",
       "      <td>BURGER KING TUNGASLETTA</td>\n",
       "      <td>1.1.1.0</td>\n",
       "      <td>Hamburger restaurants</td>\n",
       "      <td>16012104</td>\n",
       "      <td>TUNGASLETTA 16</td>\n",
       "      <td>63.420785</td>\n",
       "      <td>10.461091</td>\n",
       "      <td>BURGER KING</td>\n",
       "      <td>NaN</td>\n",
       "    </tr>\n",
       "    <tr>\n",
       "      <th>4</th>\n",
       "      <td>997991699-998006945-417222</td>\n",
       "      <td>2016</td>\n",
       "      <td>VULKAN BURGERBAR</td>\n",
       "      <td>1.1.1.0</td>\n",
       "      <td>Hamburger restaurants</td>\n",
       "      <td>3014305</td>\n",
       "      <td>AUD SCHØNEMANNS VEI 15</td>\n",
       "      <td>59.921102</td>\n",
       "      <td>10.785123</td>\n",
       "      <td>VULKAN BURGERBAR</td>\n",
       "      <td>NaN</td>\n",
       "    </tr>\n",
       "  </tbody>\n",
       "</table>\n",
       "</div>"
      ],
      "text/plain": [
       "                     store_id  year                 store_name  \\\n",
       "0  914206820-914239427-717245  2016  VÅLERENGA HALAL BURGER AS   \n",
       "1  916789157-916823770-824309  2016          BURGER KING MYREN   \n",
       "2    913341082-977479363-2948  2016        BURGER KING STOVNER   \n",
       "3   889682582-889697172-28720  2016    BURGER KING TUNGASLETTA   \n",
       "4  997991699-998006945-417222  2016           VULKAN BURGERBAR   \n",
       "\n",
       "  plaace_hierarchy_id     sales_channel_name  grunnkrets_id  \\\n",
       "0             1.1.1.0  Hamburger restaurants        3012704   \n",
       "1             1.1.1.0  Hamburger restaurants        8061401   \n",
       "2             1.1.1.0  Hamburger restaurants        3013917   \n",
       "3             1.1.1.0  Hamburger restaurants       16012104   \n",
       "4             1.1.1.0  Hamburger restaurants        3014305   \n",
       "\n",
       "                  address        lat        lon        chain_name  \\\n",
       "0        STRØMSVEIEN 25 A  59.908672  10.787031               NaN   \n",
       "1                 MYREN 1  59.201467   9.588243       BURGER KING   \n",
       "2        STOVNER SENTER 3  59.962146  10.924524       BURGER KING   \n",
       "3          TUNGASLETTA 16  63.420785  10.461091       BURGER KING   \n",
       "4  AUD SCHØNEMANNS VEI 15  59.921102  10.785123  VULKAN BURGERBAR   \n",
       "\n",
       "        mall_name  \n",
       "0             NaN  \n",
       "1             NaN  \n",
       "2  Stovner Senter  \n",
       "3             NaN  \n",
       "4             NaN  "
      ]
     },
     "execution_count": 122,
     "metadata": {},
     "output_type": "execute_result"
    }
   ],
   "source": [
    "print(stores_test.shape)\n",
    "stores_test.head()"
   ]
  },
  {
   "cell_type": "code",
   "execution_count": 123,
   "metadata": {},
   "outputs": [
    {
     "data": {
      "text/plain": [
       "<AxesSubplot:xlabel='revenue', ylabel='Count'>"
      ]
     },
     "execution_count": 123,
     "metadata": {},
     "output_type": "execute_result"
    },
    {
     "data": {
      "image/png": "[encoded data removed]",
      "text/plain": [
       "<Figure size 640x480 with 1 Axes>"
      ]
     },
     "metadata": {},
     "output_type": "display_data"
    }
   ],
   "source": [
    "sns.histplot(data=stores_train['revenue'], bins=50)"
   ]
  },
  {
   "cell_type": "markdown",
   "metadata": {},
   "source": [
    "### Investigating the different features"
   ]
  },
  {
   "cell_type": "code",
   "execution_count": 124,
   "metadata": {},
   "outputs": [
    {
     "data": {
      "text/plain": [
       "store_id                object\n",
       "year                     int64\n",
       "store_name              object\n",
       "plaace_hierarchy_id     object\n",
       "sales_channel_name      object\n",
       "grunnkrets_id            int64\n",
       "address                 object\n",
       "lat                    float64\n",
       "lon                    float64\n",
       "chain_name              object\n",
       "mall_name               object\n",
       "revenue                float64\n",
       "dtype: object"
      ]
     },
     "execution_count": 124,
     "metadata": {},
     "output_type": "execute_result"
    }
   ],
   "source": [
    "stores_train.dtypes"
   ]
  },
  {
   "cell_type": "code",
   "execution_count": 125,
   "metadata": {},
   "outputs": [
    {
     "data": {
      "text/html": [
       "<div>\n",
       "<style scoped>\n",
       "    .dataframe tbody tr th:only-of-type {\n",
       "        vertical-align: middle;\n",
       "    }\n",
       "\n",
       "    .dataframe tbody tr th {\n",
       "        vertical-align: top;\n",
       "    }\n",
       "\n",
       "    .dataframe thead th {\n",
       "        text-align: right;\n",
       "    }\n",
       "</style>\n",
       "<table border=\"1\" class=\"dataframe\">\n",
       "  <thead>\n",
       "    <tr style=\"text-align: right;\">\n",
       "      <th></th>\n",
       "      <th>year</th>\n",
       "      <th>grunnkrets_id</th>\n",
       "      <th>lat</th>\n",
       "      <th>lon</th>\n",
       "      <th>revenue</th>\n",
       "    </tr>\n",
       "  </thead>\n",
       "  <tbody>\n",
       "    <tr>\n",
       "      <th>count</th>\n",
       "      <td>10287.0</td>\n",
       "      <td>1.028700e+04</td>\n",
       "      <td>10287.000000</td>\n",
       "      <td>10287.000000</td>\n",
       "      <td>10287.000000</td>\n",
       "    </tr>\n",
       "    <tr>\n",
       "      <th>mean</th>\n",
       "      <td>2016.0</td>\n",
       "      <td>9.348313e+06</td>\n",
       "      <td>61.223094</td>\n",
       "      <td>10.005801</td>\n",
       "      <td>8.328546</td>\n",
       "    </tr>\n",
       "    <tr>\n",
       "      <th>std</th>\n",
       "      <td>0.0</td>\n",
       "      <td>5.794345e+06</td>\n",
       "      <td>2.969380</td>\n",
       "      <td>3.825401</td>\n",
       "      <td>15.659131</td>\n",
       "    </tr>\n",
       "    <tr>\n",
       "      <th>min</th>\n",
       "      <td>2016.0</td>\n",
       "      <td>1.010105e+06</td>\n",
       "      <td>57.994443</td>\n",
       "      <td>4.625889</td>\n",
       "      <td>0.000000</td>\n",
       "    </tr>\n",
       "    <tr>\n",
       "      <th>25%</th>\n",
       "      <td>2016.0</td>\n",
       "      <td>3.014302e+06</td>\n",
       "      <td>59.433541</td>\n",
       "      <td>7.223571</td>\n",
       "      <td>1.188000</td>\n",
       "    </tr>\n",
       "    <tr>\n",
       "      <th>50%</th>\n",
       "      <td>2016.0</td>\n",
       "      <td>9.065412e+06</td>\n",
       "      <td>59.941830</td>\n",
       "      <td>10.407527</td>\n",
       "      <td>3.363000</td>\n",
       "    </tr>\n",
       "    <tr>\n",
       "      <th>75%</th>\n",
       "      <td>2016.0</td>\n",
       "      <td>1.449020e+07</td>\n",
       "      <td>62.144366</td>\n",
       "      <td>10.850242</td>\n",
       "      <td>8.052500</td>\n",
       "    </tr>\n",
       "    <tr>\n",
       "      <th>max</th>\n",
       "      <td>2016.0</td>\n",
       "      <td>2.030031e+07</td>\n",
       "      <td>71.098287</td>\n",
       "      <td>31.118935</td>\n",
       "      <td>219.599000</td>\n",
       "    </tr>\n",
       "  </tbody>\n",
       "</table>\n",
       "</div>"
      ],
      "text/plain": [
       "          year  grunnkrets_id           lat           lon       revenue\n",
       "count  10287.0   1.028700e+04  10287.000000  10287.000000  10287.000000\n",
       "mean    2016.0   9.348313e+06     61.223094     10.005801      8.328546\n",
       "std        0.0   5.794345e+06      2.969380      3.825401     15.659131\n",
       "min     2016.0   1.010105e+06     57.994443      4.625889      0.000000\n",
       "25%     2016.0   3.014302e+06     59.433541      7.223571      1.188000\n",
       "50%     2016.0   9.065412e+06     59.941830     10.407527      3.363000\n",
       "75%     2016.0   1.449020e+07     62.144366     10.850242      8.052500\n",
       "max     2016.0   2.030031e+07     71.098287     31.118935    219.599000"
      ]
     },
     "execution_count": 125,
     "metadata": {},
     "output_type": "execute_result"
    }
   ],
   "source": [
    "stores_train.describe()"
   ]
  },
  {
   "cell_type": "markdown",
   "metadata": {},
   "source": [
    "store_id and year are redundant as they provide no information"
   ]
  },
  {
   "cell_type": "code",
   "execution_count": 126,
   "metadata": {},
   "outputs": [
    {
     "data": {
      "text/plain": [
       "10265"
      ]
     },
     "execution_count": 126,
     "metadata": {},
     "output_type": "execute_result"
    }
   ],
   "source": [
    "stores_train[\"store_name\"].nunique()\n"
   ]
  },
  {
   "cell_type": "markdown",
   "metadata": {},
   "source": [
    "Since there are so many unique store names, we omit this ATM"
   ]
  },
  {
   "cell_type": "markdown",
   "metadata": {},
   "source": [
    "#### Plaace Hierarchy ID"
   ]
  },
  {
   "cell_type": "code",
   "execution_count": 127,
   "metadata": {},
   "outputs": [
    {
     "data": {
      "text/plain": [
       "3.2.4.0     959\n",
       "2.8.1.0     879\n",
       "2.4.6.0     700\n",
       "3.2.1.0     605\n",
       "1.1.6.2     499\n",
       "2.7.1.0     386\n",
       "1.1.7.0     385\n",
       "1.1.6.4     339\n",
       "2.6.3.2     322\n",
       "1.2.4.0     279\n",
       "2.2.1.0     275\n",
       "3.6.1.0     261\n",
       "2.9.4.0     219\n",
       "2.9.8.0     218\n",
       "1.1.9.0     193\n",
       "3.3.3.0     191\n",
       "1.3.2.0     186\n",
       "2.1.6.0     164\n",
       "2.8.2.0     161\n",
       "1.1.6.1     158\n",
       "3.3.5.0     154\n",
       "3.3.6.0     142\n",
       "1.1.5.0     139\n",
       "2.3.1.0     138\n",
       "1.1.6.3     123\n",
       "3.2.2.0     107\n",
       "2.9.3.0     103\n",
       "2.9.1.0     103\n",
       "2.1.2.0      99\n",
       "2.4.2.0      98\n",
       "2.9.2.0      87\n",
       "1.1.2.0      85\n",
       "2.7.2.0      80\n",
       "2.7.5.0      80\n",
       "2.5.2.0      76\n",
       "2.6.2.0      75\n",
       "2.1.1.0      67\n",
       "2.8.10.0     67\n",
       "3.4.3.0      67\n",
       "2.4.1.0      61\n",
       "2.1.4.0      61\n",
       "2.3.2.0      57\n",
       "2.7.6.0      55\n",
       "3.4.2.0      52\n",
       "2.6.1.0      47\n",
       "2.3.4.0      46\n",
       "2.1.3.0      41\n",
       "1.2.2.0      38\n",
       "2.4.5.0      37\n",
       "2.9.5.0      37\n",
       "1.1.4.0      35\n",
       "2.6.6.1      34\n",
       "2.9.9.0      32\n",
       "1.2.3.0      32\n",
       "2.6.5.0      25\n",
       "3.3.4.0      24\n",
       "2.7.3.0      23\n",
       "2.3.3.0      22\n",
       "2.8.6.0      22\n",
       "2.8.4.0      20\n",
       "1.1.1.0      19\n",
       "1.1.3.0      19\n",
       "2.8.5.0      17\n",
       "2.9.7.0      16\n",
       "2.1.5.0      15\n",
       "2.8.3.0      15\n",
       "2.8.7.0      14\n",
       "2.2.4.0      12\n",
       "2.4.4.0      11\n",
       "2.3.5.0      10\n",
       "3.3.7.0       9\n",
       "2.8.11.2      9\n",
       "2.1.7.0       6\n",
       "1.2.1.0       6\n",
       "1.3.1.0       5\n",
       "2.6.6.2       4\n",
       "1.4.1.0       4\n",
       "2.5.1.0       4\n",
       "2.6.4.0       4\n",
       "1.4.2.0       4\n",
       "2.6.3.3       3\n",
       "2.7.4.0       3\n",
       "2.6.3.1       3\n",
       "3.3.2.0       1\n",
       "2.3.6.0       1\n",
       "2.9.6.0       1\n",
       "2.2.3.0       1\n",
       "2.4.3.0       1\n",
       "Name: plaace_hierarchy_id, dtype: int64"
      ]
     },
     "execution_count": 127,
     "metadata": {},
     "output_type": "execute_result"
    }
   ],
   "source": [
    "stores_train[\"plaace_hierarchy_id\"].value_counts()"
   ]
  },
  {
   "cell_type": "code",
   "execution_count": 128,
   "metadata": {},
   "outputs": [
    {
     "data": {
      "text/plain": [
       "1.1    1994\n",
       "3.2    1671\n",
       "2.8    1204\n",
       "2.4     908\n",
       "2.9     816\n",
       "2.7     627\n",
       "3.3     521\n",
       "2.6     517\n",
       "2.1     453\n",
       "1.2     355\n",
       "2.2     288\n",
       "2.3     274\n",
       "3.6     261\n",
       "1.3     191\n",
       "3.4     119\n",
       "2.5      80\n",
       "1.4       8\n",
       "Name: plaace_hierarchy_id_6, dtype: int64"
      ]
     },
     "execution_count": 128,
     "metadata": {},
     "output_type": "execute_result"
    }
   ],
   "source": [
    "stores_train[\"plaace_hierarchy_id_6\"] = stores_train[\"plaace_hierarchy_id\"].apply(lambda x: x[:3])\n",
    "stores_train[\"plaace_hierarchy_id_6\"].value_counts()"
   ]
  },
  {
   "cell_type": "markdown",
   "metadata": {},
   "source": [
    "IDEA: split into 4 columns, first column contains only first number, second contains first two numbers...\n",
    "\n",
    "IDEA: split the 4 numbers into 4 columns.\n",
    "\n",
    "Treat as categorical variable"
   ]
  },
  {
   "cell_type": "markdown",
   "metadata": {},
   "source": [
    "#### Sales Channel Name"
   ]
  },
  {
   "cell_type": "code",
   "execution_count": 129,
   "metadata": {},
   "outputs": [
    {
     "data": {
      "text/plain": [
       "Spas                                         959\n",
       "Grocery stores                               879\n",
       "Clothing stores                              700\n",
       "Hairdressers                                 605\n",
       "Restaurants                                  499\n",
       "Other stores                                 386\n",
       "Hotels with restaurants                      385\n",
       "Belongs to dining                            339\n",
       "Sporting goods stores                        322\n",
       "Cafes                                        279\n",
       "Gas stations                                 275\n",
       "Gyms                                         261\n",
       "Furniture stores                             219\n",
       "Flower shops                                 218\n",
       "Fast food                                    193\n",
       "Photographers                                191\n",
       "Pubs                                         186\n",
       "Construction stores                          164\n",
       "Kiosks                                       161\n",
       "Eateries                                     158\n",
       "Opticians                                    154\n",
       "Jewelers                                     142\n",
       "Pizza restaurants                            139\n",
       "Electronics stores                           138\n",
       "Restaurants and cafes                        123\n",
       "Skincare salons                              107\n",
       "Home textile shops                           103\n",
       "Gifts and interior design shops              103\n",
       "Paint dealers                                 99\n",
       "Shoe stores                                   98\n",
       "Kitchen equipment stores                      87\n",
       "Sushi and wok restaurants                     85\n",
       "Multi-goods stores                            80\n",
       "Pet stores                                    80\n",
       "Perfumeries                                   76\n",
       "Toy stores                                    75\n",
       "Hardware store                                67\n",
       "Health food stores                            67\n",
       "Personal service providers                    67\n",
       "Women’s clothing stores                       61\n",
       "Plumbing stores                               61\n",
       "Telecom shops                                 57\n",
       "Pharmacies                                    55\n",
       "Laundromats and dry cleaners                  52\n",
       "Bookstores                                    47\n",
       "Computer stores                               46\n",
       "Kitchen design stores                         41\n",
       "Bakery shop                                   38\n",
       "Children’s clothing and equipment stores      37\n",
       "Yarn and sewing shops                         37\n",
       "Chinese restaurants                           35\n",
       "Music shops                                   34\n",
       "Thrift shops - home furnishings and decor     32\n",
       "Coffee shops                                  32\n",
       "Photo shops                                   25\n",
       "Watchmakers                                   24\n",
       "Travel accessories stores                     23\n",
       "Lighting stores                               22\n",
       "Fish shops                                    22\n",
       "Delicatessens                                 20\n",
       "Hamburger restaurants                         19\n",
       "Thai restaurants                              19\n",
       "Fruit and vegetable shops                     17\n",
       "Garden centers                                16\n",
       "Tile stores                                   15\n",
       "Butchers                                      15\n",
       "Coffee and tea shops                          14\n",
       "Car tire dealers                              12\n",
       "Men’s clothing stores                         11\n",
       "Multimedia stores                             10\n",
       "Key and shoe reparation shops                  9\n",
       "Beer and soda shop                             9\n",
       "Interior design shops                          6\n",
       "Bakeries                                       6\n",
       "Bars                                           5\n",
       "Musical instrument shops                       4\n",
       "Sandwich shops                                 4\n",
       "Jewelry stores                                 4\n",
       "Hobby shops                                    4\n",
       "Ice cream and smoothie shops                   4\n",
       "Golf shops                                     3\n",
       "Erotica shops                                  3\n",
       "Sports apparel stores                          3\n",
       "Construction workers                           1\n",
       "Audio and video store                          1\n",
       "Carpet stores                                  1\n",
       "Boating shops                                  1\n",
       "Thrift shops - clothing                        1\n",
       "Name: sales_channel_name, dtype: int64"
      ]
     },
     "execution_count": 129,
     "metadata": {},
     "output_type": "execute_result"
    }
   ],
   "source": [
    "stores_train[\"sales_channel_name\"].value_counts()"
   ]
  },
  {
   "cell_type": "markdown",
   "metadata": {},
   "source": [
    "Contains same information as plaace hierarchy id, redundant"
   ]
  },
  {
   "cell_type": "markdown",
   "metadata": {},
   "source": [
    "#### Grunnkrets ID"
   ]
  },
  {
   "cell_type": "code",
   "execution_count": 130,
   "metadata": {},
   "outputs": [
    {
     "data": {
      "text/plain": [
       "2506      6020601\n",
       "12305     2350203\n",
       "4142      6240307\n",
       "8561     15040206\n",
       "818       3012312\n",
       "           ...   \n",
       "4859     18330207\n",
       "3264     16017522\n",
       "9845     15040101\n",
       "10799    12012008\n",
       "2732     20120607\n",
       "Name: grunnkrets_id, Length: 10287, dtype: int64"
      ]
     },
     "execution_count": 130,
     "metadata": {},
     "output_type": "execute_result"
    }
   ],
   "source": [
    "stores_train[\"grunnkrets_id\"]"
   ]
  },
  {
   "cell_type": "markdown",
   "metadata": {},
   "source": [
    "Simply a foreign key to link to the other CSV files, will look at it later"
   ]
  },
  {
   "cell_type": "markdown",
   "metadata": {},
   "source": [
    "#### Address"
   ]
  },
  {
   "cell_type": "code",
   "execution_count": 131,
   "metadata": {},
   "outputs": [
    {
     "data": {
      "text/plain": [
       "6880"
      ]
     },
     "execution_count": 131,
     "metadata": {},
     "output_type": "execute_result"
    }
   ],
   "source": [
    "stores_train[\"address\"].nunique()"
   ]
  },
  {
   "cell_type": "markdown",
   "metadata": {},
   "source": [
    "#### Lat & Long"
   ]
  },
  {
   "cell_type": "code",
   "execution_count": 132,
   "metadata": {},
   "outputs": [
    {
     "data": {
      "image/png": "[encoded data removed]",
      "text/plain": [
       "<Figure size 640x480 with 1 Axes>"
      ]
     },
     "metadata": {},
     "output_type": "display_data"
    }
   ],
   "source": [
    "plt.plot(stores_train[\"lon\"], stores_train[\"lat\"], \"bo\")\n",
    "plt.ylabel(\"lon\")\n",
    "plt.xlabel(\"lat\")\n",
    "plt.show();"
   ]
  },
  {
   "cell_type": "markdown",
   "metadata": {},
   "source": [
    "#### Chain Name"
   ]
  },
  {
   "cell_type": "code",
   "execution_count": 133,
   "metadata": {},
   "outputs": [
    {
     "data": {
      "text/plain": [
       "REMA FRANCHISE NORGE                      223\n",
       "JOKER                                     132\n",
       "BUNNPRIS                                   96\n",
       "CIRCLE K DETALJIST                         94\n",
       "MIX                                        86\n",
       "INTERFLORA NORGE SA                        85\n",
       "SPAR                                       71\n",
       "NÆRBUTIKKEN                                58\n",
       "KIWI NORGE                                 54\n",
       "SPORT 1 BUTIKKENE                          53\n",
       "YX NORGE                                   50\n",
       "C OPTIKK                                   41\n",
       "FARGERIKE                                  40\n",
       "SPECSAVERS NORWAY                          39\n",
       "CHOICE HOTELS & RESORTS                    38\n",
       "ESSO NORGE                                 35\n",
       "PIZZABAKEREN INVEST                        35\n",
       "G-SPORT                                    35\n",
       "NORSKE SHELL                               33\n",
       "MX SPORT NORGE                             32\n",
       "MØBELRINGEN                                31\n",
       "BJØRKLUND NORGE                            31\n",
       "COOP EXTRA                                 30\n",
       "TILBORDS                                   30\n",
       "BEST STASJON                               29\n",
       "MATKROKEN                                  29\n",
       "FLORISS DRIFT                              27\n",
       "EUROPRIS                                   27\n",
       "EXPERT                                     26\n",
       "KITCHN BUTIKKDRIFT                         26\n",
       "FAGMØBLER NORGE                            24\n",
       "BYGGTORGET                                 24\n",
       "TELENORBUTIKKEN                            23\n",
       "DITT APOTEK                                22\n",
       "STADION                                    22\n",
       "EURO SKO NORGE                             22\n",
       "INTERSPORT NORGE                           22\n",
       "SUNKOST BUTIKK                             21\n",
       "EGON                                       20\n",
       "BOHUS                                      20\n",
       "JERNIA DETALJ                              20\n",
       "B-YOUNG                                    20\n",
       "MENY                                       19\n",
       "JAFS                                       19\n",
       "SCANDITOY                                  18\n",
       "EURONICS                                   18\n",
       "SKEIDAR                                    18\n",
       "ELKJØP NORGE                               17\n",
       "ALLIANCE OPTIKK                            17\n",
       "CHOCO                                      16\n",
       "APOTEK 1 GRUPPEN                           16\n",
       "RINGO                                      16\n",
       "INTEROPTIK                                 16\n",
       "SPORT OUTLET                               15\n",
       "PEPPES PIZZA                               15\n",
       "BIG HORN STEAK HOUSE                       14\n",
       "CUBUS                                      13\n",
       "BILXTRA                                    13\n",
       "DE HISTORISKE HOTEL & SPISESTEDER          13\n",
       "FRI BOKHANDEL SA                           13\n",
       "COOP MARKED                                13\n",
       "SØSTRENE GRENE                             13\n",
       "ZOOKJEDEN BUDDY                            13\n",
       "DEKK PARTNER                               12\n",
       "MESTERGULL                                 12\n",
       "BARE BARN                                  12\n",
       "THON HOTELS                                11\n",
       "SKIN TONIC                                 11\n",
       "NARVESEN                                   11\n",
       "HAGELANDGRUPPEN                            11\n",
       "TROPEHAGEN ZOO                             11\n",
       "LIFE                                       11\n",
       "HTH                                        11\n",
       "HAVA RETAIL                                10\n",
       "MALIA                                      10\n",
       "BAKER HANSEN                               10\n",
       "LIBRIS                                     10\n",
       "YES VI LEKER                               10\n",
       "ARTE-GULLSMEDENE                           10\n",
       "BYGGERIET                                  10\n",
       "BYGGI                                      10\n",
       "BURGER KING                                 9\n",
       "DESIGNFOREVIG                               9\n",
       "POULSSON                                    9\n",
       "ZOO 1 GRUPPEN                               9\n",
       "BEST WESTERN HOTELS NORWAY SA               9\n",
       "SYNSAM                                      9\n",
       "H NATURKOST                                 9\n",
       "VIC                                         8\n",
       "HØYER                                       8\n",
       "PROTID                                      8\n",
       "COOP PRIX                                   8\n",
       "MATCH                                       8\n",
       "BAGORAMA                                    7\n",
       "FURSETGRUPPEN                               7\n",
       "HANSEN & DYSVIK                             7\n",
       "HOUSE OF BEAUTY                             7\n",
       "SKOUSEN                                     7\n",
       "ELITE FOTO                                  7\n",
       "BABYCARE                                    7\n",
       "SPENST NORGE                                7\n",
       "SESSION DRIFT                               7\n",
       "BUNNPRIS & GOURMET                          6\n",
       "SIGDAL                                      6\n",
       "MUDO                                        6\n",
       "KVIK RETAIL NORGE                           6\n",
       "TOTEN TRENINGSSENTER                        6\n",
       "HAIRPORT FRISØR                             5\n",
       "SLETTVOLL MØBLER                            5\n",
       "CLASSIC NORWAY                              5\n",
       "SKORINGEN                                   5\n",
       "EASYFIT NORGE                               5\n",
       "VITA                                        5\n",
       "STRAI KJØKKEN                               5\n",
       "MOBIL DATA KJEDEN                           5\n",
       "ZIZZI                                       5\n",
       "LEATHERMAN HOLDING                          5\n",
       "GYDA GODTESPESIALISTEN SA                   5\n",
       "BRANDO KIDS AS NAME IT                      4\n",
       "CITYBAG                                     4\n",
       "MODENA GRUPPEN                              4\n",
       "FUJI SUSHI                                  4\n",
       "TREND                                       4\n",
       "EXTRA LEKER                                 4\n",
       "3T                                          4\n",
       "SUBWAY NORGE                                4\n",
       "GODTELAND NORGE                             4\n",
       "MCDONALDS                                   4\n",
       "KROGH OPTIKK                                4\n",
       "ERIKSEN INVEST HOLDING                      4\n",
       "FAMILY SPORTS CLUB NORWAY                   4\n",
       "LIVING                                      4\n",
       "MESTERLYS                                   4\n",
       "BØLGEN & MOI                                4\n",
       "FLISEKOMPANIET                              4\n",
       "HAPPY HOMES                                 4\n",
       "GULLFUNN                                    4\n",
       "MEGAFLIS                                    4\n",
       "FLOYD BUTIKKDRIFT                           3\n",
       "HABITAT NORWAY                              3\n",
       "MEKK SKANDINAVIA                            3\n",
       "SHOEDAY NORGE                               3\n",
       "MUSIC RETAIL HOLDING                        3\n",
       "ILSE JACOBSEN NORGE                         3\n",
       "NR1 FITNESS                                 3\n",
       "DESIGNA                                     3\n",
       "DOLLY DIMPLES NORGE                         3\n",
       "SKANDINAVISK HØYFJELLSUTSTYR                3\n",
       "THE EYEFACTORY                              3\n",
       "BISLETT KEBAB HOUSE                         3\n",
       "ACE COLLECTION                              3\n",
       "ALEX SUSHI                                  3\n",
       "RAMSVIK FRISØR                              3\n",
       "PÅ HÅRET FRISØR                             3\n",
       "TRAKTØREN                                   3\n",
       "MADONNA FRISØRENE                           3\n",
       "RIGHT PRICE TILES                           3\n",
       "THW HOLDINGS                                3\n",
       "FRISØRKJEDEN TANGO NORGE                    3\n",
       "JONAS B GUNDERSEN NORGE                     3\n",
       "PERRY FRISØR                                3\n",
       "REZIDOR HOTELS                              3\n",
       "CHANGE OF SCANDINAVIA                       3\n",
       "GULATING GRUPPEN                            3\n",
       "BACKSTAGE MUSIKK                            2\n",
       "PRINCESS GRUPPEN                            2\n",
       "TOBAR                                       2\n",
       "SCANDIC HOTELS                              2\n",
       "STREET ONE MOTEHANDEL                       2\n",
       "JUVELEN NORGE                               2\n",
       "INSTINCT                                    2\n",
       "VISIT                                       2\n",
       "NEXT TO NOTHING                             2\n",
       "PIKANT UNDER                                2\n",
       "FREE QUENT                                  2\n",
       "FLÜGGER                                     2\n",
       "BIKE BROTHERS                               2\n",
       "ANNES HÅRDESIGN                             2\n",
       "SNARKJØP GRUPPEN                            2\n",
       "AMUNDSEN SPESIAL                            2\n",
       "HAIR & THERE INVEST                         2\n",
       "PIZZANINI NORWAY                            2\n",
       "GODT BRØD NORGE                             2\n",
       "ADAM OG EVA FRISØR                          2\n",
       "SWAG SPORT                                  2\n",
       "APPONI                                      2\n",
       "SNÆBBUS HAIR HOLDING                        2\n",
       "WAYNE'S COFFEE                              2\n",
       "NORFLOOR                                    2\n",
       "BIANCO                                      2\n",
       "VITUSAPOTEK                                 2\n",
       "HI FI KLUBBEN                               2\n",
       "ANDERS LYCHE                                2\n",
       "MUSIKKVERKET                                2\n",
       "COLONIALEN                                  2\n",
       "GEDDON                                      2\n",
       "NOE FOR ENHVER TIL DEG OG HJEMMET DITT      2\n",
       "EUROSPAR                                    2\n",
       "CATERING SYSTEMER                           2\n",
       "CONSELTO                                    2\n",
       "O`LEARYS                                    2\n",
       "CHINA HOUSE                                 2\n",
       "DELICATESSEN                                2\n",
       "FOTBALLSHOP                                 2\n",
       "COMPANYS                                    2\n",
       "MINIT NORWAY                                2\n",
       "ARTS & CRAFTS                               2\n",
       "SEVEN-ELEVEN                                2\n",
       "KICKS NORGE                                 2\n",
       "STUDIO ALF                                  2\n",
       "JACK & JONES                                2\n",
       "HEADMASTERS                                 1\n",
       "VULKAN BURGERBAR                            1\n",
       "PHILEAS FOGG NORGE                          1\n",
       "STAMINA HELSE                               1\n",
       "FRANSA                                      1\n",
       "MATCH WOMAN                                 1\n",
       "RE BUTIKK                                   1\n",
       "JENSEN & NÆSS                               1\n",
       "DOMINO'S PIZZA                              1\n",
       "COMFORT                                     1\n",
       "KA INTERIØR                                 1\n",
       "DNA                                         1\n",
       "TOMMI SALONGEN                              1\n",
       "JUNIOR BARNEKLÆR                            1\n",
       "NOA NOA NORGE                               1\n",
       "HØDNEBØ HOME                                1\n",
       "WAHL PROSJEKT                               1\n",
       "TONI & GUY OSLO                             1\n",
       "NORLI LIBRIS                                1\n",
       "TRENTO                                      1\n",
       "DIN BAKER                                   1\n",
       "THUNE GULLSMED & URMAKER                    1\n",
       "DIN ZTIL                                    1\n",
       "BANDAGISTKJEDEN                             1\n",
       "RETRO                                       1\n",
       "ISUSHI                                      1\n",
       "GEHEB CONDITORI                             1\n",
       "COOP ELEKTRO                                1\n",
       "AB KLIPP                                    1\n",
       "ECCO NORWAY                                 1\n",
       "DYREGO HOLDING                              1\n",
       "SVANE KJØKKEN                               1\n",
       "BAGEL & JUICE                               1\n",
       "EVO FITNESS GROUP                           1\n",
       "ENG K & CO                                  1\n",
       "KONDOMERIET                                 1\n",
       "BAKER KLAUSEN DRAMMEN                       1\n",
       "YOGURT HEAVEN                               1\n",
       "BERGBYS                                     1\n",
       "CHRISTOPHERSEN SANDNES                      1\n",
       "SABI                                        1\n",
       "JAPO SUSHI THANH KIEN QUACH                 1\n",
       "BLACK CAT KAFFE OG TEHUS                    1\n",
       "BEMAKO                                      1\n",
       "CAN CAM FRISØR                              1\n",
       "SCANDINAVIAN FITNESS GROUP                  1\n",
       "GUIDANCE                                    1\n",
       "SELECTRON                                   1\n",
       "FRILUFTSMAGASINET                           1\n",
       "STORMBERG KONSEPT                           1\n",
       "BRANDS 21 DRAMMEN                           1\n",
       "RUDO HELGESEN                               1\n",
       "CLAIRE                                      1\n",
       "EASYLIFE NORGE                              1\n",
       "ÅPENT BAKERI                                1\n",
       "BANG & OLUFSEN                              1\n",
       "GARTNERRINGEN                               1\n",
       "COOP MEGA                                   1\n",
       "CAFÉ OPUS                                   1\n",
       "HJELLE                                      1\n",
       "MOODS OF NORWAY                             1\n",
       "JAKOBSLI HÅRSTUDIO                          1\n",
       "BYGGFAG                                     1\n",
       "DESIGN HAIRCARE                             1\n",
       "SAXEN FRISØR                                1\n",
       "FITNESSROOM SANDVIKA                        1\n",
       "SDR NORWAY                                  1\n",
       "ØDEGAARD DAME                               1\n",
       "STANGESKOVENE                               1\n",
       "BENETTON                                    1\n",
       "NORWAY FASHION GROUP                        1\n",
       "SKIN TRIM                                   1\n",
       "HOME & COTTAGE                              1\n",
       "KLEIN                                       1\n",
       "HOUSE OF SUSHI KIELLANDS PLASS              1\n",
       "HUSFLIDEN                                   1\n",
       "PIZZABAKEREN HOLDING                        1\n",
       "FOR MEN                                     1\n",
       "BAKERIET CAFEDRIFT                          1\n",
       "BILTEMA NORGE                               1\n",
       "COOP ANDRE                                  1\n",
       "SOLHAGEN                                    1\n",
       "TORSHOV SPORT                               1\n",
       "Name: chain_name, dtype: int64"
      ]
     },
     "execution_count": 133,
     "metadata": {},
     "output_type": "execute_result"
    }
   ],
   "source": [
    "# pd.set_option('display.max_rows', None)  # or 1000\n",
    "stores_train[\"chain_name\"].value_counts()"
   ]
  },
  {
   "cell_type": "code",
   "execution_count": 134,
   "metadata": {},
   "outputs": [
    {
     "data": {
      "text/plain": [
       "0.7103139885292117"
      ]
     },
     "execution_count": 134,
     "metadata": {},
     "output_type": "execute_result"
    }
   ],
   "source": [
    "stores_train[\"chain_name\"].isna().sum() / stores_train.shape[0]"
   ]
  },
  {
   "cell_type": "markdown",
   "metadata": {},
   "source": [
    "IMPUTE NANS: impute NANs as a category of its own. Can also treat the whole column as binary not-NAN/NAN. Can also decide threshold for when a chain becomes a NAN or another category altogether."
   ]
  },
  {
   "cell_type": "markdown",
   "metadata": {},
   "source": [
    "#### Mall Name"
   ]
  },
  {
   "cell_type": "code",
   "execution_count": 135,
   "metadata": {},
   "outputs": [
    {
     "data": {
      "text/plain": [
       "0.17390881695343638"
      ]
     },
     "execution_count": 135,
     "metadata": {},
     "output_type": "execute_result"
    }
   ],
   "source": [
    "stores_train[\"mall_name\"].value_counts().sum() / stores_train.shape[0]"
   ]
  },
  {
   "cell_type": "code",
   "execution_count": 136,
   "metadata": {},
   "outputs": [
    {
     "data": {
      "text/plain": [
       "Strømmen Storsenter               30\n",
       "Amfi Moa                          22\n",
       "Sandvika Storsenter               19\n",
       "Kvadrat                           18\n",
       "Jessheim Storsenter               15\n",
       "Ski Storsenter                    14\n",
       "Gulskogen Senter                  14\n",
       "Amfi Borg                         13\n",
       "Stovner Senter                    13\n",
       "CC Gjøvik                         13\n",
       "Lagunen Storsenter                13\n",
       "Sørlandssenteret                  13\n",
       "Amfi Finnsnes                     12\n",
       "Amfi Madla                        12\n",
       "CC Vest                           11\n",
       "Torvbyen                          11\n",
       "Herkules                          11\n",
       "Knarvik Senter                    11\n",
       "Storo Storsenter                  11\n",
       "CC Hamar                          11\n",
       "Triaden Lørenskog Storsenter      11\n",
       "Vinterbro Senter                  11\n",
       "Sartor Storsenter                 10\n",
       "House of Oslo                     10\n",
       "Vulkan                            10\n",
       "Magasinet Drammen                 10\n",
       "Amfi Førde                        10\n",
       "Jekta Storsenter                  10\n",
       "Aker Brygge                        9\n",
       "Trekanten Asker                    9\n",
       "Koch                               9\n",
       "Kuben Hønefoss                     9\n",
       "Amfi Alta                          9\n",
       "Magneten                           9\n",
       "Harebakken Senter                  9\n",
       "Paleet                             9\n",
       "Amfi Steinkjer                     9\n",
       "Østfoldhallene                     8\n",
       "Oasen                              8\n",
       "Amfi Ålgård                        8\n",
       "Tasta Senter                       8\n",
       "Amfi Verdal                        8\n",
       "Holmen Senter                      8\n",
       "Farmandstredet                     8\n",
       "Oasen Storsenter                   8\n",
       "Åsane Storsenter                   8\n",
       "Vestkanten Storsenter              8\n",
       "Øyrane Torg                        7\n",
       "Bergen Storsenter                  7\n",
       "City Lade                          7\n",
       "Amfi Eidsvoll                      7\n",
       "City Nord                          7\n",
       "Solsiden Kjøpesenter               7\n",
       "Amfi Elverum                       7\n",
       "Stortorvet Senter                  7\n",
       "Amfi Os                            7\n",
       "Tuvensenteret                      7\n",
       "Amfi Roseby                        7\n",
       "Askimtorget                        7\n",
       "Liertoppen Kjøpesenter             7\n",
       "Tangen Senter                      7\n",
       "M44                                7\n",
       "Galleriet Bergen                   7\n",
       "Sirkus Shopping                    7\n",
       "Byporten Shopping                  7\n",
       "Amfi Drøbak City                   7\n",
       "Combisenteret Haugesund            6\n",
       "Bekkjarvik Torg                    6\n",
       "Amfi Mandal                        6\n",
       "Amfi Moss                          6\n",
       "OTI-sentret                        6\n",
       "Re-torvet                          6\n",
       "Amfi Storkaia Brygge               6\n",
       "Amfi Raufoss                       6\n",
       "Gunerius                           6\n",
       "Torgkvartalet                      6\n",
       "Bergfoss-senteret                  6\n",
       "Horisont Senter                    6\n",
       "Xhibition                          6\n",
       "Elvetorget                         6\n",
       "Amfi Surnadal                      6\n",
       "Buskerud Storsenter                6\n",
       "Amfi Havnesenteret                 6\n",
       "Namsos Storsenter                  6\n",
       "Mosseporten                        6\n",
       "Amfi Tynset                        6\n",
       "Amfi Pyramiden                     6\n",
       "Amfi Ullevaal                      6\n",
       "Tvedt-senteret                     6\n",
       "Narvik Storsenter                  6\n",
       "Amfi Vågsbygd                      6\n",
       "Trondheim Torg                     6\n",
       "Veitvetsenteret                    6\n",
       "Amfi Sogningen                     6\n",
       "Amfi Eikunda                       6\n",
       "Bøsenteret                         6\n",
       "Oslo City                          6\n",
       "Amfi Mo i Rana                     5\n",
       "Amfi Askøy                         5\n",
       "Rortunet Senter                    5\n",
       "Nissen Hammerfest Senter           5\n",
       "Lietorvet                          5\n",
       "Flaskebekk Senter                  5\n",
       "Handelsparken Senter               5\n",
       "Økernsenteret                      5\n",
       "Down Town                          5\n",
       "Bekkestua Senter                   5\n",
       "Storbyen Kjøpesenter               5\n",
       "Manglerud Senter                   5\n",
       "Moldetorget                        5\n",
       "Furuset Senter                     5\n",
       "Mastrevik Torg                     5\n",
       "Lofotsenteret                      5\n",
       "Røa Senter                         5\n",
       "Byhaven                            5\n",
       "Amfi Åkrehamn                      5\n",
       "Linderud Senter                    5\n",
       "Torggården Kjøpesenter             5\n",
       "Stadionparken                      5\n",
       "Etne Senter                        5\n",
       "Hammondgården                      5\n",
       "Maxis Senter                       5\n",
       "Parksenteret                       5\n",
       "Torget Vest                        5\n",
       "Grisen Storsenter                  5\n",
       "Aksdal Senter                      5\n",
       "Libra Shopping                     5\n",
       "Trekanten Bodø Kjøpesenter         5\n",
       "Lambertseter Senter                5\n",
       "Amfi Kanebogen                     5\n",
       "Amfi Brotorvet                     5\n",
       "Sletten Senter                     5\n",
       "Husnes Storsenter                  5\n",
       "Maxi Sandnes                       5\n",
       "Amanda Storsenter                  5\n",
       "Mosenteret Nittedal                5\n",
       "Kongssenteret                      5\n",
       "Senter Syd                         5\n",
       "Rygge Storsenter                   5\n",
       "Sortland Storsenter                5\n",
       "Amfi Narvik                        5\n",
       "Hitra Torget                       5\n",
       "City Syd                           5\n",
       "Malvik Senter                      4\n",
       "Hjorten Kjøpesenter                4\n",
       "Flisa Stormarked                   4\n",
       "Fornebu S                          4\n",
       "Heiane Storsenter                  4\n",
       "Bryn Senter                        4\n",
       "Metro Senter                       4\n",
       "Bysenteret Harstad                 4\n",
       "Spinneriet Kjøpesenter             4\n",
       "Sjøsiden Senter                    4\n",
       "Vektergården Senter                4\n",
       "Hasle Torg Nærsenter               4\n",
       "Granstunet Kjøpesenter             4\n",
       "Lade Arena                         4\n",
       "Kleppestø Senter                   4\n",
       "Aure Kjøpesenter                   4\n",
       "Arkaden Shopping                   4\n",
       "Amfi Larvik                        4\n",
       "Eiker Senter                       4\n",
       "Oslo S Shopping                    4\n",
       "Hvaltorvet Kjøpesenter             4\n",
       "Amfi Svolvær                       4\n",
       "Linden Park                        4\n",
       "Jærhagen                           4\n",
       "Oddensenteret                      4\n",
       "Tanatorget                         4\n",
       "Glasmagasinet                      4\n",
       "Rykkinn Senter                     4\n",
       "Amfi Geilo                         4\n",
       "Gullgruven Senter                  4\n",
       "Amfi Nesttun                       4\n",
       "Kremmergaarden Shopping            4\n",
       "Nordbyen                           4\n",
       "Ålesund Storsenter                 4\n",
       "CC Drammen                         4\n",
       "Molde Storsenter                   4\n",
       "Tveita Senter                      4\n",
       "Tista Senter                       4\n",
       "Kilden Kjøpesenter                 4\n",
       "Stokke Senter                      4\n",
       "Amfi Futura                        4\n",
       "Sandane Senter                     4\n",
       "Telesenteret                       4\n",
       "Skedsmo Senter                     4\n",
       "Konnerud Senter                    4\n",
       "Åmotsenteret                       4\n",
       "Tolvsrød Senter                    3\n",
       "Mesna Senter                       3\n",
       "Bømlo Storsenter                   3\n",
       "Amfi Bjørkelangen Torg             3\n",
       "Slottet Shopping                   3\n",
       "Peer Gynt Kjøpesenter              3\n",
       "Rampa                              3\n",
       "Amfi Otta                          3\n",
       "Breitorget Kjøpesenter             3\n",
       "Vestnes Brygge                     3\n",
       "Vestby Storsenter                  3\n",
       "Hagan Atrium                       3\n",
       "K1 Storhandel                      3\n",
       "Måløy Brygge                       3\n",
       "Laksevåg Senter                    3\n",
       "Aunasenteret                       3\n",
       "Bjørkelangen Senter                3\n",
       "Smietorget Kjøpesenter             3\n",
       "Blomsterdalen Senter               3\n",
       "Amfi Stord                         3\n",
       "Foyn Tønsberg                      3\n",
       "Amfi Namsos                        3\n",
       "Blåhuset                           3\n",
       "Hami Kjøpesenter                   3\n",
       "Moelv-torget                       3\n",
       "Østerås Senter                     3\n",
       "Stavsetsenteret                    3\n",
       "Lillestrøm Torv                    3\n",
       "Amfi Nærbø                         3\n",
       "Tunet Senter                       3\n",
       "Strandsenteret                     3\n",
       "Brynesenteret                      3\n",
       "Amfi Ulsteinvik                    3\n",
       "Amfi Fauske                        3\n",
       "Amfi Orkanger                      3\n",
       "Amfi Farsund                       3\n",
       "Fjord'n Senter                     3\n",
       "Kolsås Senter                      3\n",
       "Kremmertorget Elverum              3\n",
       "Amfi Ørsta                         3\n",
       "Fokusgården                        3\n",
       "Labyrinten Handlesenter            3\n",
       "Tårnåsen Senter                    3\n",
       "Valentinlyst Senter                3\n",
       "Sønstebøtunet                      3\n",
       "Lillemarkens                       3\n",
       "Melhustorget Kjøpesenter           3\n",
       "Lindås Senter                      3\n",
       "Handelsparken Sortland             3\n",
       "Eikli Storsenter                   3\n",
       "Lillesand Senter                   3\n",
       "Sandens                            3\n",
       "Aspøya Fjordsenter                 3\n",
       "Amfi Florø                         3\n",
       "Ågotnes Senter                     3\n",
       "Amfi Nordfjord                     3\n",
       "Sødorptunet                        3\n",
       "Målselvsenteret                    3\n",
       "Torget Kjøpesenter                 3\n",
       "Mølla Storsenter                   3\n",
       "Amfi Vågen                         3\n",
       "Paletten                           3\n",
       "Markveien Senter                   3\n",
       "Stoa Senter                        3\n",
       "Aurskog Senter                     3\n",
       "Kremmartunet                       3\n",
       "Magasin Blaa                       3\n",
       "Bjørneparken Kjøpesenter           3\n",
       "Havnesenteret                      3\n",
       "Myre Servicebygg                   3\n",
       "Hundvågsenteret                    3\n",
       "Nardo Centeret                     3\n",
       "Grønland Basar                     3\n",
       "Haugerudsenteret                   2\n",
       "Hunstadsenteret                    2\n",
       "Hellsenteret                       2\n",
       "Maxi Storsenter                    2\n",
       "Grong Kjøpesenter                  2\n",
       "Valdrestunet                       2\n",
       "Porselensfabrikken                 2\n",
       "Romerikssenteret                   2\n",
       "Ørsta Torg                         2\n",
       "Strandtorget                       2\n",
       "Byåsen Butikksenter                2\n",
       "Arkaden Skien Storsenter           2\n",
       "Helnes Grendesenter                2\n",
       "Pyramiden Senter                   2\n",
       "Sentrumsgården Bodø                2\n",
       "Søndeledtunet Handelssenter        2\n",
       "Mørstad Senter                     2\n",
       "Varehuset Holmen                   2\n",
       "Eger Karl Johan                    2\n",
       "Raumasenteret                      2\n",
       "Berja Senter                       2\n",
       "Ringerike Stormarked               2\n",
       "Oslo Fashion Outlet                2\n",
       "Kløverhuset                        2\n",
       "Vikjatunet                         2\n",
       "Risvollan Senter                   2\n",
       "Norwegian Outlet Ålgård            2\n",
       "Amfi Arendal                       2\n",
       "Glasshuspassasjen                  2\n",
       "Solvangen Nærsenter                2\n",
       "Handelsstedet Bærums Verk          2\n",
       "Domus Røros Kjøpesenter            2\n",
       "Ballangen Kjøpesenter              2\n",
       "Migosenteret                       2\n",
       "Kilden Senter                      2\n",
       "Sandaker Senter                    2\n",
       "Hovengasenteret                    2\n",
       "Nerstranda Senter                  2\n",
       "Tåsen Nærsenter                    2\n",
       "Tillertorget                       2\n",
       "Iseveien Senter                    2\n",
       "Amfi Sunndal                       2\n",
       "Trysilsenteret                     2\n",
       "Amfi Valdres                       2\n",
       "Sjøbua Valle                       2\n",
       "Bo-By'n                            2\n",
       "Trio-bygget                        2\n",
       "Grønlands Torg                     2\n",
       "Skjåk Kjøpesenter                  2\n",
       "Ulvundbygget                       2\n",
       "Frolands Senter                    2\n",
       "Stølstunet                         2\n",
       "Våge Senter                        2\n",
       "Strusshamn Senter                  2\n",
       "Veita Shopping                     2\n",
       "Bølgen Kjøpesenter                 2\n",
       "Sandesenteret                      2\n",
       "Drotningsvik Senter                2\n",
       "Byporten Mo i Rana                 2\n",
       "Oppsal Senter                      2\n",
       "Sund Senter                        2\n",
       "Strømsø Senter                     2\n",
       "Røyken Senter                      2\n",
       "Nesbyen Kjøpesenter                2\n",
       "Kolbotn Torg                       2\n",
       "Korgensenteret                     2\n",
       "Amfi Flekkefjord                   2\n",
       "Kvadraten Kjøpesenter              2\n",
       "Steen & Strøm Department Store     2\n",
       "Mercursenteret                     2\n",
       "Amfi Årnes                         2\n",
       "Kvistad Senter                     2\n",
       "Kiellands Hus                      2\n",
       "Bøckmannsenteret                   2\n",
       "Nannestad Torg                     2\n",
       "Knutepunktet                       2\n",
       "Ølen Senter                        2\n",
       "Wergeland Senter                   2\n",
       "Måløy Stormarked                   2\n",
       "Skibsgården Senter                 2\n",
       "Butikkhuset Gågata                 2\n",
       "Kalstad-senteret                   2\n",
       "Ryfylke Storsenter                 2\n",
       "Amfi Kragerø                       2\n",
       "Fagernes Kjøpesenter               2\n",
       "Tananger Senter                    2\n",
       "Halden storsenter                  2\n",
       "Sentrumsgården Lyngdal             2\n",
       "Grorud Senter                      2\n",
       "Stryn Torg                         2\n",
       "Audheimgården                      2\n",
       "Stjernesenteret                    2\n",
       "Bystasjonen                        2\n",
       "Halsnøy Senter                     2\n",
       "Landerudsenteret                   2\n",
       "REFA Brygge                        2\n",
       "Olsrød Park                        2\n",
       "Amfi Skansen                       2\n",
       "Domus Finnsnes                     2\n",
       "Kvalasenteret                      2\n",
       "Rosenberggården                    1\n",
       "Handelshuset Rjukan                1\n",
       "Olavskvartalet                     1\n",
       "Fredheimgården                     1\n",
       "Gruetorget                         1\n",
       "Saldi Markan                       1\n",
       "Gulsetsenteret                     1\n",
       "Amfi Kirkenes                      1\n",
       "Bruelandsenteret                   1\n",
       "DNB-senteret                       1\n",
       "Fritzøe Brygge                     1\n",
       "Bykuben Senter                     1\n",
       "Falksenteret                       1\n",
       "Fanatorget                         1\n",
       "Oslo Lufthavn Shopping             1\n",
       "Telegrafen                         1\n",
       "Solberg Senter                     1\n",
       "Kvelde Senter                      1\n",
       "Skallstøperiet                     1\n",
       "Hvittingfoss-senteret              1\n",
       "Saga Senter                        1\n",
       "Selbutorget                        1\n",
       "Skøyentorget                       1\n",
       "Beitostølen Handelshus             1\n",
       "GS-senteret                        1\n",
       "Bryggen Senter Hommersåk           1\n",
       "Victoriahjørnet                    1\n",
       "Dalsenteret                        1\n",
       "Smølasenteret                      1\n",
       "Gammen Varehus                     1\n",
       "Åsane Stormarked                   1\n",
       "Torghjørnet Hamar                  1\n",
       "Berglyhallen                       1\n",
       "Øysenteret                         1\n",
       "Torgsenteret Oppdal                1\n",
       "Mortensrud Torg Senter             1\n",
       "Romsås Senter                      1\n",
       "Nico Butikksenter                  1\n",
       "Ålingen Kjøpesenter                1\n",
       "Amfi Voss                          1\n",
       "Sentrumsbygget i Austvoll          1\n",
       "Bondlidtorget                      1\n",
       "Sagtunet Otta                      1\n",
       "Portalen Solsiden                  1\n",
       "Sigdalsenteret                     1\n",
       "Morenen Kjøpesenter                1\n",
       "Herbarium                          1\n",
       "Ladetorget                         1\n",
       "Frogner Atrium                     1\n",
       "Kuben Kjøpesenter                  1\n",
       "Centrum Varehus                    1\n",
       "Sjøkanten Senter                   1\n",
       "Bytunet                            1\n",
       "Eiksmarka Senter                   1\n",
       "Colosseum Park                     1\n",
       "Torgsenteret Lakselv               1\n",
       "Auli Senter                        1\n",
       "Nesbru Helse- og Handelshus        1\n",
       "Amfi Eurosenteret                  1\n",
       "Dampsaga Senter                    1\n",
       "Solagården                         1\n",
       "Domus Kjøpesenter Stjørdal         1\n",
       "Samfjordkvartalet                  1\n",
       "Eiklisenteret                      1\n",
       "Sjøsiden                           1\n",
       "Sveio Senter                       1\n",
       "Fossegrenda Senter                 1\n",
       "Stopp Tune                         1\n",
       "Domus Tynset                       1\n",
       "Røkland Forretningssenter          1\n",
       "Rosenlund Bydelssenter             1\n",
       "Lasses Senter                      1\n",
       "Mosenteret Mo i Rana               1\n",
       "Mengshoel Senter                   1\n",
       "Holmlia Kjøpesenter                1\n",
       "Skjetten Nærsenter                 1\n",
       "Sagasenteret                       1\n",
       "Lilletorget Stokke                 1\n",
       "DIVI-gården                        1\n",
       "Alna Senter                        1\n",
       "Arkaden Torgterrassen              1\n",
       "Farsund Senter                     1\n",
       "Royal Arkaden                      1\n",
       "Moholt Storsenter                  1\n",
       "Fokus Butikksenter                 1\n",
       "Tonsenhagen Forretningssentrum     1\n",
       "Møllhausen Torg                    1\n",
       "Torvgården                         1\n",
       "Kvartal 48                         1\n",
       "Løkketangen Torv                   1\n",
       "St. Hanshaugen senter              1\n",
       "ABC Stormarked                     1\n",
       "Tempogården                        1\n",
       "Dale Senter                        1\n",
       "Colosseum Senter                   1\n",
       "Torgsenteret Tromsø                1\n",
       "Lande Senter                       1\n",
       "Osterøy Senter                     1\n",
       "Dombås Senter                      1\n",
       "Østbanehallen                      1\n",
       "Blindheimsenteret                  1\n",
       "Hovtun Kjøpesenter                 1\n",
       "Ringnes Park Senter                1\n",
       "Vikasenteret                       1\n",
       "Vøyenenga Senter                   1\n",
       "Fristadsenteret                    1\n",
       "Eiktoppen                          1\n",
       "Name: mall_name, dtype: int64"
      ]
     },
     "execution_count": 136,
     "metadata": {},
     "output_type": "execute_result"
    }
   ],
   "source": [
    "pd.set_option('display.max_rows', 500)\n",
    "stores_train[\"mall_name\"].value_counts()"
   ]
  },
  {
   "cell_type": "markdown",
   "metadata": {},
   "source": [
    "Treat similarly to chain name, we think a binary approach would be the best as the size of a lot of malls seems to be wrong due to missing shops etc."
   ]
  },
  {
   "cell_type": "markdown",
   "metadata": {},
   "source": [
    "#### Revenue"
   ]
  },
  {
   "cell_type": "code",
   "execution_count": 137,
   "metadata": {},
   "outputs": [
    {
     "data": {
      "image/png": "[encoded data removed]",
      "text/plain": [
       "<Figure size 640x480 with 1 Axes>"
      ]
     },
     "metadata": {},
     "output_type": "display_data"
    }
   ],
   "source": [
    "stores_train.revenue.plot.hist(bins=50, logy=True);"
   ]
  },
  {
   "cell_type": "code",
   "execution_count": 138,
   "metadata": {},
   "outputs": [
    {
     "data": {
      "image/png": "[encoded data removed]",
      "text/plain": [
       "<Figure size 1200x300 with 3 Axes>"
      ]
     },
     "metadata": {},
     "output_type": "display_data"
    }
   ],
   "source": [
    "fig, (ax1, ax2, ax3) = plt.subplots(figsize=(12, 3), ncols=3)\n",
    "stores_train.isna().mean().plot.bar(ax=ax1)\n",
    "ax1.set_title('Fraction of rows with NaN values (train)')\n",
    "stores_test.isna().mean().plot.bar(ax=ax2)\n",
    "ax2.set_title('Fraction of rows with NaN values (test)')\n",
    "stores_train.revenue.plot.hist(bins=100, ax=ax3)\n",
    "ax3.set_title('Distribution of Revenues');"
   ]
  },
  {
   "cell_type": "markdown",
   "metadata": {},
   "source": [
    "### Feature engineering"
   ]
  },
  {
   "cell_type": "markdown",
   "metadata": {},
   "source": [
    "We start by including lat, lon, chain_name, mall_name and plaace_hierarchy_id"
   ]
  },
  {
   "cell_type": "code",
   "execution_count": 139,
   "metadata": {},
   "outputs": [],
   "source": [
    "stores_train[\"is_mall\"] = ~stores_train[\"mall_name\"].isna()"
   ]
  },
  {
   "cell_type": "code",
   "execution_count": 140,
   "metadata": {},
   "outputs": [
    {
     "data": {
      "text/html": [
       "<div>\n",
       "<style scoped>\n",
       "    .dataframe tbody tr th:only-of-type {\n",
       "        vertical-align: middle;\n",
       "    }\n",
       "\n",
       "    .dataframe tbody tr th {\n",
       "        vertical-align: top;\n",
       "    }\n",
       "\n",
       "    .dataframe thead th {\n",
       "        text-align: right;\n",
       "    }\n",
       "</style>\n",
       "<table border=\"1\" class=\"dataframe\">\n",
       "  <thead>\n",
       "    <tr style=\"text-align: right;\">\n",
       "      <th></th>\n",
       "      <th>chain_name</th>\n",
       "      <th>bounded_chain_name</th>\n",
       "    </tr>\n",
       "  </thead>\n",
       "  <tbody>\n",
       "    <tr>\n",
       "      <th>2506</th>\n",
       "      <td>BAKER KLAUSEN DRAMMEN</td>\n",
       "      <td>OTHER</td>\n",
       "    </tr>\n",
       "    <tr>\n",
       "      <th>12305</th>\n",
       "      <td>NaN</td>\n",
       "      <td>OTHER</td>\n",
       "    </tr>\n",
       "    <tr>\n",
       "      <th>4142</th>\n",
       "      <td>EXPERT</td>\n",
       "      <td>EXPERT</td>\n",
       "    </tr>\n",
       "    <tr>\n",
       "      <th>8561</th>\n",
       "      <td>NaN</td>\n",
       "      <td>OTHER</td>\n",
       "    </tr>\n",
       "    <tr>\n",
       "      <th>818</th>\n",
       "      <td>NaN</td>\n",
       "      <td>OTHER</td>\n",
       "    </tr>\n",
       "  </tbody>\n",
       "</table>\n",
       "</div>"
      ],
      "text/plain": [
       "                  chain_name bounded_chain_name\n",
       "2506   BAKER KLAUSEN DRAMMEN              OTHER\n",
       "12305                    NaN              OTHER\n",
       "4142                  EXPERT             EXPERT\n",
       "8561                     NaN              OTHER\n",
       "818                      NaN              OTHER"
      ]
     },
     "execution_count": 140,
     "metadata": {},
     "output_type": "execute_result"
    }
   ],
   "source": [
    "lower_limit = 10\n",
    "\n",
    "chain_count = stores_train[\"chain_name\"].value_counts().to_dict()\n",
    "chain_count[np.nan] = 0\n",
    "stores_train[\"bounded_chain_name\"] = stores_train[\"chain_name\"].apply(lambda x: x if(chain_count[x] >= lower_limit) else \"OTHER\")\n",
    "stores_train[[\"chain_name\", \"bounded_chain_name\"]].head()"
   ]
  },
  {
   "cell_type": "code",
   "execution_count": 141,
   "metadata": {},
   "outputs": [
    {
     "data": {
      "text/html": [
       "<div>\n",
       "<style scoped>\n",
       "    .dataframe tbody tr th:only-of-type {\n",
       "        vertical-align: middle;\n",
       "    }\n",
       "\n",
       "    .dataframe tbody tr th {\n",
       "        vertical-align: top;\n",
       "    }\n",
       "\n",
       "    .dataframe thead th {\n",
       "        text-align: right;\n",
       "    }\n",
       "</style>\n",
       "<table border=\"1\" class=\"dataframe\">\n",
       "  <thead>\n",
       "    <tr style=\"text-align: right;\">\n",
       "      <th></th>\n",
       "      <th>plaace_cat_1</th>\n",
       "      <th>plaace_cat_2</th>\n",
       "      <th>plaace_cat_3</th>\n",
       "      <th>plaace_cat_4</th>\n",
       "    </tr>\n",
       "  </thead>\n",
       "  <tbody>\n",
       "    <tr>\n",
       "      <th>2506</th>\n",
       "      <td>1</td>\n",
       "      <td>1.2</td>\n",
       "      <td>1.2.2</td>\n",
       "      <td>1.2.2.0</td>\n",
       "    </tr>\n",
       "    <tr>\n",
       "      <th>12305</th>\n",
       "      <td>3</td>\n",
       "      <td>3.4</td>\n",
       "      <td>3.4.2</td>\n",
       "      <td>3.4.2.0</td>\n",
       "    </tr>\n",
       "    <tr>\n",
       "      <th>4142</th>\n",
       "      <td>2</td>\n",
       "      <td>2.3</td>\n",
       "      <td>2.3.1</td>\n",
       "      <td>2.3.1.0</td>\n",
       "    </tr>\n",
       "    <tr>\n",
       "      <th>8561</th>\n",
       "      <td>2</td>\n",
       "      <td>2.9</td>\n",
       "      <td>2.9.1</td>\n",
       "      <td>2.9.1.0</td>\n",
       "    </tr>\n",
       "    <tr>\n",
       "      <th>818</th>\n",
       "      <td>1</td>\n",
       "      <td>1.1</td>\n",
       "      <td>1.1.6</td>\n",
       "      <td>1.1.6.2</td>\n",
       "    </tr>\n",
       "  </tbody>\n",
       "</table>\n",
       "</div>"
      ],
      "text/plain": [
       "      plaace_cat_1 plaace_cat_2 plaace_cat_3 plaace_cat_4\n",
       "2506             1          1.2        1.2.2      1.2.2.0\n",
       "12305            3          3.4        3.4.2      3.4.2.0\n",
       "4142             2          2.3        2.3.1      2.3.1.0\n",
       "8561             2          2.9        2.9.1      2.9.1.0\n",
       "818              1          1.1        1.1.6      1.1.6.2"
      ]
     },
     "execution_count": 141,
     "metadata": {},
     "output_type": "execute_result"
    }
   ],
   "source": [
    "stores_train[\"plaace_cat_1\"] = stores_train[\"plaace_hierarchy_id\"].apply(lambda x: x[:1])\n",
    "stores_train[\"plaace_cat_2\"] = stores_train[\"plaace_hierarchy_id\"].apply(lambda x: x[:3])\n",
    "stores_train[\"plaace_cat_3\"] = stores_train[\"plaace_hierarchy_id\"].apply(lambda x: x[:5])\n",
    "stores_train[\"plaace_cat_4\"] = stores_train[\"plaace_hierarchy_id\"]\n",
    "stores_train[[\"plaace_cat_1\", \"plaace_cat_2\", \"plaace_cat_3\", \"plaace_cat_4\"]].head()"
   ]
  },
  {
   "cell_type": "code",
   "execution_count": 142,
   "metadata": {},
   "outputs": [
    {
     "data": {
      "text/plain": [
       "array(['1.2.2.0', '3.4.2.0', '2.3.1.0', '2.9.1.0', '1.1.6.2', '3.2.4.0',\n",
       "       '2.8.6.0', '2.4.6.0', '1.1.7.0', '1.2.4.0', '2.9.8.0', '2.1.2.0',\n",
       "       '2.8.1.0', '2.6.3.2', '3.4.3.0', '2.8.2.0', '2.9.4.0', '3.3.6.0',\n",
       "       '3.2.1.0', '2.3.2.0', '2.8.10.0', '2.6.6.1', '1.1.6.4', '2.9.2.0',\n",
       "       '1.2.3.0', '2.2.1.0', '2.7.6.0', '2.9.3.0', '1.3.2.0', '3.3.3.0',\n",
       "       '1.1.6.1', '2.7.2.0', '1.1.9.0', '3.2.2.0', '1.1.5.0', '2.5.2.0',\n",
       "       '2.3.4.0', '2.7.5.0', '2.4.1.0', '2.1.6.0', '1.1.6.3', '2.8.3.0',\n",
       "       '2.6.5.0', '2.9.9.0', '1.1.4.0', '2.7.1.0', '3.6.1.0', '2.6.2.0',\n",
       "       '2.4.2.0', '2.1.1.0', '3.3.5.0', '2.1.3.0', '2.8.7.0', '2.4.4.0',\n",
       "       '2.8.4.0', '2.1.4.0', '2.8.11.2', '2.7.3.0', '2.8.5.0', '2.6.1.0',\n",
       "       '2.6.6.2', '1.1.2.0', '2.9.7.0', '2.4.5.0', '2.3.5.0', '2.3.3.0',\n",
       "       '1.1.3.0', '3.3.4.0', '2.2.4.0', '3.3.7.0', '2.9.5.0', '2.1.5.0',\n",
       "       '1.1.1.0', '2.1.7.0', '1.4.2.0', '1.2.1.0', '1.3.1.0', '2.6.4.0',\n",
       "       '2.6.3.3', '2.5.1.0', '1.4.1.0', '3.3.2.0', '2.7.4.0', '2.3.6.0',\n",
       "       '2.9.6.0', '2.6.3.1', '2.2.3.0', '2.4.3.0'], dtype=object)"
      ]
     },
     "execution_count": 142,
     "metadata": {},
     "output_type": "execute_result"
    }
   ],
   "source": [
    "stores_train[\"plaace_cat_4\"].unique()"
   ]
  },
  {
   "cell_type": "code",
   "execution_count": 143,
   "metadata": {},
   "outputs": [
    {
     "data": {
      "text/plain": [
       "(2548, 19)"
      ]
     },
     "execution_count": 143,
     "metadata": {},
     "output_type": "execute_result"
    }
   ],
   "source": [
    "stores_train[stores_train[\"plaace_cat_1\"] == \"1\"].shape"
   ]
  },
  {
   "cell_type": "code",
   "execution_count": 144,
   "metadata": {},
   "outputs": [
    {
     "data": {
      "text/plain": [
       "array(['1', '3', '2'], dtype=object)"
      ]
     },
     "execution_count": 144,
     "metadata": {},
     "output_type": "execute_result"
    }
   ],
   "source": [
    "unique_vals = stores_train[\"plaace_cat_\" + str(1)].unique()\n",
    "unique_vals"
   ]
  },
  {
   "cell_type": "code",
   "execution_count": 145,
   "metadata": {},
   "outputs": [
    {
     "name": "stderr",
     "output_type": "stream",
     "text": [
      "/var/folders/0n/8hp9d_rj4_9d8vgrqztmqhf40000gn/T/ipykernel_36778/202574591.py:3: SettingWithCopyWarning: \n",
      "A value is trying to be set on a copy of a slice from a DataFrame.\n",
      "Try using .loc[row_indexer,col_indexer] = value instead\n",
      "\n",
      "See the caveats in the documentation: https://pandas.pydata.org/pandas-docs/stable/user_guide/indexing.html#returning-a-view-versus-a-copy\n",
      "  filtered_df[\"random\"] = 1\n"
     ]
    }
   ],
   "source": [
    "for val in unique_vals:\n",
    "    filtered_df = stores_train[stores_train[\"plaace_cat_1\"] == val]\n",
    "    filtered_df[\"random\"] = 1"
   ]
  },
  {
   "cell_type": "code",
   "execution_count": 146,
   "metadata": {},
   "outputs": [],
   "source": [
    "from scipy.spatial.distance import cdist\n",
    "\n",
    "\n",
    "def closest_point(point, points):\n",
    "    \"\"\" Find closest point from a list of points. \"\"\"\n",
    "    if(len(points) == 0):\n",
    "        return None\n",
    "    return points[cdist([point], points).argmin()]"
   ]
  },
  {
   "cell_type": "markdown",
   "metadata": {},
   "source": [
    "**!NB**\n",
    "\n",
    "Next cell can take up to 1 minute to run"
   ]
  },
  {
   "cell_type": "code",
   "execution_count": 147,
   "metadata": {},
   "outputs": [],
   "source": [
    "stores_train[\"point\"] = [(x, y) for x,y in zip(stores_train['lat'], stores_train['lon'])]\n",
    "stores_train['closest'] = [closest_point(x[\"point\"], list(stores_train.loc[stores_train[\"plaace_cat_3\"] == x[\"plaace_cat_3\"]]['point'].drop([i], axis=0))) for i, x in stores_train.iterrows()]"
   ]
  },
  {
   "cell_type": "code",
   "execution_count": 148,
   "metadata": {},
   "outputs": [
    {
     "data": {
      "text/plain": [
       "5"
      ]
     },
     "execution_count": 148,
     "metadata": {},
     "output_type": "execute_result"
    }
   ],
   "source": [
    "stores_train[\"closest\"].isna().sum()"
   ]
  },
  {
   "cell_type": "code",
   "execution_count": 149,
   "metadata": {},
   "outputs": [
    {
     "data": {
      "text/plain": [
       "2506       (59.7810714029896, 10.4971149784371)\n",
       "12305      (59.9224815637455, 11.1742995190455)\n",
       "4142      (59.96577320581039, 9.99504792924738)\n",
       "8561      (62.4712640586064, 6.337605165649361)\n",
       "818      (59.9241550536053, 10.758884654304198)\n",
       "Name: closest, dtype: object"
      ]
     },
     "execution_count": 149,
     "metadata": {},
     "output_type": "execute_result"
    }
   ],
   "source": [
    "stores_train[\"closest\"].head()"
   ]
  },
  {
   "cell_type": "code",
   "execution_count": 150,
   "metadata": {},
   "outputs": [],
   "source": [
    "for i, row in stores_train.iterrows():\n",
    "    if(row[\"closest\"] == None):\n",
    "        val = float(\"inf\")\n",
    "    else:\n",
    "        val = cdist(np.array(row[\"point\"]).reshape(1, -1), np.array(row[\"closest\"]).reshape(1, -1))\n",
    "    stores_train.at[i,'dist_to_nearest_comp'] = val"
   ]
  },
  {
   "cell_type": "code",
   "execution_count": 151,
   "metadata": {},
   "outputs": [
    {
     "data": {
      "text/html": [
       "<div>\n",
       "<style scoped>\n",
       "    .dataframe tbody tr th:only-of-type {\n",
       "        vertical-align: middle;\n",
       "    }\n",
       "\n",
       "    .dataframe tbody tr th {\n",
       "        vertical-align: top;\n",
       "    }\n",
       "\n",
       "    .dataframe thead th {\n",
       "        text-align: right;\n",
       "    }\n",
       "</style>\n",
       "<table border=\"1\" class=\"dataframe\">\n",
       "  <thead>\n",
       "    <tr style=\"text-align: right;\">\n",
       "      <th></th>\n",
       "      <th>store_id</th>\n",
       "      <th>year</th>\n",
       "      <th>store_name</th>\n",
       "      <th>plaace_hierarchy_id</th>\n",
       "      <th>sales_channel_name</th>\n",
       "      <th>grunnkrets_id</th>\n",
       "      <th>address</th>\n",
       "      <th>lat</th>\n",
       "      <th>lon</th>\n",
       "      <th>chain_name</th>\n",
       "      <th>...</th>\n",
       "      <th>plaace_hierarchy_id_6</th>\n",
       "      <th>is_mall</th>\n",
       "      <th>bounded_chain_name</th>\n",
       "      <th>plaace_cat_1</th>\n",
       "      <th>plaace_cat_2</th>\n",
       "      <th>plaace_cat_3</th>\n",
       "      <th>plaace_cat_4</th>\n",
       "      <th>point</th>\n",
       "      <th>closest</th>\n",
       "      <th>dist_to_nearest_comp</th>\n",
       "    </tr>\n",
       "  </thead>\n",
       "  <tbody>\n",
       "    <tr>\n",
       "      <th>11303</th>\n",
       "      <td>997891554-997910036-295069</td>\n",
       "      <td>2016</td>\n",
       "      <td>RØISLAND MARTHE NAPRAPAT AS</td>\n",
       "      <td>3.2.4.0</td>\n",
       "      <td>Spas</td>\n",
       "      <td>19030311</td>\n",
       "      <td>NaN</td>\n",
       "      <td>68.783329</td>\n",
       "      <td>16.538183</td>\n",
       "      <td>NaN</td>\n",
       "      <td>...</td>\n",
       "      <td>3.2</td>\n",
       "      <td>False</td>\n",
       "      <td>OTHER</td>\n",
       "      <td>3</td>\n",
       "      <td>3.2</td>\n",
       "      <td>3.2.4</td>\n",
       "      <td>3.2.4.0</td>\n",
       "      <td>(68.7833288196265, 16.5381828233936)</td>\n",
       "      <td>(68.7996275940303, 16.5403015132516)</td>\n",
       "      <td>0.016436</td>\n",
       "    </tr>\n",
       "    <tr>\n",
       "      <th>6022</th>\n",
       "      <td>971505788-982662508-391413</td>\n",
       "      <td>2016</td>\n",
       "      <td>AKE AS</td>\n",
       "      <td>2.6.3.2</td>\n",
       "      <td>Sporting goods stores</td>\n",
       "      <td>8340206</td>\n",
       "      <td>NaN</td>\n",
       "      <td>59.697713</td>\n",
       "      <td>8.050911</td>\n",
       "      <td>NaN</td>\n",
       "      <td>...</td>\n",
       "      <td>2.6</td>\n",
       "      <td>False</td>\n",
       "      <td>OTHER</td>\n",
       "      <td>2</td>\n",
       "      <td>2.6</td>\n",
       "      <td>2.6.3</td>\n",
       "      <td>2.6.3.2</td>\n",
       "      <td>(59.6977133719394, 8.05091066641182)</td>\n",
       "      <td>(59.7398050378278, 7.57657362424924)</td>\n",
       "      <td>0.476201</td>\n",
       "    </tr>\n",
       "    <tr>\n",
       "      <th>6732</th>\n",
       "      <td>989149903-914687020-734767</td>\n",
       "      <td>2016</td>\n",
       "      <td>HEBEL AS</td>\n",
       "      <td>2.7.1.0</td>\n",
       "      <td>Other stores</td>\n",
       "      <td>3015003</td>\n",
       "      <td>SETRA VEI 12 A</td>\n",
       "      <td>59.958453</td>\n",
       "      <td>10.664466</td>\n",
       "      <td>NaN</td>\n",
       "      <td>...</td>\n",
       "      <td>2.7</td>\n",
       "      <td>False</td>\n",
       "      <td>OTHER</td>\n",
       "      <td>2</td>\n",
       "      <td>2.7</td>\n",
       "      <td>2.7.1</td>\n",
       "      <td>2.7.1.0</td>\n",
       "      <td>(59.9584532059758, 10.664465669880402)</td>\n",
       "      <td>(59.947167333530906, 10.6426143637991)</td>\n",
       "      <td>0.024594</td>\n",
       "    </tr>\n",
       "    <tr>\n",
       "      <th>7827</th>\n",
       "      <td>915199496-986144838-9653</td>\n",
       "      <td>2016</td>\n",
       "      <td>REMA 1000 SJØGATA SORTLAND SENTER</td>\n",
       "      <td>2.8.1.0</td>\n",
       "      <td>Grocery stores</td>\n",
       "      <td>18700207</td>\n",
       "      <td>SJØGATA</td>\n",
       "      <td>68.690904</td>\n",
       "      <td>15.418691</td>\n",
       "      <td>REMA FRANCHISE NORGE</td>\n",
       "      <td>...</td>\n",
       "      <td>2.8</td>\n",
       "      <td>False</td>\n",
       "      <td>REMA FRANCHISE NORGE</td>\n",
       "      <td>2</td>\n",
       "      <td>2.8</td>\n",
       "      <td>2.8.1</td>\n",
       "      <td>2.8.1.0</td>\n",
       "      <td>(68.690904223385, 15.418691176023)</td>\n",
       "      <td>(68.6963759066518, 15.4147486830297)</td>\n",
       "      <td>0.006744</td>\n",
       "    </tr>\n",
       "    <tr>\n",
       "      <th>8347</th>\n",
       "      <td>882014142--15262-15262</td>\n",
       "      <td>2016</td>\n",
       "      <td>TORGKIOSKEN MIX HITRATORGET</td>\n",
       "      <td>2.8.2.0</td>\n",
       "      <td>Kiosks</td>\n",
       "      <td>16170203</td>\n",
       "      <td>NaN</td>\n",
       "      <td>63.598433</td>\n",
       "      <td>8.932793</td>\n",
       "      <td>MIX</td>\n",
       "      <td>...</td>\n",
       "      <td>2.8</td>\n",
       "      <td>True</td>\n",
       "      <td>MIX</td>\n",
       "      <td>2</td>\n",
       "      <td>2.8</td>\n",
       "      <td>2.8.2</td>\n",
       "      <td>2.8.2.0</td>\n",
       "      <td>(63.5984326746504, 8.93279314962002)</td>\n",
       "      <td>(63.0753568262147, 8.23891168244672)</td>\n",
       "      <td>0.868953</td>\n",
       "    </tr>\n",
       "  </tbody>\n",
       "</table>\n",
       "<p>5 rows × 22 columns</p>\n",
       "</div>"
      ],
      "text/plain": [
       "                         store_id  year                         store_name  \\\n",
       "11303  997891554-997910036-295069  2016        RØISLAND MARTHE NAPRAPAT AS   \n",
       "6022   971505788-982662508-391413  2016                             AKE AS   \n",
       "6732   989149903-914687020-734767  2016                           HEBEL AS   \n",
       "7827     915199496-986144838-9653  2016  REMA 1000 SJØGATA SORTLAND SENTER   \n",
       "8347       882014142--15262-15262  2016        TORGKIOSKEN MIX HITRATORGET   \n",
       "\n",
       "      plaace_hierarchy_id     sales_channel_name  grunnkrets_id  \\\n",
       "11303             3.2.4.0                   Spas       19030311   \n",
       "6022              2.6.3.2  Sporting goods stores        8340206   \n",
       "6732              2.7.1.0           Other stores        3015003   \n",
       "7827              2.8.1.0         Grocery stores       18700207   \n",
       "8347              2.8.2.0                 Kiosks       16170203   \n",
       "\n",
       "              address        lat        lon            chain_name  ...  \\\n",
       "11303             NaN  68.783329  16.538183                   NaN  ...   \n",
       "6022              NaN  59.697713   8.050911                   NaN  ...   \n",
       "6732   SETRA VEI 12 A  59.958453  10.664466                   NaN  ...   \n",
       "7827          SJØGATA  68.690904  15.418691  REMA FRANCHISE NORGE  ...   \n",
       "8347              NaN  63.598433   8.932793                   MIX  ...   \n",
       "\n",
       "      plaace_hierarchy_id_6  is_mall    bounded_chain_name  plaace_cat_1  \\\n",
       "11303                   3.2    False                 OTHER             3   \n",
       "6022                    2.6    False                 OTHER             2   \n",
       "6732                    2.7    False                 OTHER             2   \n",
       "7827                    2.8    False  REMA FRANCHISE NORGE             2   \n",
       "8347                    2.8     True                   MIX             2   \n",
       "\n",
       "      plaace_cat_2 plaace_cat_3 plaace_cat_4  \\\n",
       "11303          3.2        3.2.4      3.2.4.0   \n",
       "6022           2.6        2.6.3      2.6.3.2   \n",
       "6732           2.7        2.7.1      2.7.1.0   \n",
       "7827           2.8        2.8.1      2.8.1.0   \n",
       "8347           2.8        2.8.2      2.8.2.0   \n",
       "\n",
       "                                        point  \\\n",
       "11303    (68.7833288196265, 16.5381828233936)   \n",
       "6022     (59.6977133719394, 8.05091066641182)   \n",
       "6732   (59.9584532059758, 10.664465669880402)   \n",
       "7827       (68.690904223385, 15.418691176023)   \n",
       "8347     (63.5984326746504, 8.93279314962002)   \n",
       "\n",
       "                                      closest dist_to_nearest_comp  \n",
       "11303    (68.7996275940303, 16.5403015132516)             0.016436  \n",
       "6022     (59.7398050378278, 7.57657362424924)             0.476201  \n",
       "6732   (59.947167333530906, 10.6426143637991)             0.024594  \n",
       "7827     (68.6963759066518, 15.4147486830297)             0.006744  \n",
       "8347     (63.0753568262147, 8.23891168244672)             0.868953  \n",
       "\n",
       "[5 rows x 22 columns]"
      ]
     },
     "execution_count": 151,
     "metadata": {},
     "output_type": "execute_result"
    }
   ],
   "source": [
    "stores_train.sample(5)"
   ]
  },
  {
   "cell_type": "code",
   "execution_count": 152,
   "metadata": {},
   "outputs": [],
   "source": [
    "from utils import create_geographical_columns\n",
    "\n",
    "\n",
    "stores_train = create_geographical_columns(stores_train)"
   ]
  },
  {
   "cell_type": "code",
   "execution_count": 153,
   "metadata": {},
   "outputs": [],
   "source": [
    "unq_vals = stores_train[\"plaace_cat_4\"].unique()"
   ]
  },
  {
   "cell_type": "code",
   "execution_count": 154,
   "metadata": {},
   "outputs": [],
   "source": [
    "rev_dict = {}\n",
    "for val in unq_vals:\n",
    "    rev_dict[val] = stores_train[\"revenue\"].where(stores_train[\"plaace_cat_4\"] == val).mean()"
   ]
  },
  {
   "cell_type": "code",
   "execution_count": 155,
   "metadata": {},
   "outputs": [],
   "source": [
    "stores_train[\"mean_revenue\"] = stores_train[\"plaace_cat_4\"].apply(lambda x: rev_dict[x])"
   ]
  },
  {
   "cell_type": "code",
   "execution_count": 156,
   "metadata": {},
   "outputs": [
    {
     "data": {
      "text/plain": [
       "array(['1.2.2.0', '3.4.2.0', '2.3.1.0', '2.9.1.0', '1.1.6.2', '3.2.4.0',\n",
       "       '2.8.6.0', '2.4.6.0', '1.1.7.0', '1.2.4.0', '2.9.8.0', '2.1.2.0',\n",
       "       '2.8.1.0', '2.6.3.2', '3.4.3.0', '2.8.2.0', '2.9.4.0', '3.3.6.0',\n",
       "       '3.2.1.0', '2.3.2.0', '2.8.10.0', '2.6.6.1', '1.1.6.4', '2.9.2.0',\n",
       "       '1.2.3.0', '2.2.1.0', '2.7.6.0', '2.9.3.0', '1.3.2.0', '3.3.3.0',\n",
       "       '1.1.6.1', '2.7.2.0', '1.1.9.0', '3.2.2.0', '1.1.5.0', '2.5.2.0',\n",
       "       '2.3.4.0', '2.7.5.0', '2.4.1.0', '2.1.6.0', '1.1.6.3', '2.8.3.0',\n",
       "       '2.6.5.0', '2.9.9.0', '1.1.4.0', '2.7.1.0', '3.6.1.0', '2.6.2.0',\n",
       "       '2.4.2.0', '2.1.1.0', '3.3.5.0', '2.1.3.0', '2.8.7.0', '2.4.4.0',\n",
       "       '2.8.4.0', '2.1.4.0', '2.8.11.2', '2.7.3.0', '2.8.5.0', '2.6.1.0',\n",
       "       '2.6.6.2', '1.1.2.0', '2.9.7.0', '2.4.5.0', '2.3.5.0', '2.3.3.0',\n",
       "       '1.1.3.0', '3.3.4.0', '2.2.4.0', '3.3.7.0', '2.9.5.0', '2.1.5.0',\n",
       "       '1.1.1.0', '2.1.7.0', '1.4.2.0', '1.2.1.0', '1.3.1.0', '2.6.4.0',\n",
       "       '2.6.3.3', '2.5.1.0', '1.4.1.0', '3.3.2.0', '2.7.4.0', '2.3.6.0',\n",
       "       '2.9.6.0', '2.6.3.1', '2.2.3.0', '2.4.3.0'], dtype=object)"
      ]
     },
     "execution_count": 156,
     "metadata": {},
     "output_type": "execute_result"
    }
   ],
   "source": [
    "unq_vals"
   ]
  },
  {
   "cell_type": "code",
   "execution_count": 157,
   "metadata": {},
   "outputs": [],
   "source": [
    "chain_count = stores_train[\"chain_name\"].value_counts().to_dict()\n",
    "chain_count[np.nan] = 0\n",
    "lower_limit = 10\n",
    "\n",
    "rev_dict = {}\n",
    "mean_revenue = stores_train.revenue.mean()\n",
    "for val in unq_vals:\n",
    "    rev_dict[val] = stores_train[\"revenue\"].where(stores_train[\"plaace_cat_4\"] == val).mean()\n",
    "\n",
    "def mean_func_rev(plaace_cat):\n",
    "    if(plaace_cat in rev_dict.keys()):\n",
    "        return rev_dict[plaace_cat]\n",
    "    return mean_revenue\n",
    "\n",
    "def feature_engineer_df(\n",
    "    df: pd.DataFrame, \n",
    "    chain_count: dict, \n",
    "    rev_dict: dict, \n",
    "    training: bool = True, \n",
    "    training_df: pd.DataFrame = None, \n",
    "    lower_limit: int = 10, \n",
    "    plaace_cat_granularity: int = 4\n",
    "):\n",
    "    if(training):\n",
    "        training_df = df\n",
    "    df[\"is_mall\"] = ~df[\"mall_name\"].isna()\n",
    "    df[\"bounded_chain_name\"] = df[\"chain_name\"].apply(lambda x: x if(x in chain_count.keys() and chain_count[x] >= lower_limit) else \"OTHER\")\n",
    "    df[\"plaace_cat_1\"] = df[\"plaace_hierarchy_id\"].apply(lambda x: x[:1])\n",
    "    df[\"plaace_cat_2\"] = df[\"plaace_hierarchy_id\"].apply(lambda x: x[:3])\n",
    "    df[\"plaace_cat_3\"] = df[\"plaace_hierarchy_id\"].apply(lambda x: x[:5])\n",
    "    df[\"plaace_cat_4\"] = df[\"plaace_hierarchy_id\"]\n",
    "    df[\"point\"] = [(x, y) for x,y in zip(df['lat'], df['lon'])]\n",
    "    if training:\n",
    "        df['closest_' + str(plaace_cat_granularity)] = [\n",
    "            closest_point(\n",
    "                x[\"point\"], \n",
    "                list(training_df.loc[\n",
    "                    training_df[\"plaace_cat_\" + str(plaace_cat_granularity)] == x[\"plaace_cat_\" + str(plaace_cat_granularity)]\n",
    "                    ]['point'].drop([i], axis=0))) for i, x in df.iterrows()\n",
    "            ]\n",
    "    else:\n",
    "        df['closest_' + str(plaace_cat_granularity)] = [\n",
    "            closest_point(\n",
    "                x[\"point\"], \n",
    "                list(training_df.loc[\n",
    "                    training_df[\"plaace_cat_\" + str(plaace_cat_granularity)] == x[\"plaace_cat_\" + str(plaace_cat_granularity)]\n",
    "                    ]['point'])) for i, x in df.iterrows()\n",
    "            ]\n",
    "    df[\"mean_revenue_\" + str(plaace_cat_granularity)] = df[\"plaace_cat_\" + str(plaace_cat_granularity)].apply(lambda x: mean_func_rev(x))\n",
    "    for i, row in df.iterrows():\n",
    "        if(row[\"closest_\" + str(plaace_cat_granularity)] == None):\n",
    "            val = np.nan\n",
    "        else:\n",
    "            val = cdist(np.array(row[\"point\"]).reshape(1, -1), np.array(row[\"closest_\" + str(plaace_cat_granularity)]).reshape(1, -1))\n",
    "        df.at[i,'dist_to_nearest_comp'] = val\n",
    "    df = create_geographical_columns(df)\n",
    "    return df\n",
    "    "
   ]
  },
  {
   "cell_type": "code",
   "execution_count": 158,
   "metadata": {},
   "outputs": [],
   "source": [
    "for i in range(1, 5):\n",
    "    stores_train = feature_engineer_df(stores_train, chain_count, rev_dict, plaace_cat_granularity=i)\n",
    "    stores_val = feature_engineer_df(stores_val, chain_count, rev_dict, training=False, training_df=stores_train, plaace_cat_granularity=i)\n",
    "    stores_test = feature_engineer_df(stores_test, chain_count, rev_dict, training=False, training_df=stores_train, plaace_cat_granularity=i)"
   ]
  },
  {
   "cell_type": "code",
   "execution_count": 159,
   "metadata": {},
   "outputs": [
    {
     "data": {
      "text/plain": [
       "(10287, 34)"
      ]
     },
     "execution_count": 159,
     "metadata": {},
     "output_type": "execute_result"
    }
   ],
   "source": [
    "stores_train.shape"
   ]
  },
  {
   "cell_type": "markdown",
   "metadata": {},
   "source": [
    "## Preprocessing data & training model"
   ]
  },
  {
   "cell_type": "markdown",
   "metadata": {},
   "source": [
    "We start by including lat, lon, chain_name, mall_name and plaace_hierarchy_id"
   ]
  },
  {
   "cell_type": "code",
   "execution_count": 160,
   "metadata": {},
   "outputs": [],
   "source": [
    "from utils import preprocess_grunnkrets_df, create_geographical_columns\n",
    "\n",
    "class DataframeFunctionTransformer():\n",
    "    def __init__(self, func):\n",
    "        self.func = func\n",
    "\n",
    "    def transform(self, input_df, **transform_params):\n",
    "        return self.func(input_df)\n",
    "\n",
    "    def fit(self, X, y=None, **fit_params):\n",
    "        return self\n"
   ]
  },
  {
   "cell_type": "code",
   "execution_count": 161,
   "metadata": {},
   "outputs": [],
   "source": [
    "full_population_df = pd.read_csv(\"temp_data/full_population_data_train.csv\")\n",
    "closest_bus_stop_df = pd.read_csv(\"temp_data/closest_bus_stops_train.csv\")\n",
    "\n",
    "full_stores_train = stores_train.merge(full_population_df, left_on=\"store_id\", right_on=\"store_id\")\n",
    "full_stores_train = full_stores_train.merge(closest_bus_stop_df, left_on=\"store_id\", right_on=\"store_id\")"
   ]
  },
  {
   "cell_type": "code",
   "execution_count": 162,
   "metadata": {},
   "outputs": [],
   "source": [
    "full_stores_val = stores_val.merge(full_population_df, left_on=\"store_id\", right_on=\"store_id\")\n",
    "full_stores_val = full_stores_val.merge(closest_bus_stop_df, left_on=\"store_id\", right_on=\"store_id\")"
   ]
  },
  {
   "cell_type": "code",
   "execution_count": 163,
   "metadata": {},
   "outputs": [],
   "source": [
    "full_population_df_test = pd.read_csv(\"temp_data/full_population_data_test.csv\")\n",
    "closest_bus_stop_df_test = pd.read_csv(\"temp_data/closest_bus_stops_test.csv\")"
   ]
  },
  {
   "cell_type": "code",
   "execution_count": 164,
   "metadata": {},
   "outputs": [],
   "source": [
    "full_stores_test = stores_test.merge(full_population_df_test, left_on=\"store_id\", right_on=\"store_id\")\n",
    "full_stores_test = full_stores_test.merge(closest_bus_stop_df_test, left_on=\"store_id\", right_on=\"store_id\")"
   ]
  },
  {
   "cell_type": "code",
   "execution_count": 190,
   "metadata": {},
   "outputs": [],
   "source": [
    "fylke_relevant_features = [col_name for col_name in full_stores_train.columns if col_name.startswith(\"fylke.\")]\n",
    "kommune_relevant_features = [col_name for col_name in full_stores_train.columns if col_name.startswith(\"kommune.\")]\n",
    "delomrade_relevant_features = [col_name for col_name in full_stores_train.columns if col_name.startswith(\"delomrade.\")]\n",
    "grunnkrets_relevant_features = [col_name for col_name in full_stores_train.columns if col_name.startswith(\"grunnkrets_id.\")]"
   ]
  },
  {
   "cell_type": "code",
   "execution_count": 182,
   "metadata": {},
   "outputs": [],
   "source": [
    "log_delta = 0.1\n",
    "full_stores_train[\"log_revenue\"] = full_stores_train.revenue.apply(lambda x: np.log(x + log_delta))"
   ]
  },
  {
   "cell_type": "code",
   "execution_count": 211,
   "metadata": {},
   "outputs": [],
   "source": [
    "from sklearn.impute import SimpleImputer\n",
    "from sklearn.pipeline import Pipeline\n",
    "from sklearn.compose import ColumnTransformer\n",
    "from sklearn.preprocessing import StandardScaler, OneHotEncoder, OrdinalEncoder\n",
    "from utils import CustomTransformer\n",
    "\n",
    "\n",
    "OE_categorical_features = [\"bounded_chain_name\", \"kommune\", \"delomrade\"]\n",
    "OE_categorical_transformer = Pipeline(\n",
    "    steps=[\n",
    "        (\"imputer\", SimpleImputer(missing_values=np.nan, strategy=\"constant\")),\n",
    "        (\"encoder\", OrdinalEncoder(handle_unknown=\"use_encoded_value\", unknown_value=-1)),\n",
    "    ]\n",
    ")\n",
    "\n",
    "OH_categorical_features = [\"fylke\", \"plaace_cat_2\"]\n",
    "OH_categorical_transformer = Pipeline(\n",
    "    steps=[\n",
    "        (\"imputer\", SimpleImputer(missing_values=np.nan, strategy=\"constant\")),\n",
    "        (\"encoder\", OneHotEncoder(handle_unknown=\"ignore\")),\n",
    "    ]\n",
    ")\n",
    "\n",
    "\n",
    "numerical_features = [\"lat\", \"lon\", \"dist_to_nearest_comp\", \n",
    "\"mean_revenue_1\", \"mean_revenue_2\", \"mean_revenue_3\", \"mean_revenue_4\", \n",
    "] + delomrade_relevant_features + list(closest_bus_stop_df.columns[1:])\n",
    "numerical_transformer = Pipeline(\n",
    "    steps=[\n",
    "        (\"imputer\", SimpleImputer(strategy=\"mean\")), \n",
    "        (\"scaler\", StandardScaler(with_mean=True, with_std=True))]\n",
    ")\n",
    "\n",
    "\n",
    "preprocessor = ColumnTransformer(\n",
    "    transformers=[\n",
    "        (\"oe_cat\", OE_categorical_transformer, OE_categorical_features),\n",
    "        (\"oh_cat\", OH_categorical_transformer, OH_categorical_features),\n",
    "        (\"num\", numerical_transformer, numerical_features),\n",
    "    ],\n",
    "    remainder='drop'\n",
    ")\n",
    "\n",
    "\n",
    "X_train = preprocessor.fit_transform(full_stores_train)\n",
    "X_val = preprocessor.transform(full_stores_val)"
   ]
  },
  {
   "cell_type": "code",
   "execution_count": 212,
   "metadata": {},
   "outputs": [],
   "source": [
    "y_train = np.array(full_stores_train.log_revenue)\n",
    "y_val = np.array(full_stores_val.revenue)\n",
    "mean_y = y_train.mean()\n",
    "std_y = y_train.std()\n",
    "\n",
    "y_train -= mean_y\n",
    "y_train /= std_y"
   ]
  },
  {
   "cell_type": "markdown",
   "metadata": {},
   "source": [
    "# Models"
   ]
  },
  {
   "cell_type": "code",
   "execution_count": 169,
   "metadata": {},
   "outputs": [],
   "source": [
    "from sklearn.model_selection import GridSearchCV\n",
    "from RMSLE import rmsle"
   ]
  },
  {
   "cell_type": "markdown",
   "metadata": {},
   "source": [
    "## Random Forest Regressor"
   ]
  },
  {
   "cell_type": "code",
   "execution_count": 170,
   "metadata": {},
   "outputs": [],
   "source": [
    "from sklearn.ensemble import RandomForestRegressor\n",
    "\n",
    "rf = RandomForestRegressor(random_state=0, n_jobs=-1, n_estimators=250, max_features=8, min_samples_leaf=2, min_samples_split=16)\n",
    "rf_params = {\n",
    "    \"n_estimators\" : (100, 250, 500, 1000), \n",
    "    \"max_features\" : (1, 2, 4, 8), \n",
    "    \"min_samples_split\" : (4, 8, 16, 32), \n",
    "    \"min_samples_leaf\" : (2, 4, 8), \n",
    "    }\n",
    "\n",
    "rf_clf = GridSearchCV(rf, rf_params, verbose=2)"
   ]
  },
  {
   "cell_type": "markdown",
   "metadata": {},
   "source": [
    "!NB Next cell takes several minutes to run (~5 minutes)"
   ]
  },
  {
   "cell_type": "code",
   "execution_count": 171,
   "metadata": {},
   "outputs": [
    {
     "data": {
      "text/html": [
       "<style>#sk-container-id-7 {color: black;background-color: white;}#sk-container-id-7 pre{padding: 0;}#sk-container-id-7 div.sk-toggleable {background-color: white;}#sk-container-id-7 label.sk-toggleable__label {cursor: pointer;display: block;width: 100%;margin-bottom: 0;padding: 0.3em;box-sizing: border-box;text-align: center;}#sk-container-id-7 label.sk-toggleable__label-arrow:before {content: \"▸\";float: left;margin-right: 0.25em;color: #696969;}#sk-container-id-7 label.sk-toggleable__label-arrow:hover:before {color: black;}#sk-container-id-7 div.sk-estimator:hover label.sk-toggleable__label-arrow:before {color: black;}#sk-container-id-7 div.sk-toggleable__content {max-height: 0;max-width: 0;overflow: hidden;text-align: left;background-color: #f0f8ff;}#sk-container-id-7 div.sk-toggleable__content pre {margin: 0.2em;color: black;border-radius: 0.25em;background-color: #f0f8ff;}#sk-container-id-7 input.sk-toggleable__control:checked~div.sk-toggleable__content {max-height: 200px;max-width: 100%;overflow: auto;}#sk-container-id-7 input.sk-toggleable__control:checked~label.sk-toggleable__label-arrow:before {content: \"▾\";}#sk-container-id-7 div.sk-estimator input.sk-toggleable__control:checked~label.sk-toggleable__label {background-color: #d4ebff;}#sk-container-id-7 div.sk-label input.sk-toggleable__control:checked~label.sk-toggleable__label {background-color: #d4ebff;}#sk-container-id-7 input.sk-hidden--visually {border: 0;clip: rect(1px 1px 1px 1px);clip: rect(1px, 1px, 1px, 1px);height: 1px;margin: -1px;overflow: hidden;padding: 0;position: absolute;width: 1px;}#sk-container-id-7 div.sk-estimator {font-family: monospace;background-color: #f0f8ff;border: 1px dotted black;border-radius: 0.25em;box-sizing: border-box;margin-bottom: 0.5em;}#sk-container-id-7 div.sk-estimator:hover {background-color: #d4ebff;}#sk-container-id-7 div.sk-parallel-item::after {content: \"\";width: 100%;border-bottom: 1px solid gray;flex-grow: 1;}#sk-container-id-7 div.sk-label:hover label.sk-toggleable__label {background-color: #d4ebff;}#sk-container-id-7 div.sk-serial::before {content: \"\";position: absolute;border-left: 1px solid gray;box-sizing: border-box;top: 0;bottom: 0;left: 50%;z-index: 0;}#sk-container-id-7 div.sk-serial {display: flex;flex-direction: column;align-items: center;background-color: white;padding-right: 0.2em;padding-left: 0.2em;position: relative;}#sk-container-id-7 div.sk-item {position: relative;z-index: 1;}#sk-container-id-7 div.sk-parallel {display: flex;align-items: stretch;justify-content: center;background-color: white;position: relative;}#sk-container-id-7 div.sk-item::before, #sk-container-id-7 div.sk-parallel-item::before {content: \"\";position: absolute;border-left: 1px solid gray;box-sizing: border-box;top: 0;bottom: 0;left: 50%;z-index: -1;}#sk-container-id-7 div.sk-parallel-item {display: flex;flex-direction: column;z-index: 1;position: relative;background-color: white;}#sk-container-id-7 div.sk-parallel-item:first-child::after {align-self: flex-end;width: 50%;}#sk-container-id-7 div.sk-parallel-item:last-child::after {align-self: flex-start;width: 50%;}#sk-container-id-7 div.sk-parallel-item:only-child::after {width: 0;}#sk-container-id-7 div.sk-dashed-wrapped {border: 1px dashed gray;margin: 0 0.4em 0.5em 0.4em;box-sizing: border-box;padding-bottom: 0.4em;background-color: white;}#sk-container-id-7 div.sk-label label {font-family: monospace;font-weight: bold;display: inline-block;line-height: 1.2em;}#sk-container-id-7 div.sk-label-container {text-align: center;}#sk-container-id-7 div.sk-container {/* jupyter's `normalize.less` sets `[hidden] { display: none; }` but bootstrap.min.css set `[hidden] { display: none !important; }` so we also need the `!important` here to be able to override the default hidden behavior on the sphinx rendered scikit-learn.org. See: https://github.com/scikit-learn/scikit-learn/issues/21755 */display: inline-block !important;position: relative;}#sk-container-id-7 div.sk-text-repr-fallback {display: none;}</style><div id=\"sk-container-id-7\" class=\"sk-top-container\"><div class=\"sk-text-repr-fallback\"><pre>RandomForestRegressor(max_features=8, min_samples_leaf=2, min_samples_split=16,\n",
       "                      n_estimators=250, n_jobs=-1, random_state=0)</pre><b>In a Jupyter environment, please rerun this cell to show the HTML representation or trust the notebook. <br />On GitHub, the HTML representation is unable to render, please try loading this page with nbviewer.org.</b></div><div class=\"sk-container\" hidden><div class=\"sk-item\"><div class=\"sk-estimator sk-toggleable\"><input class=\"sk-toggleable__control sk-hidden--visually\" id=\"sk-estimator-id-19\" type=\"checkbox\" checked><label for=\"sk-estimator-id-19\" class=\"sk-toggleable__label sk-toggleable__label-arrow\">RandomForestRegressor</label><div class=\"sk-toggleable__content\"><pre>RandomForestRegressor(max_features=8, min_samples_leaf=2, min_samples_split=16,\n",
       "                      n_estimators=250, n_jobs=-1, random_state=0)</pre></div></div></div></div></div>"
      ],
      "text/plain": [
       "RandomForestRegressor(max_features=8, min_samples_leaf=2, min_samples_split=16,\n",
       "                      n_estimators=250, n_jobs=-1, random_state=0)"
      ]
     },
     "execution_count": 171,
     "metadata": {},
     "output_type": "execute_result"
    }
   ],
   "source": [
    "rf.fit(X_train, y_train)"
   ]
  },
  {
   "cell_type": "code",
   "execution_count": 172,
   "metadata": {},
   "outputs": [
    {
     "ename": "AttributeError",
     "evalue": "'GridSearchCV' object has no attribute 'best_params_'",
     "output_type": "error",
     "traceback": [
      "\u001b[0;31m---------------------------------------------------------------------------\u001b[0m",
      "\u001b[0;31mAttributeError\u001b[0m                            Traceback (most recent call last)",
      "\u001b[0;32m/var/folders/0n/8hp9d_rj4_9d8vgrqztmqhf40000gn/T/ipykernel_36778/1408369235.py\u001b[0m in \u001b[0;36m<module>\u001b[0;34m\u001b[0m\n\u001b[0;32m----> 1\u001b[0;31m \u001b[0mrf_clf\u001b[0m\u001b[0;34m.\u001b[0m\u001b[0mbest_params_\u001b[0m\u001b[0;34m\u001b[0m\u001b[0;34m\u001b[0m\u001b[0m\n\u001b[0m",
      "\u001b[0;31mAttributeError\u001b[0m: 'GridSearchCV' object has no attribute 'best_params_'"
     ]
    }
   ],
   "source": [
    "rf_clf.best_params_"
   ]
  },
  {
   "cell_type": "code",
   "execution_count": null,
   "metadata": {},
   "outputs": [],
   "source": [
    "rf_y_pred = rf.predict(X_val)\n",
    "rmsle(y_pred=rf_y_pred, y_true=y_val)"
   ]
  },
  {
   "cell_type": "markdown",
   "metadata": {},
   "source": [
    "## Linear Regression"
   ]
  },
  {
   "cell_type": "code",
   "execution_count": null,
   "metadata": {},
   "outputs": [],
   "source": [
    "from sklearn.linear_model import LinearRegression\n",
    "\n",
    "lr_clf = LinearRegression(n_jobs=-1)"
   ]
  },
  {
   "cell_type": "code",
   "execution_count": null,
   "metadata": {},
   "outputs": [
    {
     "data": {
      "text/html": [
       "<style>#sk-container-id-2 {color: black;background-color: white;}#sk-container-id-2 pre{padding: 0;}#sk-container-id-2 div.sk-toggleable {background-color: white;}#sk-container-id-2 label.sk-toggleable__label {cursor: pointer;display: block;width: 100%;margin-bottom: 0;padding: 0.3em;box-sizing: border-box;text-align: center;}#sk-container-id-2 label.sk-toggleable__label-arrow:before {content: \"▸\";float: left;margin-right: 0.25em;color: #696969;}#sk-container-id-2 label.sk-toggleable__label-arrow:hover:before {color: black;}#sk-container-id-2 div.sk-estimator:hover label.sk-toggleable__label-arrow:before {color: black;}#sk-container-id-2 div.sk-toggleable__content {max-height: 0;max-width: 0;overflow: hidden;text-align: left;background-color: #f0f8ff;}#sk-container-id-2 div.sk-toggleable__content pre {margin: 0.2em;color: black;border-radius: 0.25em;background-color: #f0f8ff;}#sk-container-id-2 input.sk-toggleable__control:checked~div.sk-toggleable__content {max-height: 200px;max-width: 100%;overflow: auto;}#sk-container-id-2 input.sk-toggleable__control:checked~label.sk-toggleable__label-arrow:before {content: \"▾\";}#sk-container-id-2 div.sk-estimator input.sk-toggleable__control:checked~label.sk-toggleable__label {background-color: #d4ebff;}#sk-container-id-2 div.sk-label input.sk-toggleable__control:checked~label.sk-toggleable__label {background-color: #d4ebff;}#sk-container-id-2 input.sk-hidden--visually {border: 0;clip: rect(1px 1px 1px 1px);clip: rect(1px, 1px, 1px, 1px);height: 1px;margin: -1px;overflow: hidden;padding: 0;position: absolute;width: 1px;}#sk-container-id-2 div.sk-estimator {font-family: monospace;background-color: #f0f8ff;border: 1px dotted black;border-radius: 0.25em;box-sizing: border-box;margin-bottom: 0.5em;}#sk-container-id-2 div.sk-estimator:hover {background-color: #d4ebff;}#sk-container-id-2 div.sk-parallel-item::after {content: \"\";width: 100%;border-bottom: 1px solid gray;flex-grow: 1;}#sk-container-id-2 div.sk-label:hover label.sk-toggleable__label {background-color: #d4ebff;}#sk-container-id-2 div.sk-serial::before {content: \"\";position: absolute;border-left: 1px solid gray;box-sizing: border-box;top: 0;bottom: 0;left: 50%;z-index: 0;}#sk-container-id-2 div.sk-serial {display: flex;flex-direction: column;align-items: center;background-color: white;padding-right: 0.2em;padding-left: 0.2em;position: relative;}#sk-container-id-2 div.sk-item {position: relative;z-index: 1;}#sk-container-id-2 div.sk-parallel {display: flex;align-items: stretch;justify-content: center;background-color: white;position: relative;}#sk-container-id-2 div.sk-item::before, #sk-container-id-2 div.sk-parallel-item::before {content: \"\";position: absolute;border-left: 1px solid gray;box-sizing: border-box;top: 0;bottom: 0;left: 50%;z-index: -1;}#sk-container-id-2 div.sk-parallel-item {display: flex;flex-direction: column;z-index: 1;position: relative;background-color: white;}#sk-container-id-2 div.sk-parallel-item:first-child::after {align-self: flex-end;width: 50%;}#sk-container-id-2 div.sk-parallel-item:last-child::after {align-self: flex-start;width: 50%;}#sk-container-id-2 div.sk-parallel-item:only-child::after {width: 0;}#sk-container-id-2 div.sk-dashed-wrapped {border: 1px dashed gray;margin: 0 0.4em 0.5em 0.4em;box-sizing: border-box;padding-bottom: 0.4em;background-color: white;}#sk-container-id-2 div.sk-label label {font-family: monospace;font-weight: bold;display: inline-block;line-height: 1.2em;}#sk-container-id-2 div.sk-label-container {text-align: center;}#sk-container-id-2 div.sk-container {/* jupyter's `normalize.less` sets `[hidden] { display: none; }` but bootstrap.min.css set `[hidden] { display: none !important; }` so we also need the `!important` here to be able to override the default hidden behavior on the sphinx rendered scikit-learn.org. See: https://github.com/scikit-learn/scikit-learn/issues/21755 */display: inline-block !important;position: relative;}#sk-container-id-2 div.sk-text-repr-fallback {display: none;}</style><div id=\"sk-container-id-2\" class=\"sk-top-container\"><div class=\"sk-text-repr-fallback\"><pre>LinearRegression(n_jobs=-1)</pre><b>In a Jupyter environment, please rerun this cell to show the HTML representation or trust the notebook. <br />On GitHub, the HTML representation is unable to render, please try loading this page with nbviewer.org.</b></div><div class=\"sk-container\" hidden><div class=\"sk-item\"><div class=\"sk-estimator sk-toggleable\"><input class=\"sk-toggleable__control sk-hidden--visually\" id=\"sk-estimator-id-2\" type=\"checkbox\" checked><label for=\"sk-estimator-id-2\" class=\"sk-toggleable__label sk-toggleable__label-arrow\">LinearRegression</label><div class=\"sk-toggleable__content\"><pre>LinearRegression(n_jobs=-1)</pre></div></div></div></div></div>"
      ],
      "text/plain": [
       "LinearRegression(n_jobs=-1)"
      ]
     },
     "execution_count": 81,
     "metadata": {},
     "output_type": "execute_result"
    }
   ],
   "source": [
    "lr_clf.fit(X_train, y_train)"
   ]
  },
  {
   "cell_type": "code",
   "execution_count": null,
   "metadata": {},
   "outputs": [],
   "source": [
    "lr_y_pred = lr_clf.predict(X_val)"
   ]
  },
  {
   "cell_type": "code",
   "execution_count": null,
   "metadata": {},
   "outputs": [],
   "source": [
    "lr_y_pred = np.array([max(0, xi) for xi in lr_y_pred])"
   ]
  },
  {
   "cell_type": "code",
   "execution_count": null,
   "metadata": {},
   "outputs": [
    {
     "data": {
      "text/plain": [
       "1.6888796184753487"
      ]
     },
     "execution_count": 84,
     "metadata": {},
     "output_type": "execute_result"
    }
   ],
   "source": [
    "rmsle(y_pred=lr_y_pred, y_true=y_val)"
   ]
  },
  {
   "cell_type": "markdown",
   "metadata": {},
   "source": [
    "## Light GBM"
   ]
  },
  {
   "cell_type": "code",
   "execution_count": null,
   "metadata": {},
   "outputs": [],
   "source": [
    "from lightgbm import LGBMRegressor\n",
    "\n",
    "# Current best params\n",
    "lgbm = LGBMRegressor(random_state=0, n_jobs=-1, learning_rate=0.1, n_estimators=100, reg_lambda=0.01)\n",
    "lgbm_params = {\n",
    "    #\"num_leaves\" : (10, 25, 31, 75), \n",
    "    \"learning_rate\" : (0.05, 0.1, 0.25), \n",
    "    \"n_estimators\" : (50, 100, 250), \n",
    "    #\"min_split_gain\" : (0, 0.01, 0.1), \n",
    "    #\"min_child_samples\" : (4, 8, 16, 32), \n",
    "    \"reg_alpha\" : (0, 0.01, 0.1), \n",
    "    \"reg_lambda\" : (0, 0.01, 0.1), \n",
    "    }\n",
    "\n",
    "lgbm_clf = GridSearchCV(lgbm, lgbm_params)"
   ]
  },
  {
   "cell_type": "markdown",
   "metadata": {},
   "source": [
    "!NB Depending on the total possible configurations of hyperparams, the next cell can take veeeeery long "
   ]
  },
  {
   "cell_type": "code",
   "execution_count": null,
   "metadata": {},
   "outputs": [
    {
     "data": {
      "text/html": [
       "<style>#sk-container-id-3 {color: black;background-color: white;}#sk-container-id-3 pre{padding: 0;}#sk-container-id-3 div.sk-toggleable {background-color: white;}#sk-container-id-3 label.sk-toggleable__label {cursor: pointer;display: block;width: 100%;margin-bottom: 0;padding: 0.3em;box-sizing: border-box;text-align: center;}#sk-container-id-3 label.sk-toggleable__label-arrow:before {content: \"▸\";float: left;margin-right: 0.25em;color: #696969;}#sk-container-id-3 label.sk-toggleable__label-arrow:hover:before {color: black;}#sk-container-id-3 div.sk-estimator:hover label.sk-toggleable__label-arrow:before {color: black;}#sk-container-id-3 div.sk-toggleable__content {max-height: 0;max-width: 0;overflow: hidden;text-align: left;background-color: #f0f8ff;}#sk-container-id-3 div.sk-toggleable__content pre {margin: 0.2em;color: black;border-radius: 0.25em;background-color: #f0f8ff;}#sk-container-id-3 input.sk-toggleable__control:checked~div.sk-toggleable__content {max-height: 200px;max-width: 100%;overflow: auto;}#sk-container-id-3 input.sk-toggleable__control:checked~label.sk-toggleable__label-arrow:before {content: \"▾\";}#sk-container-id-3 div.sk-estimator input.sk-toggleable__control:checked~label.sk-toggleable__label {background-color: #d4ebff;}#sk-container-id-3 div.sk-label input.sk-toggleable__control:checked~label.sk-toggleable__label {background-color: #d4ebff;}#sk-container-id-3 input.sk-hidden--visually {border: 0;clip: rect(1px 1px 1px 1px);clip: rect(1px, 1px, 1px, 1px);height: 1px;margin: -1px;overflow: hidden;padding: 0;position: absolute;width: 1px;}#sk-container-id-3 div.sk-estimator {font-family: monospace;background-color: #f0f8ff;border: 1px dotted black;border-radius: 0.25em;box-sizing: border-box;margin-bottom: 0.5em;}#sk-container-id-3 div.sk-estimator:hover {background-color: #d4ebff;}#sk-container-id-3 div.sk-parallel-item::after {content: \"\";width: 100%;border-bottom: 1px solid gray;flex-grow: 1;}#sk-container-id-3 div.sk-label:hover label.sk-toggleable__label {background-color: #d4ebff;}#sk-container-id-3 div.sk-serial::before {content: \"\";position: absolute;border-left: 1px solid gray;box-sizing: border-box;top: 0;bottom: 0;left: 50%;z-index: 0;}#sk-container-id-3 div.sk-serial {display: flex;flex-direction: column;align-items: center;background-color: white;padding-right: 0.2em;padding-left: 0.2em;position: relative;}#sk-container-id-3 div.sk-item {position: relative;z-index: 1;}#sk-container-id-3 div.sk-parallel {display: flex;align-items: stretch;justify-content: center;background-color: white;position: relative;}#sk-container-id-3 div.sk-item::before, #sk-container-id-3 div.sk-parallel-item::before {content: \"\";position: absolute;border-left: 1px solid gray;box-sizing: border-box;top: 0;bottom: 0;left: 50%;z-index: -1;}#sk-container-id-3 div.sk-parallel-item {display: flex;flex-direction: column;z-index: 1;position: relative;background-color: white;}#sk-container-id-3 div.sk-parallel-item:first-child::after {align-self: flex-end;width: 50%;}#sk-container-id-3 div.sk-parallel-item:last-child::after {align-self: flex-start;width: 50%;}#sk-container-id-3 div.sk-parallel-item:only-child::after {width: 0;}#sk-container-id-3 div.sk-dashed-wrapped {border: 1px dashed gray;margin: 0 0.4em 0.5em 0.4em;box-sizing: border-box;padding-bottom: 0.4em;background-color: white;}#sk-container-id-3 div.sk-label label {font-family: monospace;font-weight: bold;display: inline-block;line-height: 1.2em;}#sk-container-id-3 div.sk-label-container {text-align: center;}#sk-container-id-3 div.sk-container {/* jupyter's `normalize.less` sets `[hidden] { display: none; }` but bootstrap.min.css set `[hidden] { display: none !important; }` so we also need the `!important` here to be able to override the default hidden behavior on the sphinx rendered scikit-learn.org. See: https://github.com/scikit-learn/scikit-learn/issues/21755 */display: inline-block !important;position: relative;}#sk-container-id-3 div.sk-text-repr-fallback {display: none;}</style><div id=\"sk-container-id-3\" class=\"sk-top-container\"><div class=\"sk-text-repr-fallback\"><pre>LGBMRegressor(random_state=0, reg_lambda=0.01)</pre><b>In a Jupyter environment, please rerun this cell to show the HTML representation or trust the notebook. <br />On GitHub, the HTML representation is unable to render, please try loading this page with nbviewer.org.</b></div><div class=\"sk-container\" hidden><div class=\"sk-item\"><div class=\"sk-estimator sk-toggleable\"><input class=\"sk-toggleable__control sk-hidden--visually\" id=\"sk-estimator-id-3\" type=\"checkbox\" checked><label for=\"sk-estimator-id-3\" class=\"sk-toggleable__label sk-toggleable__label-arrow\">LGBMRegressor</label><div class=\"sk-toggleable__content\"><pre>LGBMRegressor(random_state=0, reg_lambda=0.01)</pre></div></div></div></div></div>"
      ],
      "text/plain": [
       "LGBMRegressor(random_state=0, reg_lambda=0.01)"
      ]
     },
     "execution_count": 86,
     "metadata": {},
     "output_type": "execute_result"
    }
   ],
   "source": [
    "lgbm.fit(X_train, y_train)"
   ]
  },
  {
   "cell_type": "code",
   "execution_count": null,
   "metadata": {},
   "outputs": [
    {
     "ename": "AttributeError",
     "evalue": "'GridSearchCV' object has no attribute 'best_params_'",
     "output_type": "error",
     "traceback": [
      "\u001b[0;31m---------------------------------------------------------------------------\u001b[0m",
      "\u001b[0;31mAttributeError\u001b[0m                            Traceback (most recent call last)",
      "\u001b[0;32m/var/folders/0n/8hp9d_rj4_9d8vgrqztmqhf40000gn/T/ipykernel_36778/2485636406.py\u001b[0m in \u001b[0;36m<module>\u001b[0;34m\u001b[0m\n\u001b[0;32m----> 1\u001b[0;31m \u001b[0mlgbm_clf\u001b[0m\u001b[0;34m.\u001b[0m\u001b[0mbest_params_\u001b[0m\u001b[0;34m\u001b[0m\u001b[0;34m\u001b[0m\u001b[0m\n\u001b[0m",
      "\u001b[0;31mAttributeError\u001b[0m: 'GridSearchCV' object has no attribute 'best_params_'"
     ]
    }
   ],
   "source": [
    "lgbm_clf.best_params_"
   ]
  },
  {
   "cell_type": "code",
   "execution_count": null,
   "metadata": {},
   "outputs": [],
   "source": [
    "lgbm_y_pred = lgbm.predict(X_val)"
   ]
  },
  {
   "cell_type": "code",
   "execution_count": null,
   "metadata": {},
   "outputs": [],
   "source": [
    "lgbm_y_pred = np.array([max(0, xi) for xi in lgbm_y_pred])"
   ]
  },
  {
   "cell_type": "code",
   "execution_count": null,
   "metadata": {},
   "outputs": [],
   "source": [
    "rmsle(y_pred=lgbm_y_pred, y_true=y_val)"
   ]
  },
  {
   "cell_type": "markdown",
   "metadata": {},
   "source": [
    "## Stacking classifiers"
   ]
  },
  {
   "cell_type": "code",
   "execution_count": 213,
   "metadata": {},
   "outputs": [],
   "source": [
    "from sklearn.ensemble import StackingRegressor\n",
    "\n",
    "estimators = [\n",
    "    ('rf', rf), \n",
    "    ('lf', lr_clf), \n",
    "    ('lgbm', lgbm), \n",
    "]\n",
    "\n",
    "reg = StackingRegressor(\n",
    "    estimators=estimators,\n",
    "    final_estimator=LGBMRegressor(n_estimators=50, random_state=5, n_jobs=-1)\n",
    ")"
   ]
  },
  {
   "cell_type": "code",
   "execution_count": 214,
   "metadata": {},
   "outputs": [
    {
     "data": {
      "text/html": [
       "<style>#sk-container-id-13 {color: black;background-color: white;}#sk-container-id-13 pre{padding: 0;}#sk-container-id-13 div.sk-toggleable {background-color: white;}#sk-container-id-13 label.sk-toggleable__label {cursor: pointer;display: block;width: 100%;margin-bottom: 0;padding: 0.3em;box-sizing: border-box;text-align: center;}#sk-container-id-13 label.sk-toggleable__label-arrow:before {content: \"▸\";float: left;margin-right: 0.25em;color: #696969;}#sk-container-id-13 label.sk-toggleable__label-arrow:hover:before {color: black;}#sk-container-id-13 div.sk-estimator:hover label.sk-toggleable__label-arrow:before {color: black;}#sk-container-id-13 div.sk-toggleable__content {max-height: 0;max-width: 0;overflow: hidden;text-align: left;background-color: #f0f8ff;}#sk-container-id-13 div.sk-toggleable__content pre {margin: 0.2em;color: black;border-radius: 0.25em;background-color: #f0f8ff;}#sk-container-id-13 input.sk-toggleable__control:checked~div.sk-toggleable__content {max-height: 200px;max-width: 100%;overflow: auto;}#sk-container-id-13 input.sk-toggleable__control:checked~label.sk-toggleable__label-arrow:before {content: \"▾\";}#sk-container-id-13 div.sk-estimator input.sk-toggleable__control:checked~label.sk-toggleable__label {background-color: #d4ebff;}#sk-container-id-13 div.sk-label input.sk-toggleable__control:checked~label.sk-toggleable__label {background-color: #d4ebff;}#sk-container-id-13 input.sk-hidden--visually {border: 0;clip: rect(1px 1px 1px 1px);clip: rect(1px, 1px, 1px, 1px);height: 1px;margin: -1px;overflow: hidden;padding: 0;position: absolute;width: 1px;}#sk-container-id-13 div.sk-estimator {font-family: monospace;background-color: #f0f8ff;border: 1px dotted black;border-radius: 0.25em;box-sizing: border-box;margin-bottom: 0.5em;}#sk-container-id-13 div.sk-estimator:hover {background-color: #d4ebff;}#sk-container-id-13 div.sk-parallel-item::after {content: \"\";width: 100%;border-bottom: 1px solid gray;flex-grow: 1;}#sk-container-id-13 div.sk-label:hover label.sk-toggleable__label {background-color: #d4ebff;}#sk-container-id-13 div.sk-serial::before {content: \"\";position: absolute;border-left: 1px solid gray;box-sizing: border-box;top: 0;bottom: 0;left: 50%;z-index: 0;}#sk-container-id-13 div.sk-serial {display: flex;flex-direction: column;align-items: center;background-color: white;padding-right: 0.2em;padding-left: 0.2em;position: relative;}#sk-container-id-13 div.sk-item {position: relative;z-index: 1;}#sk-container-id-13 div.sk-parallel {display: flex;align-items: stretch;justify-content: center;background-color: white;position: relative;}#sk-container-id-13 div.sk-item::before, #sk-container-id-13 div.sk-parallel-item::before {content: \"\";position: absolute;border-left: 1px solid gray;box-sizing: border-box;top: 0;bottom: 0;left: 50%;z-index: -1;}#sk-container-id-13 div.sk-parallel-item {display: flex;flex-direction: column;z-index: 1;position: relative;background-color: white;}#sk-container-id-13 div.sk-parallel-item:first-child::after {align-self: flex-end;width: 50%;}#sk-container-id-13 div.sk-parallel-item:last-child::after {align-self: flex-start;width: 50%;}#sk-container-id-13 div.sk-parallel-item:only-child::after {width: 0;}#sk-container-id-13 div.sk-dashed-wrapped {border: 1px dashed gray;margin: 0 0.4em 0.5em 0.4em;box-sizing: border-box;padding-bottom: 0.4em;background-color: white;}#sk-container-id-13 div.sk-label label {font-family: monospace;font-weight: bold;display: inline-block;line-height: 1.2em;}#sk-container-id-13 div.sk-label-container {text-align: center;}#sk-container-id-13 div.sk-container {/* jupyter's `normalize.less` sets `[hidden] { display: none; }` but bootstrap.min.css set `[hidden] { display: none !important; }` so we also need the `!important` here to be able to override the default hidden behavior on the sphinx rendered scikit-learn.org. See: https://github.com/scikit-learn/scikit-learn/issues/21755 */display: inline-block !important;position: relative;}#sk-container-id-13 div.sk-text-repr-fallback {display: none;}</style><div id=\"sk-container-id-13\" class=\"sk-top-container\"><div class=\"sk-text-repr-fallback\"><pre>StackingRegressor(estimators=[(&#x27;rf&#x27;,\n",
       "                               RandomForestRegressor(max_features=8,\n",
       "                                                     min_samples_leaf=2,\n",
       "                                                     min_samples_split=16,\n",
       "                                                     n_estimators=250,\n",
       "                                                     n_jobs=-1,\n",
       "                                                     random_state=0)),\n",
       "                              (&#x27;lf&#x27;, LinearRegression(n_jobs=-1)),\n",
       "                              (&#x27;lgbm&#x27;,\n",
       "                               LGBMRegressor(random_state=0, reg_lambda=0.01))],\n",
       "                  final_estimator=LGBMRegressor(n_estimators=50,\n",
       "                                                random_state=5))</pre><b>In a Jupyter environment, please rerun this cell to show the HTML representation or trust the notebook. <br />On GitHub, the HTML representation is unable to render, please try loading this page with nbviewer.org.</b></div><div class=\"sk-container\" hidden><div class=\"sk-item sk-dashed-wrapped\"><div class=\"sk-label-container\"><div class=\"sk-label sk-toggleable\"><input class=\"sk-toggleable__control sk-hidden--visually\" id=\"sk-estimator-id-45\" type=\"checkbox\" ><label for=\"sk-estimator-id-45\" class=\"sk-toggleable__label sk-toggleable__label-arrow\">StackingRegressor</label><div class=\"sk-toggleable__content\"><pre>StackingRegressor(estimators=[(&#x27;rf&#x27;,\n",
       "                               RandomForestRegressor(max_features=8,\n",
       "                                                     min_samples_leaf=2,\n",
       "                                                     min_samples_split=16,\n",
       "                                                     n_estimators=250,\n",
       "                                                     n_jobs=-1,\n",
       "                                                     random_state=0)),\n",
       "                              (&#x27;lf&#x27;, LinearRegression(n_jobs=-1)),\n",
       "                              (&#x27;lgbm&#x27;,\n",
       "                               LGBMRegressor(random_state=0, reg_lambda=0.01))],\n",
       "                  final_estimator=LGBMRegressor(n_estimators=50,\n",
       "                                                random_state=5))</pre></div></div></div><div class=\"sk-serial\"><div class=\"sk-item\"><div class=\"sk-parallel\"><div class=\"sk-parallel-item\"><div class=\"sk-item\"><div class=\"sk-label-container\"><div class=\"sk-label sk-toggleable\"><label>rf</label></div></div><div class=\"sk-serial\"><div class=\"sk-item\"><div class=\"sk-estimator sk-toggleable\"><input class=\"sk-toggleable__control sk-hidden--visually\" id=\"sk-estimator-id-46\" type=\"checkbox\" ><label for=\"sk-estimator-id-46\" class=\"sk-toggleable__label sk-toggleable__label-arrow\">RandomForestRegressor</label><div class=\"sk-toggleable__content\"><pre>RandomForestRegressor(max_features=8, min_samples_leaf=2, min_samples_split=16,\n",
       "                      n_estimators=250, n_jobs=-1, random_state=0)</pre></div></div></div></div></div></div><div class=\"sk-parallel-item\"><div class=\"sk-item\"><div class=\"sk-label-container\"><div class=\"sk-label sk-toggleable\"><label>lf</label></div></div><div class=\"sk-serial\"><div class=\"sk-item\"><div class=\"sk-estimator sk-toggleable\"><input class=\"sk-toggleable__control sk-hidden--visually\" id=\"sk-estimator-id-47\" type=\"checkbox\" ><label for=\"sk-estimator-id-47\" class=\"sk-toggleable__label sk-toggleable__label-arrow\">LinearRegression</label><div class=\"sk-toggleable__content\"><pre>LinearRegression(n_jobs=-1)</pre></div></div></div></div></div></div><div class=\"sk-parallel-item\"><div class=\"sk-item\"><div class=\"sk-label-container\"><div class=\"sk-label sk-toggleable\"><label>lgbm</label></div></div><div class=\"sk-serial\"><div class=\"sk-item\"><div class=\"sk-estimator sk-toggleable\"><input class=\"sk-toggleable__control sk-hidden--visually\" id=\"sk-estimator-id-48\" type=\"checkbox\" ><label for=\"sk-estimator-id-48\" class=\"sk-toggleable__label sk-toggleable__label-arrow\">LGBMRegressor</label><div class=\"sk-toggleable__content\"><pre>LGBMRegressor(random_state=0, reg_lambda=0.01)</pre></div></div></div></div></div></div></div></div><div class=\"sk-item\"><div class=\"sk-parallel\"><div class=\"sk-parallel-item\"><div class=\"sk-item\"><div class=\"sk-label-container\"><div class=\"sk-label sk-toggleable\"><label>final_estimator</label></div></div><div class=\"sk-serial\"><div class=\"sk-item\"><div class=\"sk-estimator sk-toggleable\"><input class=\"sk-toggleable__control sk-hidden--visually\" id=\"sk-estimator-id-49\" type=\"checkbox\" ><label for=\"sk-estimator-id-49\" class=\"sk-toggleable__label sk-toggleable__label-arrow\">LGBMRegressor</label><div class=\"sk-toggleable__content\"><pre>LGBMRegressor(n_estimators=50, random_state=5)</pre></div></div></div></div></div></div></div></div></div></div></div></div>"
      ],
      "text/plain": [
       "StackingRegressor(estimators=[('rf',\n",
       "                               RandomForestRegressor(max_features=8,\n",
       "                                                     min_samples_leaf=2,\n",
       "                                                     min_samples_split=16,\n",
       "                                                     n_estimators=250,\n",
       "                                                     n_jobs=-1,\n",
       "                                                     random_state=0)),\n",
       "                              ('lf', LinearRegression(n_jobs=-1)),\n",
       "                              ('lgbm',\n",
       "                               LGBMRegressor(random_state=0, reg_lambda=0.01))],\n",
       "                  final_estimator=LGBMRegressor(n_estimators=50,\n",
       "                                                random_state=5))"
      ]
     },
     "execution_count": 214,
     "metadata": {},
     "output_type": "execute_result"
    }
   ],
   "source": [
    "reg.fit(X_train, y_train)"
   ]
  },
  {
   "cell_type": "code",
   "execution_count": 215,
   "metadata": {},
   "outputs": [],
   "source": [
    "reg_y_pred = reg.predict(X_val)\n",
    "reg_y_pred *= std_y\n",
    "reg_y_pred += mean_y\n",
    "reg_y_pred = np.exp(reg_y_pred) - log_delta"
   ]
  },
  {
   "cell_type": "code",
   "execution_count": 216,
   "metadata": {},
   "outputs": [
    {
     "data": {
      "text/plain": [
       "0.7581507501134568"
      ]
     },
     "execution_count": 216,
     "metadata": {},
     "output_type": "execute_result"
    }
   ],
   "source": [
    "rmsle(y_pred=reg_y_pred, y_true=y_val)"
   ]
  },
  {
   "cell_type": "markdown",
   "metadata": {},
   "source": [
    "## Creating the submission"
   ]
  },
  {
   "cell_type": "code",
   "execution_count": null,
   "metadata": {},
   "outputs": [],
   "source": [
    "# Predict on the test set \n",
    "X_test = preprocessor.transform(full_stores_test)\n",
    "y_test_pred = reg.predict(X_test)\n",
    "y_test_pred *= std_y\n",
    "y_test_pred += mean_y\n",
    "y_test_pred = np.exp(y_test_pred) - log_delta\n",
    "\n",
    "# Generate submission dataframe \n",
    "# NOTE: It is important that the ID and predicted values match\n",
    "submission = pd.DataFrame()\n",
    "submission['id'] = stores_test.store_id \n",
    "submission['predicted'] = np.asarray(y_test_pred)\n",
    "\n",
    "# Save it to disk (`index=False` means don't save the index in the csv)\n",
    "submission.to_csv('submission.csv', index=False)"
   ]
  },
  {
   "cell_type": "code",
   "execution_count": null,
   "metadata": {},
   "outputs": [],
   "source": []
  }
 ],
 "metadata": {
  "kernelspec": {
   "display_name": "Python 3.9.12 ('tdt4173')",
   "language": "python",
   "name": "python3"
  },
  "language_info": {
   "codemirror_mode": {
    "name": "ipython",
    "version": 3
   },
   "file_extension": ".py",
   "mimetype": "text/x-python",
   "name": "python",
   "nbconvert_exporter": "python",
   "pygments_lexer": "ipython3",
   "version": "3.9.12"
  },
  "orig_nbformat": 4,
  "vscode": {
   "interpreter": {
    "hash": "39b33d5bb6aa9988fd454a923e38ef42550e1626b613fe9fb888665b5922e892"
   }
  }
 },
 "nbformat": 4,
 "nbformat_minor": 2
}
