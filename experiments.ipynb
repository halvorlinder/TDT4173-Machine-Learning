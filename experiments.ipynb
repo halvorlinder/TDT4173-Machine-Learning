{
 "cells": [
  {
   "cell_type": "code",
   "execution_count": 2,
   "metadata": {},
   "outputs": [],
   "source": [
    "import pandas as pd\n",
    "import numpy as np\n",
    "import seaborn as sns\n",
    "import sklearn\n",
    "import matplotlib.pyplot as plt"
   ]
  },
  {
   "cell_type": "code",
   "execution_count": 3,
   "metadata": {},
   "outputs": [],
   "source": [
    "from sklearn.model_selection import train_test_split\n",
    "\n",
    "stores_train = pd.read_csv(\"data/stores_train.csv\")\n",
    "stores_test = pd.read_csv(\"data/stores_test.csv\")\n",
    "stores_train, stores_val = train_test_split(stores_train, test_size=0.2, random_state=0)"
   ]
  },
  {
   "cell_type": "code",
   "execution_count": 4,
   "metadata": {},
   "outputs": [
    {
     "name": "stdout",
     "output_type": "stream",
     "text": [
      "(10287, 12)\n"
     ]
    },
    {
     "data": {
      "text/html": [
       "<div>\n",
       "<style scoped>\n",
       "    .dataframe tbody tr th:only-of-type {\n",
       "        vertical-align: middle;\n",
       "    }\n",
       "\n",
       "    .dataframe tbody tr th {\n",
       "        vertical-align: top;\n",
       "    }\n",
       "\n",
       "    .dataframe thead th {\n",
       "        text-align: right;\n",
       "    }\n",
       "</style>\n",
       "<table border=\"1\" class=\"dataframe\">\n",
       "  <thead>\n",
       "    <tr style=\"text-align: right;\">\n",
       "      <th></th>\n",
       "      <th>store_id</th>\n",
       "      <th>year</th>\n",
       "      <th>store_name</th>\n",
       "      <th>plaace_hierarchy_id</th>\n",
       "      <th>sales_channel_name</th>\n",
       "      <th>grunnkrets_id</th>\n",
       "      <th>address</th>\n",
       "      <th>lat</th>\n",
       "      <th>lon</th>\n",
       "      <th>chain_name</th>\n",
       "      <th>mall_name</th>\n",
       "      <th>revenue</th>\n",
       "    </tr>\n",
       "  </thead>\n",
       "  <tbody>\n",
       "    <tr>\n",
       "      <th>2506</th>\n",
       "      <td>990857423-990974489-88185</td>\n",
       "      <td>2016</td>\n",
       "      <td>BAKER KLAUSEN UNION</td>\n",
       "      <td>1.2.2.0</td>\n",
       "      <td>Bakery shop</td>\n",
       "      <td>6020601</td>\n",
       "      <td>GRØNLAND 54</td>\n",
       "      <td>59.743135</td>\n",
       "      <td>10.194627</td>\n",
       "      <td>BAKER KLAUSEN DRAMMEN</td>\n",
       "      <td>NaN</td>\n",
       "      <td>4.447</td>\n",
       "    </tr>\n",
       "    <tr>\n",
       "      <th>12305</th>\n",
       "      <td>948879220-972145203-18800</td>\n",
       "      <td>2016</td>\n",
       "      <td>PRIKKEN RENS AS</td>\n",
       "      <td>3.4.2.0</td>\n",
       "      <td>Laundromats and dry cleaners</td>\n",
       "      <td>2350203</td>\n",
       "      <td>ENERGIVEGEN 5</td>\n",
       "      <td>60.149288</td>\n",
       "      <td>11.187290</td>\n",
       "      <td>NaN</td>\n",
       "      <td>NaN</td>\n",
       "      <td>2.040</td>\n",
       "    </tr>\n",
       "    <tr>\n",
       "      <th>4142</th>\n",
       "      <td>951136751-971668970-6795</td>\n",
       "      <td>2016</td>\n",
       "      <td>EXPERT HOKKSUND</td>\n",
       "      <td>2.3.1.0</td>\n",
       "      <td>Electronics stores</td>\n",
       "      <td>6240307</td>\n",
       "      <td>SUNDMOEN NÆRINGSOMRÅDE</td>\n",
       "      <td>59.768986</td>\n",
       "      <td>9.899066</td>\n",
       "      <td>EXPERT</td>\n",
       "      <td>NaN</td>\n",
       "      <td>36.489</td>\n",
       "    </tr>\n",
       "    <tr>\n",
       "      <th>8561</th>\n",
       "      <td>980237508-980246167-71346</td>\n",
       "      <td>2016</td>\n",
       "      <td>INVIT AS</td>\n",
       "      <td>2.9.1.0</td>\n",
       "      <td>Gifts and interior design shops</td>\n",
       "      <td>15040206</td>\n",
       "      <td>APOTEKERGATA 9</td>\n",
       "      <td>62.471607</td>\n",
       "      <td>6.151301</td>\n",
       "      <td>NaN</td>\n",
       "      <td>NaN</td>\n",
       "      <td>5.739</td>\n",
       "    </tr>\n",
       "    <tr>\n",
       "      <th>818</th>\n",
       "      <td>974421305-974489902-136560</td>\n",
       "      <td>2016</td>\n",
       "      <td>MUCHO MAS</td>\n",
       "      <td>1.1.6.2</td>\n",
       "      <td>Restaurants</td>\n",
       "      <td>3012312</td>\n",
       "      <td>THORVALD MEYERS GATE 36</td>\n",
       "      <td>59.924205</td>\n",
       "      <td>10.759401</td>\n",
       "      <td>NaN</td>\n",
       "      <td>NaN</td>\n",
       "      <td>15.573</td>\n",
       "    </tr>\n",
       "  </tbody>\n",
       "</table>\n",
       "</div>"
      ],
      "text/plain": [
       "                         store_id  year           store_name  \\\n",
       "2506    990857423-990974489-88185  2016  BAKER KLAUSEN UNION   \n",
       "12305   948879220-972145203-18800  2016      PRIKKEN RENS AS   \n",
       "4142     951136751-971668970-6795  2016      EXPERT HOKKSUND   \n",
       "8561    980237508-980246167-71346  2016             INVIT AS   \n",
       "818    974421305-974489902-136560  2016            MUCHO MAS   \n",
       "\n",
       "      plaace_hierarchy_id               sales_channel_name  grunnkrets_id  \\\n",
       "2506              1.2.2.0                      Bakery shop        6020601   \n",
       "12305             3.4.2.0     Laundromats and dry cleaners        2350203   \n",
       "4142              2.3.1.0               Electronics stores        6240307   \n",
       "8561              2.9.1.0  Gifts and interior design shops       15040206   \n",
       "818               1.1.6.2                      Restaurants        3012312   \n",
       "\n",
       "                       address        lat        lon             chain_name  \\\n",
       "2506               GRØNLAND 54  59.743135  10.194627  BAKER KLAUSEN DRAMMEN   \n",
       "12305            ENERGIVEGEN 5  60.149288  11.187290                    NaN   \n",
       "4142    SUNDMOEN NÆRINGSOMRÅDE  59.768986   9.899066                 EXPERT   \n",
       "8561            APOTEKERGATA 9  62.471607   6.151301                    NaN   \n",
       "818    THORVALD MEYERS GATE 36  59.924205  10.759401                    NaN   \n",
       "\n",
       "      mall_name  revenue  \n",
       "2506        NaN    4.447  \n",
       "12305       NaN    2.040  \n",
       "4142        NaN   36.489  \n",
       "8561        NaN    5.739  \n",
       "818         NaN   15.573  "
      ]
     },
     "execution_count": 4,
     "metadata": {},
     "output_type": "execute_result"
    }
   ],
   "source": [
    "print(stores_train.shape)\n",
    "stores_train.head()"
   ]
  },
  {
   "cell_type": "code",
   "execution_count": 5,
   "metadata": {},
   "outputs": [
    {
     "name": "stdout",
     "output_type": "stream",
     "text": [
      "(2572, 12)\n"
     ]
    },
    {
     "data": {
      "text/html": [
       "<div>\n",
       "<style scoped>\n",
       "    .dataframe tbody tr th:only-of-type {\n",
       "        vertical-align: middle;\n",
       "    }\n",
       "\n",
       "    .dataframe tbody tr th {\n",
       "        vertical-align: top;\n",
       "    }\n",
       "\n",
       "    .dataframe thead th {\n",
       "        text-align: right;\n",
       "    }\n",
       "</style>\n",
       "<table border=\"1\" class=\"dataframe\">\n",
       "  <thead>\n",
       "    <tr style=\"text-align: right;\">\n",
       "      <th></th>\n",
       "      <th>store_id</th>\n",
       "      <th>year</th>\n",
       "      <th>store_name</th>\n",
       "      <th>plaace_hierarchy_id</th>\n",
       "      <th>sales_channel_name</th>\n",
       "      <th>grunnkrets_id</th>\n",
       "      <th>address</th>\n",
       "      <th>lat</th>\n",
       "      <th>lon</th>\n",
       "      <th>chain_name</th>\n",
       "      <th>mall_name</th>\n",
       "      <th>revenue</th>\n",
       "    </tr>\n",
       "  </thead>\n",
       "  <tbody>\n",
       "    <tr>\n",
       "      <th>3039</th>\n",
       "      <td>915895964-916348282--916348282</td>\n",
       "      <td>2016</td>\n",
       "      <td>RED ZONE NIGHT CLUB AS</td>\n",
       "      <td>1.3.2.0</td>\n",
       "      <td>Pubs</td>\n",
       "      <td>16011204</td>\n",
       "      <td>FJORDGATA 60</td>\n",
       "      <td>63.434725</td>\n",
       "      <td>10.396415</td>\n",
       "      <td>NaN</td>\n",
       "      <td>NaN</td>\n",
       "      <td>0.830</td>\n",
       "    </tr>\n",
       "    <tr>\n",
       "      <th>11932</th>\n",
       "      <td>979136463-979138423-3267</td>\n",
       "      <td>2016</td>\n",
       "      <td>BRILLEHUSET OPTIKER GUTTORMSEN</td>\n",
       "      <td>3.3.5.0</td>\n",
       "      <td>Opticians</td>\n",
       "      <td>18330701</td>\n",
       "      <td>GAMMELVEIEN 11 B</td>\n",
       "      <td>66.340746</td>\n",
       "      <td>14.144399</td>\n",
       "      <td>ALLIANCE OPTIKK</td>\n",
       "      <td>NaN</td>\n",
       "      <td>2.866</td>\n",
       "    </tr>\n",
       "    <tr>\n",
       "      <th>5875</th>\n",
       "      <td>943486220-972604380-506</td>\n",
       "      <td>2016</td>\n",
       "      <td>G-SPORT RJUKAN</td>\n",
       "      <td>2.6.3.2</td>\n",
       "      <td>Sporting goods stores</td>\n",
       "      <td>8260308</td>\n",
       "      <td>SAM EYDES GATE 69</td>\n",
       "      <td>59.878475</td>\n",
       "      <td>8.588883</td>\n",
       "      <td>G-SPORT</td>\n",
       "      <td>NaN</td>\n",
       "      <td>7.537</td>\n",
       "    </tr>\n",
       "    <tr>\n",
       "      <th>4041</th>\n",
       "      <td>979875010-979921195-105878</td>\n",
       "      <td>2016</td>\n",
       "      <td>CIRCLE K STRANDA</td>\n",
       "      <td>2.2.1.0</td>\n",
       "      <td>Gas stations</td>\n",
       "      <td>15250107</td>\n",
       "      <td>SJØGATA 11</td>\n",
       "      <td>62.309373</td>\n",
       "      <td>6.948788</td>\n",
       "      <td>CIRCLE K DETALJIST</td>\n",
       "      <td>NaN</td>\n",
       "      <td>10.324</td>\n",
       "    </tr>\n",
       "    <tr>\n",
       "      <th>4477</th>\n",
       "      <td>990122873-984715021-68207</td>\n",
       "      <td>2016</td>\n",
       "      <td>B-YOUNG GJØVIK</td>\n",
       "      <td>2.4.1.0</td>\n",
       "      <td>Women’s clothing stores</td>\n",
       "      <td>5020403</td>\n",
       "      <td>STORGATA 3</td>\n",
       "      <td>60.795677</td>\n",
       "      <td>10.691018</td>\n",
       "      <td>B-YOUNG</td>\n",
       "      <td>NaN</td>\n",
       "      <td>3.855</td>\n",
       "    </tr>\n",
       "  </tbody>\n",
       "</table>\n",
       "</div>"
      ],
      "text/plain": [
       "                             store_id  year                      store_name  \\\n",
       "3039   915895964-916348282--916348282  2016          RED ZONE NIGHT CLUB AS   \n",
       "11932        979136463-979138423-3267  2016  BRILLEHUSET OPTIKER GUTTORMSEN   \n",
       "5875          943486220-972604380-506  2016                  G-SPORT RJUKAN   \n",
       "4041       979875010-979921195-105878  2016                CIRCLE K STRANDA   \n",
       "4477        990122873-984715021-68207  2016                  B-YOUNG GJØVIK   \n",
       "\n",
       "      plaace_hierarchy_id       sales_channel_name  grunnkrets_id  \\\n",
       "3039              1.3.2.0                     Pubs       16011204   \n",
       "11932             3.3.5.0                Opticians       18330701   \n",
       "5875              2.6.3.2    Sporting goods stores        8260308   \n",
       "4041              2.2.1.0             Gas stations       15250107   \n",
       "4477              2.4.1.0  Women’s clothing stores        5020403   \n",
       "\n",
       "                 address        lat        lon          chain_name mall_name  \\\n",
       "3039        FJORDGATA 60  63.434725  10.396415                 NaN       NaN   \n",
       "11932   GAMMELVEIEN 11 B  66.340746  14.144399     ALLIANCE OPTIKK       NaN   \n",
       "5875   SAM EYDES GATE 69  59.878475   8.588883             G-SPORT       NaN   \n",
       "4041          SJØGATA 11  62.309373   6.948788  CIRCLE K DETALJIST       NaN   \n",
       "4477          STORGATA 3  60.795677  10.691018             B-YOUNG       NaN   \n",
       "\n",
       "       revenue  \n",
       "3039     0.830  \n",
       "11932    2.866  \n",
       "5875     7.537  \n",
       "4041    10.324  \n",
       "4477     3.855  "
      ]
     },
     "execution_count": 5,
     "metadata": {},
     "output_type": "execute_result"
    }
   ],
   "source": [
    "print(stores_val.shape)\n",
    "stores_val.head()"
   ]
  },
  {
   "cell_type": "code",
   "execution_count": 6,
   "metadata": {},
   "outputs": [
    {
     "name": "stdout",
     "output_type": "stream",
     "text": [
      "(8577, 11)\n"
     ]
    },
    {
     "data": {
      "text/html": [
       "<div>\n",
       "<style scoped>\n",
       "    .dataframe tbody tr th:only-of-type {\n",
       "        vertical-align: middle;\n",
       "    }\n",
       "\n",
       "    .dataframe tbody tr th {\n",
       "        vertical-align: top;\n",
       "    }\n",
       "\n",
       "    .dataframe thead th {\n",
       "        text-align: right;\n",
       "    }\n",
       "</style>\n",
       "<table border=\"1\" class=\"dataframe\">\n",
       "  <thead>\n",
       "    <tr style=\"text-align: right;\">\n",
       "      <th></th>\n",
       "      <th>store_id</th>\n",
       "      <th>year</th>\n",
       "      <th>store_name</th>\n",
       "      <th>plaace_hierarchy_id</th>\n",
       "      <th>sales_channel_name</th>\n",
       "      <th>grunnkrets_id</th>\n",
       "      <th>address</th>\n",
       "      <th>lat</th>\n",
       "      <th>lon</th>\n",
       "      <th>chain_name</th>\n",
       "      <th>mall_name</th>\n",
       "    </tr>\n",
       "  </thead>\n",
       "  <tbody>\n",
       "    <tr>\n",
       "      <th>0</th>\n",
       "      <td>914206820-914239427-717245</td>\n",
       "      <td>2016</td>\n",
       "      <td>VÅLERENGA HALAL BURGER AS</td>\n",
       "      <td>1.1.1.0</td>\n",
       "      <td>Hamburger restaurants</td>\n",
       "      <td>3012704</td>\n",
       "      <td>STRØMSVEIEN 25 A</td>\n",
       "      <td>59.908672</td>\n",
       "      <td>10.787031</td>\n",
       "      <td>NaN</td>\n",
       "      <td>NaN</td>\n",
       "    </tr>\n",
       "    <tr>\n",
       "      <th>1</th>\n",
       "      <td>916789157-916823770-824309</td>\n",
       "      <td>2016</td>\n",
       "      <td>BURGER KING MYREN</td>\n",
       "      <td>1.1.1.0</td>\n",
       "      <td>Hamburger restaurants</td>\n",
       "      <td>8061401</td>\n",
       "      <td>MYREN 1</td>\n",
       "      <td>59.201467</td>\n",
       "      <td>9.588243</td>\n",
       "      <td>BURGER KING</td>\n",
       "      <td>NaN</td>\n",
       "    </tr>\n",
       "    <tr>\n",
       "      <th>2</th>\n",
       "      <td>913341082-977479363-2948</td>\n",
       "      <td>2016</td>\n",
       "      <td>BURGER KING STOVNER</td>\n",
       "      <td>1.1.1.0</td>\n",
       "      <td>Hamburger restaurants</td>\n",
       "      <td>3013917</td>\n",
       "      <td>STOVNER SENTER 3</td>\n",
       "      <td>59.962146</td>\n",
       "      <td>10.924524</td>\n",
       "      <td>BURGER KING</td>\n",
       "      <td>Stovner Senter</td>\n",
       "    </tr>\n",
       "    <tr>\n",
       "      <th>3</th>\n",
       "      <td>889682582-889697172-28720</td>\n",
       "      <td>2016</td>\n",
       "      <td>BURGER KING TUNGASLETTA</td>\n",
       "      <td>1.1.1.0</td>\n",
       "      <td>Hamburger restaurants</td>\n",
       "      <td>16012104</td>\n",
       "      <td>TUNGASLETTA 16</td>\n",
       "      <td>63.420785</td>\n",
       "      <td>10.461091</td>\n",
       "      <td>BURGER KING</td>\n",
       "      <td>NaN</td>\n",
       "    </tr>\n",
       "    <tr>\n",
       "      <th>4</th>\n",
       "      <td>997991699-998006945-417222</td>\n",
       "      <td>2016</td>\n",
       "      <td>VULKAN BURGERBAR</td>\n",
       "      <td>1.1.1.0</td>\n",
       "      <td>Hamburger restaurants</td>\n",
       "      <td>3014305</td>\n",
       "      <td>AUD SCHØNEMANNS VEI 15</td>\n",
       "      <td>59.921102</td>\n",
       "      <td>10.785123</td>\n",
       "      <td>VULKAN BURGERBAR</td>\n",
       "      <td>NaN</td>\n",
       "    </tr>\n",
       "  </tbody>\n",
       "</table>\n",
       "</div>"
      ],
      "text/plain": [
       "                     store_id  year                 store_name  \\\n",
       "0  914206820-914239427-717245  2016  VÅLERENGA HALAL BURGER AS   \n",
       "1  916789157-916823770-824309  2016          BURGER KING MYREN   \n",
       "2    913341082-977479363-2948  2016        BURGER KING STOVNER   \n",
       "3   889682582-889697172-28720  2016    BURGER KING TUNGASLETTA   \n",
       "4  997991699-998006945-417222  2016           VULKAN BURGERBAR   \n",
       "\n",
       "  plaace_hierarchy_id     sales_channel_name  grunnkrets_id  \\\n",
       "0             1.1.1.0  Hamburger restaurants        3012704   \n",
       "1             1.1.1.0  Hamburger restaurants        8061401   \n",
       "2             1.1.1.0  Hamburger restaurants        3013917   \n",
       "3             1.1.1.0  Hamburger restaurants       16012104   \n",
       "4             1.1.1.0  Hamburger restaurants        3014305   \n",
       "\n",
       "                  address        lat        lon        chain_name  \\\n",
       "0        STRØMSVEIEN 25 A  59.908672  10.787031               NaN   \n",
       "1                 MYREN 1  59.201467   9.588243       BURGER KING   \n",
       "2        STOVNER SENTER 3  59.962146  10.924524       BURGER KING   \n",
       "3          TUNGASLETTA 16  63.420785  10.461091       BURGER KING   \n",
       "4  AUD SCHØNEMANNS VEI 15  59.921102  10.785123  VULKAN BURGERBAR   \n",
       "\n",
       "        mall_name  \n",
       "0             NaN  \n",
       "1             NaN  \n",
       "2  Stovner Senter  \n",
       "3             NaN  \n",
       "4             NaN  "
      ]
     },
     "execution_count": 6,
     "metadata": {},
     "output_type": "execute_result"
    }
   ],
   "source": [
    "print(stores_test.shape)\n",
    "stores_test.head()"
   ]
  },
  {
   "cell_type": "code",
   "execution_count": 7,
   "metadata": {},
   "outputs": [
    {
     "data": {
      "text/plain": [
       "<AxesSubplot:xlabel='revenue', ylabel='Count'>"
      ]
     },
     "execution_count": 7,
     "metadata": {},
     "output_type": "execute_result"
    },
    {
     "data": {
      "image/png": "[encoded data removed]",
      "text/plain": [
       "<Figure size 432x288 with 1 Axes>"
      ]
     },
     "metadata": {
      "needs_background": "light"
     },
     "output_type": "display_data"
    }
   ],
   "source": [
    "sns.histplot(data=stores_train['revenue'], bins=50)"
   ]
  },
  {
   "cell_type": "markdown",
   "metadata": {},
   "source": [
    "### Investigating the different features"
   ]
  },
  {
   "cell_type": "code",
   "execution_count": 8,
   "metadata": {},
   "outputs": [
    {
     "data": {
      "text/plain": [
       "store_id                object\n",
       "year                     int64\n",
       "store_name              object\n",
       "plaace_hierarchy_id     object\n",
       "sales_channel_name      object\n",
       "grunnkrets_id            int64\n",
       "address                 object\n",
       "lat                    float64\n",
       "lon                    float64\n",
       "chain_name              object\n",
       "mall_name               object\n",
       "revenue                float64\n",
       "dtype: object"
      ]
     },
     "execution_count": 8,
     "metadata": {},
     "output_type": "execute_result"
    }
   ],
   "source": [
    "stores_train.dtypes"
   ]
  },
  {
   "cell_type": "code",
   "execution_count": 9,
   "metadata": {},
   "outputs": [
    {
     "data": {
      "text/html": [
       "<div>\n",
       "<style scoped>\n",
       "    .dataframe tbody tr th:only-of-type {\n",
       "        vertical-align: middle;\n",
       "    }\n",
       "\n",
       "    .dataframe tbody tr th {\n",
       "        vertical-align: top;\n",
       "    }\n",
       "\n",
       "    .dataframe thead th {\n",
       "        text-align: right;\n",
       "    }\n",
       "</style>\n",
       "<table border=\"1\" class=\"dataframe\">\n",
       "  <thead>\n",
       "    <tr style=\"text-align: right;\">\n",
       "      <th></th>\n",
       "      <th>year</th>\n",
       "      <th>grunnkrets_id</th>\n",
       "      <th>lat</th>\n",
       "      <th>lon</th>\n",
       "      <th>revenue</th>\n",
       "    </tr>\n",
       "  </thead>\n",
       "  <tbody>\n",
       "    <tr>\n",
       "      <th>count</th>\n",
       "      <td>10287.0</td>\n",
       "      <td>1.028700e+04</td>\n",
       "      <td>10287.000000</td>\n",
       "      <td>10287.000000</td>\n",
       "      <td>10287.000000</td>\n",
       "    </tr>\n",
       "    <tr>\n",
       "      <th>mean</th>\n",
       "      <td>2016.0</td>\n",
       "      <td>9.348313e+06</td>\n",
       "      <td>61.223094</td>\n",
       "      <td>10.005801</td>\n",
       "      <td>8.328546</td>\n",
       "    </tr>\n",
       "    <tr>\n",
       "      <th>std</th>\n",
       "      <td>0.0</td>\n",
       "      <td>5.794345e+06</td>\n",
       "      <td>2.969380</td>\n",
       "      <td>3.825401</td>\n",
       "      <td>15.659131</td>\n",
       "    </tr>\n",
       "    <tr>\n",
       "      <th>min</th>\n",
       "      <td>2016.0</td>\n",
       "      <td>1.010105e+06</td>\n",
       "      <td>57.994443</td>\n",
       "      <td>4.625889</td>\n",
       "      <td>0.000000</td>\n",
       "    </tr>\n",
       "    <tr>\n",
       "      <th>25%</th>\n",
       "      <td>2016.0</td>\n",
       "      <td>3.014302e+06</td>\n",
       "      <td>59.433541</td>\n",
       "      <td>7.223571</td>\n",
       "      <td>1.188000</td>\n",
       "    </tr>\n",
       "    <tr>\n",
       "      <th>50%</th>\n",
       "      <td>2016.0</td>\n",
       "      <td>9.065412e+06</td>\n",
       "      <td>59.941830</td>\n",
       "      <td>10.407527</td>\n",
       "      <td>3.363000</td>\n",
       "    </tr>\n",
       "    <tr>\n",
       "      <th>75%</th>\n",
       "      <td>2016.0</td>\n",
       "      <td>1.449020e+07</td>\n",
       "      <td>62.144366</td>\n",
       "      <td>10.850242</td>\n",
       "      <td>8.052500</td>\n",
       "    </tr>\n",
       "    <tr>\n",
       "      <th>max</th>\n",
       "      <td>2016.0</td>\n",
       "      <td>2.030031e+07</td>\n",
       "      <td>71.098287</td>\n",
       "      <td>31.118935</td>\n",
       "      <td>219.599000</td>\n",
       "    </tr>\n",
       "  </tbody>\n",
       "</table>\n",
       "</div>"
      ],
      "text/plain": [
       "          year  grunnkrets_id           lat           lon       revenue\n",
       "count  10287.0   1.028700e+04  10287.000000  10287.000000  10287.000000\n",
       "mean    2016.0   9.348313e+06     61.223094     10.005801      8.328546\n",
       "std        0.0   5.794345e+06      2.969380      3.825401     15.659131\n",
       "min     2016.0   1.010105e+06     57.994443      4.625889      0.000000\n",
       "25%     2016.0   3.014302e+06     59.433541      7.223571      1.188000\n",
       "50%     2016.0   9.065412e+06     59.941830     10.407527      3.363000\n",
       "75%     2016.0   1.449020e+07     62.144366     10.850242      8.052500\n",
       "max     2016.0   2.030031e+07     71.098287     31.118935    219.599000"
      ]
     },
     "execution_count": 9,
     "metadata": {},
     "output_type": "execute_result"
    }
   ],
   "source": [
    "stores_train.describe()"
   ]
  },
  {
   "cell_type": "markdown",
   "metadata": {},
   "source": [
    "store_id and year are redundant as they provide no information"
   ]
  },
  {
   "cell_type": "code",
   "execution_count": 10,
   "metadata": {},
   "outputs": [
    {
     "data": {
      "text/plain": [
       "10265"
      ]
     },
     "execution_count": 10,
     "metadata": {},
     "output_type": "execute_result"
    }
   ],
   "source": [
    "stores_train[\"store_name\"].nunique()\n"
   ]
  },
  {
   "cell_type": "markdown",
   "metadata": {},
   "source": [
    "Since there are so many unique store names, we omit this ATM"
   ]
  },
  {
   "cell_type": "markdown",
   "metadata": {},
   "source": [
    "#### Plaace Hierarchy ID"
   ]
  },
  {
   "cell_type": "code",
   "execution_count": 11,
   "metadata": {},
   "outputs": [
    {
     "data": {
      "text/plain": [
       "3.2.4.0    959\n",
       "2.8.1.0    879\n",
       "2.4.6.0    700\n",
       "3.2.1.0    605\n",
       "1.1.6.2    499\n",
       "          ... \n",
       "3.3.2.0      1\n",
       "2.3.6.0      1\n",
       "2.9.6.0      1\n",
       "2.2.3.0      1\n",
       "2.4.3.0      1\n",
       "Name: plaace_hierarchy_id, Length: 88, dtype: int64"
      ]
     },
     "execution_count": 11,
     "metadata": {},
     "output_type": "execute_result"
    }
   ],
   "source": [
    "stores_train[\"plaace_hierarchy_id\"].value_counts()"
   ]
  },
  {
   "cell_type": "markdown",
   "metadata": {},
   "source": [
    "IDEA: split into 4 columns, first column contains only first number, second contains first two numbers...\n",
    "\n",
    "IDEA: split the 4 numbers into 4 columns.\n",
    "\n",
    "Treat as categorical variable"
   ]
  },
  {
   "cell_type": "markdown",
   "metadata": {},
   "source": [
    "#### Sales Channel Name"
   ]
  },
  {
   "cell_type": "code",
   "execution_count": 12,
   "metadata": {},
   "outputs": [
    {
     "data": {
      "text/plain": [
       "Spas                       959\n",
       "Grocery stores             879\n",
       "Clothing stores            700\n",
       "Hairdressers               605\n",
       "Restaurants                499\n",
       "                          ... \n",
       "Construction workers         1\n",
       "Audio and video store        1\n",
       "Carpet stores                1\n",
       "Boating shops                1\n",
       "Thrift shops - clothing      1\n",
       "Name: sales_channel_name, Length: 88, dtype: int64"
      ]
     },
     "execution_count": 12,
     "metadata": {},
     "output_type": "execute_result"
    }
   ],
   "source": [
    "stores_train[\"sales_channel_name\"].value_counts()"
   ]
  },
  {
   "cell_type": "markdown",
   "metadata": {},
   "source": [
    "Contains same information as plaace hierarchy id, redundant"
   ]
  },
  {
   "cell_type": "markdown",
   "metadata": {},
   "source": [
    "#### Grunnkrets ID"
   ]
  },
  {
   "cell_type": "code",
   "execution_count": 13,
   "metadata": {},
   "outputs": [
    {
     "data": {
      "text/plain": [
       "2506      6020601\n",
       "12305     2350203\n",
       "4142      6240307\n",
       "8561     15040206\n",
       "818       3012312\n",
       "           ...   \n",
       "4859     18330207\n",
       "3264     16017522\n",
       "9845     15040101\n",
       "10799    12012008\n",
       "2732     20120607\n",
       "Name: grunnkrets_id, Length: 10287, dtype: int64"
      ]
     },
     "execution_count": 13,
     "metadata": {},
     "output_type": "execute_result"
    }
   ],
   "source": [
    "stores_train[\"grunnkrets_id\"]"
   ]
  },
  {
   "cell_type": "markdown",
   "metadata": {},
   "source": [
    "Simply a foreign key to link to the other CSV files, will look at it later"
   ]
  },
  {
   "cell_type": "markdown",
   "metadata": {},
   "source": [
    "#### Address"
   ]
  },
  {
   "cell_type": "code",
   "execution_count": 14,
   "metadata": {},
   "outputs": [
    {
     "data": {
      "text/plain": [
       "6880"
      ]
     },
     "execution_count": 14,
     "metadata": {},
     "output_type": "execute_result"
    }
   ],
   "source": [
    "stores_train[\"address\"].nunique()"
   ]
  },
  {
   "cell_type": "markdown",
   "metadata": {},
   "source": [
    "#### Lat & Long"
   ]
  },
  {
   "cell_type": "code",
   "execution_count": 15,
   "metadata": {},
   "outputs": [
    {
     "data": {
      "image/png": "[encoded data removed]",
      "text/plain": [
       "<Figure size 432x288 with 1 Axes>"
      ]
     },
     "metadata": {
      "needs_background": "light"
     },
     "output_type": "display_data"
    }
   ],
   "source": [
    "plt.plot(stores_train[\"lon\"], stores_train[\"lat\"], \"bo\")\n",
    "plt.ylabel(\"lon\")\n",
    "plt.xlabel(\"lat\")\n",
    "plt.show();"
   ]
  },
  {
   "cell_type": "markdown",
   "metadata": {},
   "source": [
    "#### Chain Name"
   ]
  },
  {
   "cell_type": "code",
   "execution_count": 16,
   "metadata": {},
   "outputs": [
    {
     "data": {
      "text/plain": [
       "REMA FRANCHISE NORGE    223\n",
       "JOKER                   132\n",
       "BUNNPRIS                 96\n",
       "CIRCLE K DETALJIST       94\n",
       "MIX                      86\n",
       "                       ... \n",
       "BAKERIET CAFEDRIFT        1\n",
       "BILTEMA NORGE             1\n",
       "COOP ANDRE                1\n",
       "SOLHAGEN                  1\n",
       "TORSHOV SPORT             1\n",
       "Name: chain_name, Length: 294, dtype: int64"
      ]
     },
     "execution_count": 16,
     "metadata": {},
     "output_type": "execute_result"
    }
   ],
   "source": [
    "# pd.set_option('display.max_rows', None)  # or 1000\n",
    "stores_train[\"chain_name\"].value_counts()"
   ]
  },
  {
   "cell_type": "code",
   "execution_count": 17,
   "metadata": {},
   "outputs": [
    {
     "data": {
      "text/plain": [
       "0.7103139885292117"
      ]
     },
     "execution_count": 17,
     "metadata": {},
     "output_type": "execute_result"
    }
   ],
   "source": [
    "stores_train[\"chain_name\"].isna().sum() / stores_train.shape[0]"
   ]
  },
  {
   "cell_type": "markdown",
   "metadata": {},
   "source": [
    "IMPUTE NANS: impute NANs as a category of its own. Can also treat the whole column as binary not-NAN/NAN. Can also decide threshold for when a chain becomes a NAN or another category altogether."
   ]
  },
  {
   "cell_type": "markdown",
   "metadata": {},
   "source": [
    "#### Mall Name"
   ]
  },
  {
   "cell_type": "code",
   "execution_count": 18,
   "metadata": {},
   "outputs": [
    {
     "data": {
      "text/plain": [
       "0.17390881695343638"
      ]
     },
     "execution_count": 18,
     "metadata": {},
     "output_type": "execute_result"
    }
   ],
   "source": [
    "stores_train[\"mall_name\"].value_counts().sum() / stores_train.shape[0]"
   ]
  },
  {
   "cell_type": "code",
   "execution_count": 19,
   "metadata": {},
   "outputs": [
    {
     "data": {
      "text/plain": [
       "Strømmen Storsenter               30\n",
       "Amfi Moa                          22\n",
       "Sandvika Storsenter               19\n",
       "Kvadrat                           18\n",
       "Jessheim Storsenter               15\n",
       "Ski Storsenter                    14\n",
       "Gulskogen Senter                  14\n",
       "Amfi Borg                         13\n",
       "Stovner Senter                    13\n",
       "CC Gjøvik                         13\n",
       "Lagunen Storsenter                13\n",
       "Sørlandssenteret                  13\n",
       "Amfi Finnsnes                     12\n",
       "Amfi Madla                        12\n",
       "CC Vest                           11\n",
       "Torvbyen                          11\n",
       "Herkules                          11\n",
       "Knarvik Senter                    11\n",
       "Storo Storsenter                  11\n",
       "CC Hamar                          11\n",
       "Triaden Lørenskog Storsenter      11\n",
       "Vinterbro Senter                  11\n",
       "Sartor Storsenter                 10\n",
       "House of Oslo                     10\n",
       "Vulkan                            10\n",
       "Magasinet Drammen                 10\n",
       "Amfi Førde                        10\n",
       "Jekta Storsenter                  10\n",
       "Aker Brygge                        9\n",
       "Trekanten Asker                    9\n",
       "Koch                               9\n",
       "Kuben Hønefoss                     9\n",
       "Amfi Alta                          9\n",
       "Magneten                           9\n",
       "Harebakken Senter                  9\n",
       "Paleet                             9\n",
       "Amfi Steinkjer                     9\n",
       "Østfoldhallene                     8\n",
       "Oasen                              8\n",
       "Amfi Ålgård                        8\n",
       "Tasta Senter                       8\n",
       "Amfi Verdal                        8\n",
       "Holmen Senter                      8\n",
       "Farmandstredet                     8\n",
       "Oasen Storsenter                   8\n",
       "Åsane Storsenter                   8\n",
       "Vestkanten Storsenter              8\n",
       "Øyrane Torg                        7\n",
       "Bergen Storsenter                  7\n",
       "City Lade                          7\n",
       "Amfi Eidsvoll                      7\n",
       "City Nord                          7\n",
       "Solsiden Kjøpesenter               7\n",
       "Amfi Elverum                       7\n",
       "Stortorvet Senter                  7\n",
       "Amfi Os                            7\n",
       "Tuvensenteret                      7\n",
       "Amfi Roseby                        7\n",
       "Askimtorget                        7\n",
       "Liertoppen Kjøpesenter             7\n",
       "Tangen Senter                      7\n",
       "M44                                7\n",
       "Galleriet Bergen                   7\n",
       "Sirkus Shopping                    7\n",
       "Byporten Shopping                  7\n",
       "Amfi Drøbak City                   7\n",
       "Combisenteret Haugesund            6\n",
       "Bekkjarvik Torg                    6\n",
       "Amfi Mandal                        6\n",
       "Amfi Moss                          6\n",
       "OTI-sentret                        6\n",
       "Re-torvet                          6\n",
       "Amfi Storkaia Brygge               6\n",
       "Amfi Raufoss                       6\n",
       "Gunerius                           6\n",
       "Torgkvartalet                      6\n",
       "Bergfoss-senteret                  6\n",
       "Horisont Senter                    6\n",
       "Xhibition                          6\n",
       "Elvetorget                         6\n",
       "Amfi Surnadal                      6\n",
       "Buskerud Storsenter                6\n",
       "Amfi Havnesenteret                 6\n",
       "Namsos Storsenter                  6\n",
       "Mosseporten                        6\n",
       "Amfi Tynset                        6\n",
       "Amfi Pyramiden                     6\n",
       "Amfi Ullevaal                      6\n",
       "Tvedt-senteret                     6\n",
       "Narvik Storsenter                  6\n",
       "Amfi Vågsbygd                      6\n",
       "Trondheim Torg                     6\n",
       "Veitvetsenteret                    6\n",
       "Amfi Sogningen                     6\n",
       "Amfi Eikunda                       6\n",
       "Bøsenteret                         6\n",
       "Oslo City                          6\n",
       "Amfi Mo i Rana                     5\n",
       "Amfi Askøy                         5\n",
       "Rortunet Senter                    5\n",
       "Nissen Hammerfest Senter           5\n",
       "Lietorvet                          5\n",
       "Flaskebekk Senter                  5\n",
       "Handelsparken Senter               5\n",
       "Økernsenteret                      5\n",
       "Down Town                          5\n",
       "Bekkestua Senter                   5\n",
       "Storbyen Kjøpesenter               5\n",
       "Manglerud Senter                   5\n",
       "Moldetorget                        5\n",
       "Furuset Senter                     5\n",
       "Mastrevik Torg                     5\n",
       "Lofotsenteret                      5\n",
       "Røa Senter                         5\n",
       "Byhaven                            5\n",
       "Amfi Åkrehamn                      5\n",
       "Linderud Senter                    5\n",
       "Torggården Kjøpesenter             5\n",
       "Stadionparken                      5\n",
       "Etne Senter                        5\n",
       "Hammondgården                      5\n",
       "Maxis Senter                       5\n",
       "Parksenteret                       5\n",
       "Torget Vest                        5\n",
       "Grisen Storsenter                  5\n",
       "Aksdal Senter                      5\n",
       "Libra Shopping                     5\n",
       "Trekanten Bodø Kjøpesenter         5\n",
       "Lambertseter Senter                5\n",
       "Amfi Kanebogen                     5\n",
       "Amfi Brotorvet                     5\n",
       "Sletten Senter                     5\n",
       "Husnes Storsenter                  5\n",
       "Maxi Sandnes                       5\n",
       "Amanda Storsenter                  5\n",
       "Mosenteret Nittedal                5\n",
       "Kongssenteret                      5\n",
       "Senter Syd                         5\n",
       "Rygge Storsenter                   5\n",
       "Sortland Storsenter                5\n",
       "Amfi Narvik                        5\n",
       "Hitra Torget                       5\n",
       "City Syd                           5\n",
       "Malvik Senter                      4\n",
       "Hjorten Kjøpesenter                4\n",
       "Flisa Stormarked                   4\n",
       "Fornebu S                          4\n",
       "Heiane Storsenter                  4\n",
       "Bryn Senter                        4\n",
       "Metro Senter                       4\n",
       "Bysenteret Harstad                 4\n",
       "Spinneriet Kjøpesenter             4\n",
       "Sjøsiden Senter                    4\n",
       "Vektergården Senter                4\n",
       "Hasle Torg Nærsenter               4\n",
       "Granstunet Kjøpesenter             4\n",
       "Lade Arena                         4\n",
       "Kleppestø Senter                   4\n",
       "Aure Kjøpesenter                   4\n",
       "Arkaden Shopping                   4\n",
       "Amfi Larvik                        4\n",
       "Eiker Senter                       4\n",
       "Oslo S Shopping                    4\n",
       "Hvaltorvet Kjøpesenter             4\n",
       "Amfi Svolvær                       4\n",
       "Linden Park                        4\n",
       "Jærhagen                           4\n",
       "Oddensenteret                      4\n",
       "Tanatorget                         4\n",
       "Glasmagasinet                      4\n",
       "Rykkinn Senter                     4\n",
       "Amfi Geilo                         4\n",
       "Gullgruven Senter                  4\n",
       "Amfi Nesttun                       4\n",
       "Kremmergaarden Shopping            4\n",
       "Nordbyen                           4\n",
       "Ålesund Storsenter                 4\n",
       "CC Drammen                         4\n",
       "Molde Storsenter                   4\n",
       "Tveita Senter                      4\n",
       "Tista Senter                       4\n",
       "Kilden Kjøpesenter                 4\n",
       "Stokke Senter                      4\n",
       "Amfi Futura                        4\n",
       "Sandane Senter                     4\n",
       "Telesenteret                       4\n",
       "Skedsmo Senter                     4\n",
       "Konnerud Senter                    4\n",
       "Åmotsenteret                       4\n",
       "Tolvsrød Senter                    3\n",
       "Mesna Senter                       3\n",
       "Bømlo Storsenter                   3\n",
       "Amfi Bjørkelangen Torg             3\n",
       "Slottet Shopping                   3\n",
       "Peer Gynt Kjøpesenter              3\n",
       "Rampa                              3\n",
       "Amfi Otta                          3\n",
       "Breitorget Kjøpesenter             3\n",
       "Vestnes Brygge                     3\n",
       "Vestby Storsenter                  3\n",
       "Hagan Atrium                       3\n",
       "K1 Storhandel                      3\n",
       "Måløy Brygge                       3\n",
       "Laksevåg Senter                    3\n",
       "Aunasenteret                       3\n",
       "Bjørkelangen Senter                3\n",
       "Smietorget Kjøpesenter             3\n",
       "Blomsterdalen Senter               3\n",
       "Amfi Stord                         3\n",
       "Foyn Tønsberg                      3\n",
       "Amfi Namsos                        3\n",
       "Blåhuset                           3\n",
       "Hami Kjøpesenter                   3\n",
       "Moelv-torget                       3\n",
       "Østerås Senter                     3\n",
       "Stavsetsenteret                    3\n",
       "Lillestrøm Torv                    3\n",
       "Amfi Nærbø                         3\n",
       "Tunet Senter                       3\n",
       "Strandsenteret                     3\n",
       "Brynesenteret                      3\n",
       "Amfi Ulsteinvik                    3\n",
       "Amfi Fauske                        3\n",
       "Amfi Orkanger                      3\n",
       "Amfi Farsund                       3\n",
       "Fjord'n Senter                     3\n",
       "Kolsås Senter                      3\n",
       "Kremmertorget Elverum              3\n",
       "Amfi Ørsta                         3\n",
       "Fokusgården                        3\n",
       "Labyrinten Handlesenter            3\n",
       "Tårnåsen Senter                    3\n",
       "Valentinlyst Senter                3\n",
       "Sønstebøtunet                      3\n",
       "Lillemarkens                       3\n",
       "Melhustorget Kjøpesenter           3\n",
       "Lindås Senter                      3\n",
       "Handelsparken Sortland             3\n",
       "Eikli Storsenter                   3\n",
       "Lillesand Senter                   3\n",
       "Sandens                            3\n",
       "Aspøya Fjordsenter                 3\n",
       "Amfi Florø                         3\n",
       "Ågotnes Senter                     3\n",
       "Amfi Nordfjord                     3\n",
       "Sødorptunet                        3\n",
       "Målselvsenteret                    3\n",
       "Torget Kjøpesenter                 3\n",
       "Mølla Storsenter                   3\n",
       "Amfi Vågen                         3\n",
       "Paletten                           3\n",
       "Markveien Senter                   3\n",
       "Stoa Senter                        3\n",
       "Aurskog Senter                     3\n",
       "Kremmartunet                       3\n",
       "Magasin Blaa                       3\n",
       "Bjørneparken Kjøpesenter           3\n",
       "Havnesenteret                      3\n",
       "Myre Servicebygg                   3\n",
       "Hundvågsenteret                    3\n",
       "Nardo Centeret                     3\n",
       "Grønland Basar                     3\n",
       "Haugerudsenteret                   2\n",
       "Hunstadsenteret                    2\n",
       "Hellsenteret                       2\n",
       "Maxi Storsenter                    2\n",
       "Grong Kjøpesenter                  2\n",
       "Valdrestunet                       2\n",
       "Porselensfabrikken                 2\n",
       "Romerikssenteret                   2\n",
       "Ørsta Torg                         2\n",
       "Strandtorget                       2\n",
       "Byåsen Butikksenter                2\n",
       "Arkaden Skien Storsenter           2\n",
       "Helnes Grendesenter                2\n",
       "Pyramiden Senter                   2\n",
       "Sentrumsgården Bodø                2\n",
       "Søndeledtunet Handelssenter        2\n",
       "Mørstad Senter                     2\n",
       "Varehuset Holmen                   2\n",
       "Eger Karl Johan                    2\n",
       "Raumasenteret                      2\n",
       "Berja Senter                       2\n",
       "Ringerike Stormarked               2\n",
       "Oslo Fashion Outlet                2\n",
       "Kløverhuset                        2\n",
       "Vikjatunet                         2\n",
       "Risvollan Senter                   2\n",
       "Norwegian Outlet Ålgård            2\n",
       "Amfi Arendal                       2\n",
       "Glasshuspassasjen                  2\n",
       "Solvangen Nærsenter                2\n",
       "Handelsstedet Bærums Verk          2\n",
       "Domus Røros Kjøpesenter            2\n",
       "Ballangen Kjøpesenter              2\n",
       "Migosenteret                       2\n",
       "Kilden Senter                      2\n",
       "Sandaker Senter                    2\n",
       "Hovengasenteret                    2\n",
       "Nerstranda Senter                  2\n",
       "Tåsen Nærsenter                    2\n",
       "Tillertorget                       2\n",
       "Iseveien Senter                    2\n",
       "Amfi Sunndal                       2\n",
       "Trysilsenteret                     2\n",
       "Amfi Valdres                       2\n",
       "Sjøbua Valle                       2\n",
       "Bo-By'n                            2\n",
       "Trio-bygget                        2\n",
       "Grønlands Torg                     2\n",
       "Skjåk Kjøpesenter                  2\n",
       "Ulvundbygget                       2\n",
       "Frolands Senter                    2\n",
       "Stølstunet                         2\n",
       "Våge Senter                        2\n",
       "Strusshamn Senter                  2\n",
       "Veita Shopping                     2\n",
       "Bølgen Kjøpesenter                 2\n",
       "Sandesenteret                      2\n",
       "Drotningsvik Senter                2\n",
       "Byporten Mo i Rana                 2\n",
       "Oppsal Senter                      2\n",
       "Sund Senter                        2\n",
       "Strømsø Senter                     2\n",
       "Røyken Senter                      2\n",
       "Nesbyen Kjøpesenter                2\n",
       "Kolbotn Torg                       2\n",
       "Korgensenteret                     2\n",
       "Amfi Flekkefjord                   2\n",
       "Kvadraten Kjøpesenter              2\n",
       "Steen & Strøm Department Store     2\n",
       "Mercursenteret                     2\n",
       "Amfi Årnes                         2\n",
       "Kvistad Senter                     2\n",
       "Kiellands Hus                      2\n",
       "Bøckmannsenteret                   2\n",
       "Nannestad Torg                     2\n",
       "Knutepunktet                       2\n",
       "Ølen Senter                        2\n",
       "Wergeland Senter                   2\n",
       "Måløy Stormarked                   2\n",
       "Skibsgården Senter                 2\n",
       "Butikkhuset Gågata                 2\n",
       "Kalstad-senteret                   2\n",
       "Ryfylke Storsenter                 2\n",
       "Amfi Kragerø                       2\n",
       "Fagernes Kjøpesenter               2\n",
       "Tananger Senter                    2\n",
       "Halden storsenter                  2\n",
       "Sentrumsgården Lyngdal             2\n",
       "Grorud Senter                      2\n",
       "Stryn Torg                         2\n",
       "Audheimgården                      2\n",
       "Stjernesenteret                    2\n",
       "Bystasjonen                        2\n",
       "Halsnøy Senter                     2\n",
       "Landerudsenteret                   2\n",
       "REFA Brygge                        2\n",
       "Olsrød Park                        2\n",
       "Amfi Skansen                       2\n",
       "Domus Finnsnes                     2\n",
       "Kvalasenteret                      2\n",
       "Rosenberggården                    1\n",
       "Handelshuset Rjukan                1\n",
       "Olavskvartalet                     1\n",
       "Fredheimgården                     1\n",
       "Gruetorget                         1\n",
       "Saldi Markan                       1\n",
       "Gulsetsenteret                     1\n",
       "Amfi Kirkenes                      1\n",
       "Bruelandsenteret                   1\n",
       "DNB-senteret                       1\n",
       "Fritzøe Brygge                     1\n",
       "Bykuben Senter                     1\n",
       "Falksenteret                       1\n",
       "Fanatorget                         1\n",
       "Oslo Lufthavn Shopping             1\n",
       "Telegrafen                         1\n",
       "Solberg Senter                     1\n",
       "Kvelde Senter                      1\n",
       "Skallstøperiet                     1\n",
       "Hvittingfoss-senteret              1\n",
       "Saga Senter                        1\n",
       "Selbutorget                        1\n",
       "Skøyentorget                       1\n",
       "Beitostølen Handelshus             1\n",
       "GS-senteret                        1\n",
       "Bryggen Senter Hommersåk           1\n",
       "Victoriahjørnet                    1\n",
       "Dalsenteret                        1\n",
       "Smølasenteret                      1\n",
       "Gammen Varehus                     1\n",
       "Åsane Stormarked                   1\n",
       "Torghjørnet Hamar                  1\n",
       "Berglyhallen                       1\n",
       "Øysenteret                         1\n",
       "Torgsenteret Oppdal                1\n",
       "Mortensrud Torg Senter             1\n",
       "Romsås Senter                      1\n",
       "Nico Butikksenter                  1\n",
       "Ålingen Kjøpesenter                1\n",
       "Amfi Voss                          1\n",
       "Sentrumsbygget i Austvoll          1\n",
       "Bondlidtorget                      1\n",
       "Sagtunet Otta                      1\n",
       "Portalen Solsiden                  1\n",
       "Sigdalsenteret                     1\n",
       "Morenen Kjøpesenter                1\n",
       "Herbarium                          1\n",
       "Ladetorget                         1\n",
       "Frogner Atrium                     1\n",
       "Kuben Kjøpesenter                  1\n",
       "Centrum Varehus                    1\n",
       "Sjøkanten Senter                   1\n",
       "Bytunet                            1\n",
       "Eiksmarka Senter                   1\n",
       "Colosseum Park                     1\n",
       "Torgsenteret Lakselv               1\n",
       "Auli Senter                        1\n",
       "Nesbru Helse- og Handelshus        1\n",
       "Amfi Eurosenteret                  1\n",
       "Dampsaga Senter                    1\n",
       "Solagården                         1\n",
       "Domus Kjøpesenter Stjørdal         1\n",
       "Samfjordkvartalet                  1\n",
       "Eiklisenteret                      1\n",
       "Sjøsiden                           1\n",
       "Sveio Senter                       1\n",
       "Fossegrenda Senter                 1\n",
       "Stopp Tune                         1\n",
       "Domus Tynset                       1\n",
       "Røkland Forretningssenter          1\n",
       "Rosenlund Bydelssenter             1\n",
       "Lasses Senter                      1\n",
       "Mosenteret Mo i Rana               1\n",
       "Mengshoel Senter                   1\n",
       "Holmlia Kjøpesenter                1\n",
       "Skjetten Nærsenter                 1\n",
       "Sagasenteret                       1\n",
       "Lilletorget Stokke                 1\n",
       "DIVI-gården                        1\n",
       "Alna Senter                        1\n",
       "Arkaden Torgterrassen              1\n",
       "Farsund Senter                     1\n",
       "Royal Arkaden                      1\n",
       "Moholt Storsenter                  1\n",
       "Fokus Butikksenter                 1\n",
       "Tonsenhagen Forretningssentrum     1\n",
       "Møllhausen Torg                    1\n",
       "Torvgården                         1\n",
       "Kvartal 48                         1\n",
       "Løkketangen Torv                   1\n",
       "St. Hanshaugen senter              1\n",
       "ABC Stormarked                     1\n",
       "Tempogården                        1\n",
       "Dale Senter                        1\n",
       "Colosseum Senter                   1\n",
       "Torgsenteret Tromsø                1\n",
       "Lande Senter                       1\n",
       "Osterøy Senter                     1\n",
       "Dombås Senter                      1\n",
       "Østbanehallen                      1\n",
       "Blindheimsenteret                  1\n",
       "Hovtun Kjøpesenter                 1\n",
       "Ringnes Park Senter                1\n",
       "Vikasenteret                       1\n",
       "Vøyenenga Senter                   1\n",
       "Fristadsenteret                    1\n",
       "Eiktoppen                          1\n",
       "Name: mall_name, dtype: int64"
      ]
     },
     "execution_count": 19,
     "metadata": {},
     "output_type": "execute_result"
    }
   ],
   "source": [
    "pd.set_option('display.max_rows', 500)\n",
    "stores_train[\"mall_name\"].value_counts()"
   ]
  },
  {
   "cell_type": "markdown",
   "metadata": {},
   "source": [
    "Treat similarly to chain name, we think a binary approach would be the best as the size of a lot of malls seems to be wrong due to missing shops etc."
   ]
  },
  {
   "cell_type": "markdown",
   "metadata": {},
   "source": [
    "#### Revenue"
   ]
  },
  {
   "cell_type": "code",
   "execution_count": 20,
   "metadata": {},
   "outputs": [
    {
     "data": {
      "image/png": "[encoded data removed]",
      "text/plain": [
       "<Figure size 432x288 with 1 Axes>"
      ]
     },
     "metadata": {
      "needs_background": "light"
     },
     "output_type": "display_data"
    }
   ],
   "source": [
    "stores_train.revenue.plot.hist(bins=50, logy=True);"
   ]
  },
  {
   "cell_type": "code",
   "execution_count": 21,
   "metadata": {},
   "outputs": [
    {
     "data": {
      "image/png": "[encoded data removed]",
      "text/plain": [
       "<Figure size 864x216 with 3 Axes>"
      ]
     },
     "metadata": {
      "needs_background": "light"
     },
     "output_type": "display_data"
    }
   ],
   "source": [
    "fig, (ax1, ax2, ax3) = plt.subplots(figsize=(12, 3), ncols=3)\n",
    "stores_train.isna().mean().plot.bar(ax=ax1)\n",
    "ax1.set_title('Fraction of rows with NaN values (train)')\n",
    "stores_test.isna().mean().plot.bar(ax=ax2)\n",
    "ax2.set_title('Fraction of rows with NaN values (test)')\n",
    "stores_train.revenue.plot.hist(bins=100, ax=ax3)\n",
    "ax3.set_title('Distribution of Revenues');"
   ]
  },
  {
   "cell_type": "markdown",
   "metadata": {},
   "source": [
    "## Preprocessing data & training model"
   ]
  },
  {
   "cell_type": "markdown",
   "metadata": {},
   "source": [
    "We start by including lat, lon, chain_name, mall_name and plaace_hierarchy_id"
   ]
  },
  {
   "cell_type": "code",
   "execution_count": 22,
   "metadata": {},
   "outputs": [],
   "source": [
    "from sklearn.impute import SimpleImputer\n",
    "from sklearn.pipeline import Pipeline\n",
    "from sklearn.compose import ColumnTransformer\n",
    "from sklearn.ensemble import RandomForestRegressor\n",
    "from sklearn.preprocessing import OrdinalEncoder\n",
    "\n",
    "initial_predictors = [\"lat\", \"lon\", \"plaace_hierarchy_id\", \"chain_name\", \"mall_name\"]\n",
    "final_predictors = initial_predictors.copy()\n",
    "response = \"revenue\"\n",
    "\n",
    "categorical_transformer = Pipeline(\n",
    "    steps=[\n",
    "        (\"imputer\", SimpleImputer(missing_values=np.nan, strategy=\"constant\")),\n",
    "        (\"encoder\", OrdinalEncoder(handle_unknown=\"use_encoded_value\", unknown_value=-1)),\n",
    "    ]\n",
    ")\n",
    "categorical_features = [\"plaace_hierarchy_id\", \"chain_name\", \"mall_name\"]\n",
    "\n",
    "#numerical_transformer = OrdinalEncoder(handle_unknown=\"use_encoded_value\", unknown_value=-1)\n",
    "#numerical_features = [\"\"]\n",
    "\n",
    "\n",
    "preprocessor = ColumnTransformer(\n",
    "    transformers=[\n",
    "        (\"cat\", categorical_transformer, categorical_features),\n",
    "#        (\"num\", numerical_transformer, numerical_features),\n",
    "    ]\n",
    ")\n",
    "\n",
    "model = Pipeline(\n",
    "    steps=[\n",
    "        (\"preprocessor\", preprocessor), \n",
    "        (\"classifier\", RandomForestRegressor(max_depth=4, random_state=0))\n",
    "    ]\n",
    ")\n",
    "\n",
    "X_train = stores_train[initial_predictors]\n",
    "y_train = stores_train[response]\n",
    "\n",
    "X_val = stores_val[initial_predictors]\n",
    "y_val = stores_val[response]\n"
   ]
  },
  {
   "cell_type": "code",
   "execution_count": 23,
   "metadata": {},
   "outputs": [
    {
     "name": "stderr",
     "output_type": "stream",
     "text": [
      "/tmp/ipykernel_42260/500277625.py:8: SettingWithCopyWarning: \n",
      "A value is trying to be set on a copy of a slice from a DataFrame.\n",
      "Try using .loc[row_indexer,col_indexer] = value instead\n",
      "\n",
      "See the caveats in the documentation: https://pandas.pydata.org/pandas-docs/stable/user_guide/indexing.html#returning-a-view-versus-a-copy\n",
      "  X_train[col + '_was_missing'] = stores_train[col].isna()\n",
      "/tmp/ipykernel_42260/500277625.py:9: SettingWithCopyWarning: \n",
      "A value is trying to be set on a copy of a slice from a DataFrame.\n",
      "Try using .loc[row_indexer,col_indexer] = value instead\n",
      "\n",
      "See the caveats in the documentation: https://pandas.pydata.org/pandas-docs/stable/user_guide/indexing.html#returning-a-view-versus-a-copy\n",
      "  X_val[col + '_was_missing'] = stores_val[col].isna()\n",
      "/tmp/ipykernel_42260/500277625.py:8: SettingWithCopyWarning: \n",
      "A value is trying to be set on a copy of a slice from a DataFrame.\n",
      "Try using .loc[row_indexer,col_indexer] = value instead\n",
      "\n",
      "See the caveats in the documentation: https://pandas.pydata.org/pandas-docs/stable/user_guide/indexing.html#returning-a-view-versus-a-copy\n",
      "  X_train[col + '_was_missing'] = stores_train[col].isna()\n",
      "/tmp/ipykernel_42260/500277625.py:9: SettingWithCopyWarning: \n",
      "A value is trying to be set on a copy of a slice from a DataFrame.\n",
      "Try using .loc[row_indexer,col_indexer] = value instead\n",
      "\n",
      "See the caveats in the documentation: https://pandas.pydata.org/pandas-docs/stable/user_guide/indexing.html#returning-a-view-versus-a-copy\n",
      "  X_val[col + '_was_missing'] = stores_val[col].isna()\n",
      "/tmp/ipykernel_42260/500277625.py:8: SettingWithCopyWarning: \n",
      "A value is trying to be set on a copy of a slice from a DataFrame.\n",
      "Try using .loc[row_indexer,col_indexer] = value instead\n",
      "\n",
      "See the caveats in the documentation: https://pandas.pydata.org/pandas-docs/stable/user_guide/indexing.html#returning-a-view-versus-a-copy\n",
      "  X_train[col + '_was_missing'] = stores_train[col].isna()\n",
      "/tmp/ipykernel_42260/500277625.py:9: SettingWithCopyWarning: \n",
      "A value is trying to be set on a copy of a slice from a DataFrame.\n",
      "Try using .loc[row_indexer,col_indexer] = value instead\n",
      "\n",
      "See the caveats in the documentation: https://pandas.pydata.org/pandas-docs/stable/user_guide/indexing.html#returning-a-view-versus-a-copy\n",
      "  X_val[col + '_was_missing'] = stores_val[col].isna()\n"
     ]
    }
   ],
   "source": [
    "# Adding a column for whether the values in address, chain and mall were None/NaN. Including this in the\n",
    "# prediction yielded no increase\n",
    "\n",
    "cols_with_missing = [col for col in stores_train\n",
    "                     if stores_train[col].isnull().any()]\n",
    "\n",
    "for col in cols_with_missing:\n",
    "    X_train[col + '_was_missing'] = stores_train[col].isna()\n",
    "    X_val[col + '_was_missing'] = stores_val[col].isna()\n",
    "    final_predictors.append(col + '_was_missing')"
   ]
  },
  {
   "cell_type": "code",
   "execution_count": 24,
   "metadata": {},
   "outputs": [
    {
     "data": {
      "text/html": [
       "<div>\n",
       "<style scoped>\n",
       "    .dataframe tbody tr th:only-of-type {\n",
       "        vertical-align: middle;\n",
       "    }\n",
       "\n",
       "    .dataframe tbody tr th {\n",
       "        vertical-align: top;\n",
       "    }\n",
       "\n",
       "    .dataframe thead th {\n",
       "        text-align: right;\n",
       "    }\n",
       "</style>\n",
       "<table border=\"1\" class=\"dataframe\">\n",
       "  <thead>\n",
       "    <tr style=\"text-align: right;\">\n",
       "      <th></th>\n",
       "      <th>lat</th>\n",
       "      <th>lon</th>\n",
       "      <th>plaace_hierarchy_id</th>\n",
       "      <th>chain_name</th>\n",
       "      <th>mall_name</th>\n",
       "      <th>address_was_missing</th>\n",
       "      <th>chain_name_was_missing</th>\n",
       "      <th>mall_name_was_missing</th>\n",
       "    </tr>\n",
       "  </thead>\n",
       "  <tbody>\n",
       "    <tr>\n",
       "      <th>2506</th>\n",
       "      <td>59.743135</td>\n",
       "      <td>10.194627</td>\n",
       "      <td>1.2.2.0</td>\n",
       "      <td>BAKER KLAUSEN DRAMMEN</td>\n",
       "      <td>NaN</td>\n",
       "      <td>False</td>\n",
       "      <td>False</td>\n",
       "      <td>True</td>\n",
       "    </tr>\n",
       "    <tr>\n",
       "      <th>12305</th>\n",
       "      <td>60.149288</td>\n",
       "      <td>11.187290</td>\n",
       "      <td>3.4.2.0</td>\n",
       "      <td>NaN</td>\n",
       "      <td>NaN</td>\n",
       "      <td>False</td>\n",
       "      <td>True</td>\n",
       "      <td>True</td>\n",
       "    </tr>\n",
       "    <tr>\n",
       "      <th>4142</th>\n",
       "      <td>59.768986</td>\n",
       "      <td>9.899066</td>\n",
       "      <td>2.3.1.0</td>\n",
       "      <td>EXPERT</td>\n",
       "      <td>NaN</td>\n",
       "      <td>False</td>\n",
       "      <td>False</td>\n",
       "      <td>True</td>\n",
       "    </tr>\n",
       "    <tr>\n",
       "      <th>8561</th>\n",
       "      <td>62.471607</td>\n",
       "      <td>6.151301</td>\n",
       "      <td>2.9.1.0</td>\n",
       "      <td>NaN</td>\n",
       "      <td>NaN</td>\n",
       "      <td>False</td>\n",
       "      <td>True</td>\n",
       "      <td>True</td>\n",
       "    </tr>\n",
       "    <tr>\n",
       "      <th>818</th>\n",
       "      <td>59.924205</td>\n",
       "      <td>10.759401</td>\n",
       "      <td>1.1.6.2</td>\n",
       "      <td>NaN</td>\n",
       "      <td>NaN</td>\n",
       "      <td>False</td>\n",
       "      <td>True</td>\n",
       "      <td>True</td>\n",
       "    </tr>\n",
       "  </tbody>\n",
       "</table>\n",
       "</div>"
      ],
      "text/plain": [
       "             lat        lon plaace_hierarchy_id             chain_name  \\\n",
       "2506   59.743135  10.194627             1.2.2.0  BAKER KLAUSEN DRAMMEN   \n",
       "12305  60.149288  11.187290             3.4.2.0                    NaN   \n",
       "4142   59.768986   9.899066             2.3.1.0                 EXPERT   \n",
       "8561   62.471607   6.151301             2.9.1.0                    NaN   \n",
       "818    59.924205  10.759401             1.1.6.2                    NaN   \n",
       "\n",
       "      mall_name  address_was_missing  chain_name_was_missing  \\\n",
       "2506        NaN                False                   False   \n",
       "12305       NaN                False                    True   \n",
       "4142        NaN                False                   False   \n",
       "8561        NaN                False                    True   \n",
       "818         NaN                False                    True   \n",
       "\n",
       "       mall_name_was_missing  \n",
       "2506                    True  \n",
       "12305                   True  \n",
       "4142                    True  \n",
       "8561                    True  \n",
       "818                     True  "
      ]
     },
     "execution_count": 24,
     "metadata": {},
     "output_type": "execute_result"
    }
   ],
   "source": [
    "X_train[final_predictors].head()"
   ]
  },
  {
   "cell_type": "code",
   "execution_count": 25,
   "metadata": {},
   "outputs": [],
   "source": [
    "pipe = model.fit(X_train[final_predictors], y_train)\n",
    "y_pred = pipe.predict(X_val[final_predictors])"
   ]
  },
  {
   "cell_type": "code",
   "execution_count": 26,
   "metadata": {},
   "outputs": [
    {
     "data": {
      "text/plain": [
       "0.8817201388312189"
      ]
     },
     "execution_count": 26,
     "metadata": {},
     "output_type": "execute_result"
    }
   ],
   "source": [
    "from RMSLE import rmsle\n",
    "\n",
    "rmsle(y_pred=y_pred, y_true=y_val)"
   ]
  },
  {
   "cell_type": "markdown",
   "metadata": {},
   "source": [
    "Tried to do some feature importance, but unsure of how well this works for RandomForestRegressor (also very few values got an importance rating?)"
   ]
  },
  {
   "cell_type": "code",
   "execution_count": 27,
   "metadata": {},
   "outputs": [
    {
     "data": {
      "text/plain": [
       "{'lat': 0.10378845377059273,\n",
       " 'lon': 0.8873470865516377,\n",
       " 'plaace_hierarchy_id': 0.008864459677769504}"
      ]
     },
     "execution_count": 27,
     "metadata": {},
     "output_type": "execute_result"
    }
   ],
   "source": [
    "feats = {} # a dict to hold feature_name: feature_importance\n",
    "for feature, importance in zip(X_val.columns, model.steps[1][1].feature_importances_):\n",
    "    feats[feature] = importance #add the name/value pair \n",
    "feats"
   ]
  },
  {
   "cell_type": "markdown",
   "metadata": {},
   "source": [
    "## Creating the submission"
   ]
  },
  {
   "cell_type": "code",
   "execution_count": 28,
   "metadata": {},
   "outputs": [
    {
     "ename": "KeyError",
     "evalue": "\"['address_was_missing', 'chain_name_was_missing', 'mall_name_was_missing'] not in index\"",
     "output_type": "error",
     "traceback": [
      "\u001b[0;31m---------------------------------------------------------------------------\u001b[0m",
      "\u001b[0;31mKeyError\u001b[0m                                  Traceback (most recent call last)",
      "\u001b[1;32m/home/halvorlh/NTNU/Machine_Learning/TDT4173/experiments.ipynb Cell 47\u001b[0m in \u001b[0;36m<cell line: 4>\u001b[0;34m()\u001b[0m\n\u001b[1;32m      <a href='vscode-notebook-cell:/home/halvorlh/NTNU/Machine_Learning/TDT4173/experiments.ipynb#X64sZmlsZQ%3D%3D?line=1'>2</a>\u001b[0m final_predictors \u001b[39m=\u001b[39m final_predictors\u001b[39m.\u001b[39mcopy()\n\u001b[1;32m      <a href='vscode-notebook-cell:/home/halvorlh/NTNU/Machine_Learning/TDT4173/experiments.ipynb#X64sZmlsZQ%3D%3D?line=2'>3</a>\u001b[0m final_predictors\u001b[39m.\u001b[39mappend(\u001b[39m\"\u001b[39m\u001b[39mstore_id\u001b[39m\u001b[39m\"\u001b[39m)\n\u001b[0;32m----> <a href='vscode-notebook-cell:/home/halvorlh/NTNU/Machine_Learning/TDT4173/experiments.ipynb#X64sZmlsZQ%3D%3D?line=3'>4</a>\u001b[0m X_test \u001b[39m=\u001b[39m stores_test[final_predictors]\u001b[39m.\u001b[39mcopy()\n\u001b[1;32m      <a href='vscode-notebook-cell:/home/halvorlh/NTNU/Machine_Learning/TDT4173/experiments.ipynb#X64sZmlsZQ%3D%3D?line=4'>5</a>\u001b[0m y_test_pred \u001b[39m=\u001b[39m model\u001b[39m.\u001b[39mpredict(X_test)\n\u001b[1;32m      <a href='vscode-notebook-cell:/home/halvorlh/NTNU/Machine_Learning/TDT4173/experiments.ipynb#X64sZmlsZQ%3D%3D?line=6'>7</a>\u001b[0m \u001b[39m# Generate submission dataframe \u001b[39;00m\n\u001b[1;32m      <a href='vscode-notebook-cell:/home/halvorlh/NTNU/Machine_Learning/TDT4173/experiments.ipynb#X64sZmlsZQ%3D%3D?line=7'>8</a>\u001b[0m \u001b[39m# NOTE: It is important that the ID and predicted values match\u001b[39;00m\n",
      "File \u001b[0;32m~/anaconda3/lib/python3.9/site-packages/pandas/core/frame.py:3511\u001b[0m, in \u001b[0;36mDataFrame.__getitem__\u001b[0;34m(self, key)\u001b[0m\n\u001b[1;32m   3509\u001b[0m     \u001b[39mif\u001b[39;00m is_iterator(key):\n\u001b[1;32m   3510\u001b[0m         key \u001b[39m=\u001b[39m \u001b[39mlist\u001b[39m(key)\n\u001b[0;32m-> 3511\u001b[0m     indexer \u001b[39m=\u001b[39m \u001b[39mself\u001b[39;49m\u001b[39m.\u001b[39;49mcolumns\u001b[39m.\u001b[39;49m_get_indexer_strict(key, \u001b[39m\"\u001b[39;49m\u001b[39mcolumns\u001b[39;49m\u001b[39m\"\u001b[39;49m)[\u001b[39m1\u001b[39m]\n\u001b[1;32m   3513\u001b[0m \u001b[39m# take() does not accept boolean indexers\u001b[39;00m\n\u001b[1;32m   3514\u001b[0m \u001b[39mif\u001b[39;00m \u001b[39mgetattr\u001b[39m(indexer, \u001b[39m\"\u001b[39m\u001b[39mdtype\u001b[39m\u001b[39m\"\u001b[39m, \u001b[39mNone\u001b[39;00m) \u001b[39m==\u001b[39m \u001b[39mbool\u001b[39m:\n",
      "File \u001b[0;32m~/anaconda3/lib/python3.9/site-packages/pandas/core/indexes/base.py:5782\u001b[0m, in \u001b[0;36mIndex._get_indexer_strict\u001b[0;34m(self, key, axis_name)\u001b[0m\n\u001b[1;32m   5779\u001b[0m \u001b[39melse\u001b[39;00m:\n\u001b[1;32m   5780\u001b[0m     keyarr, indexer, new_indexer \u001b[39m=\u001b[39m \u001b[39mself\u001b[39m\u001b[39m.\u001b[39m_reindex_non_unique(keyarr)\n\u001b[0;32m-> 5782\u001b[0m \u001b[39mself\u001b[39;49m\u001b[39m.\u001b[39;49m_raise_if_missing(keyarr, indexer, axis_name)\n\u001b[1;32m   5784\u001b[0m keyarr \u001b[39m=\u001b[39m \u001b[39mself\u001b[39m\u001b[39m.\u001b[39mtake(indexer)\n\u001b[1;32m   5785\u001b[0m \u001b[39mif\u001b[39;00m \u001b[39misinstance\u001b[39m(key, Index):\n\u001b[1;32m   5786\u001b[0m     \u001b[39m# GH 42790 - Preserve name from an Index\u001b[39;00m\n",
      "File \u001b[0;32m~/anaconda3/lib/python3.9/site-packages/pandas/core/indexes/base.py:5845\u001b[0m, in \u001b[0;36mIndex._raise_if_missing\u001b[0;34m(self, key, indexer, axis_name)\u001b[0m\n\u001b[1;32m   5842\u001b[0m     \u001b[39mraise\u001b[39;00m \u001b[39mKeyError\u001b[39;00m(\u001b[39mf\u001b[39m\u001b[39m\"\u001b[39m\u001b[39mNone of [\u001b[39m\u001b[39m{\u001b[39;00mkey\u001b[39m}\u001b[39;00m\u001b[39m] are in the [\u001b[39m\u001b[39m{\u001b[39;00maxis_name\u001b[39m}\u001b[39;00m\u001b[39m]\u001b[39m\u001b[39m\"\u001b[39m)\n\u001b[1;32m   5844\u001b[0m not_found \u001b[39m=\u001b[39m \u001b[39mlist\u001b[39m(ensure_index(key)[missing_mask\u001b[39m.\u001b[39mnonzero()[\u001b[39m0\u001b[39m]]\u001b[39m.\u001b[39munique())\n\u001b[0;32m-> 5845\u001b[0m \u001b[39mraise\u001b[39;00m \u001b[39mKeyError\u001b[39;00m(\u001b[39mf\u001b[39m\u001b[39m\"\u001b[39m\u001b[39m{\u001b[39;00mnot_found\u001b[39m}\u001b[39;00m\u001b[39m not in index\u001b[39m\u001b[39m\"\u001b[39m)\n",
      "\u001b[0;31mKeyError\u001b[0m: \"['address_was_missing', 'chain_name_was_missing', 'mall_name_was_missing'] not in index\""
     ]
    }
   ],
   "source": [
    "# Predict on the test set \n",
    "final_predictors = final_predictors.copy()\n",
    "final_predictors.append(\"store_id\")\n",
    "X_test = stores_test[final_predictors].copy()\n",
    "y_test_pred = model.predict(X_test)\n",
    "\n",
    "# Generate submission dataframe \n",
    "# NOTE: It is important that the ID and predicted values match\n",
    "submission = pd.DataFrame()\n",
    "submission['id'] = X_test.store_id \n",
    "submission['predicted'] = np.asarray(y_test_pred)\n",
    "\n",
    "# Save it to disk (`index=False` means don't save the index in the csv)\n",
    "submission.to_csv('submission.csv', index=False)\n",
    "submission"
   ]
  },
  {
   "cell_type": "code",
   "execution_count": null,
   "metadata": {},
   "outputs": [],
   "source": []
  }
 ],
 "metadata": {
  "kernelspec": {
   "display_name": "Python 3.9.12 ('base')",
   "language": "python",
   "name": "python3"
  },
  "language_info": {
   "codemirror_mode": {
    "name": "ipython",
    "version": 3
   },
   "file_extension": ".py",
   "mimetype": "text/x-python",
   "name": "python",
   "nbconvert_exporter": "python",
   "pygments_lexer": "ipython3",
   "version": "3.9.12"
  },
  "orig_nbformat": 4,
  "vscode": {
   "interpreter": {
    "hash": "8735e76f350bd5d35f9af8d6cedfb3286d04a4fcea20e9b85bec2ae6c1b0f848"
   }
  }
 },
 "nbformat": 4,
 "nbformat_minor": 2
}
