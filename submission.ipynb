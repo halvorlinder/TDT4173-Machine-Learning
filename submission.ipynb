{
 "cells": [
  {
   "cell_type": "markdown",
   "metadata": {},
   "source": [
    "# Submission"
   ]
  },
  {
   "cell_type": "code",
   "execution_count": 16,
   "metadata": {},
   "outputs": [
    {
     "name": "stdout",
     "output_type": "stream",
     "text": [
      "The autoreload extension is already loaded. To reload it, use:\n",
      "  %reload_ext autoreload\n"
     ]
    }
   ],
   "source": [
    "# Magic to automatically update imports if functions in utils are changed\n",
    "%load_ext autoreload\n",
    "%autoreload 2\n",
    "\n",
    "import pandas as pd\n",
    "import numpy as np\n",
    "from tqdm import tqdm\n",
    "from pathlib import Path"
   ]
  },
  {
   "cell_type": "code",
   "execution_count": 875,
   "metadata": {},
   "outputs": [],
   "source": [
    "submission_with_whole_train = False"
   ]
  },
  {
   "cell_type": "markdown",
   "metadata": {},
   "source": [
    "# Feature engineer (option 1)"
   ]
  },
  {
   "cell_type": "code",
   "execution_count": 474,
   "metadata": {},
   "outputs": [],
   "source": [
    "from sklearn.model_selection import train_test_split\n",
    "\n",
    "stores_train = pd.read_csv(\"data/stores_train.csv\")\n",
    "stores_test = pd.read_csv(\"data/stores_test.csv\")\n",
    "stores_extra = pd.read_csv(\"data/stores_extra.csv\")\n",
    "if not submission_with_whole_train:\n",
    "    stores_train, stores_val = train_test_split(stores_train, test_size=0.2, random_state=0)"
   ]
  },
  {
   "cell_type": "code",
   "execution_count": 833,
   "metadata": {},
   "outputs": [],
   "source": [
    "from utils import split_plaace_cat\n",
    "\n",
    "\n",
    "store_dataframes = {\n",
    "    \"train\": stores_train, \n",
    "    \"extra\": stores_extra, \n",
    "    \"test\": stores_test, \n",
    "    }\n",
    "\n",
    "if not submission_with_whole_train:\n",
    "    store_dataframes[\"val\"] = stores_val\n",
    "\n",
    "for df_name, df in store_dataframes.items():\n",
    "    df = split_plaace_cat(df)"
   ]
  },
  {
   "cell_type": "code",
   "execution_count": 477,
   "metadata": {},
   "outputs": [
    {
     "data": {
      "text/plain": [
       "(10287, 16)"
      ]
     },
     "execution_count": 477,
     "metadata": {},
     "output_type": "execute_result"
    }
   ],
   "source": [
    "store_dataframes[\"train\"].shape"
   ]
  },
  {
   "cell_type": "code",
   "execution_count": 478,
   "metadata": {},
   "outputs": [],
   "source": [
    "store_dataframes[\"train\"][\"log_revenue\"] = store_dataframes[\"train\"].revenue.apply(lambda x: np.log1p(x))\n",
    "if not submission_with_whole_train:\n",
    "    store_dataframes[\"val\"][\"log_revenue\"] = store_dataframes[\"val\"].revenue.apply(lambda x: np.log1p(x))"
   ]
  },
  {
   "cell_type": "code",
   "execution_count": 1005,
   "metadata": {},
   "outputs": [
    {
     "name": "stderr",
     "output_type": "stream",
     "text": [
      "100%|██████████| 4/4 [00:00<00:00, 46.71it/s]\n",
      "100%|██████████| 4/4 [00:00<00:00, 190.29it/s]\n"
     ]
    }
   ],
   "source": [
    "from utils import create_geographical_columns, create_chain_and_mall_columns, generate_rev_dict, generate_chain_rev_dict, create_mean_chain_rev_col\n",
    "\n",
    "chain_count = stores_train[\"chain_name\"].value_counts().to_dict()\n",
    "lower_limit = 1\n",
    "rev_dict, mean_revenue = generate_rev_dict(store_dataframes[\"train\"])\n",
    "\n",
    "for df_name, df in tqdm(store_dataframes.items()):\n",
    "    store_dataframes[df_name] = create_geographical_columns(df)\n",
    "    store_dataframes[df_name] = create_chain_and_mall_columns(df, chain_count, lower_limit=lower_limit)\n",
    "\n",
    "chain_rev_dict, log_bounded_chain_rev_dict = generate_chain_rev_dict(store_dataframes[\"train\"])\n",
    "for df_name, df in tqdm(store_dataframes.items()):\n",
    "    store_dataframes[df_name] = create_mean_chain_rev_col(df, bounded_chain_revs=chain_rev_dict, log_bounded_chain_revs=log_bounded_chain_rev_dict)\n"
   ]
  },
  {
   "cell_type": "code",
   "execution_count": 480,
   "metadata": {},
   "outputs": [],
   "source": [
    "from utils import concat_df_keep_unq_index\n",
    "concat_df = concat_df_keep_unq_index(stores_train, stores_extra)"
   ]
  },
  {
   "cell_type": "markdown",
   "metadata": {},
   "source": [
    "!NB next cell takes 3 minutes to run (if comp_plaace_gran. = [1, 2, 3, 4]) (on M1 Mac with 16GB RAM)\n",
    "\n",
    "(outdated) If you have the .csv files temp_data/closest_comp_\\{df_name\\}, skip running this cell and run the cell below it instead"
   ]
  },
  {
   "cell_type": "code",
   "execution_count": 481,
   "metadata": {},
   "outputs": [],
   "source": [
    "from utils import find_dist_to_nearest_comp\n",
    "\n",
    "nearest_comp_plaace_cat_gran = [1, 2, 3, 4]\n",
    "n_nearest_comp = [1, 2, 3, 4, 5, 7, 10]\n",
    "\n",
    "store_dataframes[\"train\"] = find_dist_to_nearest_comp(\n",
    "    store_dataframes[\"train\"], \n",
    "    nearest_comp_plaace_cat_gran, \n",
    "    n_nearest_comp, \n",
    "    training=True, \n",
    "    training_df=concat_df,\n",
    "    )"
   ]
  },
  {
   "cell_type": "code",
   "execution_count": 482,
   "metadata": {},
   "outputs": [],
   "source": [
    "if not submission_with_whole_train:\n",
    "    store_dataframes[\"val\"] = find_dist_to_nearest_comp(\n",
    "        store_dataframes[\"val\"], \n",
    "        nearest_comp_plaace_cat_gran, \n",
    "        n_nearest_comp, \n",
    "        training=True, \n",
    "        training_df=concat_df,\n",
    "        )"
   ]
  },
  {
   "cell_type": "code",
   "execution_count": 483,
   "metadata": {},
   "outputs": [],
   "source": [
    "store_dataframes[\"test\"] = find_dist_to_nearest_comp(\n",
    "    store_dataframes[\"test\"], \n",
    "    nearest_comp_plaace_cat_gran, \n",
    "    n_nearest_comp, \n",
    "    training=False,\n",
    "    training_df=concat_df\n",
    ")"
   ]
  },
  {
   "cell_type": "code",
   "execution_count": 484,
   "metadata": {},
   "outputs": [],
   "source": [
    "comp_plaace_cols = list(store_dataframes[\"train\"].columns[-56:])"
   ]
  },
  {
   "cell_type": "code",
   "execution_count": 485,
   "metadata": {},
   "outputs": [
    {
     "data": {
      "text/plain": [
       "[['log_revenue', 1.0],\n",
       " ['sum_dist_to_nearest_10_comp_plaace_1', -0.11318923733863769],\n",
       " ['mean_dist_to_nearest_10_comp_plaace_1', -0.11318923733863753],\n",
       " ['mean_dist_to_nearest_7_comp_plaace_1', -0.10947896974172534],\n",
       " ['sum_dist_to_nearest_7_comp_plaace_1', -0.10947896974172525],\n",
       " ['sum_dist_to_nearest_5_comp_plaace_1', -0.10512637590277266],\n",
       " ['mean_dist_to_nearest_5_comp_plaace_1', -0.1051263759027725],\n",
       " ['sum_dist_to_nearest_4_comp_plaace_1', -0.10176508975028223],\n",
       " ['mean_dist_to_nearest_4_comp_plaace_1', -0.10176508975028223],\n",
       " ['sum_dist_to_nearest_3_comp_plaace_1', -0.09554149149809875],\n",
       " ['mean_dist_to_nearest_3_comp_plaace_1', -0.09554149149809853],\n",
       " ['sum_dist_to_nearest_2_comp_plaace_1', -0.09178689133186166],\n",
       " ['mean_dist_to_nearest_2_comp_plaace_1', -0.09178689133186166],\n",
       " ['sum_dist_to_nearest_1_comp_plaace_1', -0.07893162376330974],\n",
       " ['mean_dist_to_nearest_1_comp_plaace_1', -0.07893162376330974],\n",
       " ['sum_dist_to_nearest_2_comp_plaace_2', -0.0522650006821979],\n",
       " ['mean_dist_to_nearest_2_comp_plaace_2', -0.0522650006821979],\n",
       " ['sum_dist_to_nearest_1_comp_plaace_2', -0.051993671126748235],\n",
       " ['mean_dist_to_nearest_1_comp_plaace_2', -0.051993671126748235],\n",
       " ['sum_dist_to_nearest_3_comp_plaace_2', -0.05146521294932594],\n",
       " ['mean_dist_to_nearest_3_comp_plaace_2', -0.05146521294932584],\n",
       " ['sum_dist_to_nearest_4_comp_plaace_2', -0.051397868925763986],\n",
       " ['mean_dist_to_nearest_4_comp_plaace_2', -0.051397868925763986],\n",
       " ['sum_dist_to_nearest_2_comp_plaace_4', -0.050899990969907806],\n",
       " ['mean_dist_to_nearest_2_comp_plaace_4', -0.050899990969907806],\n",
       " ['mean_dist_to_nearest_5_comp_plaace_2', -0.04944088418684392],\n",
       " ['sum_dist_to_nearest_5_comp_plaace_2', -0.049440884186843684],\n",
       " ['sum_dist_to_nearest_2_comp_plaace_3', -0.04891568113336088],\n",
       " ['mean_dist_to_nearest_2_comp_plaace_3', -0.04891568113336088],\n",
       " ['sum_dist_to_nearest_3_comp_plaace_4', -0.047609725453673764],\n",
       " ['mean_dist_to_nearest_3_comp_plaace_4', -0.047609725453673764],\n",
       " ['sum_dist_to_nearest_3_comp_plaace_3', -0.046570041865526664],\n",
       " ['mean_dist_to_nearest_3_comp_plaace_3', -0.046570041865526206],\n",
       " ['sum_dist_to_nearest_1_comp_plaace_4', -0.046291831524648344],\n",
       " ['mean_dist_to_nearest_1_comp_plaace_4', -0.046291831524648344],\n",
       " ['sum_dist_to_nearest_4_comp_plaace_4', -0.045422566078243076],\n",
       " ['mean_dist_to_nearest_4_comp_plaace_4', -0.045422566078243076],\n",
       " ['sum_dist_to_nearest_4_comp_plaace_3', -0.04501178354923049],\n",
       " ['mean_dist_to_nearest_4_comp_plaace_3', -0.04501178354923049],\n",
       " ['mean_dist_to_nearest_7_comp_plaace_2', -0.04426338912105793],\n",
       " ['sum_dist_to_nearest_7_comp_plaace_2', -0.04426338912105783],\n",
       " ['sum_dist_to_nearest_1_comp_plaace_3', -0.044001386335224636],\n",
       " ['mean_dist_to_nearest_1_comp_plaace_3', -0.044001386335224636],\n",
       " ['mean_dist_to_nearest_5_comp_plaace_4', -0.0435168205571478],\n",
       " ['sum_dist_to_nearest_5_comp_plaace_4', -0.04351682055714766],\n",
       " ['mean_dist_to_nearest_5_comp_plaace_3', -0.04330564487111804],\n",
       " ['sum_dist_to_nearest_5_comp_plaace_3', -0.04330564487111778],\n",
       " ['sum_dist_to_nearest_7_comp_plaace_4', -0.040513213030190835],\n",
       " ['mean_dist_to_nearest_7_comp_plaace_4', -0.04051321303019071],\n",
       " ['mean_dist_to_nearest_7_comp_plaace_3', -0.0402164398368945],\n",
       " ['sum_dist_to_nearest_7_comp_plaace_3', -0.04021643983689446],\n",
       " ['mean_dist_to_nearest_10_comp_plaace_2', -0.037562041930660026],\n",
       " ['sum_dist_to_nearest_10_comp_plaace_2', -0.03756204193065986],\n",
       " ['sum_dist_to_nearest_10_comp_plaace_4', -0.03752372911184492],\n",
       " ['mean_dist_to_nearest_10_comp_plaace_4', -0.03752372911184472],\n",
       " ['sum_dist_to_nearest_10_comp_plaace_3', -0.03681654472671399],\n",
       " ['mean_dist_to_nearest_10_comp_plaace_3', -0.03681654472671384]]"
      ]
     },
     "execution_count": 485,
     "metadata": {},
     "output_type": "execute_result"
    }
   ],
   "source": [
    "dist_dict = store_dataframes[\"train\"][['log_revenue'] + comp_plaace_cols].corr().iloc[0].to_dict()\n",
    "sorted_relevant_dist_cols = [[k, v] for k, v in sorted(dist_dict.items(), key=lambda item: abs(item[1]), reverse=True)]\n",
    "sorted_relevant_dist_cols"
   ]
  },
  {
   "cell_type": "code",
   "execution_count": 486,
   "metadata": {},
   "outputs": [],
   "source": [
    "comp_relevant_cols = sorted_relevant_dist_cols[1:14:2]\n",
    "comp_relevant_cols = [r[0] for r in comp_relevant_cols]"
   ]
  },
  {
   "cell_type": "code",
   "execution_count": 487,
   "metadata": {},
   "outputs": [
    {
     "data": {
      "text/plain": [
       "['sum_dist_to_nearest_10_comp_plaace_1',\n",
       " 'mean_dist_to_nearest_7_comp_plaace_1',\n",
       " 'sum_dist_to_nearest_5_comp_plaace_1',\n",
       " 'sum_dist_to_nearest_4_comp_plaace_1',\n",
       " 'sum_dist_to_nearest_3_comp_plaace_1',\n",
       " 'sum_dist_to_nearest_2_comp_plaace_1',\n",
       " 'sum_dist_to_nearest_1_comp_plaace_1']"
      ]
     },
     "execution_count": 487,
     "metadata": {},
     "output_type": "execute_result"
    }
   ],
   "source": [
    "comp_relevant_cols"
   ]
  },
  {
   "cell_type": "markdown",
   "metadata": {},
   "source": [
    "!NB next cell takes 15 minutes to run. Grab a coffee or somtething while you wait :) (on M1 Mac with 16GB RAM)\n",
    "\n",
    "If you have the .csv files temp_data/closest_bus_stop_\\{df_name\\}, skip running this cell and run the cell below it instead"
   ]
  },
  {
   "cell_type": "code",
   "execution_count": 488,
   "metadata": {},
   "outputs": [
    {
     "name": "stderr",
     "output_type": "stream",
     "text": [
      "100%|██████████| 4/4 [1:12:41<00:00, 1090.36s/it]  \n"
     ]
    }
   ],
   "source": [
    "from bus_utils import find_closest_bus_stop\n",
    "\n",
    "bus_stop_n = [1, 3, 5, 7]\n",
    "bus_mean = True\n",
    "bus_sum = True\n",
    "\n",
    "bus_stop_columns = []\n",
    "\n",
    "if(bus_sum):\n",
    "    bus_stop_columns += [f\"closest_bus_stop_sum_{i}\" for i in bus_stop_n]\n",
    "\n",
    "if(bus_mean):\n",
    "    bus_stop_columns += [f\"closest_bus_stop_mean_{i}\" for i in bus_stop_n]\n",
    "\n",
    "\n",
    "for df_name, df in tqdm(store_dataframes.items()):\n",
    "    store_dataframes[df_name] = find_closest_bus_stop(df, bus_stop_n, _sum=bus_sum, _mean=bus_mean)    "
   ]
  },
  {
   "cell_type": "code",
   "execution_count": 489,
   "metadata": {},
   "outputs": [
    {
     "data": {
      "text/plain": [
       "[['log_revenue', 1.0],\n",
       " ['closest_bus_stop_mean_7', -0.04357740220925073],\n",
       " ['closest_bus_stop_sum_7', -0.04357740220925051],\n",
       " ['closest_bus_stop_mean_5', -0.04101326738679946],\n",
       " ['closest_bus_stop_sum_5', -0.04101326738679933],\n",
       " ['closest_bus_stop_sum_3', -0.03871598741831423],\n",
       " ['closest_bus_stop_mean_3', -0.03871598741831408],\n",
       " ['closest_bus_stop_sum_1', -0.031865730956687065],\n",
       " ['closest_bus_stop_mean_1', -0.031865730956687065]]"
      ]
     },
     "execution_count": 489,
     "metadata": {},
     "output_type": "execute_result"
    }
   ],
   "source": [
    "bus_dict = store_dataframes[\"train\"][['log_revenue'] + bus_stop_columns].corr().iloc[0].to_dict()\n",
    "bus_sorted_relevant_dist_cols = [[k, v] for k, v in sorted(bus_dict.items(), key=lambda item: abs(item[1]), reverse=True)]\n",
    "bus_sorted_relevant_dist_cols"
   ]
  },
  {
   "cell_type": "code",
   "execution_count": 490,
   "metadata": {},
   "outputs": [],
   "source": [
    "bus_relevant_cols = bus_sorted_relevant_dist_cols[1:9:2]\n",
    "bus_relevant_cols = [r[0] for r in bus_relevant_cols]"
   ]
  },
  {
   "cell_type": "code",
   "execution_count": 491,
   "metadata": {},
   "outputs": [
    {
     "data": {
      "text/plain": [
       "['closest_bus_stop_mean_7',\n",
       " 'closest_bus_stop_mean_5',\n",
       " 'closest_bus_stop_sum_3',\n",
       " 'closest_bus_stop_sum_1']"
      ]
     },
     "execution_count": 491,
     "metadata": {},
     "output_type": "execute_result"
    }
   ],
   "source": [
    "bus_relevant_cols"
   ]
  },
  {
   "cell_type": "code",
   "execution_count": 492,
   "metadata": {},
   "outputs": [
    {
     "name": "stderr",
     "output_type": "stream",
     "text": [
      " 75%|███████▌  | 3/4 [00:24<00:07,  7.81s/it]/Users/oskarjor/NTNU/2022FALL/TDT4173/TDT4173/grunnkrets.py:105: PerformanceWarning: DataFrame is highly fragmented.  This is usually the result of calling `frame.insert` many times, which has poor performance.  Consider joining all columns at once using pd.concat(axis=1) instead. To get a de-fragmented frame, use `newframe = frame.copy()`\n",
      "  full_population_df[f'{level}.pop_density_log'] = np.log1p(full_population_df[f'{level}.pop_density'])\n",
      "/Users/oskarjor/NTNU/2022FALL/TDT4173/TDT4173/grunnkrets.py:104: PerformanceWarning: DataFrame is highly fragmented.  This is usually the result of calling `frame.insert` many times, which has poor performance.  Consider joining all columns at once using pd.concat(axis=1) instead. To get a de-fragmented frame, use `newframe = frame.copy()`\n",
      "  full_population_df[f'{level}.pop_density'] = full_population_df[f'{level}.tot_pop']/full_population_df[f'{level}.area_km2']\n",
      "/Users/oskarjor/NTNU/2022FALL/TDT4173/TDT4173/grunnkrets.py:105: PerformanceWarning: DataFrame is highly fragmented.  This is usually the result of calling `frame.insert` many times, which has poor performance.  Consider joining all columns at once using pd.concat(axis=1) instead. To get a de-fragmented frame, use `newframe = frame.copy()`\n",
      "  full_population_df[f'{level}.pop_density_log'] = np.log1p(full_population_df[f'{level}.pop_density'])\n",
      "100%|██████████| 4/4 [00:26<00:00,  6.60s/it]\n"
     ]
    }
   ],
   "source": [
    "from grunnkrets import make_grunnkrets_df\n",
    "\n",
    "full_population_dataframes = {}\n",
    "full_pop_columns = []\n",
    "\n",
    "for df_name, df in tqdm(store_dataframes.items()):\n",
    "    full_population_dataframes[df_name] = make_grunnkrets_df(df)\n",
    "    full_pop_columns = full_population_dataframes[df_name].columns"
   ]
  },
  {
   "cell_type": "code",
   "execution_count": 493,
   "metadata": {},
   "outputs": [],
   "source": [
    "full_pop_columns = list(full_pop_columns[-184:])"
   ]
  },
  {
   "cell_type": "code",
   "execution_count": 494,
   "metadata": {},
   "outputs": [],
   "source": [
    "for df_name, df in store_dataframes.items():\n",
    "    store_dataframes[df_name] = df.merge(\n",
    "        full_population_dataframes[df_name], \n",
    "        left_index=True,\n",
    "        right_index=True,\n",
    "        how=\"outer\", \n",
    "        suffixes=('', '_redundant')\n",
    "    )\n",
    "    store_dataframes[df_name].drop(store_dataframes[df_name].filter(regex='_redundant$').columns, axis=1, inplace=True)"
   ]
  },
  {
   "cell_type": "code",
   "execution_count": 495,
   "metadata": {},
   "outputs": [
    {
     "data": {
      "text/plain": [
       "[['log_revenue', 1.0],\n",
       " ['grunnkrets_id.income_density', -0.045215448175719486],\n",
       " ['kommune.c_age_19-30_ratio', 0.04472970219247787],\n",
       " ['delomrade.mean_age', -0.042862752871162244],\n",
       " ['grunnkrets_id.pop_density', -0.0424516238143989],\n",
       " ['delomrade.c_age_56-90_ratio', -0.04160424303133776],\n",
       " ['delomrade.c_age_19-30_ratio', 0.040181313913752716],\n",
       " ['grunnkrets_id.c_age_19-30_ratio', 0.03751481046775187],\n",
       " ['kommune.mean_age', -0.031377899056215804],\n",
       " ['kommune.c_age_56-90_ratio', -0.029925231776778072],\n",
       " ['grunnkrets_id.income_density_log', -0.029019830465243063],\n",
       " ['grunnkrets_id.pop_density_log', -0.026966666588406994],\n",
       " ['grunnkrets_id.tot_pop_log', 0.026369164197539173],\n",
       " ['grunnkrets_id.total_income_log', 0.023533902577560918],\n",
       " ['fylke.couple_with_children_income', -0.023220318307684916],\n",
       " ['grunnkrets_id.c_age_56-90_ratio', -0.021586672144664712],\n",
       " ['kommune.tot_pop_log', 0.01983545484580259],\n",
       " ['kommune.total_income_log', 0.019724976569824165],\n",
       " ['fylke.single_parent_with_children_income', -0.018576568225339256],\n",
       " ['fylke.couple_without_children_income', -0.018517517847867388],\n",
       " ['grunnkrets_id.mean_age', -0.017925963201420453],\n",
       " ['fylke.c_age_19-30_ratio', 0.01720772274253954],\n",
       " ['fylke.all_households_income', -0.017163541769699205],\n",
       " ['grunnkrets_id.c_age_0-18_ratio', -0.01687045569166372],\n",
       " ['kommune.area_km2', 0.016750166527786527],\n",
       " ['grunnkrets_id.singles_income', 0.016111673320407652],\n",
       " ['delomrade.singles_income', 0.016102334783845842],\n",
       " ['fylke.single_parent_children_6_to_17_years', -0.01595586866532953],\n",
       " ['fylke.age_49-55', -0.015248122155389966],\n",
       " ['fylke.age_70-76', -0.015205757655780843],\n",
       " ['fylke.couple_children_6_to_17_years', -0.01504443428442641],\n",
       " ['delomrade.tot_pop_log', 0.014902207099220277],\n",
       " ['fylke.age_42-48', -0.014254812595295386],\n",
       " ['delomrade.c_age_31-55_ratio', 0.0141279514998151],\n",
       " ['fylke.age_7-13', -0.013998454191327912],\n",
       " ['fylke.age_63-69', -0.013900052366097367],\n",
       " ['fylke.c_age_56-90', -0.01361188176600343],\n",
       " ['delomrade.income_density', -0.013610068328997306],\n",
       " ['kommune.singles_income', 0.013553674492136226],\n",
       " ['fylke.age_56-62', -0.013454628352134334],\n",
       " ['fylke.total_income', -0.013424810327736198],\n",
       " ['fylke.age_14-20', -0.013144292613578098],\n",
       " ['fylke.c_age_0-18', -0.012966025972321576],\n",
       " ['fylke.total_income_log', -0.0128648356094441],\n",
       " ['fylke.couple_children_18_or_above', -0.012796965518096871],\n",
       " ['delomrade.age_70-76', -0.012762136323760078],\n",
       " ['fylke.c_age_0-18_ratio', -0.012511245882060438],\n",
       " ['fylke.age_77-83', -0.012451898727659281],\n",
       " ['delomrade.total_income_log', 0.012367704091090666],\n",
       " ['fylke.single_parent_children_18_or_above', -0.012019915508990975],\n",
       " ['fylke.single_parent_children_0_to_5_years', -0.01169517156217727],\n",
       " ['fylke.tot_pop_log', -0.011688031565502277],\n",
       " ['delomrade.pop_density', -0.011554151980120324],\n",
       " ['grunnkrets_id.all_households_income', -0.011316068467750963],\n",
       " ['delomrade.all_households_income', -0.011315045274237838],\n",
       " ['fylke.c_age_31-55', -0.011206379813082314],\n",
       " ['delomrade.single_parent_children_0_to_5_years', -0.011122554031389191],\n",
       " ['delomrade.age_77-83', -0.011017347807235704],\n",
       " ['fylke.tot_pop', -0.010923829991265203],\n",
       " ['fylke.age_0-6', -0.010793998428128431],\n",
       " ['fylke.tot_household', -0.010695704792970469],\n",
       " ['fylke.singles_income', -0.010518688717285276],\n",
       " ['fylke.age_84-90', -0.010471950114978203],\n",
       " ['fylke.couple_children_0_to_5_years', -0.010400999335144837],\n",
       " ['delomrade.age_63-69', -0.010374955331684636],\n",
       " ['delomrade.c_age_56-90', -0.01033196959647268],\n",
       " ['fylke.c_age_31-55_ratio', -0.009991446869739004],\n",
       " ['fylke.couple_without_children', -0.009808442457829426],\n",
       " ['delomrade.age_7-13', -0.009749952540705157],\n",
       " ['delomrade.age_84-90', -0.009696931787964743],\n",
       " ['delomrade.age_49-55', -0.009647230721806099],\n",
       " ['delomrade.couple_children_6_to_17_years', -0.009628366082394783],\n",
       " ['delomrade.age_42-48', -0.009567117035603638],\n",
       " ['delomrade.c_age_0-18', -0.009559559057837558],\n",
       " ['fylke.age_35-41', -0.009507295536686559],\n",
       " ['kommune.c_age_31-55_ratio', 0.009391148485365444],\n",
       " ['kommune.pop_density_log', 0.009273794289772173],\n",
       " ['delomrade.couple_children_0_to_5_years', -0.009221295978142646],\n",
       " ['delomrade.age_0-6', -0.009197176313093993],\n",
       " ['delomrade.couple_children_18_or_above', -0.009163215338745943],\n",
       " ['kommune.all_households_income', -0.00912343383419215],\n",
       " ['kommune.income_density_log', 0.009088480167139087],\n",
       " ['delomrade.c_age_0-18_ratio', -0.008768388754302154],\n",
       " ['delomrade.age_56-62', -0.00846112214917754],\n",
       " ['delomrade.total_income', -0.008457645808340191],\n",
       " ['delomrade.c_age_31-55', -0.008440612885152913],\n",
       " ['kommune.other_households_income', -0.008141279732330677],\n",
       " ['delomrade.age_35-41', -0.0081034657391781],\n",
       " ['delomrade.single_parent_children_6_to_17_years', -0.008099743195801916],\n",
       " ['delomrade.tot_pop', -0.007865157790055102],\n",
       " ['delomrade.age_14-20', -0.007625952778719225],\n",
       " ['delomrade.tot_household', -0.007496067440889437],\n",
       " ['delomrade.single_parent_children_18_or_above', -0.007356151132154014],\n",
       " ['delomrade.area_km2', -0.0070233932049777],\n",
       " ['delomrade.couple_without_children', -0.005676026159708259],\n",
       " ['kommune.couple_with_children_income', -0.005568487369127574],\n",
       " ['fylke.other_households_income', -0.005549959148131661],\n",
       " ['fylke.singles', -0.005524925548494424],\n",
       " ['delomrade.age_28-34', -0.005521936168041854],\n",
       " ['fylke.area_km2', -0.005415809631749707],\n",
       " ['fylke.income_density_log', -0.005237476826189251],\n",
       " ['kommune.couple_children_18_or_above', 0.005165453630270302],\n",
       " ['delomrade.singles', -0.005079972932330762],\n",
       " ['delomrade.pop_density_log', 0.005037404728777645],\n",
       " ['fylke.age_28-34', -0.0049175702629859165],\n",
       " ['grunnkrets_id.couple_without_children_income', -0.004911449867087594],\n",
       " ['delomrade.couple_without_children_income', -0.0049103905270635375],\n",
       " ['fylke.income_density', -0.004907073139289868],\n",
       " ['delomrade.couple_with_children_income', -0.004817518799895086],\n",
       " ['grunnkrets_id.couple_with_children_income', -0.004811514140580456],\n",
       " ['delomrade.single_parent_with_children_income', 0.0046577586122666],\n",
       " ['grunnkrets_id.single_parent_with_children_income', 0.004654230459835428],\n",
       " ['fylke.c_age_19-30', -0.004591497940744995],\n",
       " ['kommune.age_14-20', 0.0045142191198303495],\n",
       " ['fylke.pop_density', -0.004493745247263941],\n",
       " ['fylke.pop_density_log', -0.004256929320674979],\n",
       " ['kommune.couple_without_children', 0.004238903437829375],\n",
       " ['delomrade.income_density_log', 0.004201503296927695],\n",
       " ['kommune.couple_children_6_to_17_years', 0.004153741017915511],\n",
       " ['kommune.age_21-27', 0.00391000342334479],\n",
       " ['fylke.age_21-27', -0.003893472293504446],\n",
       " ['kommune.c_age_0-18_ratio', -0.003779414147154684],\n",
       " ['delomrade.other_households_income', -0.0036668810456349636],\n",
       " ['grunnkrets_id.other_households_income', -0.0036622149020696065],\n",
       " ['kommune.age_63-69', 0.003656739638295557],\n",
       " ['kommune.age_56-62', 0.0035422253864151594],\n",
       " ['kommune.single_parent_children_18_or_above', 0.0035311654006515286],\n",
       " ['kommune.age_70-76', 0.0035293997270886544],\n",
       " ['kommune.c_age_56-90', 0.0035083101836254093],\n",
       " ['kommune.total_income', 0.003420804408996295],\n",
       " ['kommune.age_77-83', 0.0034008774485984146],\n",
       " ['kommune.c_age_19-30', 0.003375530697557036],\n",
       " ['grunnkrets_id.single_parent_children_0_to_5_years', -0.003336669463881983],\n",
       " ['kommune.couple_without_children_income', -0.003188744856891093],\n",
       " ['kommune.tot_household', 0.003177144036293172],\n",
       " ['kommune.age_7-13', 0.0031080007539325185],\n",
       " ['kommune.c_age_0-18', 0.0029477870617073986],\n",
       " ['kommune.age_84-90', 0.0029458438729729397],\n",
       " ['kommune.age_49-55', 0.00286710703182403],\n",
       " ['kommune.tot_pop', 0.002812696594081984],\n",
       " ['grunnkrets_id.area_km2', 0.0028122311059536513],\n",
       " ['grunnkrets_id.c_age_31-55_ratio', 0.002755007437003077],\n",
       " ['kommune.single_parent_children_6_to_17_years', 0.002656317177517177],\n",
       " ['kommune.couple_children_0_to_5_years', 0.0025841490508534833],\n",
       " ['kommune.age_42-48', 0.0024559813888203963],\n",
       " ['kommune.age_0-6', 0.002266893081067869],\n",
       " ['delomrade.c_age_19-30', -0.0022637208904970887],\n",
       " ['kommune.singles', 0.002235237823654127],\n",
       " ['kommune.single_parent_with_children_income', 0.0021135181769556493],\n",
       " ['kommune.c_age_31-55', 0.002057319988196301],\n",
       " ['kommune.age_35-41', 0.001700985905993136],\n",
       " ['kommune.age_28-34', 0.0015732340033997759],\n",
       " ['grunnkrets_id.couple_children_18_or_above', 0.0015696173519715872],\n",
       " ['grunnkrets_id.age_14-20', 0.0015418587011341593],\n",
       " ['kommune.income_density', -0.001443826036772372],\n",
       " ['grunnkrets_id.age_0-6', -0.001321538971656211],\n",
       " ['grunnkrets_id.age_35-41', -0.0012902966167651585],\n",
       " ['grunnkrets_id.age_28-34', -0.0012660218081269803],\n",
       " ['grunnkrets_id.age_70-76', -0.0011232604714020912],\n",
       " ['grunnkrets_id.age_21-27', 0.0010715782297744982],\n",
       " ['grunnkrets_id.couple_children_0_to_5_years', -0.0010634055870126415],\n",
       " ['kommune.pop_density', -0.0008579005179276216],\n",
       " ['delomrade.age_21-27', -0.0008567036863940349],\n",
       " ['grunnkrets_id.c_age_31-55', -0.0008528739758809324],\n",
       " ['grunnkrets_id.single_parent_children_18_or_above', 0.0008326925414892894],\n",
       " ['grunnkrets_id.couple_children_6_to_17_years', 0.0007824167632066354],\n",
       " ['fylke.mean_age', -0.0007524855966710867],\n",
       " ['grunnkrets_id.age_63-69', -0.0006258746393422447],\n",
       " ['grunnkrets_id.c_age_19-30', 0.0005295129082775263],\n",
       " ['grunnkrets_id.age_56-62', 0.0005286044383320289],\n",
       " ['grunnkrets_id.age_42-48', -0.0005156439309238465],\n",
       " ['kommune.single_parent_children_0_to_5_years', -0.00048585640155652003],\n",
       " ['grunnkrets_id.singles', -0.0004559391030989483],\n",
       " ['fylke.c_age_56-90_ratio', 0.0004356826445660541],\n",
       " ['grunnkrets_id.c_age_0-18', -0.0004075608136157644],\n",
       " ['grunnkrets_id.age_84-90', 0.0003372357610420419],\n",
       " ['grunnkrets_id.tot_pop', -0.00033670619800211577],\n",
       " ['grunnkrets_id.age_7-13', -0.0001984930627991622],\n",
       " ['grunnkrets_id.couple_without_children', 0.00019156119277399583],\n",
       " ['grunnkrets_id.c_age_56-90', -0.00018445452087622116],\n",
       " ['grunnkrets_id.total_income', 0.00016854854645798997],\n",
       " ['grunnkrets_id.tot_household', -0.00015966633129857062],\n",
       " ['grunnkrets_id.single_parent_children_6_to_17_years', -0.000146965511962466],\n",
       " ['grunnkrets_id.age_77-83', 0.0001398932868505693],\n",
       " ['grunnkrets_id.age_49-55', 9.672469513661e-05]]"
      ]
     },
     "execution_count": 495,
     "metadata": {},
     "output_type": "execute_result"
    }
   ],
   "source": [
    "full_pop_dict = store_dataframes[\"train\"][['log_revenue'] + full_pop_columns].corr().iloc[0].to_dict()\n",
    "full_pop_sorted_relevant_dist_cols = [[k, v] for k, v in sorted(full_pop_dict.items(), key=lambda item: abs(item[1]), reverse=True)]\n",
    "full_pop_sorted_relevant_dist_cols"
   ]
  },
  {
   "cell_type": "code",
   "execution_count": 496,
   "metadata": {},
   "outputs": [],
   "source": [
    "full_pop_relevant_cols = full_pop_sorted_relevant_dist_cols[1:8]\n",
    "full_pop_relevant_cols = [r[0] for r in full_pop_relevant_cols]"
   ]
  },
  {
   "cell_type": "code",
   "execution_count": 497,
   "metadata": {},
   "outputs": [
    {
     "data": {
      "text/plain": [
       "['grunnkrets_id.income_density',\n",
       " 'kommune.c_age_19-30_ratio',\n",
       " 'delomrade.mean_age',\n",
       " 'grunnkrets_id.pop_density',\n",
       " 'delomrade.c_age_56-90_ratio',\n",
       " 'delomrade.c_age_19-30_ratio',\n",
       " 'grunnkrets_id.c_age_19-30_ratio']"
      ]
     },
     "execution_count": 497,
     "metadata": {},
     "output_type": "execute_result"
    }
   ],
   "source": [
    "full_pop_relevant_cols"
   ]
  },
  {
   "cell_type": "code",
   "execution_count": 498,
   "metadata": {},
   "outputs": [],
   "source": [
    "fylke_relevant_features = [col_name for col_name in store_dataframes[\"train\"].columns if col_name.startswith(\"fylke.\")]\n",
    "kommune_relevant_features = [col_name for col_name in store_dataframes[\"train\"].columns if col_name.startswith(\"kommune.\")]\n",
    "delomrade_relevant_features = [col_name for col_name in store_dataframes[\"train\"].columns if col_name.startswith(\"delomrade.\")]\n",
    "grunnkrets_relevant_features = [col_name for col_name in store_dataframes[\"train\"].columns if col_name.startswith(\"grunnkrets_id.\")]"
   ]
  },
  {
   "cell_type": "code",
   "execution_count": 499,
   "metadata": {},
   "outputs": [],
   "source": [
    "from utils import mean_func_rev, generate_rev_dict\n",
    "\n",
    "for i in range(1, 5):\n",
    "    rev_dict, mean_revenue = generate_rev_dict(stores_train, i)\n",
    "    for df_name, df in store_dataframes.items():\n",
    "        df[\"mean_revenue_\" + str(i)] = df[\"plaace_cat_\" + str(i)].apply(lambda x: mean_func_rev(x, rev_dict, mean_revenue))\n",
    "        df[\"log_mean_revenue_\" + str(i)] = df[\"mean_revenue_\" + str(i)].apply(lambda x: np.log1p(x))"
   ]
  },
  {
   "cell_type": "code",
   "execution_count": 500,
   "metadata": {},
   "outputs": [
    {
     "name": "stderr",
     "output_type": "stream",
     "text": [
      "/Users/oskarjor/NTNU/2022FALL/TDT4173/TDT4173/num_stores.py:19: FutureWarning: The default value of numeric_only in DataFrameGroupBy.sum is deprecated. In a future version, numeric_only will default to False. Either specify numeric_only or select only columns which should be valid for the function.\n",
      "  grouped = geo_df.groupby([ level , cat]).sum()['count'].to_frame()\n",
      "/Users/oskarjor/NTNU/2022FALL/TDT4173/TDT4173/num_stores.py:19: FutureWarning: The default value of numeric_only in DataFrameGroupBy.sum is deprecated. In a future version, numeric_only will default to False. Either specify numeric_only or select only columns which should be valid for the function.\n",
      "  grouped = geo_df.groupby([ level , cat]).sum()['count'].to_frame()\n",
      "/Users/oskarjor/NTNU/2022FALL/TDT4173/TDT4173/num_stores.py:19: FutureWarning: The default value of numeric_only in DataFrameGroupBy.sum is deprecated. In a future version, numeric_only will default to False. Either specify numeric_only or select only columns which should be valid for the function.\n",
      "  grouped = geo_df.groupby([ level , cat]).sum()['count'].to_frame()\n",
      "/Users/oskarjor/NTNU/2022FALL/TDT4173/TDT4173/num_stores.py:19: FutureWarning: The default value of numeric_only in DataFrameGroupBy.sum is deprecated. In a future version, numeric_only will default to False. Either specify numeric_only or select only columns which should be valid for the function.\n",
      "  grouped = geo_df.groupby([ level , cat]).sum()['count'].to_frame()\n",
      "/Users/oskarjor/NTNU/2022FALL/TDT4173/TDT4173/num_stores.py:19: FutureWarning: The default value of numeric_only in DataFrameGroupBy.sum is deprecated. In a future version, numeric_only will default to False. Either specify numeric_only or select only columns which should be valid for the function.\n",
      "  grouped = geo_df.groupby([ level , cat]).sum()['count'].to_frame()\n",
      "/Users/oskarjor/NTNU/2022FALL/TDT4173/TDT4173/num_stores.py:19: FutureWarning: The default value of numeric_only in DataFrameGroupBy.sum is deprecated. In a future version, numeric_only will default to False. Either specify numeric_only or select only columns which should be valid for the function.\n",
      "  grouped = geo_df.groupby([ level , cat]).sum()['count'].to_frame()\n",
      "/Users/oskarjor/NTNU/2022FALL/TDT4173/TDT4173/num_stores.py:19: FutureWarning: The default value of numeric_only in DataFrameGroupBy.sum is deprecated. In a future version, numeric_only will default to False. Either specify numeric_only or select only columns which should be valid for the function.\n",
      "  grouped = geo_df.groupby([ level , cat]).sum()['count'].to_frame()\n",
      "/Users/oskarjor/NTNU/2022FALL/TDT4173/TDT4173/num_stores.py:19: FutureWarning: The default value of numeric_only in DataFrameGroupBy.sum is deprecated. In a future version, numeric_only will default to False. Either specify numeric_only or select only columns which should be valid for the function.\n",
      "  grouped = geo_df.groupby([ level , cat]).sum()['count'].to_frame()\n",
      "/Users/oskarjor/NTNU/2022FALL/TDT4173/TDT4173/num_stores.py:19: FutureWarning: The default value of numeric_only in DataFrameGroupBy.sum is deprecated. In a future version, numeric_only will default to False. Either specify numeric_only or select only columns which should be valid for the function.\n",
      "  grouped = geo_df.groupby([ level , cat]).sum()['count'].to_frame()\n",
      "/Users/oskarjor/NTNU/2022FALL/TDT4173/TDT4173/num_stores.py:19: FutureWarning: The default value of numeric_only in DataFrameGroupBy.sum is deprecated. In a future version, numeric_only will default to False. Either specify numeric_only or select only columns which should be valid for the function.\n",
      "  grouped = geo_df.groupby([ level , cat]).sum()['count'].to_frame()\n",
      "/Users/oskarjor/NTNU/2022FALL/TDT4173/TDT4173/num_stores.py:19: FutureWarning: The default value of numeric_only in DataFrameGroupBy.sum is deprecated. In a future version, numeric_only will default to False. Either specify numeric_only or select only columns which should be valid for the function.\n",
      "  grouped = geo_df.groupby([ level , cat]).sum()['count'].to_frame()\n",
      "/Users/oskarjor/NTNU/2022FALL/TDT4173/TDT4173/num_stores.py:19: FutureWarning: The default value of numeric_only in DataFrameGroupBy.sum is deprecated. In a future version, numeric_only will default to False. Either specify numeric_only or select only columns which should be valid for the function.\n",
      "  grouped = geo_df.groupby([ level , cat]).sum()['count'].to_frame()\n",
      "/Users/oskarjor/NTNU/2022FALL/TDT4173/TDT4173/num_stores.py:19: FutureWarning: The default value of numeric_only in DataFrameGroupBy.sum is deprecated. In a future version, numeric_only will default to False. Either specify numeric_only or select only columns which should be valid for the function.\n",
      "  grouped = geo_df.groupby([ level , cat]).sum()['count'].to_frame()\n",
      "/Users/oskarjor/NTNU/2022FALL/TDT4173/TDT4173/num_stores.py:19: FutureWarning: The default value of numeric_only in DataFrameGroupBy.sum is deprecated. In a future version, numeric_only will default to False. Either specify numeric_only or select only columns which should be valid for the function.\n",
      "  grouped = geo_df.groupby([ level , cat]).sum()['count'].to_frame()\n",
      "/Users/oskarjor/NTNU/2022FALL/TDT4173/TDT4173/num_stores.py:19: FutureWarning: The default value of numeric_only in DataFrameGroupBy.sum is deprecated. In a future version, numeric_only will default to False. Either specify numeric_only or select only columns which should be valid for the function.\n",
      "  grouped = geo_df.groupby([ level , cat]).sum()['count'].to_frame()\n",
      "/Users/oskarjor/NTNU/2022FALL/TDT4173/TDT4173/num_stores.py:19: FutureWarning: The default value of numeric_only in DataFrameGroupBy.sum is deprecated. In a future version, numeric_only will default to False. Either specify numeric_only or select only columns which should be valid for the function.\n",
      "  grouped = geo_df.groupby([ level , cat]).sum()['count'].to_frame()\n",
      "/Users/oskarjor/NTNU/2022FALL/TDT4173/TDT4173/num_stores.py:19: FutureWarning: The default value of numeric_only in DataFrameGroupBy.sum is deprecated. In a future version, numeric_only will default to False. Either specify numeric_only or select only columns which should be valid for the function.\n",
      "  grouped = geo_df.groupby([ level , cat]).sum()['count'].to_frame()\n",
      "/Users/oskarjor/NTNU/2022FALL/TDT4173/TDT4173/num_stores.py:19: FutureWarning: The default value of numeric_only in DataFrameGroupBy.sum is deprecated. In a future version, numeric_only will default to False. Either specify numeric_only or select only columns which should be valid for the function.\n",
      "  grouped = geo_df.groupby([ level , cat]).sum()['count'].to_frame()\n",
      "/Users/oskarjor/NTNU/2022FALL/TDT4173/TDT4173/num_stores.py:19: FutureWarning: The default value of numeric_only in DataFrameGroupBy.sum is deprecated. In a future version, numeric_only will default to False. Either specify numeric_only or select only columns which should be valid for the function.\n",
      "  grouped = geo_df.groupby([ level , cat]).sum()['count'].to_frame()\n",
      "/Users/oskarjor/NTNU/2022FALL/TDT4173/TDT4173/num_stores.py:19: FutureWarning: The default value of numeric_only in DataFrameGroupBy.sum is deprecated. In a future version, numeric_only will default to False. Either specify numeric_only or select only columns which should be valid for the function.\n",
      "  grouped = geo_df.groupby([ level , cat]).sum()['count'].to_frame()\n",
      "/Users/oskarjor/NTNU/2022FALL/TDT4173/TDT4173/num_stores.py:19: FutureWarning: The default value of numeric_only in DataFrameGroupBy.sum is deprecated. In a future version, numeric_only will default to False. Either specify numeric_only or select only columns which should be valid for the function.\n",
      "  grouped = geo_df.groupby([ level , cat]).sum()['count'].to_frame()\n",
      "/Users/oskarjor/NTNU/2022FALL/TDT4173/TDT4173/num_stores.py:19: FutureWarning: The default value of numeric_only in DataFrameGroupBy.sum is deprecated. In a future version, numeric_only will default to False. Either specify numeric_only or select only columns which should be valid for the function.\n",
      "  grouped = geo_df.groupby([ level , cat]).sum()['count'].to_frame()\n",
      "/Users/oskarjor/NTNU/2022FALL/TDT4173/TDT4173/num_stores.py:19: FutureWarning: The default value of numeric_only in DataFrameGroupBy.sum is deprecated. In a future version, numeric_only will default to False. Either specify numeric_only or select only columns which should be valid for the function.\n",
      "  grouped = geo_df.groupby([ level , cat]).sum()['count'].to_frame()\n",
      "/Users/oskarjor/NTNU/2022FALL/TDT4173/TDT4173/num_stores.py:19: FutureWarning: The default value of numeric_only in DataFrameGroupBy.sum is deprecated. In a future version, numeric_only will default to False. Either specify numeric_only or select only columns which should be valid for the function.\n",
      "  grouped = geo_df.groupby([ level , cat]).sum()['count'].to_frame()\n",
      "/Users/oskarjor/NTNU/2022FALL/TDT4173/TDT4173/num_stores.py:19: FutureWarning: The default value of numeric_only in DataFrameGroupBy.sum is deprecated. In a future version, numeric_only will default to False. Either specify numeric_only or select only columns which should be valid for the function.\n",
      "  grouped = geo_df.groupby([ level , cat]).sum()['count'].to_frame()\n",
      "/Users/oskarjor/NTNU/2022FALL/TDT4173/TDT4173/num_stores.py:19: FutureWarning: The default value of numeric_only in DataFrameGroupBy.sum is deprecated. In a future version, numeric_only will default to False. Either specify numeric_only or select only columns which should be valid for the function.\n",
      "  grouped = geo_df.groupby([ level , cat]).sum()['count'].to_frame()\n",
      "/Users/oskarjor/NTNU/2022FALL/TDT4173/TDT4173/num_stores.py:19: FutureWarning: The default value of numeric_only in DataFrameGroupBy.sum is deprecated. In a future version, numeric_only will default to False. Either specify numeric_only or select only columns which should be valid for the function.\n",
      "  grouped = geo_df.groupby([ level , cat]).sum()['count'].to_frame()\n",
      "/Users/oskarjor/NTNU/2022FALL/TDT4173/TDT4173/num_stores.py:19: FutureWarning: The default value of numeric_only in DataFrameGroupBy.sum is deprecated. In a future version, numeric_only will default to False. Either specify numeric_only or select only columns which should be valid for the function.\n",
      "  grouped = geo_df.groupby([ level , cat]).sum()['count'].to_frame()\n",
      "/Users/oskarjor/NTNU/2022FALL/TDT4173/TDT4173/num_stores.py:19: FutureWarning: The default value of numeric_only in DataFrameGroupBy.sum is deprecated. In a future version, numeric_only will default to False. Either specify numeric_only or select only columns which should be valid for the function.\n",
      "  grouped = geo_df.groupby([ level , cat]).sum()['count'].to_frame()\n",
      "/Users/oskarjor/NTNU/2022FALL/TDT4173/TDT4173/num_stores.py:19: FutureWarning: The default value of numeric_only in DataFrameGroupBy.sum is deprecated. In a future version, numeric_only will default to False. Either specify numeric_only or select only columns which should be valid for the function.\n",
      "  grouped = geo_df.groupby([ level , cat]).sum()['count'].to_frame()\n",
      "/Users/oskarjor/NTNU/2022FALL/TDT4173/TDT4173/num_stores.py:19: FutureWarning: The default value of numeric_only in DataFrameGroupBy.sum is deprecated. In a future version, numeric_only will default to False. Either specify numeric_only or select only columns which should be valid for the function.\n",
      "  grouped = geo_df.groupby([ level , cat]).sum()['count'].to_frame()\n",
      "/Users/oskarjor/NTNU/2022FALL/TDT4173/TDT4173/num_stores.py:19: FutureWarning: The default value of numeric_only in DataFrameGroupBy.sum is deprecated. In a future version, numeric_only will default to False. Either specify numeric_only or select only columns which should be valid for the function.\n",
      "  grouped = geo_df.groupby([ level , cat]).sum()['count'].to_frame()\n",
      "/Users/oskarjor/NTNU/2022FALL/TDT4173/TDT4173/num_stores.py:19: FutureWarning: The default value of numeric_only in DataFrameGroupBy.sum is deprecated. In a future version, numeric_only will default to False. Either specify numeric_only or select only columns which should be valid for the function.\n",
      "  grouped = geo_df.groupby([ level , cat]).sum()['count'].to_frame()\n",
      "/Users/oskarjor/NTNU/2022FALL/TDT4173/TDT4173/num_stores.py:19: FutureWarning: The default value of numeric_only in DataFrameGroupBy.sum is deprecated. In a future version, numeric_only will default to False. Either specify numeric_only or select only columns which should be valid for the function.\n",
      "  grouped = geo_df.groupby([ level , cat]).sum()['count'].to_frame()\n",
      "/Users/oskarjor/NTNU/2022FALL/TDT4173/TDT4173/num_stores.py:19: FutureWarning: The default value of numeric_only in DataFrameGroupBy.sum is deprecated. In a future version, numeric_only will default to False. Either specify numeric_only or select only columns which should be valid for the function.\n",
      "  grouped = geo_df.groupby([ level , cat]).sum()['count'].to_frame()\n",
      "/Users/oskarjor/NTNU/2022FALL/TDT4173/TDT4173/num_stores.py:19: FutureWarning: The default value of numeric_only in DataFrameGroupBy.sum is deprecated. In a future version, numeric_only will default to False. Either specify numeric_only or select only columns which should be valid for the function.\n",
      "  grouped = geo_df.groupby([ level , cat]).sum()['count'].to_frame()\n",
      "/Users/oskarjor/NTNU/2022FALL/TDT4173/TDT4173/num_stores.py:19: FutureWarning: The default value of numeric_only in DataFrameGroupBy.sum is deprecated. In a future version, numeric_only will default to False. Either specify numeric_only or select only columns which should be valid for the function.\n",
      "  grouped = geo_df.groupby([ level , cat]).sum()['count'].to_frame()\n",
      "/Users/oskarjor/NTNU/2022FALL/TDT4173/TDT4173/num_stores.py:19: FutureWarning: The default value of numeric_only in DataFrameGroupBy.sum is deprecated. In a future version, numeric_only will default to False. Either specify numeric_only or select only columns which should be valid for the function.\n",
      "  grouped = geo_df.groupby([ level , cat]).sum()['count'].to_frame()\n",
      "/Users/oskarjor/NTNU/2022FALL/TDT4173/TDT4173/num_stores.py:19: FutureWarning: The default value of numeric_only in DataFrameGroupBy.sum is deprecated. In a future version, numeric_only will default to False. Either specify numeric_only or select only columns which should be valid for the function.\n",
      "  grouped = geo_df.groupby([ level , cat]).sum()['count'].to_frame()\n",
      "/Users/oskarjor/NTNU/2022FALL/TDT4173/TDT4173/num_stores.py:19: FutureWarning: The default value of numeric_only in DataFrameGroupBy.sum is deprecated. In a future version, numeric_only will default to False. Either specify numeric_only or select only columns which should be valid for the function.\n",
      "  grouped = geo_df.groupby([ level , cat]).sum()['count'].to_frame()\n",
      "/Users/oskarjor/NTNU/2022FALL/TDT4173/TDT4173/num_stores.py:19: FutureWarning: The default value of numeric_only in DataFrameGroupBy.sum is deprecated. In a future version, numeric_only will default to False. Either specify numeric_only or select only columns which should be valid for the function.\n",
      "  grouped = geo_df.groupby([ level , cat]).sum()['count'].to_frame()\n",
      "/Users/oskarjor/NTNU/2022FALL/TDT4173/TDT4173/num_stores.py:19: FutureWarning: The default value of numeric_only in DataFrameGroupBy.sum is deprecated. In a future version, numeric_only will default to False. Either specify numeric_only or select only columns which should be valid for the function.\n",
      "  grouped = geo_df.groupby([ level , cat]).sum()['count'].to_frame()\n",
      "/Users/oskarjor/NTNU/2022FALL/TDT4173/TDT4173/num_stores.py:19: FutureWarning: The default value of numeric_only in DataFrameGroupBy.sum is deprecated. In a future version, numeric_only will default to False. Either specify numeric_only or select only columns which should be valid for the function.\n",
      "  grouped = geo_df.groupby([ level , cat]).sum()['count'].to_frame()\n",
      "/Users/oskarjor/NTNU/2022FALL/TDT4173/TDT4173/num_stores.py:19: FutureWarning: The default value of numeric_only in DataFrameGroupBy.sum is deprecated. In a future version, numeric_only will default to False. Either specify numeric_only or select only columns which should be valid for the function.\n",
      "  grouped = geo_df.groupby([ level , cat]).sum()['count'].to_frame()\n",
      "/Users/oskarjor/NTNU/2022FALL/TDT4173/TDT4173/num_stores.py:19: FutureWarning: The default value of numeric_only in DataFrameGroupBy.sum is deprecated. In a future version, numeric_only will default to False. Either specify numeric_only or select only columns which should be valid for the function.\n",
      "  grouped = geo_df.groupby([ level , cat]).sum()['count'].to_frame()\n",
      "/Users/oskarjor/NTNU/2022FALL/TDT4173/TDT4173/num_stores.py:19: FutureWarning: The default value of numeric_only in DataFrameGroupBy.sum is deprecated. In a future version, numeric_only will default to False. Either specify numeric_only or select only columns which should be valid for the function.\n",
      "  grouped = geo_df.groupby([ level , cat]).sum()['count'].to_frame()\n",
      "/Users/oskarjor/NTNU/2022FALL/TDT4173/TDT4173/num_stores.py:19: FutureWarning: The default value of numeric_only in DataFrameGroupBy.sum is deprecated. In a future version, numeric_only will default to False. Either specify numeric_only or select only columns which should be valid for the function.\n",
      "  grouped = geo_df.groupby([ level , cat]).sum()['count'].to_frame()\n",
      "/Users/oskarjor/NTNU/2022FALL/TDT4173/TDT4173/num_stores.py:19: FutureWarning: The default value of numeric_only in DataFrameGroupBy.sum is deprecated. In a future version, numeric_only will default to False. Either specify numeric_only or select only columns which should be valid for the function.\n",
      "  grouped = geo_df.groupby([ level , cat]).sum()['count'].to_frame()\n",
      "/Users/oskarjor/NTNU/2022FALL/TDT4173/TDT4173/num_stores.py:19: FutureWarning: The default value of numeric_only in DataFrameGroupBy.sum is deprecated. In a future version, numeric_only will default to False. Either specify numeric_only or select only columns which should be valid for the function.\n",
      "  grouped = geo_df.groupby([ level , cat]).sum()['count'].to_frame()\n",
      "/Users/oskarjor/NTNU/2022FALL/TDT4173/TDT4173/num_stores.py:19: FutureWarning: The default value of numeric_only in DataFrameGroupBy.sum is deprecated. In a future version, numeric_only will default to False. Either specify numeric_only or select only columns which should be valid for the function.\n",
      "  grouped = geo_df.groupby([ level , cat]).sum()['count'].to_frame()\n",
      "/Users/oskarjor/NTNU/2022FALL/TDT4173/TDT4173/num_stores.py:19: FutureWarning: The default value of numeric_only in DataFrameGroupBy.sum is deprecated. In a future version, numeric_only will default to False. Either specify numeric_only or select only columns which should be valid for the function.\n",
      "  grouped = geo_df.groupby([ level , cat]).sum()['count'].to_frame()\n",
      "/Users/oskarjor/NTNU/2022FALL/TDT4173/TDT4173/num_stores.py:19: FutureWarning: The default value of numeric_only in DataFrameGroupBy.sum is deprecated. In a future version, numeric_only will default to False. Either specify numeric_only or select only columns which should be valid for the function.\n",
      "  grouped = geo_df.groupby([ level , cat]).sum()['count'].to_frame()\n",
      "/Users/oskarjor/NTNU/2022FALL/TDT4173/TDT4173/num_stores.py:19: FutureWarning: The default value of numeric_only in DataFrameGroupBy.sum is deprecated. In a future version, numeric_only will default to False. Either specify numeric_only or select only columns which should be valid for the function.\n",
      "  grouped = geo_df.groupby([ level , cat]).sum()['count'].to_frame()\n",
      "/Users/oskarjor/NTNU/2022FALL/TDT4173/TDT4173/num_stores.py:19: FutureWarning: The default value of numeric_only in DataFrameGroupBy.sum is deprecated. In a future version, numeric_only will default to False. Either specify numeric_only or select only columns which should be valid for the function.\n",
      "  grouped = geo_df.groupby([ level , cat]).sum()['count'].to_frame()\n",
      "/Users/oskarjor/NTNU/2022FALL/TDT4173/TDT4173/num_stores.py:19: FutureWarning: The default value of numeric_only in DataFrameGroupBy.sum is deprecated. In a future version, numeric_only will default to False. Either specify numeric_only or select only columns which should be valid for the function.\n",
      "  grouped = geo_df.groupby([ level , cat]).sum()['count'].to_frame()\n",
      "/Users/oskarjor/NTNU/2022FALL/TDT4173/TDT4173/num_stores.py:19: FutureWarning: The default value of numeric_only in DataFrameGroupBy.sum is deprecated. In a future version, numeric_only will default to False. Either specify numeric_only or select only columns which should be valid for the function.\n",
      "  grouped = geo_df.groupby([ level , cat]).sum()['count'].to_frame()\n",
      "/Users/oskarjor/NTNU/2022FALL/TDT4173/TDT4173/num_stores.py:19: FutureWarning: The default value of numeric_only in DataFrameGroupBy.sum is deprecated. In a future version, numeric_only will default to False. Either specify numeric_only or select only columns which should be valid for the function.\n",
      "  grouped = geo_df.groupby([ level , cat]).sum()['count'].to_frame()\n",
      "/Users/oskarjor/NTNU/2022FALL/TDT4173/TDT4173/num_stores.py:19: FutureWarning: The default value of numeric_only in DataFrameGroupBy.sum is deprecated. In a future version, numeric_only will default to False. Either specify numeric_only or select only columns which should be valid for the function.\n",
      "  grouped = geo_df.groupby([ level , cat]).sum()['count'].to_frame()\n",
      "/Users/oskarjor/NTNU/2022FALL/TDT4173/TDT4173/num_stores.py:19: FutureWarning: The default value of numeric_only in DataFrameGroupBy.sum is deprecated. In a future version, numeric_only will default to False. Either specify numeric_only or select only columns which should be valid for the function.\n",
      "  grouped = geo_df.groupby([ level , cat]).sum()['count'].to_frame()\n",
      "/Users/oskarjor/NTNU/2022FALL/TDT4173/TDT4173/num_stores.py:19: FutureWarning: The default value of numeric_only in DataFrameGroupBy.sum is deprecated. In a future version, numeric_only will default to False. Either specify numeric_only or select only columns which should be valid for the function.\n",
      "  grouped = geo_df.groupby([ level , cat]).sum()['count'].to_frame()\n",
      "/Users/oskarjor/NTNU/2022FALL/TDT4173/TDT4173/num_stores.py:19: FutureWarning: The default value of numeric_only in DataFrameGroupBy.sum is deprecated. In a future version, numeric_only will default to False. Either specify numeric_only or select only columns which should be valid for the function.\n",
      "  grouped = geo_df.groupby([ level , cat]).sum()['count'].to_frame()\n",
      "/Users/oskarjor/NTNU/2022FALL/TDT4173/TDT4173/num_stores.py:19: FutureWarning: The default value of numeric_only in DataFrameGroupBy.sum is deprecated. In a future version, numeric_only will default to False. Either specify numeric_only or select only columns which should be valid for the function.\n",
      "  grouped = geo_df.groupby([ level , cat]).sum()['count'].to_frame()\n",
      "/Users/oskarjor/NTNU/2022FALL/TDT4173/TDT4173/num_stores.py:19: FutureWarning: The default value of numeric_only in DataFrameGroupBy.sum is deprecated. In a future version, numeric_only will default to False. Either specify numeric_only or select only columns which should be valid for the function.\n",
      "  grouped = geo_df.groupby([ level , cat]).sum()['count'].to_frame()\n",
      "/Users/oskarjor/NTNU/2022FALL/TDT4173/TDT4173/num_stores.py:19: FutureWarning: The default value of numeric_only in DataFrameGroupBy.sum is deprecated. In a future version, numeric_only will default to False. Either specify numeric_only or select only columns which should be valid for the function.\n",
      "  grouped = geo_df.groupby([ level , cat]).sum()['count'].to_frame()\n"
     ]
    }
   ],
   "source": [
    "from num_stores import add_num_stores_info\n",
    "\n",
    "for df_name, df in store_dataframes.items():\n",
    "    store_dataframes[df_name] = add_num_stores_info(df)"
   ]
  },
  {
   "cell_type": "code",
   "execution_count": 501,
   "metadata": {},
   "outputs": [],
   "source": [
    "num_store_cols = list(store_dataframes[\"train\"].columns[-64:])"
   ]
  },
  {
   "cell_type": "code",
   "execution_count": 502,
   "metadata": {},
   "outputs": [
    {
     "data": {
      "text/plain": [
       "[['log_revenue', 1.0],\n",
       " ['fylke.plaace_cat_1_per_capita', 0.3036462055602537],\n",
       " ['fylke.plaace_cat_1_per_tot_income', 0.29950542010049447],\n",
       " ['kommune.plaace_cat_1_per_capita', 0.25661756586529566],\n",
       " ['kommune.plaace_cat_1_per_tot_income', 0.245370813652734],\n",
       " ['fylke.plaace_cat_3_per_capita', 0.18362019261601314],\n",
       " ['fylke.plaace_cat_1_count', 0.18265093811288075],\n",
       " ['fylke.plaace_cat_3_per_tot_income', 0.1797567860196848],\n",
       " ['fylke.plaace_cat_4_per_capita', 0.16374528532317106],\n",
       " ['fylke.plaace_cat_4_per_tot_income', 0.16261122183977433],\n",
       " ['grunnkrets_id.plaace_cat_1_count', 0.1230872564366986],\n",
       " ['delomrade.plaace_cat_1_count', 0.11156949047890931],\n",
       " ['fylke.plaace_cat_3_count', 0.10050161427908715],\n",
       " ['kommune.plaace_cat_3_per_capita', 0.09570990088677313],\n",
       " ['kommune.plaace_cat_1_per_km2', 0.08386190923409534],\n",
       " ['kommune.plaace_cat_3_per_tot_income', 0.08377451789326158],\n",
       " ['fylke.plaace_cat_4_count', 0.07989315137361924],\n",
       " ['grunnkrets_id.plaace_cat_1_per_capita', 0.06542117839938809],\n",
       " ['delomrade.plaace_cat_1_per_capita', 0.06534119919978355],\n",
       " ['kommune.plaace_cat_4_per_capita', 0.06456637240824716],\n",
       " ['delomrade.plaace_cat_1_per_km2', 0.05902346572030938],\n",
       " ['kommune.plaace_cat_1_count', 0.05818730449207609],\n",
       " ['kommune.plaace_cat_4_per_tot_income', 0.05617954407113872],\n",
       " ['fylke.plaace_cat_1_per_km2', 0.054663516691600994],\n",
       " ['grunnkrets_id.plaace_cat_1_per_tot_income', 0.05429518720324642],\n",
       " ['delomrade.plaace_cat_1_per_tot_income', 0.05120721772847184],\n",
       " ['grunnkrets_id.plaace_cat_3_count', 0.04756301230317311],\n",
       " ['delomrade.plaace_cat_3_count', 0.047081433869453536],\n",
       " ['grunnkrets_id.plaace_cat_2_count', 0.04342873619429535],\n",
       " ['grunnkrets_id.plaace_cat_1_per_km2', 0.039063195576337674],\n",
       " ['delomrade.plaace_cat_3_per_capita', 0.03796398005132242],\n",
       " ['grunnkrets_id.plaace_cat_3_per_capita', 0.03455631595391961],\n",
       " ['delomrade.plaace_cat_3_per_tot_income', 0.03420187890488887],\n",
       " ['grunnkrets_id.plaace_cat_3_per_tot_income', 0.03230574205499462],\n",
       " ['delomrade.plaace_cat_2_count', 0.031576955629162254],\n",
       " ['kommune.plaace_cat_3_per_km2', 0.029934560937842167],\n",
       " ['delomrade.plaace_cat_3_per_km2', 0.02847406211980301],\n",
       " ['delomrade.plaace_cat_2_per_capita', 0.02663206168317343],\n",
       " ['grunnkrets_id.plaace_cat_2_per_capita', 0.026145182301458146],\n",
       " ['fylke.plaace_cat_2_per_tot_income', 0.025831280006826805],\n",
       " ['fylke.plaace_cat_3_per_km2', 0.025630460523407728],\n",
       " ['delomrade.plaace_cat_2_per_tot_income', 0.02466237791909166],\n",
       " ['grunnkrets_id.plaace_cat_2_per_tot_income', 0.024197652104448273],\n",
       " ['delomrade.plaace_cat_2_per_km2', 0.02417609814428057],\n",
       " ['kommune.plaace_cat_3_count', 0.023970937559210113],\n",
       " ['fylke.plaace_cat_2_per_capita', 0.0239510170369684],\n",
       " ['grunnkrets_id.plaace_cat_4_per_km2', -0.021315764990545823],\n",
       " ['delomrade.plaace_cat_4_per_capita', 0.013270740243254173],\n",
       " ['grunnkrets_id.plaace_cat_4_per_capita', 0.012920119862730312],\n",
       " ['grunnkrets_id.plaace_cat_3_per_km2', 0.012526376997275008],\n",
       " ['delomrade.plaace_cat_4_per_tot_income', 0.011647864592422584],\n",
       " ['grunnkrets_id.plaace_cat_4_per_tot_income', 0.01103648442072455],\n",
       " ['grunnkrets_id.plaace_cat_4_count', 0.010172899587287145],\n",
       " ['kommune.plaace_cat_2_count', 0.01003955531561964],\n",
       " ['grunnkrets_id.plaace_cat_2_per_km2', 0.008442780940558295],\n",
       " ['fylke.plaace_cat_2_per_km2', 0.007314983139576939],\n",
       " ['kommune.plaace_cat_2_per_tot_income', 0.0068516675413848194],\n",
       " ['fylke.plaace_cat_2_count', 0.006472781951590467],\n",
       " ['kommune.plaace_cat_2_per_capita', 0.006333978483626561],\n",
       " ['fylke.plaace_cat_4_per_km2', 0.006200765923411325],\n",
       " ['kommune.plaace_cat_2_per_km2', 0.005454350588733066],\n",
       " ['delomrade.plaace_cat_4_per_km2', -0.004786398854204821],\n",
       " ['delomrade.plaace_cat_4_count', 0.003731892476898393],\n",
       " ['kommune.plaace_cat_4_count', -0.0013682820801888314],\n",
       " ['kommune.plaace_cat_4_per_km2', 0.0009298632119785561]]"
      ]
     },
     "execution_count": 502,
     "metadata": {},
     "output_type": "execute_result"
    }
   ],
   "source": [
    "num_store_dict = store_dataframes[\"train\"][['log_revenue'] + num_store_cols].corr().iloc[0].to_dict()\n",
    "num_store_sorted_relevant_cols = [[k, v] for k, v in sorted(num_store_dict.items(), key=lambda item: abs(item[1]), reverse=True)]\n",
    "num_store_sorted_relevant_cols"
   ]
  },
  {
   "cell_type": "code",
   "execution_count": 503,
   "metadata": {},
   "outputs": [],
   "source": [
    "num_store_relevant_cols = num_store_sorted_relevant_cols[1:15]\n",
    "num_store_relevant_cols = [r[0] for r in num_store_relevant_cols]"
   ]
  },
  {
   "cell_type": "markdown",
   "metadata": {},
   "source": [
    "## Adding mean revenue (plaace_cat, level)"
   ]
  },
  {
   "cell_type": "code",
   "execution_count": 894,
   "metadata": {},
   "outputs": [],
   "source": [
    "from avg_revenue import add_avg_revenue\n",
    "\n",
    "for df_name, df in store_dataframes.items():\n",
    "    store_dataframes[df_name] = add_avg_revenue(df, total=submission_with_whole_train)"
   ]
  },
  {
   "cell_type": "code",
   "execution_count": 881,
   "metadata": {},
   "outputs": [],
   "source": [
    "mean_rev_cols = list(store_dataframes[\"train\"].columns)[-20:]"
   ]
  },
  {
   "cell_type": "code",
   "execution_count": 896,
   "metadata": {},
   "outputs": [
    {
     "data": {
      "text/plain": [
       "[['log_revenue', 1.0],\n",
       " ['country.plaace_cat_4_mean_revenue', 0.5086965809357913],\n",
       " ['fylke.plaace_cat_4_mean_revenue', 0.4941024731809247],\n",
       " ['country.plaace_cat_3_mean_revenue', 0.4748507632451882],\n",
       " ['fylke.plaace_cat_3_mean_revenue', 0.45918831530154497],\n",
       " ['kommune.plaace_cat_4_mean_revenue', 0.4366269865474633],\n",
       " ['grunnkrets_id.plaace_cat_4_mean_revenue', 0.41545838884788683],\n",
       " ['delomrade.plaace_cat_4_mean_revenue', 0.41435511368423755],\n",
       " ['kommune.plaace_cat_3_mean_revenue', 0.3894197939511259],\n",
       " ['country.plaace_cat_2_mean_revenue', 0.386228220574478],\n",
       " ['fylke.plaace_cat_2_mean_revenue', 0.37675915499954626],\n",
       " ['delomrade.plaace_cat_3_mean_revenue', 0.34020235836732],\n",
       " ['grunnkrets_id.plaace_cat_3_mean_revenue', 0.3268133518022981],\n",
       " ['country.plaace_cat_1_mean_revenue', 0.3159747964698619],\n",
       " ['fylke.plaace_cat_1_mean_revenue', 0.3093508806098102],\n",
       " ['kommune.plaace_cat_2_mean_revenue', 0.29652636200805776],\n",
       " ['kommune.plaace_cat_1_mean_revenue', 0.24695499192384032],\n",
       " ['delomrade.plaace_cat_2_mean_revenue', 0.2389899956305923],\n",
       " ['grunnkrets_id.plaace_cat_2_mean_revenue', 0.22869916361005777],\n",
       " ['grunnkrets_id.plaace_cat_1_mean_revenue', 0.1712298689289655],\n",
       " ['delomrade.plaace_cat_1_mean_revenue', 0.16879799623718386]]"
      ]
     },
     "execution_count": 896,
     "metadata": {},
     "output_type": "execute_result"
    }
   ],
   "source": [
    "mean_rev_dict = store_dataframes[\"val\"][['log_revenue'] + mean_rev_cols].corr().iloc[0].to_dict()\n",
    "mean_rev_sorted_relevant_cols = [[k, v] for k, v in sorted(mean_rev_dict.items(), key=lambda item: abs(item[1]), reverse=True)]\n",
    "mean_rev_sorted_relevant_cols"
   ]
  },
  {
   "cell_type": "code",
   "execution_count": 897,
   "metadata": {},
   "outputs": [],
   "source": [
    "mean_rev_relevant_cols = mean_rev_sorted_relevant_cols[1:]\n",
    "mean_rev_relevant_cols = [r[0] for r in mean_rev_relevant_cols]"
   ]
  },
  {
   "cell_type": "code",
   "execution_count": 898,
   "metadata": {},
   "outputs": [],
   "source": [
    "mean_rev_relevant_log_cols = []\n",
    "for col in mean_rev_relevant_cols:\n",
    "    for df_name, df in store_dataframes.items():\n",
    "        store_dataframes[df_name][col + \"_log\"] = store_dataframes[df_name][col].apply(lambda x: np.log1p(x))\n",
    "    mean_rev_relevant_log_cols.append(col + \"_log\")"
   ]
  },
  {
   "cell_type": "markdown",
   "metadata": {},
   "source": [
    "# Removing outliers"
   ]
  },
  {
   "cell_type": "code",
   "execution_count": 505,
   "metadata": {},
   "outputs": [],
   "source": [
    "from outlier_utils import remove_low_revenue\n",
    "\n",
    "store_dataframes[\"train\"] = remove_low_revenue(store_dataframes[\"train\"], low_rev_limit=0.05)"
   ]
  },
  {
   "cell_type": "markdown",
   "metadata": {},
   "source": [
    "# Read data directly from CSV (option 2)"
   ]
  },
  {
   "cell_type": "markdown",
   "metadata": {},
   "source": [
    "## Train, val split"
   ]
  },
  {
   "cell_type": "code",
   "execution_count": 890,
   "metadata": {},
   "outputs": [],
   "source": [
    "if submission_with_whole_train:\n",
    "    stores_train = pd.read_csv(\"temp_data/full_train_features_train.csv\", index_col=0)\n",
    "    stores_extra = pd.read_csv(\"temp_data/full_train_features_extra.csv\", index_col=0)\n",
    "    stores_test = pd.read_csv(\"temp_data/full_train_features_test.csv\", index_col=0)\n",
    "\n",
    "    store_dataframes = {\n",
    "        \"train\": stores_train, \n",
    "        \"extra\": stores_extra, \n",
    "        \"test\": stores_test, \n",
    "        }\n",
    "else:\n",
    "    stores_train = pd.read_csv(\"temp_data/full_features_train.csv\", index_col=0)\n",
    "    stores_val = pd.read_csv(\"temp_data/full_features_val.csv\", index_col=0)\n",
    "    stores_extra = pd.read_csv(\"temp_data/full_features_extra.csv\", index_col=0)\n",
    "    stores_test = pd.read_csv(\"temp_data/full_features_test.csv\", index_col=0)\n",
    "\n",
    "    store_dataframes = {\n",
    "        \"train\": stores_train, \n",
    "        \"extra\": stores_extra, \n",
    "        \"test\": stores_test, \n",
    "        \"val\": stores_val\n",
    "        }"
   ]
  },
  {
   "cell_type": "code",
   "execution_count": 533,
   "metadata": {},
   "outputs": [],
   "source": [
    "with open(\"relevant_cols.txt\", \"r\") as f:\n",
    "    data = f.readlines()\n",
    "\n",
    "comp_relevant_cols = data[0].strip().split(\",\")\n",
    "bus_relevant_cols = data[1].strip().split(\",\")\n",
    "num_stores_relevant_cols = data[2].strip().split(\",\")\n",
    "full_pop_relevant_cols = data[3].strip().split(\",\")"
   ]
  },
  {
   "cell_type": "markdown",
   "metadata": {},
   "source": [
    "# Transforming the data"
   ]
  },
  {
   "cell_type": "code",
   "execution_count": 1006,
   "metadata": {},
   "outputs": [],
   "source": [
    "from RMSLE import rmsle\n",
    "from pred_var_utils import reverse_log1p_transform_pred_var\n",
    "from sklearn.model_selection import GridSearchCV"
   ]
  },
  {
   "cell_type": "code",
   "execution_count": 1007,
   "metadata": {},
   "outputs": [],
   "source": [
    "from sklearn.impute import SimpleImputer\n",
    "from sklearn.pipeline import Pipeline\n",
    "from sklearn.compose import ColumnTransformer\n",
    "from sklearn.preprocessing import StandardScaler, OneHotEncoder, OrdinalEncoder\n",
    "\n",
    "\n",
    "OE_categorical_features = [\"bounded_chain_name\", \"kommune\", \"delomrade\", \"is_grocery\", \"plaace_cat_2\", \"plaace_cat_3\", \"plaace_cat_4\"]\n",
    "OE_categorical_transformer = Pipeline(\n",
    "    steps=[\n",
    "        (\"imputer\", SimpleImputer(missing_values=np.nan, strategy=\"constant\")),\n",
    "        (\"encoder\", OrdinalEncoder(handle_unknown=\"use_encoded_value\", unknown_value=-1)),\n",
    "    ]\n",
    ")\n",
    "\n",
    "OH_categorical_features = [] #[\"fylke\", \"plaace_cat_2\"]\n",
    "OH_categorical_transformer = Pipeline(\n",
    "    steps=[\n",
    "        (\"imputer\", SimpleImputer(missing_values=np.nan, strategy=\"constant\")),\n",
    "        (\"encoder\", OneHotEncoder(handle_unknown=\"ignore\")),\n",
    "    ]\n",
    ")\n",
    "\n",
    "\n",
    "numerical_features = [\"lat\", \"lon\", \n",
    "#\"mean_revenue_1\", \"mean_revenue_2\", \"mean_revenue_3\", \"mean_revenue_4\", \n",
    "\"log_mean_revenue_1\", \"log_mean_revenue_2\", \"log_mean_revenue_3\", \"log_mean_revenue_4\", \n",
    "\"fylke.plaace_cat_1_mean_revenue_log\", #\"fylke.plaace_cat_3_mean_revenue_log\",\n",
    "\"log_chain_mean_revenue\"\n",
    "] + full_pop_relevant_cols + comp_relevant_cols + bus_relevant_cols + num_stores_relevant_cols #+ mean_rev_relevant_log_cols\n",
    "numerical_transformer = Pipeline(\n",
    "    steps=[\n",
    "        (\"imputer\", SimpleImputer(strategy=\"mean\")), \n",
    "        (\"scaler\", StandardScaler(with_mean=True, with_std=True))]\n",
    ")\n",
    "\n",
    "\n",
    "preprocessor = ColumnTransformer(\n",
    "    transformers=[\n",
    "        (\"oe_cat\", OE_categorical_transformer, OE_categorical_features),\n",
    "        (\"oh_cat\", OH_categorical_transformer, OH_categorical_features),\n",
    "        (\"num\", numerical_transformer, numerical_features),\n",
    "    ],\n",
    "    remainder='drop'\n",
    ")\n",
    "\n",
    "preprocessor = ColumnTransformer(\n",
    "    transformers=[\n",
    "        (\"oe_cat\", OE_categorical_transformer, OE_categorical_features),\n",
    "        (\"oh_cat\", OH_categorical_transformer, OH_categorical_features),\n",
    "        (\"num\", numerical_transformer, numerical_features),\n",
    "    ],\n",
    "    remainder='drop'\n",
    ")\n",
    "\n",
    "\n",
    "X_train = preprocessor.fit_transform(store_dataframes[\"train\"])\n",
    "if not submission_with_whole_train:\n",
    "    X_val = preprocessor.transform(store_dataframes[\"val\"])"
   ]
  },
  {
   "cell_type": "code",
   "execution_count": 1008,
   "metadata": {},
   "outputs": [],
   "source": [
    "y_train = np.array(store_dataframes[\"train\"].log_revenue)\n",
    "if not submission_with_whole_train:\n",
    "    y_val = np.array(store_dataframes[\"val\"].revenue)\n",
    "mean_y = y_train.mean()\n",
    "std_y = y_train.std()\n",
    "\n",
    "y_train -= mean_y\n",
    "y_train /= std_y"
   ]
  },
  {
   "cell_type": "markdown",
   "metadata": {},
   "source": [
    "# PCA"
   ]
  },
  {
   "cell_type": "code",
   "execution_count": 1038,
   "metadata": {},
   "outputs": [],
   "source": [
    "PCA_cols_dict = {\n",
    "    \"OE\": [],\n",
    "    \"OH\": [],  \n",
    "    \"num\": []\n",
    "}\n",
    "\n",
    "reduntant_cols = [\"store_id\", \"year\", \"store_name\", \"plaace_hierarchy_id\", \"sales_channel_name\", \"address\", \"revenue\", \"log_revenue\", \"point\"]\n",
    "\n",
    "for col_name, dtype in store_dataframes[\"train\"].dtypes.to_dict().items():\n",
    "    if(col_name in reduntant_cols):\n",
    "        continue\n",
    "    if(dtype == int or dtype == float):\n",
    "        _type = \"num\"\n",
    "    elif(dtype == bool):\n",
    "        _type = \"OE\"\n",
    "    elif(dtype == object):\n",
    "        if(store_dataframes[\"train\"][col_name].nunique() <= 10):\n",
    "            _type = \"OH\"\n",
    "        else:\n",
    "            _type = \"OE\"\n",
    "    else:\n",
    "        print(f\"Unknown type {dtype} encountered for columns {col_name}\")\n",
    "    PCA_cols_dict[_type].append(col_name)\n",
    "    "
   ]
  },
  {
   "cell_type": "code",
   "execution_count": 619,
   "metadata": {},
   "outputs": [],
   "source": [
    "import numpy as np\n",
    "from sklearn.decomposition import PCA"
   ]
  },
  {
   "cell_type": "code",
   "execution_count": 1043,
   "metadata": {},
   "outputs": [],
   "source": [
    "preprocessor = ColumnTransformer(\n",
    "    transformers=[\n",
    "        (\"oe_cat\", OE_categorical_transformer, PCA_cols_dict[\"OE\"]),\n",
    "        (\"oh_cat\", OH_categorical_transformer, PCA_cols_dict[\"OH\"]),\n",
    "        (\"num\", numerical_transformer, PCA_cols_dict[\"num\"]),\n",
    "    ],\n",
    "    remainder='drop'\n",
    ")"
   ]
  },
  {
   "cell_type": "code",
   "execution_count": 1044,
   "metadata": {},
   "outputs": [],
   "source": [
    "pre_PCA_X_train = preprocessor.fit_transform(store_dataframes[\"train\"])\n",
    "if not submission_with_whole_train:\n",
    "    pre_PCA_X_val = preprocessor.transform(store_dataframes[\"val\"])"
   ]
  },
  {
   "cell_type": "code",
   "execution_count": 1062,
   "metadata": {},
   "outputs": [],
   "source": [
    "pca = PCA(n_components=25)\n",
    "PCA_X_train = pca.fit_transform(pre_PCA_X_train)\n",
    "if not submission_with_whole_train:\n",
    "    PCA_X_val = pca.transform(pre_PCA_X_val)"
   ]
  },
  {
   "cell_type": "code",
   "execution_count": 1063,
   "metadata": {},
   "outputs": [
    {
     "name": "stdout",
     "output_type": "stream",
     "text": [
      "[5.31746811e-01 3.64934957e-01 6.89630821e-02 1.71733543e-02\n",
      " 4.45412356e-03 2.34925792e-03 1.38730809e-03 1.12325831e-03\n",
      " 1.04565042e-03 9.11241691e-04 6.73569806e-04 4.74544966e-04\n",
      " 3.75263885e-04 3.28965945e-04 3.03755461e-04 2.64302554e-04\n",
      " 2.32792672e-04 2.27441334e-04 2.12747534e-04 1.67863184e-04\n",
      " 1.50466531e-04 1.33746089e-04 1.22526464e-04 1.14649294e-04\n",
      " 1.10844403e-04]\n",
      "[10463.48700998  8668.25592933  3768.18593069  1880.40569165\n",
      "   957.64627271   695.48752168   534.4541484    480.91000437\n",
      "   463.99922111   433.15245776   372.40482392   312.58107322\n",
      "   277.9664479    260.2552285    250.0840764    233.27847761\n",
      "   218.93169802   216.40071413   209.29375019   185.90955872\n",
      "   176.01267646   165.94513996   158.83234293   153.64190538\n",
      "   151.07092091]\n"
     ]
    }
   ],
   "source": [
    "print(pca.explained_variance_ratio_)\n",
    "\n",
    "print(pca.singular_values_)"
   ]
  },
  {
   "cell_type": "markdown",
   "metadata": {},
   "source": [
    "# Training the model"
   ]
  },
  {
   "cell_type": "markdown",
   "metadata": {},
   "source": [
    "## Random Forest"
   ]
  },
  {
   "cell_type": "code",
   "execution_count": 1064,
   "metadata": {},
   "outputs": [],
   "source": [
    "from sklearn.ensemble import RandomForestRegressor\n",
    "\n",
    "# best params (8.11)\n",
    "# {'max_features': 8, 'min_samples_leaf': 4, 'min_samples_split': 32, 'n_estimators': 500}\n",
    "# rmsle(on val): 0.719099511243053\n",
    "\n",
    "rf = RandomForestRegressor(random_state=0, n_jobs=-1, max_features=8, min_samples_leaf=4, min_samples_split=32, n_estimators=500)\n",
    "rf_params = {\n",
    "    \"n_estimators\" : (100, 250, 500), \n",
    "    \"max_features\" : (2, 4, 8), \n",
    "    \"min_samples_split\" : (4, 8, 16, 32), \n",
    "    \"min_samples_leaf\" : (1, 2, 4), \n",
    "    }\n",
    "\n",
    "rf_clf = GridSearchCV(rf, rf_params, verbose=2)"
   ]
  },
  {
   "cell_type": "code",
   "execution_count": 1065,
   "metadata": {},
   "outputs": [
    {
     "name": "stdout",
     "output_type": "stream",
     "text": [
      "Fitting 5 folds for each of 108 candidates, totalling 540 fits\n",
      "[CV] END max_features=2, min_samples_leaf=1, min_samples_split=4, n_estimators=100; total time=   0.3s\n",
      "[CV] END max_features=2, min_samples_leaf=1, min_samples_split=4, n_estimators=100; total time=   0.2s\n",
      "[CV] END max_features=2, min_samples_leaf=1, min_samples_split=4, n_estimators=100; total time=   0.2s\n",
      "[CV] END max_features=2, min_samples_leaf=1, min_samples_split=4, n_estimators=100; total time=   0.2s\n",
      "[CV] END max_features=2, min_samples_leaf=1, min_samples_split=4, n_estimators=100; total time=   0.2s\n",
      "[CV] END max_features=2, min_samples_leaf=1, min_samples_split=4, n_estimators=250; total time=   0.4s\n",
      "[CV] END max_features=2, min_samples_leaf=1, min_samples_split=4, n_estimators=250; total time=   0.4s\n",
      "[CV] END max_features=2, min_samples_leaf=1, min_samples_split=4, n_estimators=250; total time=   0.4s\n",
      "[CV] END max_features=2, min_samples_leaf=1, min_samples_split=4, n_estimators=250; total time=   0.4s\n",
      "[CV] END max_features=2, min_samples_leaf=1, min_samples_split=4, n_estimators=250; total time=   0.4s\n",
      "[CV] END max_features=2, min_samples_leaf=1, min_samples_split=4, n_estimators=500; total time=   0.8s\n",
      "[CV] END max_features=2, min_samples_leaf=1, min_samples_split=4, n_estimators=500; total time=   0.8s\n",
      "[CV] END max_features=2, min_samples_leaf=1, min_samples_split=4, n_estimators=500; total time=   0.9s\n",
      "[CV] END max_features=2, min_samples_leaf=1, min_samples_split=4, n_estimators=500; total time=   0.8s\n",
      "[CV] END max_features=2, min_samples_leaf=1, min_samples_split=4, n_estimators=500; total time=   0.8s\n",
      "[CV] END max_features=2, min_samples_leaf=1, min_samples_split=8, n_estimators=100; total time=   0.2s\n",
      "[CV] END max_features=2, min_samples_leaf=1, min_samples_split=8, n_estimators=100; total time=   0.2s\n",
      "[CV] END max_features=2, min_samples_leaf=1, min_samples_split=8, n_estimators=100; total time=   0.2s\n",
      "[CV] END max_features=2, min_samples_leaf=1, min_samples_split=8, n_estimators=100; total time=   0.2s\n",
      "[CV] END max_features=2, min_samples_leaf=1, min_samples_split=8, n_estimators=100; total time=   0.2s\n",
      "[CV] END max_features=2, min_samples_leaf=1, min_samples_split=8, n_estimators=250; total time=   0.4s\n",
      "[CV] END max_features=2, min_samples_leaf=1, min_samples_split=8, n_estimators=250; total time=   0.4s\n",
      "[CV] END max_features=2, min_samples_leaf=1, min_samples_split=8, n_estimators=250; total time=   0.4s\n",
      "[CV] END max_features=2, min_samples_leaf=1, min_samples_split=8, n_estimators=250; total time=   0.4s\n",
      "[CV] END max_features=2, min_samples_leaf=1, min_samples_split=8, n_estimators=250; total time=   0.4s\n",
      "[CV] END max_features=2, min_samples_leaf=1, min_samples_split=8, n_estimators=500; total time=   0.9s\n",
      "[CV] END max_features=2, min_samples_leaf=1, min_samples_split=8, n_estimators=500; total time=   0.8s\n",
      "[CV] END max_features=2, min_samples_leaf=1, min_samples_split=8, n_estimators=500; total time=   0.8s\n",
      "[CV] END max_features=2, min_samples_leaf=1, min_samples_split=8, n_estimators=500; total time=   0.7s\n",
      "[CV] END max_features=2, min_samples_leaf=1, min_samples_split=8, n_estimators=500; total time=   0.8s\n",
      "[CV] END max_features=2, min_samples_leaf=1, min_samples_split=16, n_estimators=100; total time=   0.2s\n",
      "[CV] END max_features=2, min_samples_leaf=1, min_samples_split=16, n_estimators=100; total time=   0.2s\n",
      "[CV] END max_features=2, min_samples_leaf=1, min_samples_split=16, n_estimators=100; total time=   0.2s\n",
      "[CV] END max_features=2, min_samples_leaf=1, min_samples_split=16, n_estimators=100; total time=   0.2s\n",
      "[CV] END max_features=2, min_samples_leaf=1, min_samples_split=16, n_estimators=100; total time=   0.2s\n",
      "[CV] END max_features=2, min_samples_leaf=1, min_samples_split=16, n_estimators=250; total time=   0.3s\n",
      "[CV] END max_features=2, min_samples_leaf=1, min_samples_split=16, n_estimators=250; total time=   0.3s\n",
      "[CV] END max_features=2, min_samples_leaf=1, min_samples_split=16, n_estimators=250; total time=   0.3s\n",
      "[CV] END max_features=2, min_samples_leaf=1, min_samples_split=16, n_estimators=250; total time=   0.3s\n",
      "[CV] END max_features=2, min_samples_leaf=1, min_samples_split=16, n_estimators=250; total time=   0.3s\n",
      "[CV] END max_features=2, min_samples_leaf=1, min_samples_split=16, n_estimators=500; total time=   0.7s\n",
      "[CV] END max_features=2, min_samples_leaf=1, min_samples_split=16, n_estimators=500; total time=   0.6s\n",
      "[CV] END max_features=2, min_samples_leaf=1, min_samples_split=16, n_estimators=500; total time=   0.6s\n",
      "[CV] END max_features=2, min_samples_leaf=1, min_samples_split=16, n_estimators=500; total time=   0.7s\n",
      "[CV] END max_features=2, min_samples_leaf=1, min_samples_split=16, n_estimators=500; total time=   0.6s\n",
      "[CV] END max_features=2, min_samples_leaf=1, min_samples_split=32, n_estimators=100; total time=   0.2s\n",
      "[CV] END max_features=2, min_samples_leaf=1, min_samples_split=32, n_estimators=100; total time=   0.1s\n",
      "[CV] END max_features=2, min_samples_leaf=1, min_samples_split=32, n_estimators=100; total time=   0.1s\n",
      "[CV] END max_features=2, min_samples_leaf=1, min_samples_split=32, n_estimators=100; total time=   0.2s\n",
      "[CV] END max_features=2, min_samples_leaf=1, min_samples_split=32, n_estimators=100; total time=   0.2s\n",
      "[CV] END max_features=2, min_samples_leaf=1, min_samples_split=32, n_estimators=250; total time=   0.3s\n",
      "[CV] END max_features=2, min_samples_leaf=1, min_samples_split=32, n_estimators=250; total time=   0.3s\n",
      "[CV] END max_features=2, min_samples_leaf=1, min_samples_split=32, n_estimators=250; total time=   0.3s\n",
      "[CV] END max_features=2, min_samples_leaf=1, min_samples_split=32, n_estimators=250; total time=   0.3s\n",
      "[CV] END max_features=2, min_samples_leaf=1, min_samples_split=32, n_estimators=250; total time=   0.3s\n",
      "[CV] END max_features=2, min_samples_leaf=1, min_samples_split=32, n_estimators=500; total time=   0.6s\n",
      "[CV] END max_features=2, min_samples_leaf=1, min_samples_split=32, n_estimators=500; total time=   0.6s\n",
      "[CV] END max_features=2, min_samples_leaf=1, min_samples_split=32, n_estimators=500; total time=   0.6s\n",
      "[CV] END max_features=2, min_samples_leaf=1, min_samples_split=32, n_estimators=500; total time=   0.6s\n",
      "[CV] END max_features=2, min_samples_leaf=1, min_samples_split=32, n_estimators=500; total time=   0.6s\n",
      "[CV] END max_features=2, min_samples_leaf=2, min_samples_split=4, n_estimators=100; total time=   0.2s\n",
      "[CV] END max_features=2, min_samples_leaf=2, min_samples_split=4, n_estimators=100; total time=   0.2s\n",
      "[CV] END max_features=2, min_samples_leaf=2, min_samples_split=4, n_estimators=100; total time=   0.2s\n",
      "[CV] END max_features=2, min_samples_leaf=2, min_samples_split=4, n_estimators=100; total time=   0.2s\n",
      "[CV] END max_features=2, min_samples_leaf=2, min_samples_split=4, n_estimators=100; total time=   0.2s\n",
      "[CV] END max_features=2, min_samples_leaf=2, min_samples_split=4, n_estimators=250; total time=   0.4s\n",
      "[CV] END max_features=2, min_samples_leaf=2, min_samples_split=4, n_estimators=250; total time=   0.4s\n",
      "[CV] END max_features=2, min_samples_leaf=2, min_samples_split=4, n_estimators=250; total time=   0.4s\n",
      "[CV] END max_features=2, min_samples_leaf=2, min_samples_split=4, n_estimators=250; total time=   0.4s\n",
      "[CV] END max_features=2, min_samples_leaf=2, min_samples_split=4, n_estimators=250; total time=   0.4s\n",
      "[CV] END max_features=2, min_samples_leaf=2, min_samples_split=4, n_estimators=500; total time=   0.7s\n",
      "[CV] END max_features=2, min_samples_leaf=2, min_samples_split=4, n_estimators=500; total time=   0.8s\n",
      "[CV] END max_features=2, min_samples_leaf=2, min_samples_split=4, n_estimators=500; total time=   0.7s\n",
      "[CV] END max_features=2, min_samples_leaf=2, min_samples_split=4, n_estimators=500; total time=   0.8s\n",
      "[CV] END max_features=2, min_samples_leaf=2, min_samples_split=4, n_estimators=500; total time=   0.8s\n",
      "[CV] END max_features=2, min_samples_leaf=2, min_samples_split=8, n_estimators=100; total time=   0.2s\n",
      "[CV] END max_features=2, min_samples_leaf=2, min_samples_split=8, n_estimators=100; total time=   0.2s\n",
      "[CV] END max_features=2, min_samples_leaf=2, min_samples_split=8, n_estimators=100; total time=   0.2s\n",
      "[CV] END max_features=2, min_samples_leaf=2, min_samples_split=8, n_estimators=100; total time=   0.2s\n",
      "[CV] END max_features=2, min_samples_leaf=2, min_samples_split=8, n_estimators=100; total time=   0.2s\n",
      "[CV] END max_features=2, min_samples_leaf=2, min_samples_split=8, n_estimators=250; total time=   0.4s\n",
      "[CV] END max_features=2, min_samples_leaf=2, min_samples_split=8, n_estimators=250; total time=   0.4s\n",
      "[CV] END max_features=2, min_samples_leaf=2, min_samples_split=8, n_estimators=250; total time=   0.4s\n",
      "[CV] END max_features=2, min_samples_leaf=2, min_samples_split=8, n_estimators=250; total time=   0.4s\n",
      "[CV] END max_features=2, min_samples_leaf=2, min_samples_split=8, n_estimators=250; total time=   0.4s\n",
      "[CV] END max_features=2, min_samples_leaf=2, min_samples_split=8, n_estimators=500; total time=   0.7s\n",
      "[CV] END max_features=2, min_samples_leaf=2, min_samples_split=8, n_estimators=500; total time=   0.7s\n",
      "[CV] END max_features=2, min_samples_leaf=2, min_samples_split=8, n_estimators=500; total time=   0.7s\n",
      "[CV] END max_features=2, min_samples_leaf=2, min_samples_split=8, n_estimators=500; total time=   0.7s\n",
      "[CV] END max_features=2, min_samples_leaf=2, min_samples_split=8, n_estimators=500; total time=   0.7s\n",
      "[CV] END max_features=2, min_samples_leaf=2, min_samples_split=16, n_estimators=100; total time=   0.2s\n",
      "[CV] END max_features=2, min_samples_leaf=2, min_samples_split=16, n_estimators=100; total time=   0.2s\n",
      "[CV] END max_features=2, min_samples_leaf=2, min_samples_split=16, n_estimators=100; total time=   0.2s\n",
      "[CV] END max_features=2, min_samples_leaf=2, min_samples_split=16, n_estimators=100; total time=   0.2s\n",
      "[CV] END max_features=2, min_samples_leaf=2, min_samples_split=16, n_estimators=100; total time=   0.2s\n",
      "[CV] END max_features=2, min_samples_leaf=2, min_samples_split=16, n_estimators=250; total time=   0.4s\n",
      "[CV] END max_features=2, min_samples_leaf=2, min_samples_split=16, n_estimators=250; total time=   0.4s\n",
      "[CV] END max_features=2, min_samples_leaf=2, min_samples_split=16, n_estimators=250; total time=   0.4s\n",
      "[CV] END max_features=2, min_samples_leaf=2, min_samples_split=16, n_estimators=250; total time=   0.3s\n",
      "[CV] END max_features=2, min_samples_leaf=2, min_samples_split=16, n_estimators=250; total time=   0.4s\n",
      "[CV] END max_features=2, min_samples_leaf=2, min_samples_split=16, n_estimators=500; total time=   0.7s\n",
      "[CV] END max_features=2, min_samples_leaf=2, min_samples_split=16, n_estimators=500; total time=   0.7s\n",
      "[CV] END max_features=2, min_samples_leaf=2, min_samples_split=16, n_estimators=500; total time=   0.7s\n",
      "[CV] END max_features=2, min_samples_leaf=2, min_samples_split=16, n_estimators=500; total time=   0.7s\n",
      "[CV] END max_features=2, min_samples_leaf=2, min_samples_split=16, n_estimators=500; total time=   0.7s\n",
      "[CV] END max_features=2, min_samples_leaf=2, min_samples_split=32, n_estimators=100; total time=   0.2s\n",
      "[CV] END max_features=2, min_samples_leaf=2, min_samples_split=32, n_estimators=100; total time=   0.2s\n",
      "[CV] END max_features=2, min_samples_leaf=2, min_samples_split=32, n_estimators=100; total time=   0.2s\n",
      "[CV] END max_features=2, min_samples_leaf=2, min_samples_split=32, n_estimators=100; total time=   0.2s\n",
      "[CV] END max_features=2, min_samples_leaf=2, min_samples_split=32, n_estimators=100; total time=   0.2s\n",
      "[CV] END max_features=2, min_samples_leaf=2, min_samples_split=32, n_estimators=250; total time=   0.3s\n",
      "[CV] END max_features=2, min_samples_leaf=2, min_samples_split=32, n_estimators=250; total time=   0.3s\n",
      "[CV] END max_features=2, min_samples_leaf=2, min_samples_split=32, n_estimators=250; total time=   0.3s\n",
      "[CV] END max_features=2, min_samples_leaf=2, min_samples_split=32, n_estimators=250; total time=   0.3s\n",
      "[CV] END max_features=2, min_samples_leaf=2, min_samples_split=32, n_estimators=250; total time=   0.3s\n",
      "[CV] END max_features=2, min_samples_leaf=2, min_samples_split=32, n_estimators=500; total time=   0.6s\n",
      "[CV] END max_features=2, min_samples_leaf=2, min_samples_split=32, n_estimators=500; total time=   0.6s\n",
      "[CV] END max_features=2, min_samples_leaf=2, min_samples_split=32, n_estimators=500; total time=   0.6s\n",
      "[CV] END max_features=2, min_samples_leaf=2, min_samples_split=32, n_estimators=500; total time=   0.6s\n",
      "[CV] END max_features=2, min_samples_leaf=2, min_samples_split=32, n_estimators=500; total time=   0.6s\n",
      "[CV] END max_features=2, min_samples_leaf=4, min_samples_split=4, n_estimators=100; total time=   0.2s\n",
      "[CV] END max_features=2, min_samples_leaf=4, min_samples_split=4, n_estimators=100; total time=   0.2s\n",
      "[CV] END max_features=2, min_samples_leaf=4, min_samples_split=4, n_estimators=100; total time=   0.2s\n",
      "[CV] END max_features=2, min_samples_leaf=4, min_samples_split=4, n_estimators=100; total time=   0.2s\n",
      "[CV] END max_features=2, min_samples_leaf=4, min_samples_split=4, n_estimators=100; total time=   0.2s\n",
      "[CV] END max_features=2, min_samples_leaf=4, min_samples_split=4, n_estimators=250; total time=   0.4s\n",
      "[CV] END max_features=2, min_samples_leaf=4, min_samples_split=4, n_estimators=250; total time=   0.4s\n",
      "[CV] END max_features=2, min_samples_leaf=4, min_samples_split=4, n_estimators=250; total time=   0.4s\n",
      "[CV] END max_features=2, min_samples_leaf=4, min_samples_split=4, n_estimators=250; total time=   0.4s\n",
      "[CV] END max_features=2, min_samples_leaf=4, min_samples_split=4, n_estimators=250; total time=   0.4s\n",
      "[CV] END max_features=2, min_samples_leaf=4, min_samples_split=4, n_estimators=500; total time=   0.7s\n",
      "[CV] END max_features=2, min_samples_leaf=4, min_samples_split=4, n_estimators=500; total time=   0.7s\n",
      "[CV] END max_features=2, min_samples_leaf=4, min_samples_split=4, n_estimators=500; total time=   0.7s\n",
      "[CV] END max_features=2, min_samples_leaf=4, min_samples_split=4, n_estimators=500; total time=   0.7s\n",
      "[CV] END max_features=2, min_samples_leaf=4, min_samples_split=4, n_estimators=500; total time=   0.7s\n",
      "[CV] END max_features=2, min_samples_leaf=4, min_samples_split=8, n_estimators=100; total time=   0.2s\n",
      "[CV] END max_features=2, min_samples_leaf=4, min_samples_split=8, n_estimators=100; total time=   0.2s\n",
      "[CV] END max_features=2, min_samples_leaf=4, min_samples_split=8, n_estimators=100; total time=   0.2s\n",
      "[CV] END max_features=2, min_samples_leaf=4, min_samples_split=8, n_estimators=100; total time=   0.2s\n",
      "[CV] END max_features=2, min_samples_leaf=4, min_samples_split=8, n_estimators=100; total time=   0.2s\n",
      "[CV] END max_features=2, min_samples_leaf=4, min_samples_split=8, n_estimators=250; total time=   0.4s\n",
      "[CV] END max_features=2, min_samples_leaf=4, min_samples_split=8, n_estimators=250; total time=   0.4s\n",
      "[CV] END max_features=2, min_samples_leaf=4, min_samples_split=8, n_estimators=250; total time=   0.4s\n",
      "[CV] END max_features=2, min_samples_leaf=4, min_samples_split=8, n_estimators=250; total time=   0.4s\n",
      "[CV] END max_features=2, min_samples_leaf=4, min_samples_split=8, n_estimators=250; total time=   0.4s\n",
      "[CV] END max_features=2, min_samples_leaf=4, min_samples_split=8, n_estimators=500; total time=   0.7s\n",
      "[CV] END max_features=2, min_samples_leaf=4, min_samples_split=8, n_estimators=500; total time=   0.7s\n",
      "[CV] END max_features=2, min_samples_leaf=4, min_samples_split=8, n_estimators=500; total time=   0.7s\n",
      "[CV] END max_features=2, min_samples_leaf=4, min_samples_split=8, n_estimators=500; total time=   0.7s\n",
      "[CV] END max_features=2, min_samples_leaf=4, min_samples_split=8, n_estimators=500; total time=   0.7s\n",
      "[CV] END max_features=2, min_samples_leaf=4, min_samples_split=16, n_estimators=100; total time=   0.2s\n",
      "[CV] END max_features=2, min_samples_leaf=4, min_samples_split=16, n_estimators=100; total time=   0.2s\n",
      "[CV] END max_features=2, min_samples_leaf=4, min_samples_split=16, n_estimators=100; total time=   0.2s\n",
      "[CV] END max_features=2, min_samples_leaf=4, min_samples_split=16, n_estimators=100; total time=   0.2s\n",
      "[CV] END max_features=2, min_samples_leaf=4, min_samples_split=16, n_estimators=100; total time=   0.2s\n",
      "[CV] END max_features=2, min_samples_leaf=4, min_samples_split=16, n_estimators=250; total time=   0.3s\n",
      "[CV] END max_features=2, min_samples_leaf=4, min_samples_split=16, n_estimators=250; total time=   0.3s\n",
      "[CV] END max_features=2, min_samples_leaf=4, min_samples_split=16, n_estimators=250; total time=   0.3s\n",
      "[CV] END max_features=2, min_samples_leaf=4, min_samples_split=16, n_estimators=250; total time=   0.3s\n",
      "[CV] END max_features=2, min_samples_leaf=4, min_samples_split=16, n_estimators=250; total time=   0.3s\n",
      "[CV] END max_features=2, min_samples_leaf=4, min_samples_split=16, n_estimators=500; total time=   0.7s\n",
      "[CV] END max_features=2, min_samples_leaf=4, min_samples_split=16, n_estimators=500; total time=   0.6s\n",
      "[CV] END max_features=2, min_samples_leaf=4, min_samples_split=16, n_estimators=500; total time=   0.7s\n",
      "[CV] END max_features=2, min_samples_leaf=4, min_samples_split=16, n_estimators=500; total time=   0.6s\n",
      "[CV] END max_features=2, min_samples_leaf=4, min_samples_split=16, n_estimators=500; total time=   0.6s\n",
      "[CV] END max_features=2, min_samples_leaf=4, min_samples_split=32, n_estimators=100; total time=   0.2s\n",
      "[CV] END max_features=2, min_samples_leaf=4, min_samples_split=32, n_estimators=100; total time=   0.2s\n",
      "[CV] END max_features=2, min_samples_leaf=4, min_samples_split=32, n_estimators=100; total time=   0.2s\n",
      "[CV] END max_features=2, min_samples_leaf=4, min_samples_split=32, n_estimators=100; total time=   0.1s\n",
      "[CV] END max_features=2, min_samples_leaf=4, min_samples_split=32, n_estimators=100; total time=   0.1s\n",
      "[CV] END max_features=2, min_samples_leaf=4, min_samples_split=32, n_estimators=250; total time=   0.3s\n",
      "[CV] END max_features=2, min_samples_leaf=4, min_samples_split=32, n_estimators=250; total time=   0.3s\n",
      "[CV] END max_features=2, min_samples_leaf=4, min_samples_split=32, n_estimators=250; total time=   0.3s\n",
      "[CV] END max_features=2, min_samples_leaf=4, min_samples_split=32, n_estimators=250; total time=   0.3s\n",
      "[CV] END max_features=2, min_samples_leaf=4, min_samples_split=32, n_estimators=250; total time=   0.3s\n",
      "[CV] END max_features=2, min_samples_leaf=4, min_samples_split=32, n_estimators=500; total time=   0.6s\n",
      "[CV] END max_features=2, min_samples_leaf=4, min_samples_split=32, n_estimators=500; total time=   0.6s\n",
      "[CV] END max_features=2, min_samples_leaf=4, min_samples_split=32, n_estimators=500; total time=   0.6s\n",
      "[CV] END max_features=2, min_samples_leaf=4, min_samples_split=32, n_estimators=500; total time=   0.6s\n",
      "[CV] END max_features=2, min_samples_leaf=4, min_samples_split=32, n_estimators=500; total time=   0.6s\n",
      "[CV] END max_features=4, min_samples_leaf=1, min_samples_split=4, n_estimators=100; total time=   0.3s\n",
      "[CV] END max_features=4, min_samples_leaf=1, min_samples_split=4, n_estimators=100; total time=   0.3s\n",
      "[CV] END max_features=4, min_samples_leaf=1, min_samples_split=4, n_estimators=100; total time=   0.3s\n",
      "[CV] END max_features=4, min_samples_leaf=1, min_samples_split=4, n_estimators=100; total time=   0.3s\n",
      "[CV] END max_features=4, min_samples_leaf=1, min_samples_split=4, n_estimators=100; total time=   0.3s\n",
      "[CV] END max_features=4, min_samples_leaf=1, min_samples_split=4, n_estimators=250; total time=   0.6s\n",
      "[CV] END max_features=4, min_samples_leaf=1, min_samples_split=4, n_estimators=250; total time=   0.6s\n",
      "[CV] END max_features=4, min_samples_leaf=1, min_samples_split=4, n_estimators=250; total time=   0.6s\n",
      "[CV] END max_features=4, min_samples_leaf=1, min_samples_split=4, n_estimators=250; total time=   0.6s\n",
      "[CV] END max_features=4, min_samples_leaf=1, min_samples_split=4, n_estimators=250; total time=   0.6s\n",
      "[CV] END max_features=4, min_samples_leaf=1, min_samples_split=4, n_estimators=500; total time=   1.2s\n",
      "[CV] END max_features=4, min_samples_leaf=1, min_samples_split=4, n_estimators=500; total time=   1.2s\n",
      "[CV] END max_features=4, min_samples_leaf=1, min_samples_split=4, n_estimators=500; total time=   1.2s\n",
      "[CV] END max_features=4, min_samples_leaf=1, min_samples_split=4, n_estimators=500; total time=   1.2s\n",
      "[CV] END max_features=4, min_samples_leaf=1, min_samples_split=4, n_estimators=500; total time=   1.2s\n",
      "[CV] END max_features=4, min_samples_leaf=1, min_samples_split=8, n_estimators=100; total time=   0.3s\n",
      "[CV] END max_features=4, min_samples_leaf=1, min_samples_split=8, n_estimators=100; total time=   0.3s\n",
      "[CV] END max_features=4, min_samples_leaf=1, min_samples_split=8, n_estimators=100; total time=   0.2s\n",
      "[CV] END max_features=4, min_samples_leaf=1, min_samples_split=8, n_estimators=100; total time=   0.2s\n",
      "[CV] END max_features=4, min_samples_leaf=1, min_samples_split=8, n_estimators=100; total time=   0.3s\n",
      "[CV] END max_features=4, min_samples_leaf=1, min_samples_split=8, n_estimators=250; total time=   0.6s\n",
      "[CV] END max_features=4, min_samples_leaf=1, min_samples_split=8, n_estimators=250; total time=   0.6s\n",
      "[CV] END max_features=4, min_samples_leaf=1, min_samples_split=8, n_estimators=250; total time=   0.6s\n",
      "[CV] END max_features=4, min_samples_leaf=1, min_samples_split=8, n_estimators=250; total time=   0.6s\n",
      "[CV] END max_features=4, min_samples_leaf=1, min_samples_split=8, n_estimators=250; total time=   0.6s\n",
      "[CV] END max_features=4, min_samples_leaf=1, min_samples_split=8, n_estimators=500; total time=   1.1s\n",
      "[CV] END max_features=4, min_samples_leaf=1, min_samples_split=8, n_estimators=500; total time=   1.1s\n",
      "[CV] END max_features=4, min_samples_leaf=1, min_samples_split=8, n_estimators=500; total time=   1.1s\n",
      "[CV] END max_features=4, min_samples_leaf=1, min_samples_split=8, n_estimators=500; total time=   1.1s\n",
      "[CV] END max_features=4, min_samples_leaf=1, min_samples_split=8, n_estimators=500; total time=   1.1s\n",
      "[CV] END max_features=4, min_samples_leaf=1, min_samples_split=16, n_estimators=100; total time=   0.2s\n",
      "[CV] END max_features=4, min_samples_leaf=1, min_samples_split=16, n_estimators=100; total time=   0.2s\n",
      "[CV] END max_features=4, min_samples_leaf=1, min_samples_split=16, n_estimators=100; total time=   0.2s\n",
      "[CV] END max_features=4, min_samples_leaf=1, min_samples_split=16, n_estimators=100; total time=   0.2s\n",
      "[CV] END max_features=4, min_samples_leaf=1, min_samples_split=16, n_estimators=100; total time=   0.2s\n",
      "[CV] END max_features=4, min_samples_leaf=1, min_samples_split=16, n_estimators=250; total time=   0.5s\n",
      "[CV] END max_features=4, min_samples_leaf=1, min_samples_split=16, n_estimators=250; total time=   0.5s\n",
      "[CV] END max_features=4, min_samples_leaf=1, min_samples_split=16, n_estimators=250; total time=   0.5s\n",
      "[CV] END max_features=4, min_samples_leaf=1, min_samples_split=16, n_estimators=250; total time=   0.5s\n",
      "[CV] END max_features=4, min_samples_leaf=1, min_samples_split=16, n_estimators=250; total time=   0.6s\n",
      "[CV] END max_features=4, min_samples_leaf=1, min_samples_split=16, n_estimators=500; total time=   1.1s\n",
      "[CV] END max_features=4, min_samples_leaf=1, min_samples_split=16, n_estimators=500; total time=   1.0s\n",
      "[CV] END max_features=4, min_samples_leaf=1, min_samples_split=16, n_estimators=500; total time=   1.0s\n",
      "[CV] END max_features=4, min_samples_leaf=1, min_samples_split=16, n_estimators=500; total time=   1.0s\n",
      "[CV] END max_features=4, min_samples_leaf=1, min_samples_split=16, n_estimators=500; total time=   1.0s\n",
      "[CV] END max_features=4, min_samples_leaf=1, min_samples_split=32, n_estimators=100; total time=   0.2s\n",
      "[CV] END max_features=4, min_samples_leaf=1, min_samples_split=32, n_estimators=100; total time=   0.2s\n",
      "[CV] END max_features=4, min_samples_leaf=1, min_samples_split=32, n_estimators=100; total time=   0.2s\n",
      "[CV] END max_features=4, min_samples_leaf=1, min_samples_split=32, n_estimators=100; total time=   0.2s\n",
      "[CV] END max_features=4, min_samples_leaf=1, min_samples_split=32, n_estimators=100; total time=   0.2s\n",
      "[CV] END max_features=4, min_samples_leaf=1, min_samples_split=32, n_estimators=250; total time=   0.5s\n",
      "[CV] END max_features=4, min_samples_leaf=1, min_samples_split=32, n_estimators=250; total time=   0.5s\n",
      "[CV] END max_features=4, min_samples_leaf=1, min_samples_split=32, n_estimators=250; total time=   0.5s\n",
      "[CV] END max_features=4, min_samples_leaf=1, min_samples_split=32, n_estimators=250; total time=   0.5s\n",
      "[CV] END max_features=4, min_samples_leaf=1, min_samples_split=32, n_estimators=250; total time=   0.5s\n",
      "[CV] END max_features=4, min_samples_leaf=1, min_samples_split=32, n_estimators=500; total time=   0.9s\n",
      "[CV] END max_features=4, min_samples_leaf=1, min_samples_split=32, n_estimators=500; total time=   0.9s\n",
      "[CV] END max_features=4, min_samples_leaf=1, min_samples_split=32, n_estimators=500; total time=   0.9s\n",
      "[CV] END max_features=4, min_samples_leaf=1, min_samples_split=32, n_estimators=500; total time=   0.9s\n",
      "[CV] END max_features=4, min_samples_leaf=1, min_samples_split=32, n_estimators=500; total time=   0.9s\n",
      "[CV] END max_features=4, min_samples_leaf=2, min_samples_split=4, n_estimators=100; total time=   0.3s\n",
      "[CV] END max_features=4, min_samples_leaf=2, min_samples_split=4, n_estimators=100; total time=   0.3s\n",
      "[CV] END max_features=4, min_samples_leaf=2, min_samples_split=4, n_estimators=100; total time=   0.3s\n",
      "[CV] END max_features=4, min_samples_leaf=2, min_samples_split=4, n_estimators=100; total time=   0.3s\n",
      "[CV] END max_features=4, min_samples_leaf=2, min_samples_split=4, n_estimators=100; total time=   0.2s\n",
      "[CV] END max_features=4, min_samples_leaf=2, min_samples_split=4, n_estimators=250; total time=   0.6s\n",
      "[CV] END max_features=4, min_samples_leaf=2, min_samples_split=4, n_estimators=250; total time=   0.6s\n",
      "[CV] END max_features=4, min_samples_leaf=2, min_samples_split=4, n_estimators=250; total time=   0.6s\n",
      "[CV] END max_features=4, min_samples_leaf=2, min_samples_split=4, n_estimators=250; total time=   0.6s\n",
      "[CV] END max_features=4, min_samples_leaf=2, min_samples_split=4, n_estimators=250; total time=   0.6s\n",
      "[CV] END max_features=4, min_samples_leaf=2, min_samples_split=4, n_estimators=500; total time=   1.1s\n",
      "[CV] END max_features=4, min_samples_leaf=2, min_samples_split=4, n_estimators=500; total time=   1.1s\n",
      "[CV] END max_features=4, min_samples_leaf=2, min_samples_split=4, n_estimators=500; total time=   1.1s\n",
      "[CV] END max_features=4, min_samples_leaf=2, min_samples_split=4, n_estimators=500; total time=   1.1s\n",
      "[CV] END max_features=4, min_samples_leaf=2, min_samples_split=4, n_estimators=500; total time=   1.2s\n",
      "[CV] END max_features=4, min_samples_leaf=2, min_samples_split=8, n_estimators=100; total time=   0.2s\n",
      "[CV] END max_features=4, min_samples_leaf=2, min_samples_split=8, n_estimators=100; total time=   0.2s\n",
      "[CV] END max_features=4, min_samples_leaf=2, min_samples_split=8, n_estimators=100; total time=   0.3s\n",
      "[CV] END max_features=4, min_samples_leaf=2, min_samples_split=8, n_estimators=100; total time=   0.2s\n",
      "[CV] END max_features=4, min_samples_leaf=2, min_samples_split=8, n_estimators=100; total time=   0.2s\n",
      "[CV] END max_features=4, min_samples_leaf=2, min_samples_split=8, n_estimators=250; total time=   0.6s\n",
      "[CV] END max_features=4, min_samples_leaf=2, min_samples_split=8, n_estimators=250; total time=   0.5s\n",
      "[CV] END max_features=4, min_samples_leaf=2, min_samples_split=8, n_estimators=250; total time=   0.5s\n",
      "[CV] END max_features=4, min_samples_leaf=2, min_samples_split=8, n_estimators=250; total time=   0.5s\n",
      "[CV] END max_features=4, min_samples_leaf=2, min_samples_split=8, n_estimators=250; total time=   0.6s\n",
      "[CV] END max_features=4, min_samples_leaf=2, min_samples_split=8, n_estimators=500; total time=   1.1s\n",
      "[CV] END max_features=4, min_samples_leaf=2, min_samples_split=8, n_estimators=500; total time=   1.1s\n",
      "[CV] END max_features=4, min_samples_leaf=2, min_samples_split=8, n_estimators=500; total time=   1.1s\n",
      "[CV] END max_features=4, min_samples_leaf=2, min_samples_split=8, n_estimators=500; total time=   1.1s\n",
      "[CV] END max_features=4, min_samples_leaf=2, min_samples_split=8, n_estimators=500; total time=   1.1s\n",
      "[CV] END max_features=4, min_samples_leaf=2, min_samples_split=16, n_estimators=100; total time=   0.2s\n",
      "[CV] END max_features=4, min_samples_leaf=2, min_samples_split=16, n_estimators=100; total time=   0.2s\n",
      "[CV] END max_features=4, min_samples_leaf=2, min_samples_split=16, n_estimators=100; total time=   0.2s\n",
      "[CV] END max_features=4, min_samples_leaf=2, min_samples_split=16, n_estimators=100; total time=   0.2s\n",
      "[CV] END max_features=4, min_samples_leaf=2, min_samples_split=16, n_estimators=100; total time=   0.2s\n",
      "[CV] END max_features=4, min_samples_leaf=2, min_samples_split=16, n_estimators=250; total time=   0.5s\n",
      "[CV] END max_features=4, min_samples_leaf=2, min_samples_split=16, n_estimators=250; total time=   0.5s\n",
      "[CV] END max_features=4, min_samples_leaf=2, min_samples_split=16, n_estimators=250; total time=   0.5s\n",
      "[CV] END max_features=4, min_samples_leaf=2, min_samples_split=16, n_estimators=250; total time=   0.5s\n",
      "[CV] END max_features=4, min_samples_leaf=2, min_samples_split=16, n_estimators=250; total time=   0.5s\n",
      "[CV] END max_features=4, min_samples_leaf=2, min_samples_split=16, n_estimators=500; total time=   1.0s\n",
      "[CV] END max_features=4, min_samples_leaf=2, min_samples_split=16, n_estimators=500; total time=   1.0s\n",
      "[CV] END max_features=4, min_samples_leaf=2, min_samples_split=16, n_estimators=500; total time=   1.0s\n",
      "[CV] END max_features=4, min_samples_leaf=2, min_samples_split=16, n_estimators=500; total time=   1.0s\n",
      "[CV] END max_features=4, min_samples_leaf=2, min_samples_split=16, n_estimators=500; total time=   1.0s\n",
      "[CV] END max_features=4, min_samples_leaf=2, min_samples_split=32, n_estimators=100; total time=   0.2s\n",
      "[CV] END max_features=4, min_samples_leaf=2, min_samples_split=32, n_estimators=100; total time=   0.2s\n",
      "[CV] END max_features=4, min_samples_leaf=2, min_samples_split=32, n_estimators=100; total time=   0.2s\n",
      "[CV] END max_features=4, min_samples_leaf=2, min_samples_split=32, n_estimators=100; total time=   0.2s\n",
      "[CV] END max_features=4, min_samples_leaf=2, min_samples_split=32, n_estimators=100; total time=   0.2s\n",
      "[CV] END max_features=4, min_samples_leaf=2, min_samples_split=32, n_estimators=250; total time=   0.5s\n",
      "[CV] END max_features=4, min_samples_leaf=2, min_samples_split=32, n_estimators=250; total time=   0.5s\n",
      "[CV] END max_features=4, min_samples_leaf=2, min_samples_split=32, n_estimators=250; total time=   0.5s\n",
      "[CV] END max_features=4, min_samples_leaf=2, min_samples_split=32, n_estimators=250; total time=   0.5s\n",
      "[CV] END max_features=4, min_samples_leaf=2, min_samples_split=32, n_estimators=250; total time=   0.5s\n",
      "[CV] END max_features=4, min_samples_leaf=2, min_samples_split=32, n_estimators=500; total time=   0.9s\n",
      "[CV] END max_features=4, min_samples_leaf=2, min_samples_split=32, n_estimators=500; total time=   0.9s\n",
      "[CV] END max_features=4, min_samples_leaf=2, min_samples_split=32, n_estimators=500; total time=   1.0s\n",
      "[CV] END max_features=4, min_samples_leaf=2, min_samples_split=32, n_estimators=500; total time=   0.9s\n",
      "[CV] END max_features=4, min_samples_leaf=2, min_samples_split=32, n_estimators=500; total time=   0.9s\n",
      "[CV] END max_features=4, min_samples_leaf=4, min_samples_split=4, n_estimators=100; total time=   0.2s\n",
      "[CV] END max_features=4, min_samples_leaf=4, min_samples_split=4, n_estimators=100; total time=   0.2s\n",
      "[CV] END max_features=4, min_samples_leaf=4, min_samples_split=4, n_estimators=100; total time=   0.2s\n",
      "[CV] END max_features=4, min_samples_leaf=4, min_samples_split=4, n_estimators=100; total time=   0.2s\n",
      "[CV] END max_features=4, min_samples_leaf=4, min_samples_split=4, n_estimators=100; total time=   0.2s\n",
      "[CV] END max_features=4, min_samples_leaf=4, min_samples_split=4, n_estimators=250; total time=   0.5s\n",
      "[CV] END max_features=4, min_samples_leaf=4, min_samples_split=4, n_estimators=250; total time=   0.5s\n",
      "[CV] END max_features=4, min_samples_leaf=4, min_samples_split=4, n_estimators=250; total time=   0.6s\n",
      "[CV] END max_features=4, min_samples_leaf=4, min_samples_split=4, n_estimators=250; total time=   0.6s\n",
      "[CV] END max_features=4, min_samples_leaf=4, min_samples_split=4, n_estimators=250; total time=   0.6s\n",
      "[CV] END max_features=4, min_samples_leaf=4, min_samples_split=4, n_estimators=500; total time=   1.2s\n",
      "[CV] END max_features=4, min_samples_leaf=4, min_samples_split=4, n_estimators=500; total time=   1.1s\n",
      "[CV] END max_features=4, min_samples_leaf=4, min_samples_split=4, n_estimators=500; total time=   1.0s\n",
      "[CV] END max_features=4, min_samples_leaf=4, min_samples_split=4, n_estimators=500; total time=   1.0s\n",
      "[CV] END max_features=4, min_samples_leaf=4, min_samples_split=4, n_estimators=500; total time=   1.1s\n",
      "[CV] END max_features=4, min_samples_leaf=4, min_samples_split=8, n_estimators=100; total time=   0.2s\n",
      "[CV] END max_features=4, min_samples_leaf=4, min_samples_split=8, n_estimators=100; total time=   0.2s\n",
      "[CV] END max_features=4, min_samples_leaf=4, min_samples_split=8, n_estimators=100; total time=   0.2s\n",
      "[CV] END max_features=4, min_samples_leaf=4, min_samples_split=8, n_estimators=100; total time=   0.2s\n",
      "[CV] END max_features=4, min_samples_leaf=4, min_samples_split=8, n_estimators=100; total time=   0.2s\n",
      "[CV] END max_features=4, min_samples_leaf=4, min_samples_split=8, n_estimators=250; total time=   0.5s\n",
      "[CV] END max_features=4, min_samples_leaf=4, min_samples_split=8, n_estimators=250; total time=   0.5s\n",
      "[CV] END max_features=4, min_samples_leaf=4, min_samples_split=8, n_estimators=250; total time=   0.5s\n",
      "[CV] END max_features=4, min_samples_leaf=4, min_samples_split=8, n_estimators=250; total time=   0.5s\n",
      "[CV] END max_features=4, min_samples_leaf=4, min_samples_split=8, n_estimators=250; total time=   0.5s\n",
      "[CV] END max_features=4, min_samples_leaf=4, min_samples_split=8, n_estimators=500; total time=   1.0s\n",
      "[CV] END max_features=4, min_samples_leaf=4, min_samples_split=8, n_estimators=500; total time=   1.0s\n",
      "[CV] END max_features=4, min_samples_leaf=4, min_samples_split=8, n_estimators=500; total time=   1.1s\n",
      "[CV] END max_features=4, min_samples_leaf=4, min_samples_split=8, n_estimators=500; total time=   1.0s\n",
      "[CV] END max_features=4, min_samples_leaf=4, min_samples_split=8, n_estimators=500; total time=   1.0s\n",
      "[CV] END max_features=4, min_samples_leaf=4, min_samples_split=16, n_estimators=100; total time=   0.2s\n",
      "[CV] END max_features=4, min_samples_leaf=4, min_samples_split=16, n_estimators=100; total time=   0.2s\n",
      "[CV] END max_features=4, min_samples_leaf=4, min_samples_split=16, n_estimators=100; total time=   0.2s\n",
      "[CV] END max_features=4, min_samples_leaf=4, min_samples_split=16, n_estimators=100; total time=   0.2s\n",
      "[CV] END max_features=4, min_samples_leaf=4, min_samples_split=16, n_estimators=100; total time=   0.2s\n",
      "[CV] END max_features=4, min_samples_leaf=4, min_samples_split=16, n_estimators=250; total time=   0.5s\n",
      "[CV] END max_features=4, min_samples_leaf=4, min_samples_split=16, n_estimators=250; total time=   0.5s\n",
      "[CV] END max_features=4, min_samples_leaf=4, min_samples_split=16, n_estimators=250; total time=   0.5s\n",
      "[CV] END max_features=4, min_samples_leaf=4, min_samples_split=16, n_estimators=250; total time=   0.5s\n",
      "[CV] END max_features=4, min_samples_leaf=4, min_samples_split=16, n_estimators=250; total time=   0.5s\n",
      "[CV] END max_features=4, min_samples_leaf=4, min_samples_split=16, n_estimators=500; total time=   1.0s\n",
      "[CV] END max_features=4, min_samples_leaf=4, min_samples_split=16, n_estimators=500; total time=   1.0s\n",
      "[CV] END max_features=4, min_samples_leaf=4, min_samples_split=16, n_estimators=500; total time=   1.0s\n",
      "[CV] END max_features=4, min_samples_leaf=4, min_samples_split=16, n_estimators=500; total time=   1.0s\n",
      "[CV] END max_features=4, min_samples_leaf=4, min_samples_split=16, n_estimators=500; total time=   1.0s\n",
      "[CV] END max_features=4, min_samples_leaf=4, min_samples_split=32, n_estimators=100; total time=   0.2s\n",
      "[CV] END max_features=4, min_samples_leaf=4, min_samples_split=32, n_estimators=100; total time=   0.2s\n",
      "[CV] END max_features=4, min_samples_leaf=4, min_samples_split=32, n_estimators=100; total time=   0.2s\n",
      "[CV] END max_features=4, min_samples_leaf=4, min_samples_split=32, n_estimators=100; total time=   0.2s\n",
      "[CV] END max_features=4, min_samples_leaf=4, min_samples_split=32, n_estimators=100; total time=   0.2s\n",
      "[CV] END max_features=4, min_samples_leaf=4, min_samples_split=32, n_estimators=250; total time=   0.5s\n",
      "[CV] END max_features=4, min_samples_leaf=4, min_samples_split=32, n_estimators=250; total time=   0.5s\n",
      "[CV] END max_features=4, min_samples_leaf=4, min_samples_split=32, n_estimators=250; total time=   0.5s\n",
      "[CV] END max_features=4, min_samples_leaf=4, min_samples_split=32, n_estimators=250; total time=   0.5s\n",
      "[CV] END max_features=4, min_samples_leaf=4, min_samples_split=32, n_estimators=250; total time=   0.5s\n",
      "[CV] END max_features=4, min_samples_leaf=4, min_samples_split=32, n_estimators=500; total time=   0.9s\n",
      "[CV] END max_features=4, min_samples_leaf=4, min_samples_split=32, n_estimators=500; total time=   1.0s\n",
      "[CV] END max_features=4, min_samples_leaf=4, min_samples_split=32, n_estimators=500; total time=   0.9s\n",
      "[CV] END max_features=4, min_samples_leaf=4, min_samples_split=32, n_estimators=500; total time=   0.9s\n",
      "[CV] END max_features=4, min_samples_leaf=4, min_samples_split=32, n_estimators=500; total time=   0.9s\n",
      "[CV] END max_features=8, min_samples_leaf=1, min_samples_split=4, n_estimators=100; total time=   0.4s\n",
      "[CV] END max_features=8, min_samples_leaf=1, min_samples_split=4, n_estimators=100; total time=   0.4s\n",
      "[CV] END max_features=8, min_samples_leaf=1, min_samples_split=4, n_estimators=100; total time=   0.5s\n",
      "[CV] END max_features=8, min_samples_leaf=1, min_samples_split=4, n_estimators=100; total time=   0.4s\n",
      "[CV] END max_features=8, min_samples_leaf=1, min_samples_split=4, n_estimators=100; total time=   0.4s\n",
      "[CV] END max_features=8, min_samples_leaf=1, min_samples_split=4, n_estimators=250; total time=   1.0s\n",
      "[CV] END max_features=8, min_samples_leaf=1, min_samples_split=4, n_estimators=250; total time=   1.0s\n",
      "[CV] END max_features=8, min_samples_leaf=1, min_samples_split=4, n_estimators=250; total time=   1.0s\n",
      "[CV] END max_features=8, min_samples_leaf=1, min_samples_split=4, n_estimators=250; total time=   1.0s\n",
      "[CV] END max_features=8, min_samples_leaf=1, min_samples_split=4, n_estimators=250; total time=   1.0s\n",
      "[CV] END max_features=8, min_samples_leaf=1, min_samples_split=4, n_estimators=500; total time=   2.0s\n",
      "[CV] END max_features=8, min_samples_leaf=1, min_samples_split=4, n_estimators=500; total time=   1.9s\n",
      "[CV] END max_features=8, min_samples_leaf=1, min_samples_split=4, n_estimators=500; total time=   2.0s\n",
      "[CV] END max_features=8, min_samples_leaf=1, min_samples_split=4, n_estimators=500; total time=   2.0s\n",
      "[CV] END max_features=8, min_samples_leaf=1, min_samples_split=4, n_estimators=500; total time=   2.0s\n",
      "[CV] END max_features=8, min_samples_leaf=1, min_samples_split=8, n_estimators=100; total time=   0.4s\n",
      "[CV] END max_features=8, min_samples_leaf=1, min_samples_split=8, n_estimators=100; total time=   0.4s\n",
      "[CV] END max_features=8, min_samples_leaf=1, min_samples_split=8, n_estimators=100; total time=   0.4s\n",
      "[CV] END max_features=8, min_samples_leaf=1, min_samples_split=8, n_estimators=100; total time=   0.4s\n",
      "[CV] END max_features=8, min_samples_leaf=1, min_samples_split=8, n_estimators=100; total time=   0.4s\n",
      "[CV] END max_features=8, min_samples_leaf=1, min_samples_split=8, n_estimators=250; total time=   0.9s\n",
      "[CV] END max_features=8, min_samples_leaf=1, min_samples_split=8, n_estimators=250; total time=   0.9s\n",
      "[CV] END max_features=8, min_samples_leaf=1, min_samples_split=8, n_estimators=250; total time=   0.9s\n",
      "[CV] END max_features=8, min_samples_leaf=1, min_samples_split=8, n_estimators=250; total time=   0.9s\n",
      "[CV] END max_features=8, min_samples_leaf=1, min_samples_split=8, n_estimators=250; total time=   0.9s\n",
      "[CV] END max_features=8, min_samples_leaf=1, min_samples_split=8, n_estimators=500; total time=   1.8s\n",
      "[CV] END max_features=8, min_samples_leaf=1, min_samples_split=8, n_estimators=500; total time=   1.8s\n",
      "[CV] END max_features=8, min_samples_leaf=1, min_samples_split=8, n_estimators=500; total time=   1.9s\n",
      "[CV] END max_features=8, min_samples_leaf=1, min_samples_split=8, n_estimators=500; total time=   1.9s\n",
      "[CV] END max_features=8, min_samples_leaf=1, min_samples_split=8, n_estimators=500; total time=   1.8s\n",
      "[CV] END max_features=8, min_samples_leaf=1, min_samples_split=16, n_estimators=100; total time=   0.4s\n",
      "[CV] END max_features=8, min_samples_leaf=1, min_samples_split=16, n_estimators=100; total time=   0.4s\n",
      "[CV] END max_features=8, min_samples_leaf=1, min_samples_split=16, n_estimators=100; total time=   0.4s\n",
      "[CV] END max_features=8, min_samples_leaf=1, min_samples_split=16, n_estimators=100; total time=   0.4s\n",
      "[CV] END max_features=8, min_samples_leaf=1, min_samples_split=16, n_estimators=100; total time=   0.4s\n",
      "[CV] END max_features=8, min_samples_leaf=1, min_samples_split=16, n_estimators=250; total time=   0.9s\n",
      "[CV] END max_features=8, min_samples_leaf=1, min_samples_split=16, n_estimators=250; total time=   0.9s\n",
      "[CV] END max_features=8, min_samples_leaf=1, min_samples_split=16, n_estimators=250; total time=   0.9s\n",
      "[CV] END max_features=8, min_samples_leaf=1, min_samples_split=16, n_estimators=250; total time=   0.9s\n",
      "[CV] END max_features=8, min_samples_leaf=1, min_samples_split=16, n_estimators=250; total time=   0.9s\n",
      "[CV] END max_features=8, min_samples_leaf=1, min_samples_split=16, n_estimators=500; total time=   1.7s\n",
      "[CV] END max_features=8, min_samples_leaf=1, min_samples_split=16, n_estimators=500; total time=   1.7s\n",
      "[CV] END max_features=8, min_samples_leaf=1, min_samples_split=16, n_estimators=500; total time=   1.7s\n",
      "[CV] END max_features=8, min_samples_leaf=1, min_samples_split=16, n_estimators=500; total time=   1.7s\n",
      "[CV] END max_features=8, min_samples_leaf=1, min_samples_split=16, n_estimators=500; total time=   1.7s\n",
      "[CV] END max_features=8, min_samples_leaf=1, min_samples_split=32, n_estimators=100; total time=   0.4s\n",
      "[CV] END max_features=8, min_samples_leaf=1, min_samples_split=32, n_estimators=100; total time=   0.3s\n",
      "[CV] END max_features=8, min_samples_leaf=1, min_samples_split=32, n_estimators=100; total time=   0.4s\n",
      "[CV] END max_features=8, min_samples_leaf=1, min_samples_split=32, n_estimators=100; total time=   0.4s\n",
      "[CV] END max_features=8, min_samples_leaf=1, min_samples_split=32, n_estimators=100; total time=   0.4s\n",
      "[CV] END max_features=8, min_samples_leaf=1, min_samples_split=32, n_estimators=250; total time=   0.8s\n",
      "[CV] END max_features=8, min_samples_leaf=1, min_samples_split=32, n_estimators=250; total time=   0.8s\n",
      "[CV] END max_features=8, min_samples_leaf=1, min_samples_split=32, n_estimators=250; total time=   0.8s\n",
      "[CV] END max_features=8, min_samples_leaf=1, min_samples_split=32, n_estimators=250; total time=   0.8s\n",
      "[CV] END max_features=8, min_samples_leaf=1, min_samples_split=32, n_estimators=250; total time=   0.8s\n",
      "[CV] END max_features=8, min_samples_leaf=1, min_samples_split=32, n_estimators=500; total time=   1.6s\n",
      "[CV] END max_features=8, min_samples_leaf=1, min_samples_split=32, n_estimators=500; total time=   1.6s\n",
      "[CV] END max_features=8, min_samples_leaf=1, min_samples_split=32, n_estimators=500; total time=   1.6s\n",
      "[CV] END max_features=8, min_samples_leaf=1, min_samples_split=32, n_estimators=500; total time=   1.6s\n",
      "[CV] END max_features=8, min_samples_leaf=1, min_samples_split=32, n_estimators=500; total time=   1.6s\n",
      "[CV] END max_features=8, min_samples_leaf=2, min_samples_split=4, n_estimators=100; total time=   0.4s\n",
      "[CV] END max_features=8, min_samples_leaf=2, min_samples_split=4, n_estimators=100; total time=   0.4s\n",
      "[CV] END max_features=8, min_samples_leaf=2, min_samples_split=4, n_estimators=100; total time=   0.4s\n",
      "[CV] END max_features=8, min_samples_leaf=2, min_samples_split=4, n_estimators=100; total time=   0.4s\n",
      "[CV] END max_features=8, min_samples_leaf=2, min_samples_split=4, n_estimators=100; total time=   0.4s\n",
      "[CV] END max_features=8, min_samples_leaf=2, min_samples_split=4, n_estimators=250; total time=   1.0s\n",
      "[CV] END max_features=8, min_samples_leaf=2, min_samples_split=4, n_estimators=250; total time=   1.1s\n",
      "[CV] END max_features=8, min_samples_leaf=2, min_samples_split=4, n_estimators=250; total time=   1.0s\n",
      "[CV] END max_features=8, min_samples_leaf=2, min_samples_split=4, n_estimators=250; total time=   1.0s\n",
      "[CV] END max_features=8, min_samples_leaf=2, min_samples_split=4, n_estimators=250; total time=   1.0s\n",
      "[CV] END max_features=8, min_samples_leaf=2, min_samples_split=4, n_estimators=500; total time=   1.9s\n",
      "[CV] END max_features=8, min_samples_leaf=2, min_samples_split=4, n_estimators=500; total time=   1.9s\n",
      "[CV] END max_features=8, min_samples_leaf=2, min_samples_split=4, n_estimators=500; total time=   1.9s\n",
      "[CV] END max_features=8, min_samples_leaf=2, min_samples_split=4, n_estimators=500; total time=   1.9s\n",
      "[CV] END max_features=8, min_samples_leaf=2, min_samples_split=4, n_estimators=500; total time=   1.9s\n",
      "[CV] END max_features=8, min_samples_leaf=2, min_samples_split=8, n_estimators=100; total time=   0.4s\n",
      "[CV] END max_features=8, min_samples_leaf=2, min_samples_split=8, n_estimators=100; total time=   0.4s\n",
      "[CV] END max_features=8, min_samples_leaf=2, min_samples_split=8, n_estimators=100; total time=   0.4s\n",
      "[CV] END max_features=8, min_samples_leaf=2, min_samples_split=8, n_estimators=100; total time=   0.4s\n",
      "[CV] END max_features=8, min_samples_leaf=2, min_samples_split=8, n_estimators=100; total time=   0.4s\n",
      "[CV] END max_features=8, min_samples_leaf=2, min_samples_split=8, n_estimators=250; total time=   0.9s\n",
      "[CV] END max_features=8, min_samples_leaf=2, min_samples_split=8, n_estimators=250; total time=   0.9s\n",
      "[CV] END max_features=8, min_samples_leaf=2, min_samples_split=8, n_estimators=250; total time=   0.9s\n",
      "[CV] END max_features=8, min_samples_leaf=2, min_samples_split=8, n_estimators=250; total time=   0.9s\n",
      "[CV] END max_features=8, min_samples_leaf=2, min_samples_split=8, n_estimators=250; total time=   0.9s\n",
      "[CV] END max_features=8, min_samples_leaf=2, min_samples_split=8, n_estimators=500; total time=   1.8s\n",
      "[CV] END max_features=8, min_samples_leaf=2, min_samples_split=8, n_estimators=500; total time=   1.8s\n",
      "[CV] END max_features=8, min_samples_leaf=2, min_samples_split=8, n_estimators=500; total time=   1.8s\n",
      "[CV] END max_features=8, min_samples_leaf=2, min_samples_split=8, n_estimators=500; total time=   1.8s\n",
      "[CV] END max_features=8, min_samples_leaf=2, min_samples_split=8, n_estimators=500; total time=   1.8s\n",
      "[CV] END max_features=8, min_samples_leaf=2, min_samples_split=16, n_estimators=100; total time=   0.4s\n",
      "[CV] END max_features=8, min_samples_leaf=2, min_samples_split=16, n_estimators=100; total time=   0.4s\n",
      "[CV] END max_features=8, min_samples_leaf=2, min_samples_split=16, n_estimators=100; total time=   0.4s\n",
      "[CV] END max_features=8, min_samples_leaf=2, min_samples_split=16, n_estimators=100; total time=   0.4s\n",
      "[CV] END max_features=8, min_samples_leaf=2, min_samples_split=16, n_estimators=100; total time=   0.4s\n",
      "[CV] END max_features=8, min_samples_leaf=2, min_samples_split=16, n_estimators=250; total time=   0.9s\n",
      "[CV] END max_features=8, min_samples_leaf=2, min_samples_split=16, n_estimators=250; total time=   0.9s\n",
      "[CV] END max_features=8, min_samples_leaf=2, min_samples_split=16, n_estimators=250; total time=   0.9s\n",
      "[CV] END max_features=8, min_samples_leaf=2, min_samples_split=16, n_estimators=250; total time=   0.9s\n",
      "[CV] END max_features=8, min_samples_leaf=2, min_samples_split=16, n_estimators=250; total time=   0.9s\n",
      "[CV] END max_features=8, min_samples_leaf=2, min_samples_split=16, n_estimators=500; total time=   1.7s\n",
      "[CV] END max_features=8, min_samples_leaf=2, min_samples_split=16, n_estimators=500; total time=   1.7s\n",
      "[CV] END max_features=8, min_samples_leaf=2, min_samples_split=16, n_estimators=500; total time=   1.7s\n",
      "[CV] END max_features=8, min_samples_leaf=2, min_samples_split=16, n_estimators=500; total time=   1.7s\n",
      "[CV] END max_features=8, min_samples_leaf=2, min_samples_split=16, n_estimators=500; total time=   1.7s\n",
      "[CV] END max_features=8, min_samples_leaf=2, min_samples_split=32, n_estimators=100; total time=   0.4s\n",
      "[CV] END max_features=8, min_samples_leaf=2, min_samples_split=32, n_estimators=100; total time=   0.4s\n",
      "[CV] END max_features=8, min_samples_leaf=2, min_samples_split=32, n_estimators=100; total time=   0.4s\n",
      "[CV] END max_features=8, min_samples_leaf=2, min_samples_split=32, n_estimators=100; total time=   0.4s\n",
      "[CV] END max_features=8, min_samples_leaf=2, min_samples_split=32, n_estimators=100; total time=   0.3s\n",
      "[CV] END max_features=8, min_samples_leaf=2, min_samples_split=32, n_estimators=250; total time=   0.8s\n",
      "[CV] END max_features=8, min_samples_leaf=2, min_samples_split=32, n_estimators=250; total time=   0.8s\n",
      "[CV] END max_features=8, min_samples_leaf=2, min_samples_split=32, n_estimators=250; total time=   0.8s\n",
      "[CV] END max_features=8, min_samples_leaf=2, min_samples_split=32, n_estimators=250; total time=   0.8s\n",
      "[CV] END max_features=8, min_samples_leaf=2, min_samples_split=32, n_estimators=250; total time=   0.8s\n",
      "[CV] END max_features=8, min_samples_leaf=2, min_samples_split=32, n_estimators=500; total time=   1.6s\n",
      "[CV] END max_features=8, min_samples_leaf=2, min_samples_split=32, n_estimators=500; total time=   1.6s\n",
      "[CV] END max_features=8, min_samples_leaf=2, min_samples_split=32, n_estimators=500; total time=   1.6s\n",
      "[CV] END max_features=8, min_samples_leaf=2, min_samples_split=32, n_estimators=500; total time=   1.6s\n",
      "[CV] END max_features=8, min_samples_leaf=2, min_samples_split=32, n_estimators=500; total time=   1.6s\n",
      "[CV] END max_features=8, min_samples_leaf=4, min_samples_split=4, n_estimators=100; total time=   0.4s\n",
      "[CV] END max_features=8, min_samples_leaf=4, min_samples_split=4, n_estimators=100; total time=   0.4s\n",
      "[CV] END max_features=8, min_samples_leaf=4, min_samples_split=4, n_estimators=100; total time=   0.4s\n",
      "[CV] END max_features=8, min_samples_leaf=4, min_samples_split=4, n_estimators=100; total time=   0.4s\n",
      "[CV] END max_features=8, min_samples_leaf=4, min_samples_split=4, n_estimators=100; total time=   0.4s\n",
      "[CV] END max_features=8, min_samples_leaf=4, min_samples_split=4, n_estimators=250; total time=   0.9s\n",
      "[CV] END max_features=8, min_samples_leaf=4, min_samples_split=4, n_estimators=250; total time=   0.9s\n",
      "[CV] END max_features=8, min_samples_leaf=4, min_samples_split=4, n_estimators=250; total time=   0.9s\n",
      "[CV] END max_features=8, min_samples_leaf=4, min_samples_split=4, n_estimators=250; total time=   0.9s\n",
      "[CV] END max_features=8, min_samples_leaf=4, min_samples_split=4, n_estimators=250; total time=   0.9s\n",
      "[CV] END max_features=8, min_samples_leaf=4, min_samples_split=4, n_estimators=500; total time=   1.7s\n",
      "[CV] END max_features=8, min_samples_leaf=4, min_samples_split=4, n_estimators=500; total time=   1.7s\n",
      "[CV] END max_features=8, min_samples_leaf=4, min_samples_split=4, n_estimators=500; total time=   1.7s\n",
      "[CV] END max_features=8, min_samples_leaf=4, min_samples_split=4, n_estimators=500; total time=   1.8s\n",
      "[CV] END max_features=8, min_samples_leaf=4, min_samples_split=4, n_estimators=500; total time=   1.7s\n",
      "[CV] END max_features=8, min_samples_leaf=4, min_samples_split=8, n_estimators=100; total time=   0.4s\n",
      "[CV] END max_features=8, min_samples_leaf=4, min_samples_split=8, n_estimators=100; total time=   0.4s\n",
      "[CV] END max_features=8, min_samples_leaf=4, min_samples_split=8, n_estimators=100; total time=   0.4s\n",
      "[CV] END max_features=8, min_samples_leaf=4, min_samples_split=8, n_estimators=100; total time=   0.4s\n",
      "[CV] END max_features=8, min_samples_leaf=4, min_samples_split=8, n_estimators=100; total time=   0.4s\n",
      "[CV] END max_features=8, min_samples_leaf=4, min_samples_split=8, n_estimators=250; total time=   0.9s\n",
      "[CV] END max_features=8, min_samples_leaf=4, min_samples_split=8, n_estimators=250; total time=   0.9s\n",
      "[CV] END max_features=8, min_samples_leaf=4, min_samples_split=8, n_estimators=250; total time=   0.9s\n",
      "[CV] END max_features=8, min_samples_leaf=4, min_samples_split=8, n_estimators=250; total time=   0.9s\n",
      "[CV] END max_features=8, min_samples_leaf=4, min_samples_split=8, n_estimators=250; total time=   0.9s\n",
      "[CV] END max_features=8, min_samples_leaf=4, min_samples_split=8, n_estimators=500; total time=   1.7s\n",
      "[CV] END max_features=8, min_samples_leaf=4, min_samples_split=8, n_estimators=500; total time=   1.8s\n",
      "[CV] END max_features=8, min_samples_leaf=4, min_samples_split=8, n_estimators=500; total time=   1.7s\n",
      "[CV] END max_features=8, min_samples_leaf=4, min_samples_split=8, n_estimators=500; total time=   1.7s\n",
      "[CV] END max_features=8, min_samples_leaf=4, min_samples_split=8, n_estimators=500; total time=   1.7s\n",
      "[CV] END max_features=8, min_samples_leaf=4, min_samples_split=16, n_estimators=100; total time=   0.4s\n",
      "[CV] END max_features=8, min_samples_leaf=4, min_samples_split=16, n_estimators=100; total time=   0.4s\n",
      "[CV] END max_features=8, min_samples_leaf=4, min_samples_split=16, n_estimators=100; total time=   0.4s\n",
      "[CV] END max_features=8, min_samples_leaf=4, min_samples_split=16, n_estimators=100; total time=   0.4s\n",
      "[CV] END max_features=8, min_samples_leaf=4, min_samples_split=16, n_estimators=100; total time=   0.4s\n",
      "[CV] END max_features=8, min_samples_leaf=4, min_samples_split=16, n_estimators=250; total time=   0.8s\n",
      "[CV] END max_features=8, min_samples_leaf=4, min_samples_split=16, n_estimators=250; total time=   0.8s\n",
      "[CV] END max_features=8, min_samples_leaf=4, min_samples_split=16, n_estimators=250; total time=   0.8s\n",
      "[CV] END max_features=8, min_samples_leaf=4, min_samples_split=16, n_estimators=250; total time=   0.8s\n",
      "[CV] END max_features=8, min_samples_leaf=4, min_samples_split=16, n_estimators=250; total time=   0.8s\n",
      "[CV] END max_features=8, min_samples_leaf=4, min_samples_split=16, n_estimators=500; total time=   1.6s\n",
      "[CV] END max_features=8, min_samples_leaf=4, min_samples_split=16, n_estimators=500; total time=   1.6s\n",
      "[CV] END max_features=8, min_samples_leaf=4, min_samples_split=16, n_estimators=500; total time=   1.7s\n",
      "[CV] END max_features=8, min_samples_leaf=4, min_samples_split=16, n_estimators=500; total time=   1.6s\n",
      "[CV] END max_features=8, min_samples_leaf=4, min_samples_split=16, n_estimators=500; total time=   1.6s\n",
      "[CV] END max_features=8, min_samples_leaf=4, min_samples_split=32, n_estimators=100; total time=   0.4s\n",
      "[CV] END max_features=8, min_samples_leaf=4, min_samples_split=32, n_estimators=100; total time=   0.4s\n",
      "[CV] END max_features=8, min_samples_leaf=4, min_samples_split=32, n_estimators=100; total time=   0.3s\n",
      "[CV] END max_features=8, min_samples_leaf=4, min_samples_split=32, n_estimators=100; total time=   0.4s\n",
      "[CV] END max_features=8, min_samples_leaf=4, min_samples_split=32, n_estimators=100; total time=   0.4s\n",
      "[CV] END max_features=8, min_samples_leaf=4, min_samples_split=32, n_estimators=250; total time=   0.8s\n",
      "[CV] END max_features=8, min_samples_leaf=4, min_samples_split=32, n_estimators=250; total time=   0.8s\n",
      "[CV] END max_features=8, min_samples_leaf=4, min_samples_split=32, n_estimators=250; total time=   0.8s\n",
      "[CV] END max_features=8, min_samples_leaf=4, min_samples_split=32, n_estimators=250; total time=   0.8s\n",
      "[CV] END max_features=8, min_samples_leaf=4, min_samples_split=32, n_estimators=250; total time=   0.8s\n",
      "[CV] END max_features=8, min_samples_leaf=4, min_samples_split=32, n_estimators=500; total time=   1.5s\n",
      "[CV] END max_features=8, min_samples_leaf=4, min_samples_split=32, n_estimators=500; total time=   1.5s\n",
      "[CV] END max_features=8, min_samples_leaf=4, min_samples_split=32, n_estimators=500; total time=   1.5s\n",
      "[CV] END max_features=8, min_samples_leaf=4, min_samples_split=32, n_estimators=500; total time=   1.5s\n",
      "[CV] END max_features=8, min_samples_leaf=4, min_samples_split=32, n_estimators=500; total time=   1.6s\n"
     ]
    },
    {
     "data": {
      "text/html": [
       "<style>#sk-container-id-101 {color: black;background-color: white;}#sk-container-id-101 pre{padding: 0;}#sk-container-id-101 div.sk-toggleable {background-color: white;}#sk-container-id-101 label.sk-toggleable__label {cursor: pointer;display: block;width: 100%;margin-bottom: 0;padding: 0.3em;box-sizing: border-box;text-align: center;}#sk-container-id-101 label.sk-toggleable__label-arrow:before {content: \"▸\";float: left;margin-right: 0.25em;color: #696969;}#sk-container-id-101 label.sk-toggleable__label-arrow:hover:before {color: black;}#sk-container-id-101 div.sk-estimator:hover label.sk-toggleable__label-arrow:before {color: black;}#sk-container-id-101 div.sk-toggleable__content {max-height: 0;max-width: 0;overflow: hidden;text-align: left;background-color: #f0f8ff;}#sk-container-id-101 div.sk-toggleable__content pre {margin: 0.2em;color: black;border-radius: 0.25em;background-color: #f0f8ff;}#sk-container-id-101 input.sk-toggleable__control:checked~div.sk-toggleable__content {max-height: 200px;max-width: 100%;overflow: auto;}#sk-container-id-101 input.sk-toggleable__control:checked~label.sk-toggleable__label-arrow:before {content: \"▾\";}#sk-container-id-101 div.sk-estimator input.sk-toggleable__control:checked~label.sk-toggleable__label {background-color: #d4ebff;}#sk-container-id-101 div.sk-label input.sk-toggleable__control:checked~label.sk-toggleable__label {background-color: #d4ebff;}#sk-container-id-101 input.sk-hidden--visually {border: 0;clip: rect(1px 1px 1px 1px);clip: rect(1px, 1px, 1px, 1px);height: 1px;margin: -1px;overflow: hidden;padding: 0;position: absolute;width: 1px;}#sk-container-id-101 div.sk-estimator {font-family: monospace;background-color: #f0f8ff;border: 1px dotted black;border-radius: 0.25em;box-sizing: border-box;margin-bottom: 0.5em;}#sk-container-id-101 div.sk-estimator:hover {background-color: #d4ebff;}#sk-container-id-101 div.sk-parallel-item::after {content: \"\";width: 100%;border-bottom: 1px solid gray;flex-grow: 1;}#sk-container-id-101 div.sk-label:hover label.sk-toggleable__label {background-color: #d4ebff;}#sk-container-id-101 div.sk-serial::before {content: \"\";position: absolute;border-left: 1px solid gray;box-sizing: border-box;top: 0;bottom: 0;left: 50%;z-index: 0;}#sk-container-id-101 div.sk-serial {display: flex;flex-direction: column;align-items: center;background-color: white;padding-right: 0.2em;padding-left: 0.2em;position: relative;}#sk-container-id-101 div.sk-item {position: relative;z-index: 1;}#sk-container-id-101 div.sk-parallel {display: flex;align-items: stretch;justify-content: center;background-color: white;position: relative;}#sk-container-id-101 div.sk-item::before, #sk-container-id-101 div.sk-parallel-item::before {content: \"\";position: absolute;border-left: 1px solid gray;box-sizing: border-box;top: 0;bottom: 0;left: 50%;z-index: -1;}#sk-container-id-101 div.sk-parallel-item {display: flex;flex-direction: column;z-index: 1;position: relative;background-color: white;}#sk-container-id-101 div.sk-parallel-item:first-child::after {align-self: flex-end;width: 50%;}#sk-container-id-101 div.sk-parallel-item:last-child::after {align-self: flex-start;width: 50%;}#sk-container-id-101 div.sk-parallel-item:only-child::after {width: 0;}#sk-container-id-101 div.sk-dashed-wrapped {border: 1px dashed gray;margin: 0 0.4em 0.5em 0.4em;box-sizing: border-box;padding-bottom: 0.4em;background-color: white;}#sk-container-id-101 div.sk-label label {font-family: monospace;font-weight: bold;display: inline-block;line-height: 1.2em;}#sk-container-id-101 div.sk-label-container {text-align: center;}#sk-container-id-101 div.sk-container {/* jupyter's `normalize.less` sets `[hidden] { display: none; }` but bootstrap.min.css set `[hidden] { display: none !important; }` so we also need the `!important` here to be able to override the default hidden behavior on the sphinx rendered scikit-learn.org. See: https://github.com/scikit-learn/scikit-learn/issues/21755 */display: inline-block !important;position: relative;}#sk-container-id-101 div.sk-text-repr-fallback {display: none;}</style><div id=\"sk-container-id-101\" class=\"sk-top-container\"><div class=\"sk-text-repr-fallback\"><pre>GridSearchCV(estimator=RandomForestRegressor(max_features=8, min_samples_leaf=4,\n",
       "                                             min_samples_split=32,\n",
       "                                             n_estimators=500, n_jobs=-1,\n",
       "                                             random_state=0),\n",
       "             param_grid={&#x27;max_features&#x27;: (2, 4, 8),\n",
       "                         &#x27;min_samples_leaf&#x27;: (1, 2, 4),\n",
       "                         &#x27;min_samples_split&#x27;: (4, 8, 16, 32),\n",
       "                         &#x27;n_estimators&#x27;: (100, 250, 500)},\n",
       "             verbose=2)</pre><b>In a Jupyter environment, please rerun this cell to show the HTML representation or trust the notebook. <br />On GitHub, the HTML representation is unable to render, please try loading this page with nbviewer.org.</b></div><div class=\"sk-container\" hidden><div class=\"sk-item sk-dashed-wrapped\"><div class=\"sk-label-container\"><div class=\"sk-label sk-toggleable\"><input class=\"sk-toggleable__control sk-hidden--visually\" id=\"sk-estimator-id-141\" type=\"checkbox\" ><label for=\"sk-estimator-id-141\" class=\"sk-toggleable__label sk-toggleable__label-arrow\">GridSearchCV</label><div class=\"sk-toggleable__content\"><pre>GridSearchCV(estimator=RandomForestRegressor(max_features=8, min_samples_leaf=4,\n",
       "                                             min_samples_split=32,\n",
       "                                             n_estimators=500, n_jobs=-1,\n",
       "                                             random_state=0),\n",
       "             param_grid={&#x27;max_features&#x27;: (2, 4, 8),\n",
       "                         &#x27;min_samples_leaf&#x27;: (1, 2, 4),\n",
       "                         &#x27;min_samples_split&#x27;: (4, 8, 16, 32),\n",
       "                         &#x27;n_estimators&#x27;: (100, 250, 500)},\n",
       "             verbose=2)</pre></div></div></div><div class=\"sk-parallel\"><div class=\"sk-parallel-item\"><div class=\"sk-item\"><div class=\"sk-label-container\"><div class=\"sk-label sk-toggleable\"><input class=\"sk-toggleable__control sk-hidden--visually\" id=\"sk-estimator-id-142\" type=\"checkbox\" ><label for=\"sk-estimator-id-142\" class=\"sk-toggleable__label sk-toggleable__label-arrow\">estimator: RandomForestRegressor</label><div class=\"sk-toggleable__content\"><pre>RandomForestRegressor(max_features=8, min_samples_leaf=4, min_samples_split=32,\n",
       "                      n_estimators=500, n_jobs=-1, random_state=0)</pre></div></div></div><div class=\"sk-serial\"><div class=\"sk-item\"><div class=\"sk-estimator sk-toggleable\"><input class=\"sk-toggleable__control sk-hidden--visually\" id=\"sk-estimator-id-143\" type=\"checkbox\" ><label for=\"sk-estimator-id-143\" class=\"sk-toggleable__label sk-toggleable__label-arrow\">RandomForestRegressor</label><div class=\"sk-toggleable__content\"><pre>RandomForestRegressor(max_features=8, min_samples_leaf=4, min_samples_split=32,\n",
       "                      n_estimators=500, n_jobs=-1, random_state=0)</pre></div></div></div></div></div></div></div></div></div></div>"
      ],
      "text/plain": [
       "GridSearchCV(estimator=RandomForestRegressor(max_features=8, min_samples_leaf=4,\n",
       "                                             min_samples_split=32,\n",
       "                                             n_estimators=500, n_jobs=-1,\n",
       "                                             random_state=0),\n",
       "             param_grid={'max_features': (2, 4, 8),\n",
       "                         'min_samples_leaf': (1, 2, 4),\n",
       "                         'min_samples_split': (4, 8, 16, 32),\n",
       "                         'n_estimators': (100, 250, 500)},\n",
       "             verbose=2)"
      ]
     },
     "execution_count": 1065,
     "metadata": {},
     "output_type": "execute_result"
    }
   ],
   "source": [
    "rf_clf.fit(PCA_X_train, y_train)"
   ]
  },
  {
   "cell_type": "code",
   "execution_count": 1067,
   "metadata": {},
   "outputs": [
    {
     "data": {
      "text/plain": [
       "{'max_features': 8,\n",
       " 'min_samples_leaf': 4,\n",
       " 'min_samples_split': 4,\n",
       " 'n_estimators': 500}"
      ]
     },
     "execution_count": 1067,
     "metadata": {},
     "output_type": "execute_result"
    }
   ],
   "source": [
    "rf_clf.best_params_"
   ]
  },
  {
   "cell_type": "code",
   "execution_count": 1068,
   "metadata": {},
   "outputs": [
    {
     "data": {
      "text/plain": [
       "{'max_features': 8,\n",
       " 'min_samples_leaf': 4,\n",
       " 'min_samples_split': 4,\n",
       " 'n_estimators': 500}"
      ]
     },
     "execution_count": 1068,
     "metadata": {},
     "output_type": "execute_result"
    }
   ],
   "source": [
    "rf_clf.best_params_"
   ]
  },
  {
   "cell_type": "code",
   "execution_count": 1069,
   "metadata": {},
   "outputs": [],
   "source": [
    "rf_y_pred = reverse_log1p_transform_pred_var(rf_clf.predict(PCA_X_val), std_y=std_y, mean_y=mean_y)\n"
   ]
  },
  {
   "cell_type": "code",
   "execution_count": 1070,
   "metadata": {},
   "outputs": [
    {
     "data": {
      "text/plain": [
       "0.855060954879145"
      ]
     },
     "execution_count": 1070,
     "metadata": {},
     "output_type": "execute_result"
    }
   ],
   "source": [
    "rmsle(y_val, rf_y_pred)"
   ]
  },
  {
   "cell_type": "markdown",
   "metadata": {},
   "source": [
    "## Linear Regression"
   ]
  },
  {
   "cell_type": "code",
   "execution_count": 1013,
   "metadata": {},
   "outputs": [],
   "source": [
    "from sklearn.linear_model import LinearRegression\n",
    "\n",
    "lr = LinearRegression(n_jobs=-1)"
   ]
  },
  {
   "cell_type": "code",
   "execution_count": 1014,
   "metadata": {},
   "outputs": [
    {
     "data": {
      "text/html": [
       "<style>#sk-container-id-97 {color: black;background-color: white;}#sk-container-id-97 pre{padding: 0;}#sk-container-id-97 div.sk-toggleable {background-color: white;}#sk-container-id-97 label.sk-toggleable__label {cursor: pointer;display: block;width: 100%;margin-bottom: 0;padding: 0.3em;box-sizing: border-box;text-align: center;}#sk-container-id-97 label.sk-toggleable__label-arrow:before {content: \"▸\";float: left;margin-right: 0.25em;color: #696969;}#sk-container-id-97 label.sk-toggleable__label-arrow:hover:before {color: black;}#sk-container-id-97 div.sk-estimator:hover label.sk-toggleable__label-arrow:before {color: black;}#sk-container-id-97 div.sk-toggleable__content {max-height: 0;max-width: 0;overflow: hidden;text-align: left;background-color: #f0f8ff;}#sk-container-id-97 div.sk-toggleable__content pre {margin: 0.2em;color: black;border-radius: 0.25em;background-color: #f0f8ff;}#sk-container-id-97 input.sk-toggleable__control:checked~div.sk-toggleable__content {max-height: 200px;max-width: 100%;overflow: auto;}#sk-container-id-97 input.sk-toggleable__control:checked~label.sk-toggleable__label-arrow:before {content: \"▾\";}#sk-container-id-97 div.sk-estimator input.sk-toggleable__control:checked~label.sk-toggleable__label {background-color: #d4ebff;}#sk-container-id-97 div.sk-label input.sk-toggleable__control:checked~label.sk-toggleable__label {background-color: #d4ebff;}#sk-container-id-97 input.sk-hidden--visually {border: 0;clip: rect(1px 1px 1px 1px);clip: rect(1px, 1px, 1px, 1px);height: 1px;margin: -1px;overflow: hidden;padding: 0;position: absolute;width: 1px;}#sk-container-id-97 div.sk-estimator {font-family: monospace;background-color: #f0f8ff;border: 1px dotted black;border-radius: 0.25em;box-sizing: border-box;margin-bottom: 0.5em;}#sk-container-id-97 div.sk-estimator:hover {background-color: #d4ebff;}#sk-container-id-97 div.sk-parallel-item::after {content: \"\";width: 100%;border-bottom: 1px solid gray;flex-grow: 1;}#sk-container-id-97 div.sk-label:hover label.sk-toggleable__label {background-color: #d4ebff;}#sk-container-id-97 div.sk-serial::before {content: \"\";position: absolute;border-left: 1px solid gray;box-sizing: border-box;top: 0;bottom: 0;left: 50%;z-index: 0;}#sk-container-id-97 div.sk-serial {display: flex;flex-direction: column;align-items: center;background-color: white;padding-right: 0.2em;padding-left: 0.2em;position: relative;}#sk-container-id-97 div.sk-item {position: relative;z-index: 1;}#sk-container-id-97 div.sk-parallel {display: flex;align-items: stretch;justify-content: center;background-color: white;position: relative;}#sk-container-id-97 div.sk-item::before, #sk-container-id-97 div.sk-parallel-item::before {content: \"\";position: absolute;border-left: 1px solid gray;box-sizing: border-box;top: 0;bottom: 0;left: 50%;z-index: -1;}#sk-container-id-97 div.sk-parallel-item {display: flex;flex-direction: column;z-index: 1;position: relative;background-color: white;}#sk-container-id-97 div.sk-parallel-item:first-child::after {align-self: flex-end;width: 50%;}#sk-container-id-97 div.sk-parallel-item:last-child::after {align-self: flex-start;width: 50%;}#sk-container-id-97 div.sk-parallel-item:only-child::after {width: 0;}#sk-container-id-97 div.sk-dashed-wrapped {border: 1px dashed gray;margin: 0 0.4em 0.5em 0.4em;box-sizing: border-box;padding-bottom: 0.4em;background-color: white;}#sk-container-id-97 div.sk-label label {font-family: monospace;font-weight: bold;display: inline-block;line-height: 1.2em;}#sk-container-id-97 div.sk-label-container {text-align: center;}#sk-container-id-97 div.sk-container {/* jupyter's `normalize.less` sets `[hidden] { display: none; }` but bootstrap.min.css set `[hidden] { display: none !important; }` so we also need the `!important` here to be able to override the default hidden behavior on the sphinx rendered scikit-learn.org. See: https://github.com/scikit-learn/scikit-learn/issues/21755 */display: inline-block !important;position: relative;}#sk-container-id-97 div.sk-text-repr-fallback {display: none;}</style><div id=\"sk-container-id-97\" class=\"sk-top-container\"><div class=\"sk-text-repr-fallback\"><pre>LinearRegression(n_jobs=-1)</pre><b>In a Jupyter environment, please rerun this cell to show the HTML representation or trust the notebook. <br />On GitHub, the HTML representation is unable to render, please try loading this page with nbviewer.org.</b></div><div class=\"sk-container\" hidden><div class=\"sk-item\"><div class=\"sk-estimator sk-toggleable\"><input class=\"sk-toggleable__control sk-hidden--visually\" id=\"sk-estimator-id-131\" type=\"checkbox\" checked><label for=\"sk-estimator-id-131\" class=\"sk-toggleable__label sk-toggleable__label-arrow\">LinearRegression</label><div class=\"sk-toggleable__content\"><pre>LinearRegression(n_jobs=-1)</pre></div></div></div></div></div>"
      ],
      "text/plain": [
       "LinearRegression(n_jobs=-1)"
      ]
     },
     "execution_count": 1014,
     "metadata": {},
     "output_type": "execute_result"
    }
   ],
   "source": [
    "lr.fit(X_train, y_train)"
   ]
  },
  {
   "cell_type": "code",
   "execution_count": 1015,
   "metadata": {},
   "outputs": [],
   "source": [
    "lr_y_pred = reverse_log1p_transform_pred_var(lr.predict(X_val), std_y, mean_y)\n",
    "lr_y_pred = np.array([max(0, xi) for xi in lr_y_pred])"
   ]
  },
  {
   "cell_type": "code",
   "execution_count": 1016,
   "metadata": {},
   "outputs": [
    {
     "data": {
      "text/plain": [
       "0.736427049127665"
      ]
     },
     "execution_count": 1016,
     "metadata": {},
     "output_type": "execute_result"
    }
   ],
   "source": [
    "rmsle(y_val, lr_y_pred)"
   ]
  },
  {
   "cell_type": "markdown",
   "metadata": {},
   "source": [
    "## Light GBM"
   ]
  },
  {
   "cell_type": "code",
   "execution_count": 1017,
   "metadata": {},
   "outputs": [],
   "source": [
    "from lightgbm import LGBMRegressor\n",
    "\n",
    "# best params (8.11)\n",
    "# {'learning_rate': 0.05, 'min_child_samples': 16, 'min_split_gain': 0, 'n_estimators': 100, 'num_leaves': 25}\n",
    "# rmsle(on val): 0.7208999886795342\n",
    "\n",
    "lgbm = LGBMRegressor(\n",
    "    random_state=0, \n",
    "    n_jobs=-1, \n",
    "    learning_rate=0.05, \n",
    "    min_child_samples=16, \n",
    "    min_split_gain=0, \n",
    "    n_estimators=100, \n",
    "    num_leaves=25\n",
    "    )\n",
    "\n",
    "lgbm_params = {\n",
    "    \"num_leaves\" : (10, 25, 31, 75), \n",
    "    \"learning_rate\" : (0.05, 0.1, 0.25), \n",
    "    \"n_estimators\" : (50, 100, 250), \n",
    "    \"min_split_gain\" : (0, 0.01), \n",
    "    \"min_child_samples\" : (4, 8, 16, 32), \n",
    "    #\"reg_alpha\" : (0, 0.01, 0.1), \n",
    "    #\"reg_lambda\" : (0, 0.01, 0.1), \n",
    "    }\n",
    "\n",
    "lgbm_clf = GridSearchCV(lgbm, lgbm_params, verbose=2)"
   ]
  },
  {
   "cell_type": "code",
   "execution_count": 1018,
   "metadata": {},
   "outputs": [
    {
     "data": {
      "text/html": [
       "<style>#sk-container-id-98 {color: black;background-color: white;}#sk-container-id-98 pre{padding: 0;}#sk-container-id-98 div.sk-toggleable {background-color: white;}#sk-container-id-98 label.sk-toggleable__label {cursor: pointer;display: block;width: 100%;margin-bottom: 0;padding: 0.3em;box-sizing: border-box;text-align: center;}#sk-container-id-98 label.sk-toggleable__label-arrow:before {content: \"▸\";float: left;margin-right: 0.25em;color: #696969;}#sk-container-id-98 label.sk-toggleable__label-arrow:hover:before {color: black;}#sk-container-id-98 div.sk-estimator:hover label.sk-toggleable__label-arrow:before {color: black;}#sk-container-id-98 div.sk-toggleable__content {max-height: 0;max-width: 0;overflow: hidden;text-align: left;background-color: #f0f8ff;}#sk-container-id-98 div.sk-toggleable__content pre {margin: 0.2em;color: black;border-radius: 0.25em;background-color: #f0f8ff;}#sk-container-id-98 input.sk-toggleable__control:checked~div.sk-toggleable__content {max-height: 200px;max-width: 100%;overflow: auto;}#sk-container-id-98 input.sk-toggleable__control:checked~label.sk-toggleable__label-arrow:before {content: \"▾\";}#sk-container-id-98 div.sk-estimator input.sk-toggleable__control:checked~label.sk-toggleable__label {background-color: #d4ebff;}#sk-container-id-98 div.sk-label input.sk-toggleable__control:checked~label.sk-toggleable__label {background-color: #d4ebff;}#sk-container-id-98 input.sk-hidden--visually {border: 0;clip: rect(1px 1px 1px 1px);clip: rect(1px, 1px, 1px, 1px);height: 1px;margin: -1px;overflow: hidden;padding: 0;position: absolute;width: 1px;}#sk-container-id-98 div.sk-estimator {font-family: monospace;background-color: #f0f8ff;border: 1px dotted black;border-radius: 0.25em;box-sizing: border-box;margin-bottom: 0.5em;}#sk-container-id-98 div.sk-estimator:hover {background-color: #d4ebff;}#sk-container-id-98 div.sk-parallel-item::after {content: \"\";width: 100%;border-bottom: 1px solid gray;flex-grow: 1;}#sk-container-id-98 div.sk-label:hover label.sk-toggleable__label {background-color: #d4ebff;}#sk-container-id-98 div.sk-serial::before {content: \"\";position: absolute;border-left: 1px solid gray;box-sizing: border-box;top: 0;bottom: 0;left: 50%;z-index: 0;}#sk-container-id-98 div.sk-serial {display: flex;flex-direction: column;align-items: center;background-color: white;padding-right: 0.2em;padding-left: 0.2em;position: relative;}#sk-container-id-98 div.sk-item {position: relative;z-index: 1;}#sk-container-id-98 div.sk-parallel {display: flex;align-items: stretch;justify-content: center;background-color: white;position: relative;}#sk-container-id-98 div.sk-item::before, #sk-container-id-98 div.sk-parallel-item::before {content: \"\";position: absolute;border-left: 1px solid gray;box-sizing: border-box;top: 0;bottom: 0;left: 50%;z-index: -1;}#sk-container-id-98 div.sk-parallel-item {display: flex;flex-direction: column;z-index: 1;position: relative;background-color: white;}#sk-container-id-98 div.sk-parallel-item:first-child::after {align-self: flex-end;width: 50%;}#sk-container-id-98 div.sk-parallel-item:last-child::after {align-self: flex-start;width: 50%;}#sk-container-id-98 div.sk-parallel-item:only-child::after {width: 0;}#sk-container-id-98 div.sk-dashed-wrapped {border: 1px dashed gray;margin: 0 0.4em 0.5em 0.4em;box-sizing: border-box;padding-bottom: 0.4em;background-color: white;}#sk-container-id-98 div.sk-label label {font-family: monospace;font-weight: bold;display: inline-block;line-height: 1.2em;}#sk-container-id-98 div.sk-label-container {text-align: center;}#sk-container-id-98 div.sk-container {/* jupyter's `normalize.less` sets `[hidden] { display: none; }` but bootstrap.min.css set `[hidden] { display: none !important; }` so we also need the `!important` here to be able to override the default hidden behavior on the sphinx rendered scikit-learn.org. See: https://github.com/scikit-learn/scikit-learn/issues/21755 */display: inline-block !important;position: relative;}#sk-container-id-98 div.sk-text-repr-fallback {display: none;}</style><div id=\"sk-container-id-98\" class=\"sk-top-container\"><div class=\"sk-text-repr-fallback\"><pre>LGBMRegressor(learning_rate=0.05, min_child_samples=16, min_split_gain=0,\n",
       "              num_leaves=25, random_state=0)</pre><b>In a Jupyter environment, please rerun this cell to show the HTML representation or trust the notebook. <br />On GitHub, the HTML representation is unable to render, please try loading this page with nbviewer.org.</b></div><div class=\"sk-container\" hidden><div class=\"sk-item\"><div class=\"sk-estimator sk-toggleable\"><input class=\"sk-toggleable__control sk-hidden--visually\" id=\"sk-estimator-id-132\" type=\"checkbox\" checked><label for=\"sk-estimator-id-132\" class=\"sk-toggleable__label sk-toggleable__label-arrow\">LGBMRegressor</label><div class=\"sk-toggleable__content\"><pre>LGBMRegressor(learning_rate=0.05, min_child_samples=16, min_split_gain=0,\n",
       "              num_leaves=25, random_state=0)</pre></div></div></div></div></div>"
      ],
      "text/plain": [
       "LGBMRegressor(learning_rate=0.05, min_child_samples=16, min_split_gain=0,\n",
       "              num_leaves=25, random_state=0)"
      ]
     },
     "execution_count": 1018,
     "metadata": {},
     "output_type": "execute_result"
    }
   ],
   "source": [
    "lgbm.fit(X_train, y_train)"
   ]
  },
  {
   "cell_type": "code",
   "execution_count": 751,
   "metadata": {},
   "outputs": [
    {
     "ename": "AttributeError",
     "evalue": "'GridSearchCV' object has no attribute 'best_params_'",
     "output_type": "error",
     "traceback": [
      "\u001b[0;31m---------------------------------------------------------------------------\u001b[0m",
      "\u001b[0;31mAttributeError\u001b[0m                            Traceback (most recent call last)",
      "\u001b[0;32m/var/folders/0n/8hp9d_rj4_9d8vgrqztmqhf40000gn/T/ipykernel_11753/2485636406.py\u001b[0m in \u001b[0;36m<module>\u001b[0;34m\u001b[0m\n\u001b[0;32m----> 1\u001b[0;31m \u001b[0mlgbm_clf\u001b[0m\u001b[0;34m.\u001b[0m\u001b[0mbest_params_\u001b[0m\u001b[0;34m\u001b[0m\u001b[0;34m\u001b[0m\u001b[0m\n\u001b[0m",
      "\u001b[0;31mAttributeError\u001b[0m: 'GridSearchCV' object has no attribute 'best_params_'"
     ]
    }
   ],
   "source": [
    "lgbm_clf.best_params_"
   ]
  },
  {
   "cell_type": "code",
   "execution_count": 1019,
   "metadata": {},
   "outputs": [],
   "source": [
    "lgbm_y_pred = reverse_log1p_transform_pred_var(lgbm.predict(X_val), std_y, mean_y)\n",
    "lgbm_y_pred = np.array([max(0, xi) for xi in lgbm_y_pred])"
   ]
  },
  {
   "cell_type": "code",
   "execution_count": 1020,
   "metadata": {},
   "outputs": [
    {
     "data": {
      "text/plain": [
       "0.7215684121080089"
      ]
     },
     "execution_count": 1020,
     "metadata": {},
     "output_type": "execute_result"
    }
   ],
   "source": [
    "rmsle(y_val, lgbm_y_pred)"
   ]
  },
  {
   "cell_type": "markdown",
   "metadata": {},
   "source": [
    "## CatBoost"
   ]
  },
  {
   "cell_type": "code",
   "execution_count": 1021,
   "metadata": {},
   "outputs": [],
   "source": [
    "from catboost import CatBoostRegressor\n",
    "from sklearn.model_selection import GridSearchCV\n",
    "\n",
    "\n",
    "# best params (8.11)\n",
    "# {'depth': 6, 'l2_leaf_reg': 5, 'learning_rate': 0.05, 'eval_metric': 'RMSE'}\n",
    "# rmsle(on val) = 0.7190096805219454\n",
    "\n",
    "cb = CatBoostRegressor(\n",
    "    random_seed=0, \n",
    "    verbose=False, \n",
    "    eval_metric=\"RMSE\", \n",
    "    depth=6, \n",
    "    l2_leaf_reg= 5, \n",
    "    learning_rate= 0.05\n",
    "    )\n",
    "\n",
    "cb_params = grid = {\n",
    "    'learning_rate': [0.01, 0.03, 0.05, 0.1, 0.3],\n",
    "    'depth': [5, 6, 8, 10],\n",
    "    'l2_leaf_reg': [4, 5, 6, 7, 8], \n",
    "    }\n",
    "\n",
    "# cb_clf = cb.grid_search(cb_params, X=X_train, y=y_train)"
   ]
  },
  {
   "cell_type": "code",
   "execution_count": 961,
   "metadata": {},
   "outputs": [
    {
     "data": {
      "text/plain": [
       "{'depth': 6, 'l2_leaf_reg': 5, 'learning_rate': 0.05}"
      ]
     },
     "execution_count": 961,
     "metadata": {},
     "output_type": "execute_result"
    }
   ],
   "source": [
    "cb_clf[\"params\"]"
   ]
  },
  {
   "cell_type": "code",
   "execution_count": 1022,
   "metadata": {},
   "outputs": [
    {
     "data": {
      "text/plain": [
       "<catboost.core.CatBoostRegressor at 0x2dfb4f970>"
      ]
     },
     "execution_count": 1022,
     "metadata": {},
     "output_type": "execute_result"
    }
   ],
   "source": [
    "cb.fit(X_train, y_train)"
   ]
  },
  {
   "cell_type": "code",
   "execution_count": 1023,
   "metadata": {},
   "outputs": [],
   "source": [
    "cb_y_pred = reverse_log1p_transform_pred_var(cb.predict(X_val), std_y, mean_y)\n",
    "cb_y_pred = np.array([max(0, xi) for xi in cb_y_pred])"
   ]
  },
  {
   "cell_type": "code",
   "execution_count": 1024,
   "metadata": {},
   "outputs": [
    {
     "data": {
      "text/plain": [
       "0.719544602165034"
      ]
     },
     "execution_count": 1024,
     "metadata": {},
     "output_type": "execute_result"
    }
   ],
   "source": [
    "rmsle(y_val, cb_y_pred)"
   ]
  },
  {
   "cell_type": "markdown",
   "metadata": {},
   "source": [
    "## Stacking classifiers"
   ]
  },
  {
   "cell_type": "code",
   "execution_count": 1025,
   "metadata": {},
   "outputs": [],
   "source": [
    "from sklearn.ensemble import StackingRegressor\n",
    "\n",
    "estimators = [\n",
    "    ('rf', rf), \n",
    "    ('cb', cb), \n",
    "    ('lgbm', lgbm), \n",
    "]\n",
    "\n",
    "rf_end_params = {\n",
    "    \"n_estimators\" : (50, 100, 250), \n",
    "    \"max_features\" : (1, 2, 3), \n",
    "    \"min_samples_split\" : (16, 32), \n",
    "    \"min_samples_leaf\" : (2, 4, 8), \n",
    "    }\n",
    "\n",
    "rf_end = RandomForestRegressor(random_state=0, n_jobs=-1, n_estimators=50, max_features=3)\n",
    "\n",
    "reg = StackingRegressor(\n",
    "    estimators=estimators,\n",
    "    final_estimator=rf_end\n",
    "    )"
   ]
  },
  {
   "cell_type": "code",
   "execution_count": 1026,
   "metadata": {},
   "outputs": [
    {
     "data": {
      "text/html": [
       "<style>#sk-container-id-99 {color: black;background-color: white;}#sk-container-id-99 pre{padding: 0;}#sk-container-id-99 div.sk-toggleable {background-color: white;}#sk-container-id-99 label.sk-toggleable__label {cursor: pointer;display: block;width: 100%;margin-bottom: 0;padding: 0.3em;box-sizing: border-box;text-align: center;}#sk-container-id-99 label.sk-toggleable__label-arrow:before {content: \"▸\";float: left;margin-right: 0.25em;color: #696969;}#sk-container-id-99 label.sk-toggleable__label-arrow:hover:before {color: black;}#sk-container-id-99 div.sk-estimator:hover label.sk-toggleable__label-arrow:before {color: black;}#sk-container-id-99 div.sk-toggleable__content {max-height: 0;max-width: 0;overflow: hidden;text-align: left;background-color: #f0f8ff;}#sk-container-id-99 div.sk-toggleable__content pre {margin: 0.2em;color: black;border-radius: 0.25em;background-color: #f0f8ff;}#sk-container-id-99 input.sk-toggleable__control:checked~div.sk-toggleable__content {max-height: 200px;max-width: 100%;overflow: auto;}#sk-container-id-99 input.sk-toggleable__control:checked~label.sk-toggleable__label-arrow:before {content: \"▾\";}#sk-container-id-99 div.sk-estimator input.sk-toggleable__control:checked~label.sk-toggleable__label {background-color: #d4ebff;}#sk-container-id-99 div.sk-label input.sk-toggleable__control:checked~label.sk-toggleable__label {background-color: #d4ebff;}#sk-container-id-99 input.sk-hidden--visually {border: 0;clip: rect(1px 1px 1px 1px);clip: rect(1px, 1px, 1px, 1px);height: 1px;margin: -1px;overflow: hidden;padding: 0;position: absolute;width: 1px;}#sk-container-id-99 div.sk-estimator {font-family: monospace;background-color: #f0f8ff;border: 1px dotted black;border-radius: 0.25em;box-sizing: border-box;margin-bottom: 0.5em;}#sk-container-id-99 div.sk-estimator:hover {background-color: #d4ebff;}#sk-container-id-99 div.sk-parallel-item::after {content: \"\";width: 100%;border-bottom: 1px solid gray;flex-grow: 1;}#sk-container-id-99 div.sk-label:hover label.sk-toggleable__label {background-color: #d4ebff;}#sk-container-id-99 div.sk-serial::before {content: \"\";position: absolute;border-left: 1px solid gray;box-sizing: border-box;top: 0;bottom: 0;left: 50%;z-index: 0;}#sk-container-id-99 div.sk-serial {display: flex;flex-direction: column;align-items: center;background-color: white;padding-right: 0.2em;padding-left: 0.2em;position: relative;}#sk-container-id-99 div.sk-item {position: relative;z-index: 1;}#sk-container-id-99 div.sk-parallel {display: flex;align-items: stretch;justify-content: center;background-color: white;position: relative;}#sk-container-id-99 div.sk-item::before, #sk-container-id-99 div.sk-parallel-item::before {content: \"\";position: absolute;border-left: 1px solid gray;box-sizing: border-box;top: 0;bottom: 0;left: 50%;z-index: -1;}#sk-container-id-99 div.sk-parallel-item {display: flex;flex-direction: column;z-index: 1;position: relative;background-color: white;}#sk-container-id-99 div.sk-parallel-item:first-child::after {align-self: flex-end;width: 50%;}#sk-container-id-99 div.sk-parallel-item:last-child::after {align-self: flex-start;width: 50%;}#sk-container-id-99 div.sk-parallel-item:only-child::after {width: 0;}#sk-container-id-99 div.sk-dashed-wrapped {border: 1px dashed gray;margin: 0 0.4em 0.5em 0.4em;box-sizing: border-box;padding-bottom: 0.4em;background-color: white;}#sk-container-id-99 div.sk-label label {font-family: monospace;font-weight: bold;display: inline-block;line-height: 1.2em;}#sk-container-id-99 div.sk-label-container {text-align: center;}#sk-container-id-99 div.sk-container {/* jupyter's `normalize.less` sets `[hidden] { display: none; }` but bootstrap.min.css set `[hidden] { display: none !important; }` so we also need the `!important` here to be able to override the default hidden behavior on the sphinx rendered scikit-learn.org. See: https://github.com/scikit-learn/scikit-learn/issues/21755 */display: inline-block !important;position: relative;}#sk-container-id-99 div.sk-text-repr-fallback {display: none;}</style><div id=\"sk-container-id-99\" class=\"sk-top-container\"><div class=\"sk-text-repr-fallback\"><pre>StackingRegressor(estimators=[(&#x27;rf&#x27;,\n",
       "                               RandomForestRegressor(max_features=8,\n",
       "                                                     min_samples_leaf=4,\n",
       "                                                     min_samples_split=32,\n",
       "                                                     n_estimators=500,\n",
       "                                                     n_jobs=-1,\n",
       "                                                     random_state=0)),\n",
       "                              (&#x27;cb&#x27;,\n",
       "                               &lt;catboost.core.CatBoostRegressor object at 0x2dfb4f970&gt;),\n",
       "                              (&#x27;lgbm&#x27;,\n",
       "                               LGBMRegressor(learning_rate=0.05,\n",
       "                                             min_child_samples=16,\n",
       "                                             min_split_gain=0, num_leaves=25,\n",
       "                                             random_state=0))],\n",
       "                  final_estimator=RandomForestRegressor(max_features=3,\n",
       "                                                        n_estimators=50,\n",
       "                                                        n_jobs=-1,\n",
       "                                                        random_state=0))</pre><b>In a Jupyter environment, please rerun this cell to show the HTML representation or trust the notebook. <br />On GitHub, the HTML representation is unable to render, please try loading this page with nbviewer.org.</b></div><div class=\"sk-container\" hidden><div class=\"sk-item sk-dashed-wrapped\"><div class=\"sk-label-container\"><div class=\"sk-label sk-toggleable\"><input class=\"sk-toggleable__control sk-hidden--visually\" id=\"sk-estimator-id-133\" type=\"checkbox\" ><label for=\"sk-estimator-id-133\" class=\"sk-toggleable__label sk-toggleable__label-arrow\">StackingRegressor</label><div class=\"sk-toggleable__content\"><pre>StackingRegressor(estimators=[(&#x27;rf&#x27;,\n",
       "                               RandomForestRegressor(max_features=8,\n",
       "                                                     min_samples_leaf=4,\n",
       "                                                     min_samples_split=32,\n",
       "                                                     n_estimators=500,\n",
       "                                                     n_jobs=-1,\n",
       "                                                     random_state=0)),\n",
       "                              (&#x27;cb&#x27;,\n",
       "                               &lt;catboost.core.CatBoostRegressor object at 0x2dfb4f970&gt;),\n",
       "                              (&#x27;lgbm&#x27;,\n",
       "                               LGBMRegressor(learning_rate=0.05,\n",
       "                                             min_child_samples=16,\n",
       "                                             min_split_gain=0, num_leaves=25,\n",
       "                                             random_state=0))],\n",
       "                  final_estimator=RandomForestRegressor(max_features=3,\n",
       "                                                        n_estimators=50,\n",
       "                                                        n_jobs=-1,\n",
       "                                                        random_state=0))</pre></div></div></div><div class=\"sk-serial\"><div class=\"sk-item\"><div class=\"sk-parallel\"><div class=\"sk-parallel-item\"><div class=\"sk-item\"><div class=\"sk-label-container\"><div class=\"sk-label sk-toggleable\"><label>rf</label></div></div><div class=\"sk-serial\"><div class=\"sk-item\"><div class=\"sk-estimator sk-toggleable\"><input class=\"sk-toggleable__control sk-hidden--visually\" id=\"sk-estimator-id-134\" type=\"checkbox\" ><label for=\"sk-estimator-id-134\" class=\"sk-toggleable__label sk-toggleable__label-arrow\">RandomForestRegressor</label><div class=\"sk-toggleable__content\"><pre>RandomForestRegressor(max_features=8, min_samples_leaf=4, min_samples_split=32,\n",
       "                      n_estimators=500, n_jobs=-1, random_state=0)</pre></div></div></div></div></div></div><div class=\"sk-parallel-item\"><div class=\"sk-item\"><div class=\"sk-label-container\"><div class=\"sk-label sk-toggleable\"><label>cb</label></div></div><div class=\"sk-serial\"><div class=\"sk-item\"><div class=\"sk-estimator sk-toggleable\"><input class=\"sk-toggleable__control sk-hidden--visually\" id=\"sk-estimator-id-135\" type=\"checkbox\" ><label for=\"sk-estimator-id-135\" class=\"sk-toggleable__label sk-toggleable__label-arrow\">CatBoostRegressor</label><div class=\"sk-toggleable__content\"><pre>&lt;catboost.core.CatBoostRegressor object at 0x2dfb4f970&gt;</pre></div></div></div></div></div></div><div class=\"sk-parallel-item\"><div class=\"sk-item\"><div class=\"sk-label-container\"><div class=\"sk-label sk-toggleable\"><label>lgbm</label></div></div><div class=\"sk-serial\"><div class=\"sk-item\"><div class=\"sk-estimator sk-toggleable\"><input class=\"sk-toggleable__control sk-hidden--visually\" id=\"sk-estimator-id-136\" type=\"checkbox\" ><label for=\"sk-estimator-id-136\" class=\"sk-toggleable__label sk-toggleable__label-arrow\">LGBMRegressor</label><div class=\"sk-toggleable__content\"><pre>LGBMRegressor(learning_rate=0.05, min_child_samples=16, min_split_gain=0,\n",
       "              num_leaves=25, random_state=0)</pre></div></div></div></div></div></div></div></div><div class=\"sk-item\"><div class=\"sk-parallel\"><div class=\"sk-parallel-item\"><div class=\"sk-item\"><div class=\"sk-label-container\"><div class=\"sk-label sk-toggleable\"><label>final_estimator</label></div></div><div class=\"sk-serial\"><div class=\"sk-item\"><div class=\"sk-estimator sk-toggleable\"><input class=\"sk-toggleable__control sk-hidden--visually\" id=\"sk-estimator-id-137\" type=\"checkbox\" ><label for=\"sk-estimator-id-137\" class=\"sk-toggleable__label sk-toggleable__label-arrow\">RandomForestRegressor</label><div class=\"sk-toggleable__content\"><pre>RandomForestRegressor(max_features=3, n_estimators=50, n_jobs=-1,\n",
       "                      random_state=0)</pre></div></div></div></div></div></div></div></div></div></div></div></div>"
      ],
      "text/plain": [
       "StackingRegressor(estimators=[('rf',\n",
       "                               RandomForestRegressor(max_features=8,\n",
       "                                                     min_samples_leaf=4,\n",
       "                                                     min_samples_split=32,\n",
       "                                                     n_estimators=500,\n",
       "                                                     n_jobs=-1,\n",
       "                                                     random_state=0)),\n",
       "                              ('cb',\n",
       "                               <catboost.core.CatBoostRegressor object at 0x2dfb4f970>),\n",
       "                              ('lgbm',\n",
       "                               LGBMRegressor(learning_rate=0.05,\n",
       "                                             min_child_samples=16,\n",
       "                                             min_split_gain=0, num_leaves=25,\n",
       "                                             random_state=0))],\n",
       "                  final_estimator=RandomForestRegressor(max_features=3,\n",
       "                                                        n_estimators=50,\n",
       "                                                        n_jobs=-1,\n",
       "                                                        random_state=0))"
      ]
     },
     "execution_count": 1026,
     "metadata": {},
     "output_type": "execute_result"
    }
   ],
   "source": [
    "reg.fit(X_train, y_train)"
   ]
  },
  {
   "cell_type": "code",
   "execution_count": 1027,
   "metadata": {},
   "outputs": [],
   "source": [
    "reg_y_pred = reverse_log1p_transform_pred_var(reg.predict(X_val), std_y, mean_y)"
   ]
  },
  {
   "cell_type": "code",
   "execution_count": 1028,
   "metadata": {},
   "outputs": [
    {
     "data": {
      "text/plain": [
       "0.7529770705254111"
      ]
     },
     "execution_count": 1028,
     "metadata": {},
     "output_type": "execute_result"
    }
   ],
   "source": [
    "rmsle(y_pred=reg_y_pred, y_true=y_val)"
   ]
  },
  {
   "cell_type": "markdown",
   "metadata": {},
   "source": [
    "## Creating the submission"
   ]
  },
  {
   "cell_type": "code",
   "execution_count": 925,
   "metadata": {},
   "outputs": [],
   "source": [
    "# Predict on the test set \n",
    "X_test = preprocessor.transform(store_dataframes[\"test\"])\n",
    "y_test_pred = reverse_log1p_transform_pred_var(cb.predict(X_test), std_y, mean_y)\n",
    "\n",
    "# Generate submission dataframe \n",
    "# NOTE: It is important that the ID and predicted values match\n",
    "submission = pd.DataFrame()\n",
    "submission['id'] = stores_test.store_id \n",
    "submission['predicted'] = np.asarray(y_test_pred)\n",
    "\n",
    "# Save it to disk (`index=False` means don't save the index in the csv)\n",
    "submission.to_csv('submission.csv', index=False)"
   ]
  },
  {
   "cell_type": "markdown",
   "metadata": {},
   "source": [
    "# Create CSV of dataframes"
   ]
  },
  {
   "cell_type": "code",
   "execution_count": 1029,
   "metadata": {},
   "outputs": [],
   "source": [
    "for df_name, df in store_dataframes.items():\n",
    "    filepath = Path(f\"temp_data/full_features_{df_name}.csv\")  \n",
    "    filepath.parent.mkdir(parents=True, exist_ok=True)  \n",
    "    df.to_csv(filepath, index=True)"
   ]
  },
  {
   "cell_type": "code",
   "execution_count": null,
   "metadata": {},
   "outputs": [],
   "source": []
  }
 ],
 "metadata": {
  "kernelspec": {
   "display_name": "Python 3.9.13 ('base')",
   "language": "python",
   "name": "python3"
  },
  "language_info": {
   "codemirror_mode": {
    "name": "ipython",
    "version": 3
   },
   "file_extension": ".py",
   "mimetype": "text/x-python",
   "name": "python",
   "nbconvert_exporter": "python",
   "pygments_lexer": "ipython3",
   "version": "3.9.13"
  },
  "orig_nbformat": 4,
  "vscode": {
   "interpreter": {
    "hash": "955c12110b07425d818bf9efcf8181463f40c3bfbdb705ae16c6eed56a6d2475"
   }
  }
 },
 "nbformat": 4,
 "nbformat_minor": 2
}
