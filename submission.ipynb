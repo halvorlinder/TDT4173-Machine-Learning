{
 "cells": [
  {
   "cell_type": "markdown",
   "metadata": {},
   "source": [
    "# Submission"
   ]
  },
  {
   "cell_type": "code",
   "execution_count": 689,
   "metadata": {},
   "outputs": [
    {
     "name": "stdout",
     "output_type": "stream",
     "text": [
      "The autoreload extension is already loaded. To reload it, use:\n",
      "  %reload_ext autoreload\n"
     ]
    }
   ],
   "source": [
    "# Magic to automatically update imports if functions in utils are changed\n",
    "%load_ext autoreload\n",
    "%autoreload 2\n",
    "\n",
    "import pandas as pd\n",
    "import numpy as np\n",
    "from tqdm import tqdm\n",
    "from pathlib import Path"
   ]
  },
  {
   "cell_type": "code",
   "execution_count": 690,
   "metadata": {},
   "outputs": [],
   "source": [
    "submission_with_whole_train = False"
   ]
  },
  {
   "cell_type": "markdown",
   "metadata": {},
   "source": [
    "# Feature engineer (option 1)"
   ]
  },
  {
   "cell_type": "code",
   "execution_count": 691,
   "metadata": {},
   "outputs": [],
   "source": [
    "from sklearn.model_selection import train_test_split\n",
    "\n",
    "stores_train = pd.read_csv(\"data/stores_train.csv\")\n",
    "stores_test = pd.read_csv(\"data/stores_test.csv\")\n",
    "stores_extra = pd.read_csv(\"data/stores_extra.csv\")\n",
    "if not submission_with_whole_train:\n",
    "    stores_train, stores_val = train_test_split(stores_train, test_size=0.2, random_state=0)"
   ]
  },
  {
   "cell_type": "code",
   "execution_count": 692,
   "metadata": {},
   "outputs": [],
   "source": [
    "from utils import split_plaace_cat\n",
    "\n",
    "\n",
    "store_dataframes = {\n",
    "    \"train\": stores_train, \n",
    "    \"extra\": stores_extra, \n",
    "    \"test\": stores_test, \n",
    "    }\n",
    "\n",
    "if not submission_with_whole_train:\n",
    "    store_dataframes[\"val\"] = stores_val\n",
    "\n",
    "for df_name, df in store_dataframes.items():\n",
    "    df = split_plaace_cat(df)"
   ]
  },
  {
   "cell_type": "code",
   "execution_count": 693,
   "metadata": {},
   "outputs": [],
   "source": [
    "from remove_outlier import remove_outliers\n",
    "store_dataframes[\"train\"] = remove_outliers(store_dataframes[\"train\"], \"plaace_cat_4\")\n",
    "\n",
    "from outlier_utils import remove_low_revenue\n",
    "store_dataframes[\"train\"] = remove_low_revenue(store_dataframes[\"train\"], low_rev_limit=0.05)"
   ]
  },
  {
   "cell_type": "code",
   "execution_count": 694,
   "metadata": {},
   "outputs": [
    {
     "data": {
      "text/plain": [
       "(9856, 16)"
      ]
     },
     "execution_count": 694,
     "metadata": {},
     "output_type": "execute_result"
    }
   ],
   "source": [
    "store_dataframes[\"train\"].shape"
   ]
  },
  {
   "cell_type": "code",
   "execution_count": 695,
   "metadata": {},
   "outputs": [],
   "source": [
    "store_dataframes[\"train\"][\"log_revenue\"] = store_dataframes[\"train\"].revenue.apply(lambda x: np.log1p(x))\n",
    "if not submission_with_whole_train:\n",
    "    store_dataframes[\"val\"][\"log_revenue\"] = store_dataframes[\"val\"].revenue.apply(lambda x: np.log1p(x))"
   ]
  },
  {
   "cell_type": "code",
   "execution_count": 762,
   "metadata": {},
   "outputs": [
    {
     "name": "stderr",
     "output_type": "stream",
     "text": [
      "100%|██████████| 4/4 [00:00<00:00, 43.03it/s]\n",
      "100%|██████████| 4/4 [00:10<00:00,  2.75s/it]\n",
      "100%|██████████| 4/4 [00:00<00:00, 190.35it/s]\n"
     ]
    }
   ],
   "source": [
    "from utils import mean_rev_of_competitor, log_mean_rev_of_competitor, create_geographical_columns, create_chain_and_mall_columns, generate_chain_rev_dict, generate_plaace_rev_dict, create_mean_chain_rev_col\n",
    "\n",
    "chain_count = stores_train[\"chain_name\"].value_counts().to_dict()\n",
    "\n",
    "for df_name, df in tqdm(store_dataframes.items()):\n",
    "    store_dataframes[df_name] = create_geographical_columns(df)\n",
    "    store_dataframes[df_name] = create_chain_and_mall_columns(df, chain_count, lower_limit=1)\n",
    "\n",
    "chain_rev_dict, log_bounded_chain_rev_dict = generate_chain_rev_dict(store_dataframes[\"train\"], quantile=0)\n",
    "\n",
    "for i in tqdm(range(1, 5)):\n",
    "    rev_plaace_dict, mean_plaace_revenue, log_rev_plaace_dict, log_mean_plaace_revenue = generate_plaace_rev_dict(store_dataframes[\"train\"], i, quantile=0)\n",
    "    for df_name, df in store_dataframes.items():\n",
    "            store_dataframes[df_name] = mean_rev_of_competitor(store_dataframes[df_name], i, rev_dict=rev_plaace_dict, mean_revenue=mean_plaace_revenue)\n",
    "            store_dataframes[df_name] = log_mean_rev_of_competitor(store_dataframes[df_name], i, log_rev_dict=log_rev_plaace_dict, log_mean_revenue=log_mean_plaace_revenue)\n",
    "    \n",
    "for df_name, df in tqdm(store_dataframes.items()):\n",
    "    store_dataframes[df_name] = create_mean_chain_rev_col(df, bounded_chain_revs=chain_rev_dict, log_bounded_chain_revs=log_bounded_chain_rev_dict)"
   ]
  },
  {
   "cell_type": "code",
   "execution_count": 698,
   "metadata": {},
   "outputs": [],
   "source": [
    "from utils import concat_df_keep_unq_index\n",
    "concat_df = concat_df_keep_unq_index(stores_train, stores_extra)"
   ]
  },
  {
   "cell_type": "markdown",
   "metadata": {},
   "source": [
    "!NB next cell takes 3 minutes to run (if comp_plaace_gran. = [1, 2, 3, 4]) (on M1 Mac with 16GB RAM)\n",
    "\n",
    "(outdated) If you have the .csv files temp_data/closest_comp_\\{df_name\\}, skip running this cell and run the cell below it instead"
   ]
  },
  {
   "cell_type": "code",
   "execution_count": 699,
   "metadata": {},
   "outputs": [],
   "source": [
    "from utils import find_dist_to_nearest_comp\n",
    "\n",
    "nearest_comp_plaace_cat_gran = [1, 2, 3, 4]\n",
    "n_nearest_comp = [1, 2, 3, 4, 5, 7, 10]\n",
    "\n",
    "store_dataframes[\"train\"] = find_dist_to_nearest_comp(\n",
    "    store_dataframes[\"train\"], \n",
    "    nearest_comp_plaace_cat_gran, \n",
    "    n_nearest_comp, \n",
    "    training=True, \n",
    "    training_df=concat_df,\n",
    "    )"
   ]
  },
  {
   "cell_type": "code",
   "execution_count": 700,
   "metadata": {},
   "outputs": [],
   "source": [
    "if not submission_with_whole_train:\n",
    "    store_dataframes[\"val\"] = find_dist_to_nearest_comp(\n",
    "        store_dataframes[\"val\"], \n",
    "        nearest_comp_plaace_cat_gran, \n",
    "        n_nearest_comp, \n",
    "        training=True, \n",
    "        training_df=concat_df,\n",
    "        )"
   ]
  },
  {
   "cell_type": "code",
   "execution_count": 701,
   "metadata": {},
   "outputs": [],
   "source": [
    "store_dataframes[\"test\"] = find_dist_to_nearest_comp(\n",
    "    store_dataframes[\"test\"], \n",
    "    nearest_comp_plaace_cat_gran, \n",
    "    n_nearest_comp, \n",
    "    training=False,\n",
    "    training_df=concat_df\n",
    ")"
   ]
  },
  {
   "cell_type": "code",
   "execution_count": 702,
   "metadata": {},
   "outputs": [],
   "source": [
    "comp_plaace_cols = list(store_dataframes[\"train\"].columns[-56:])"
   ]
  },
  {
   "cell_type": "code",
   "execution_count": 703,
   "metadata": {},
   "outputs": [
    {
     "data": {
      "text/plain": [
       "[['log_revenue', 1.0],\n",
       " ['sum_dist_to_nearest_10_comp_plaace_1', -0.11791123528859537],\n",
       " ['mean_dist_to_nearest_10_comp_plaace_1', -0.117911235288595],\n",
       " ['mean_dist_to_nearest_7_comp_plaace_1', -0.11431968464214541],\n",
       " ['sum_dist_to_nearest_7_comp_plaace_1', -0.1143196846421449],\n",
       " ['mean_dist_to_nearest_5_comp_plaace_1', -0.11000682292553704],\n",
       " ['sum_dist_to_nearest_5_comp_plaace_1', -0.11000682292553673],\n",
       " ['sum_dist_to_nearest_4_comp_plaace_1', -0.10649073608996629],\n",
       " ['mean_dist_to_nearest_4_comp_plaace_1', -0.10649073608996629],\n",
       " ['mean_dist_to_nearest_3_comp_plaace_1', -0.09991523665621461],\n",
       " ['sum_dist_to_nearest_3_comp_plaace_1', -0.09991523665621417],\n",
       " ['sum_dist_to_nearest_2_comp_plaace_1', -0.09684610738958518],\n",
       " ['mean_dist_to_nearest_2_comp_plaace_1', -0.09684610738958518],\n",
       " ['sum_dist_to_nearest_1_comp_plaace_1', -0.08361246404990565],\n",
       " ['mean_dist_to_nearest_1_comp_plaace_1', -0.08361246404990565],\n",
       " ['sum_dist_to_nearest_1_comp_plaace_2', -0.055627306424984625],\n",
       " ['mean_dist_to_nearest_1_comp_plaace_2', -0.055627306424984625],\n",
       " ['sum_dist_to_nearest_2_comp_plaace_2', -0.054113866536638],\n",
       " ['mean_dist_to_nearest_2_comp_plaace_2', -0.054113866536638],\n",
       " ['sum_dist_to_nearest_2_comp_plaace_4', -0.0539860257036849],\n",
       " ['mean_dist_to_nearest_2_comp_plaace_4', -0.0539860257036849],\n",
       " ['sum_dist_to_nearest_3_comp_plaace_2', -0.05227841434878016],\n",
       " ['mean_dist_to_nearest_3_comp_plaace_2', -0.05227841434877979],\n",
       " ['sum_dist_to_nearest_4_comp_plaace_2', -0.05189134817581987],\n",
       " ['mean_dist_to_nearest_4_comp_plaace_2', -0.05189134817581987],\n",
       " ['sum_dist_to_nearest_2_comp_plaace_3', -0.051153909266954845],\n",
       " ['mean_dist_to_nearest_2_comp_plaace_3', -0.051153909266954845],\n",
       " ['sum_dist_to_nearest_3_comp_plaace_4', -0.05051415763934917],\n",
       " ['mean_dist_to_nearest_3_comp_plaace_4', -0.050514157639349],\n",
       " ['sum_dist_to_nearest_5_comp_plaace_2', -0.04976992273198349],\n",
       " ['mean_dist_to_nearest_5_comp_plaace_2', -0.049769922731983315],\n",
       " ['mean_dist_to_nearest_3_comp_plaace_3', -0.04854912367784356],\n",
       " ['sum_dist_to_nearest_3_comp_plaace_3', -0.04854912367784353],\n",
       " ['sum_dist_to_nearest_1_comp_plaace_4', -0.04825130999163995],\n",
       " ['mean_dist_to_nearest_1_comp_plaace_4', -0.04825130999163995],\n",
       " ['sum_dist_to_nearest_4_comp_plaace_4', -0.04803255134921779],\n",
       " ['mean_dist_to_nearest_4_comp_plaace_4', -0.04803255134921779],\n",
       " ['sum_dist_to_nearest_4_comp_plaace_3', -0.04658996219498257],\n",
       " ['mean_dist_to_nearest_4_comp_plaace_3', -0.04658996219498257],\n",
       " ['sum_dist_to_nearest_1_comp_plaace_3', -0.04591976836928609],\n",
       " ['mean_dist_to_nearest_1_comp_plaace_3', -0.04591976836928609],\n",
       " ['sum_dist_to_nearest_5_comp_plaace_4', -0.045806338834898],\n",
       " ['mean_dist_to_nearest_5_comp_plaace_4', -0.04580633883489792],\n",
       " ['mean_dist_to_nearest_5_comp_plaace_3', -0.04473277602837922],\n",
       " ['sum_dist_to_nearest_5_comp_plaace_3', -0.04473277602837907],\n",
       " ['mean_dist_to_nearest_7_comp_plaace_2', -0.04416110245358044],\n",
       " ['sum_dist_to_nearest_7_comp_plaace_2', -0.04416110245358014],\n",
       " ['mean_dist_to_nearest_7_comp_plaace_4', -0.042333093848530894],\n",
       " ['sum_dist_to_nearest_7_comp_plaace_4', -0.042333093848530734],\n",
       " ['mean_dist_to_nearest_7_comp_plaace_3', -0.041506497925591704],\n",
       " ['sum_dist_to_nearest_7_comp_plaace_3', -0.04150649792559157],\n",
       " ['sum_dist_to_nearest_10_comp_plaace_4', -0.03897435782379761],\n",
       " ['mean_dist_to_nearest_10_comp_plaace_4', -0.038974357823797275],\n",
       " ['sum_dist_to_nearest_10_comp_plaace_3', -0.037859221439974895],\n",
       " ['mean_dist_to_nearest_10_comp_plaace_3', -0.03785922143997474],\n",
       " ['mean_dist_to_nearest_10_comp_plaace_2', -0.03718740551290162],\n",
       " ['sum_dist_to_nearest_10_comp_plaace_2', -0.03718740551290129]]"
      ]
     },
     "execution_count": 703,
     "metadata": {},
     "output_type": "execute_result"
    }
   ],
   "source": [
    "dist_dict = store_dataframes[\"train\"][['log_revenue'] + comp_plaace_cols].corr().iloc[0].to_dict()\n",
    "sorted_relevant_dist_cols = [[k, v] for k, v in sorted(dist_dict.items(), key=lambda item: abs(item[1]), reverse=True)]\n",
    "sorted_relevant_dist_cols"
   ]
  },
  {
   "cell_type": "code",
   "execution_count": 704,
   "metadata": {},
   "outputs": [],
   "source": [
    "comp_relevant_cols = sorted_relevant_dist_cols[1:14:2]\n",
    "comp_relevant_cols = [r[0] for r in comp_relevant_cols]"
   ]
  },
  {
   "cell_type": "code",
   "execution_count": 705,
   "metadata": {},
   "outputs": [],
   "source": [
    "new_comp_relevant_cols = [\n",
    "    'sum_dist_to_nearest_10_comp_plaace_1',\n",
    "    'sum_dist_to_nearest_3_comp_plaace_1',\n",
    "    'sum_dist_to_nearest_1_comp_plaace_1', \n",
    "    'sum_dist_to_nearest_3_comp_plaace_2',\n",
    "    'sum_dist_to_nearest_1_comp_plaace_2',\n",
    "    'sum_dist_to_nearest_1_comp_plaace_3',\n",
    "    ]"
   ]
  },
  {
   "cell_type": "markdown",
   "metadata": {},
   "source": [
    "!NB next cell takes 15 minutes to run. Grab a coffee or somtething while you wait :) (on M1 Mac with 16GB RAM)\n",
    "\n",
    "If you have the .csv files temp_data/closest_bus_stop_\\{df_name\\}, skip running this cell and run the cell below it instead"
   ]
  },
  {
   "cell_type": "code",
   "execution_count": 706,
   "metadata": {},
   "outputs": [
    {
     "name": "stderr",
     "output_type": "stream",
     "text": [
      "100%|██████████| 4/4 [12:11<00:00, 182.82s/it]\n"
     ]
    }
   ],
   "source": [
    "from bus_utils import find_closest_bus_stop\n",
    "\n",
    "bus_stop_n = [1, 2, 3, 5, 7, 10, 15 ,25, 50, 100]\n",
    "bus_mean = True\n",
    "bus_sum = True\n",
    "\n",
    "bus_stop_columns = []\n",
    "\n",
    "if(bus_sum):\n",
    "    bus_stop_columns += [f\"closest_bus_stop_sum_{i}\" for i in bus_stop_n]\n",
    "\n",
    "if(bus_mean):\n",
    "    bus_stop_columns += [f\"closest_bus_stop_mean_{i}\" for i in bus_stop_n]\n",
    "\n",
    "\n",
    "for df_name, df in tqdm(store_dataframes.items()):\n",
    "    store_dataframes[df_name] = find_closest_bus_stop(df, bus_stop_n, _sum=bus_sum, _mean=bus_mean)    "
   ]
  },
  {
   "cell_type": "code",
   "execution_count": 707,
   "metadata": {},
   "outputs": [
    {
     "data": {
      "text/plain": [
       "[['log_revenue', 1.0],\n",
       " ['closest_bus_stop_mean_15', -0.047443014968288434],\n",
       " ['closest_bus_stop_sum_15', -0.047443014968288115],\n",
       " ['closest_bus_stop_mean_10', -0.04495627097222023],\n",
       " ['closest_bus_stop_sum_10', -0.044956270972220005],\n",
       " ['closest_bus_stop_sum_25', -0.04468789536065229],\n",
       " ['closest_bus_stop_mean_25', -0.04468789536065196],\n",
       " ['closest_bus_stop_mean_7', -0.0423769571255422],\n",
       " ['closest_bus_stop_sum_7', -0.042376957125542174],\n",
       " ['closest_bus_stop_mean_5', -0.040127934823078554],\n",
       " ['closest_bus_stop_sum_5', -0.040127934823078394],\n",
       " ['closest_bus_stop_mean_3', -0.037808251583550605],\n",
       " ['closest_bus_stop_sum_3', -0.037808251583550175],\n",
       " ['closest_bus_stop_mean_50', -0.037120456033797926],\n",
       " ['closest_bus_stop_sum_50', -0.037120456033797634],\n",
       " ['closest_bus_stop_sum_2', -0.03400879586258294],\n",
       " ['closest_bus_stop_mean_2', -0.03400879586258294],\n",
       " ['closest_bus_stop_sum_1', -0.0304164493706542],\n",
       " ['closest_bus_stop_mean_1', -0.0304164493706542],\n",
       " ['closest_bus_stop_sum_100', -0.02744662160442455],\n",
       " ['closest_bus_stop_mean_100', -0.0274466216044244]]"
      ]
     },
     "execution_count": 707,
     "metadata": {},
     "output_type": "execute_result"
    }
   ],
   "source": [
    "bus_dict = store_dataframes[\"train\"][['log_revenue'] + bus_stop_columns].corr().iloc[0].to_dict()\n",
    "bus_sorted_relevant_dist_cols = [[k, v] for k, v in sorted(bus_dict.items(), key=lambda item: abs(item[1]), reverse=True)]\n",
    "bus_sorted_relevant_dist_cols"
   ]
  },
  {
   "cell_type": "code",
   "execution_count": 708,
   "metadata": {},
   "outputs": [],
   "source": [
    "bus_relevant_cols = bus_sorted_relevant_dist_cols[1::2]\n",
    "bus_relevant_cols = [r[0] for r in bus_relevant_cols]"
   ]
  },
  {
   "cell_type": "code",
   "execution_count": 709,
   "metadata": {},
   "outputs": [],
   "source": [
    "bus_relevant_cols = bus_relevant_cols[:5]"
   ]
  },
  {
   "cell_type": "code",
   "execution_count": 710,
   "metadata": {},
   "outputs": [
    {
     "name": "stderr",
     "output_type": "stream",
     "text": [
      " 25%|██▌       | 1/4 [00:05<00:17,  5.83s/it]/Users/oskarjor/NTNU/2022FALL/TDT4173/TDT4173/grunnkrets.py:101: PerformanceWarning: DataFrame is highly fragmented.  This is usually the result of calling `frame.insert` many times, which has poor performance.  Consider joining all columns at once using pd.concat(axis=1) instead. To get a de-fragmented frame, use `newframe = frame.copy()`\n",
      "  full_population_df[f'{level}.income_density_log']  = np.log1p(full_population_df[f'{level}.income_density'])\n",
      "/Users/oskarjor/NTNU/2022FALL/TDT4173/TDT4173/grunnkrets.py:100: PerformanceWarning: DataFrame is highly fragmented.  This is usually the result of calling `frame.insert` many times, which has poor performance.  Consider joining all columns at once using pd.concat(axis=1) instead. To get a de-fragmented frame, use `newframe = frame.copy()`\n",
      "  full_population_df[f'{level}.income_density']  = full_population_df[f'{level}.total_income']/full_population_df[f'{level}.area_km2']\n",
      "/Users/oskarjor/NTNU/2022FALL/TDT4173/TDT4173/grunnkrets.py:101: PerformanceWarning: DataFrame is highly fragmented.  This is usually the result of calling `frame.insert` many times, which has poor performance.  Consider joining all columns at once using pd.concat(axis=1) instead. To get a de-fragmented frame, use `newframe = frame.copy()`\n",
      "  full_population_df[f'{level}.income_density_log']  = np.log1p(full_population_df[f'{level}.income_density'])\n",
      "/Users/oskarjor/NTNU/2022FALL/TDT4173/TDT4173/grunnkrets.py:104: PerformanceWarning: DataFrame is highly fragmented.  This is usually the result of calling `frame.insert` many times, which has poor performance.  Consider joining all columns at once using pd.concat(axis=1) instead. To get a de-fragmented frame, use `newframe = frame.copy()`\n",
      "  full_population_df[f'{level}.pop_density'] = full_population_df[f'{level}.tot_pop']/full_population_df[f'{level}.area_km2']\n",
      "/Users/oskarjor/NTNU/2022FALL/TDT4173/TDT4173/grunnkrets.py:105: PerformanceWarning: DataFrame is highly fragmented.  This is usually the result of calling `frame.insert` many times, which has poor performance.  Consider joining all columns at once using pd.concat(axis=1) instead. To get a de-fragmented frame, use `newframe = frame.copy()`\n",
      "  full_population_df[f'{level}.pop_density_log'] = np.log1p(full_population_df[f'{level}.pop_density'])\n",
      "/Users/oskarjor/NTNU/2022FALL/TDT4173/TDT4173/grunnkrets.py:104: PerformanceWarning: DataFrame is highly fragmented.  This is usually the result of calling `frame.insert` many times, which has poor performance.  Consider joining all columns at once using pd.concat(axis=1) instead. To get a de-fragmented frame, use `newframe = frame.copy()`\n",
      "  full_population_df[f'{level}.pop_density'] = full_population_df[f'{level}.tot_pop']/full_population_df[f'{level}.area_km2']\n",
      "/Users/oskarjor/NTNU/2022FALL/TDT4173/TDT4173/grunnkrets.py:105: PerformanceWarning: DataFrame is highly fragmented.  This is usually the result of calling `frame.insert` many times, which has poor performance.  Consider joining all columns at once using pd.concat(axis=1) instead. To get a de-fragmented frame, use `newframe = frame.copy()`\n",
      "  full_population_df[f'{level}.pop_density_log'] = np.log1p(full_population_df[f'{level}.pop_density'])\n",
      "/Users/oskarjor/NTNU/2022FALL/TDT4173/TDT4173/grunnkrets.py:104: PerformanceWarning: DataFrame is highly fragmented.  This is usually the result of calling `frame.insert` many times, which has poor performance.  Consider joining all columns at once using pd.concat(axis=1) instead. To get a de-fragmented frame, use `newframe = frame.copy()`\n",
      "  full_population_df[f'{level}.pop_density'] = full_population_df[f'{level}.tot_pop']/full_population_df[f'{level}.area_km2']\n",
      "/Users/oskarjor/NTNU/2022FALL/TDT4173/TDT4173/grunnkrets.py:105: PerformanceWarning: DataFrame is highly fragmented.  This is usually the result of calling `frame.insert` many times, which has poor performance.  Consider joining all columns at once using pd.concat(axis=1) instead. To get a de-fragmented frame, use `newframe = frame.copy()`\n",
      "  full_population_df[f'{level}.pop_density_log'] = np.log1p(full_population_df[f'{level}.pop_density'])\n",
      "/Users/oskarjor/NTNU/2022FALL/TDT4173/TDT4173/grunnkrets.py:104: PerformanceWarning: DataFrame is highly fragmented.  This is usually the result of calling `frame.insert` many times, which has poor performance.  Consider joining all columns at once using pd.concat(axis=1) instead. To get a de-fragmented frame, use `newframe = frame.copy()`\n",
      "  full_population_df[f'{level}.pop_density'] = full_population_df[f'{level}.tot_pop']/full_population_df[f'{level}.area_km2']\n",
      "/Users/oskarjor/NTNU/2022FALL/TDT4173/TDT4173/grunnkrets.py:105: PerformanceWarning: DataFrame is highly fragmented.  This is usually the result of calling `frame.insert` many times, which has poor performance.  Consider joining all columns at once using pd.concat(axis=1) instead. To get a de-fragmented frame, use `newframe = frame.copy()`\n",
      "  full_population_df[f'{level}.pop_density_log'] = np.log1p(full_population_df[f'{level}.pop_density'])\n",
      " 50%|█████     | 2/4 [00:19<00:20, 10.49s/it]/Users/oskarjor/NTNU/2022FALL/TDT4173/TDT4173/grunnkrets.py:100: PerformanceWarning: DataFrame is highly fragmented.  This is usually the result of calling `frame.insert` many times, which has poor performance.  Consider joining all columns at once using pd.concat(axis=1) instead. To get a de-fragmented frame, use `newframe = frame.copy()`\n",
      "  full_population_df[f'{level}.income_density']  = full_population_df[f'{level}.total_income']/full_population_df[f'{level}.area_km2']\n",
      "/Users/oskarjor/NTNU/2022FALL/TDT4173/TDT4173/grunnkrets.py:101: PerformanceWarning: DataFrame is highly fragmented.  This is usually the result of calling `frame.insert` many times, which has poor performance.  Consider joining all columns at once using pd.concat(axis=1) instead. To get a de-fragmented frame, use `newframe = frame.copy()`\n",
      "  full_population_df[f'{level}.income_density_log']  = np.log1p(full_population_df[f'{level}.income_density'])\n",
      "/Users/oskarjor/NTNU/2022FALL/TDT4173/TDT4173/grunnkrets.py:100: PerformanceWarning: DataFrame is highly fragmented.  This is usually the result of calling `frame.insert` many times, which has poor performance.  Consider joining all columns at once using pd.concat(axis=1) instead. To get a de-fragmented frame, use `newframe = frame.copy()`\n",
      "  full_population_df[f'{level}.income_density']  = full_population_df[f'{level}.total_income']/full_population_df[f'{level}.area_km2']\n",
      "/Users/oskarjor/NTNU/2022FALL/TDT4173/TDT4173/grunnkrets.py:101: PerformanceWarning: DataFrame is highly fragmented.  This is usually the result of calling `frame.insert` many times, which has poor performance.  Consider joining all columns at once using pd.concat(axis=1) instead. To get a de-fragmented frame, use `newframe = frame.copy()`\n",
      "  full_population_df[f'{level}.income_density_log']  = np.log1p(full_population_df[f'{level}.income_density'])\n",
      "/Users/oskarjor/NTNU/2022FALL/TDT4173/TDT4173/grunnkrets.py:104: PerformanceWarning: DataFrame is highly fragmented.  This is usually the result of calling `frame.insert` many times, which has poor performance.  Consider joining all columns at once using pd.concat(axis=1) instead. To get a de-fragmented frame, use `newframe = frame.copy()`\n",
      "  full_population_df[f'{level}.pop_density'] = full_population_df[f'{level}.tot_pop']/full_population_df[f'{level}.area_km2']\n",
      "/Users/oskarjor/NTNU/2022FALL/TDT4173/TDT4173/grunnkrets.py:105: PerformanceWarning: DataFrame is highly fragmented.  This is usually the result of calling `frame.insert` many times, which has poor performance.  Consider joining all columns at once using pd.concat(axis=1) instead. To get a de-fragmented frame, use `newframe = frame.copy()`\n",
      "  full_population_df[f'{level}.pop_density_log'] = np.log1p(full_population_df[f'{level}.pop_density'])\n",
      "/Users/oskarjor/NTNU/2022FALL/TDT4173/TDT4173/grunnkrets.py:104: PerformanceWarning: DataFrame is highly fragmented.  This is usually the result of calling `frame.insert` many times, which has poor performance.  Consider joining all columns at once using pd.concat(axis=1) instead. To get a de-fragmented frame, use `newframe = frame.copy()`\n",
      "  full_population_df[f'{level}.pop_density'] = full_population_df[f'{level}.tot_pop']/full_population_df[f'{level}.area_km2']\n",
      "/Users/oskarjor/NTNU/2022FALL/TDT4173/TDT4173/grunnkrets.py:105: PerformanceWarning: DataFrame is highly fragmented.  This is usually the result of calling `frame.insert` many times, which has poor performance.  Consider joining all columns at once using pd.concat(axis=1) instead. To get a de-fragmented frame, use `newframe = frame.copy()`\n",
      "  full_population_df[f'{level}.pop_density_log'] = np.log1p(full_population_df[f'{level}.pop_density'])\n",
      "/Users/oskarjor/NTNU/2022FALL/TDT4173/TDT4173/grunnkrets.py:104: PerformanceWarning: DataFrame is highly fragmented.  This is usually the result of calling `frame.insert` many times, which has poor performance.  Consider joining all columns at once using pd.concat(axis=1) instead. To get a de-fragmented frame, use `newframe = frame.copy()`\n",
      "  full_population_df[f'{level}.pop_density'] = full_population_df[f'{level}.tot_pop']/full_population_df[f'{level}.area_km2']\n",
      "/Users/oskarjor/NTNU/2022FALL/TDT4173/TDT4173/grunnkrets.py:105: PerformanceWarning: DataFrame is highly fragmented.  This is usually the result of calling `frame.insert` many times, which has poor performance.  Consider joining all columns at once using pd.concat(axis=1) instead. To get a de-fragmented frame, use `newframe = frame.copy()`\n",
      "  full_population_df[f'{level}.pop_density_log'] = np.log1p(full_population_df[f'{level}.pop_density'])\n",
      "/Users/oskarjor/NTNU/2022FALL/TDT4173/TDT4173/grunnkrets.py:104: PerformanceWarning: DataFrame is highly fragmented.  This is usually the result of calling `frame.insert` many times, which has poor performance.  Consider joining all columns at once using pd.concat(axis=1) instead. To get a de-fragmented frame, use `newframe = frame.copy()`\n",
      "  full_population_df[f'{level}.pop_density'] = full_population_df[f'{level}.tot_pop']/full_population_df[f'{level}.area_km2']\n",
      "/Users/oskarjor/NTNU/2022FALL/TDT4173/TDT4173/grunnkrets.py:105: PerformanceWarning: DataFrame is highly fragmented.  This is usually the result of calling `frame.insert` many times, which has poor performance.  Consider joining all columns at once using pd.concat(axis=1) instead. To get a de-fragmented frame, use `newframe = frame.copy()`\n",
      "  full_population_df[f'{level}.pop_density_log'] = np.log1p(full_population_df[f'{level}.pop_density'])\n",
      " 75%|███████▌  | 3/4 [00:24<00:08,  8.04s/it]/Users/oskarjor/NTNU/2022FALL/TDT4173/TDT4173/grunnkrets.py:101: PerformanceWarning: DataFrame is highly fragmented.  This is usually the result of calling `frame.insert` many times, which has poor performance.  Consider joining all columns at once using pd.concat(axis=1) instead. To get a de-fragmented frame, use `newframe = frame.copy()`\n",
      "  full_population_df[f'{level}.income_density_log']  = np.log1p(full_population_df[f'{level}.income_density'])\n",
      "/Users/oskarjor/NTNU/2022FALL/TDT4173/TDT4173/grunnkrets.py:100: PerformanceWarning: DataFrame is highly fragmented.  This is usually the result of calling `frame.insert` many times, which has poor performance.  Consider joining all columns at once using pd.concat(axis=1) instead. To get a de-fragmented frame, use `newframe = frame.copy()`\n",
      "  full_population_df[f'{level}.income_density']  = full_population_df[f'{level}.total_income']/full_population_df[f'{level}.area_km2']\n",
      "/Users/oskarjor/NTNU/2022FALL/TDT4173/TDT4173/grunnkrets.py:101: PerformanceWarning: DataFrame is highly fragmented.  This is usually the result of calling `frame.insert` many times, which has poor performance.  Consider joining all columns at once using pd.concat(axis=1) instead. To get a de-fragmented frame, use `newframe = frame.copy()`\n",
      "  full_population_df[f'{level}.income_density_log']  = np.log1p(full_population_df[f'{level}.income_density'])\n",
      "/Users/oskarjor/NTNU/2022FALL/TDT4173/TDT4173/grunnkrets.py:100: PerformanceWarning: DataFrame is highly fragmented.  This is usually the result of calling `frame.insert` many times, which has poor performance.  Consider joining all columns at once using pd.concat(axis=1) instead. To get a de-fragmented frame, use `newframe = frame.copy()`\n",
      "  full_population_df[f'{level}.income_density']  = full_population_df[f'{level}.total_income']/full_population_df[f'{level}.area_km2']\n",
      "/Users/oskarjor/NTNU/2022FALL/TDT4173/TDT4173/grunnkrets.py:101: PerformanceWarning: DataFrame is highly fragmented.  This is usually the result of calling `frame.insert` many times, which has poor performance.  Consider joining all columns at once using pd.concat(axis=1) instead. To get a de-fragmented frame, use `newframe = frame.copy()`\n",
      "  full_population_df[f'{level}.income_density_log']  = np.log1p(full_population_df[f'{level}.income_density'])\n",
      "/Users/oskarjor/NTNU/2022FALL/TDT4173/TDT4173/grunnkrets.py:100: PerformanceWarning: DataFrame is highly fragmented.  This is usually the result of calling `frame.insert` many times, which has poor performance.  Consider joining all columns at once using pd.concat(axis=1) instead. To get a de-fragmented frame, use `newframe = frame.copy()`\n",
      "  full_population_df[f'{level}.income_density']  = full_population_df[f'{level}.total_income']/full_population_df[f'{level}.area_km2']\n",
      "/Users/oskarjor/NTNU/2022FALL/TDT4173/TDT4173/grunnkrets.py:101: PerformanceWarning: DataFrame is highly fragmented.  This is usually the result of calling `frame.insert` many times, which has poor performance.  Consider joining all columns at once using pd.concat(axis=1) instead. To get a de-fragmented frame, use `newframe = frame.copy()`\n",
      "  full_population_df[f'{level}.income_density_log']  = np.log1p(full_population_df[f'{level}.income_density'])\n",
      "/Users/oskarjor/NTNU/2022FALL/TDT4173/TDT4173/grunnkrets.py:104: PerformanceWarning: DataFrame is highly fragmented.  This is usually the result of calling `frame.insert` many times, which has poor performance.  Consider joining all columns at once using pd.concat(axis=1) instead. To get a de-fragmented frame, use `newframe = frame.copy()`\n",
      "  full_population_df[f'{level}.pop_density'] = full_population_df[f'{level}.tot_pop']/full_population_df[f'{level}.area_km2']\n",
      "/Users/oskarjor/NTNU/2022FALL/TDT4173/TDT4173/grunnkrets.py:105: PerformanceWarning: DataFrame is highly fragmented.  This is usually the result of calling `frame.insert` many times, which has poor performance.  Consider joining all columns at once using pd.concat(axis=1) instead. To get a de-fragmented frame, use `newframe = frame.copy()`\n",
      "  full_population_df[f'{level}.pop_density_log'] = np.log1p(full_population_df[f'{level}.pop_density'])\n",
      "/Users/oskarjor/NTNU/2022FALL/TDT4173/TDT4173/grunnkrets.py:104: PerformanceWarning: DataFrame is highly fragmented.  This is usually the result of calling `frame.insert` many times, which has poor performance.  Consider joining all columns at once using pd.concat(axis=1) instead. To get a de-fragmented frame, use `newframe = frame.copy()`\n",
      "  full_population_df[f'{level}.pop_density'] = full_population_df[f'{level}.tot_pop']/full_population_df[f'{level}.area_km2']\n",
      "/Users/oskarjor/NTNU/2022FALL/TDT4173/TDT4173/grunnkrets.py:105: PerformanceWarning: DataFrame is highly fragmented.  This is usually the result of calling `frame.insert` many times, which has poor performance.  Consider joining all columns at once using pd.concat(axis=1) instead. To get a de-fragmented frame, use `newframe = frame.copy()`\n",
      "  full_population_df[f'{level}.pop_density_log'] = np.log1p(full_population_df[f'{level}.pop_density'])\n",
      "/Users/oskarjor/NTNU/2022FALL/TDT4173/TDT4173/grunnkrets.py:104: PerformanceWarning: DataFrame is highly fragmented.  This is usually the result of calling `frame.insert` many times, which has poor performance.  Consider joining all columns at once using pd.concat(axis=1) instead. To get a de-fragmented frame, use `newframe = frame.copy()`\n",
      "  full_population_df[f'{level}.pop_density'] = full_population_df[f'{level}.tot_pop']/full_population_df[f'{level}.area_km2']\n",
      "/Users/oskarjor/NTNU/2022FALL/TDT4173/TDT4173/grunnkrets.py:105: PerformanceWarning: DataFrame is highly fragmented.  This is usually the result of calling `frame.insert` many times, which has poor performance.  Consider joining all columns at once using pd.concat(axis=1) instead. To get a de-fragmented frame, use `newframe = frame.copy()`\n",
      "  full_population_df[f'{level}.pop_density_log'] = np.log1p(full_population_df[f'{level}.pop_density'])\n",
      "/Users/oskarjor/NTNU/2022FALL/TDT4173/TDT4173/grunnkrets.py:104: PerformanceWarning: DataFrame is highly fragmented.  This is usually the result of calling `frame.insert` many times, which has poor performance.  Consider joining all columns at once using pd.concat(axis=1) instead. To get a de-fragmented frame, use `newframe = frame.copy()`\n",
      "  full_population_df[f'{level}.pop_density'] = full_population_df[f'{level}.tot_pop']/full_population_df[f'{level}.area_km2']\n",
      "/Users/oskarjor/NTNU/2022FALL/TDT4173/TDT4173/grunnkrets.py:105: PerformanceWarning: DataFrame is highly fragmented.  This is usually the result of calling `frame.insert` many times, which has poor performance.  Consider joining all columns at once using pd.concat(axis=1) instead. To get a de-fragmented frame, use `newframe = frame.copy()`\n",
      "  full_population_df[f'{level}.pop_density_log'] = np.log1p(full_population_df[f'{level}.pop_density'])\n",
      "100%|██████████| 4/4 [00:27<00:00,  6.75s/it]\n"
     ]
    }
   ],
   "source": [
    "from grunnkrets import make_grunnkrets_df\n",
    "\n",
    "full_population_dataframes = {}\n",
    "full_pop_columns = []\n",
    "\n",
    "for df_name, df in tqdm(store_dataframes.items()):\n",
    "    full_population_dataframes[df_name] = make_grunnkrets_df(df)\n",
    "    full_pop_columns = full_population_dataframes[df_name].columns"
   ]
  },
  {
   "cell_type": "code",
   "execution_count": 711,
   "metadata": {},
   "outputs": [],
   "source": [
    "full_pop_columns = list(full_pop_columns[-184:])"
   ]
  },
  {
   "cell_type": "code",
   "execution_count": 712,
   "metadata": {},
   "outputs": [],
   "source": [
    "for df_name, df in store_dataframes.items():\n",
    "    store_dataframes[df_name] = df.merge(\n",
    "        full_population_dataframes[df_name], \n",
    "        left_index=True,\n",
    "        right_index=True,\n",
    "        how=\"outer\", \n",
    "        suffixes=('', '_redundant')\n",
    "    )\n",
    "    store_dataframes[df_name].drop(store_dataframes[df_name].filter(regex='_redundant$').columns, axis=1, inplace=True)"
   ]
  },
  {
   "cell_type": "code",
   "execution_count": 713,
   "metadata": {},
   "outputs": [
    {
     "data": {
      "text/plain": [
       "[['log_revenue', 1.0],\n",
       " ['grunnkrets_id.income_density', -0.0531280910350981],\n",
       " ['grunnkrets_id.pop_density', -0.05187407128809942],\n",
       " ['delomrade.mean_age', -0.03287734944784681],\n",
       " ['grunnkrets_id.income_density_log', -0.031740339253666185],\n",
       " ['grunnkrets_id.pop_density_log', -0.03126887632706533],\n",
       " ['grunnkrets_id.tot_pop_log', 0.030210578699937388],\n",
       " ['grunnkrets_id.total_income_log', 0.029350969510877567],\n",
       " ['kommune.c_age_19-30_ratio', 0.02932904639396046],\n",
       " ['delomrade.c_age_56-90_ratio', -0.027420865485196563],\n",
       " ['fylke.couple_with_children_income', -0.02661641304753561],\n",
       " ['fylke.couple_without_children_income', -0.024463870677286545],\n",
       " ['delomrade.income_density', -0.024121740457253914],\n",
       " ['delomrade.pop_density', -0.023520505417521008],\n",
       " ['kommune.mean_age', -0.023510329483582025],\n",
       " ['fylke.single_parent_children_6_to_17_years', -0.02334813517311376],\n",
       " ['fylke.single_parent_children_0_to_5_years', -0.022842423196133166],\n",
       " ['fylke.age_49-55', -0.02193552596251593],\n",
       " ['fylke.age_42-48', -0.021775752342438212],\n",
       " ['fylke.age_70-76', -0.021023770065488903],\n",
       " ['delomrade.c_age_19-30_ratio', 0.020751868218732195],\n",
       " ['fylke.c_age_31-55', -0.02064829168326257],\n",
       " ['fylke.single_parent_with_children_income', -0.02062645573047257],\n",
       " ['fylke.c_age_31-55_ratio', -0.02052674606652155],\n",
       " ['fylke.age_56-62', -0.02045804743205709],\n",
       " ['fylke.age_63-69', -0.020447594884681945],\n",
       " ['fylke.tot_pop_log', -0.0202667661732758],\n",
       " ['fylke.c_age_56-90', -0.020237207641700228],\n",
       " ['fylke.total_income_log', -0.020160814815681976],\n",
       " ['fylke.total_income', -0.019897637160908307],\n",
       " ['fylke.age_7-13', -0.019895639057727708],\n",
       " ['fylke.age_35-41', -0.019839588301440805],\n",
       " ['fylke.tot_pop', -0.019802136811538962],\n",
       " ['fylke.c_age_0-18', -0.019667699407622214],\n",
       " ['fylke.single_parent_children_18_or_above', -0.019577612158899964],\n",
       " ['kommune.c_age_56-90_ratio', -0.019564366591076805],\n",
       " ['fylke.tot_household', -0.019550120940261352],\n",
       " ['fylke.age_0-6', -0.01939969183769952],\n",
       " ['fylke.couple_children_6_to_17_years', -0.019081522102096835],\n",
       " ['fylke.couple_without_children', -0.01904623715061875],\n",
       " ['fylke.age_77-83', -0.018944799415523645],\n",
       " ['fylke.couple_children_0_to_5_years', -0.01880221464349258],\n",
       " ['fylke.age_14-20', -0.018288014854803563],\n",
       " ['fylke.singles_income', -0.01785779927923462],\n",
       " ['fylke.age_84-90', -0.017762998976721837],\n",
       " ['fylke.singles', -0.017716392422693402],\n",
       " ['grunnkrets_id.c_age_19-30_ratio', 0.017659715577797646],\n",
       " ['fylke.income_density', -0.017398517488068144],\n",
       " ['fylke.age_28-34', -0.017064514963176385],\n",
       " ['fylke.pop_density', -0.017054224993850595],\n",
       " ['fylke.income_density_log', -0.016197492424948452],\n",
       " ['fylke.c_age_19-30', -0.01615495736740699],\n",
       " ['fylke.couple_children_18_or_above', -0.016146204552583254],\n",
       " ['fylke.pop_density_log', -0.015573834393298234],\n",
       " ['fylke.age_21-27', -0.015506677516487793],\n",
       " ['delomrade.tot_pop_log', 0.014453656203360895],\n",
       " ['delomrade.total_income_log', 0.014429955430962227],\n",
       " ['kommune.single_parent_children_0_to_5_years', -0.014369079050348342],\n",
       " ['kommune.income_density', -0.01428915021459552],\n",
       " ['kommune.pop_density', -0.014057179767282555],\n",
       " ['grunnkrets_id.c_age_31-55_ratio', -0.01354949647551637],\n",
       " ['grunnkrets_id.couple_children_18_or_above', 0.01303826463417608],\n",
       " ['kommune.age_28-34', -0.012787930446001383],\n",
       " ['grunnkrets_id.age_84-90', 0.012759246050617812],\n",
       " ['kommune.age_35-41', -0.012725847959601681],\n",
       " ['kommune.c_age_31-55', -0.012441641248682956],\n",
       " ['grunnkrets_id.age_14-20', 0.012350340632066104],\n",
       " ['grunnkrets_id.age_77-83', 0.012312051615211664],\n",
       " ['kommune.age_0-6', -0.0122874681982703],\n",
       " ['kommune.singles', -0.012221203795755718],\n",
       " ['kommune.age_42-48', -0.012129349322433935],\n",
       " ['kommune.couple_children_0_to_5_years', -0.012029365126622282],\n",
       " ['grunnkrets_id.single_parent_children_18_or_above', 0.012007981109188345],\n",
       " ['kommune.single_parent_children_6_to_17_years', -0.011850485859878537],\n",
       " ['kommune.tot_pop', -0.01179785555857207],\n",
       " ['grunnkrets_id.couple_children_6_to_17_years', 0.011781536506420323],\n",
       " ['kommune.age_49-55', -0.011765197747283011],\n",
       " ['kommune.c_age_0-18', -0.011712326134633279],\n",
       " ['kommune.age_84-90', -0.011618363488781473],\n",
       " ['kommune.age_7-13', -0.011568771594403313],\n",
       " ['kommune.tot_household', -0.0114929941715498],\n",
       " ['kommune.total_income', -0.011320215966189873],\n",
       " ['kommune.c_age_19-30', -0.011311318198633851],\n",
       " ['kommune.age_77-83', -0.011237681253397544],\n",
       " ['kommune.single_parent_children_18_or_above', -0.011171603458368479],\n",
       " ['kommune.age_56-62', -0.011139423324603819],\n",
       " ['kommune.c_age_56-90', -0.01113564298019849],\n",
       " ['grunnkrets_id.age_56-62', 0.011105577956594873],\n",
       " ['kommune.age_70-76', -0.01109268740125065],\n",
       " ['kommune.age_63-69', -0.010969793496959064],\n",
       " ['grunnkrets_id.c_age_56-90', 0.01093097443457154],\n",
       " ['kommune.age_21-27', -0.010861177799451525],\n",
       " ['kommune.couple_children_6_to_17_years', -0.010689139031768012],\n",
       " ['grunnkrets_id.age_7-13', 0.010672161578421808],\n",
       " ['kommune.couple_without_children', -0.010557704704418918],\n",
       " ['grunnkrets_id.single_parent_children_6_to_17_years', 0.010554222763210745],\n",
       " ['grunnkrets_id.singles_income', 0.010528734449263678],\n",
       " ['delomrade.singles_income', 0.010519611476311086],\n",
       " ['grunnkrets_id.age_49-55', 0.010448453156996823],\n",
       " ['fylke.c_age_56-90_ratio', 0.010445500807241286],\n",
       " ['kommune.age_14-20', -0.01034895537150588],\n",
       " ['grunnkrets_id.c_age_0-18', 0.01028546700181878],\n",
       " ['grunnkrets_id.total_income', 0.010253607614816753],\n",
       " ['delomrade.single_parent_with_children_income', 0.01024663878249597],\n",
       " ['grunnkrets_id.single_parent_with_children_income', 0.010244375738172152],\n",
       " ['grunnkrets_id.age_63-69', 0.010171695663631172],\n",
       " ['grunnkrets_id.age_70-76', 0.010036570687106162],\n",
       " ['kommune.couple_children_18_or_above', -0.009787588485817324],\n",
       " ['grunnkrets_id.age_42-48', 0.00953865384387358],\n",
       " ['grunnkrets_id.tot_household', 0.009495109925661237],\n",
       " ['grunnkrets_id.tot_pop', 0.00930108729875238],\n",
       " ['grunnkrets_id.couple_without_children', 0.009181659906841303],\n",
       " ['grunnkrets_id.couple_children_0_to_5_years', 0.009176859660432506],\n",
       " ['grunnkrets_id.area_km2', 0.008902710449664474],\n",
       " ['grunnkrets_id.age_0-6', 0.008837842940801111],\n",
       " ['grunnkrets_id.age_21-27', 0.008616629628838749],\n",
       " ['grunnkrets_id.c_age_31-55', 0.008410174897192247],\n",
       " ['fylke.all_households_income', -0.008348078743596945],\n",
       " ['grunnkrets_id.c_age_19-30', 0.008267536304823048],\n",
       " ['delomrade.c_age_0-18_ratio', 0.00804001816909641],\n",
       " ['grunnkrets_id.singles', 0.007804579457257033],\n",
       " ['kommune.total_income_log', 0.007656794529437442],\n",
       " ['fylke.mean_age', 0.0076363347727075],\n",
       " ['grunnkrets_id.age_35-41', 0.007601556042333083],\n",
       " ['kommune.tot_pop_log', 0.007368017204753692],\n",
       " ['kommune.c_age_0-18_ratio', 0.007146757591068205],\n",
       " ['kommune.couple_without_children_income', -0.0071014237976188225],\n",
       " ['grunnkrets_id.single_parent_children_0_to_5_years', 0.007038221890072925],\n",
       " ['kommune.area_km2', 0.0069669729121521464],\n",
       " ['kommune.couple_with_children_income', -0.006859884327274812],\n",
       " ['grunnkrets_id.age_28-34', 0.006475181643977347],\n",
       " ['grunnkrets_id.c_age_0-18_ratio', -0.006301640959621635],\n",
       " ['grunnkrets_id.other_households_income', 0.006019241228988572],\n",
       " ['delomrade.other_households_income', 0.00601561120542984],\n",
       " ['kommune.singles_income', 0.00579403919590927],\n",
       " ['grunnkrets_id.couple_without_children_income', -0.005317033674220542],\n",
       " ['delomrade.couple_without_children_income', -0.005316378561817506],\n",
       " ['delomrade.age_28-34', -0.004650621691733814],\n",
       " ['delomrade.age_35-41', -0.003977432766170148],\n",
       " ['grunnkrets_id.c_age_56-90_ratio', -0.0038917087356090925],\n",
       " ['delomrade.singles', -0.0037398256232585906],\n",
       " ['fylke.c_age_19-30_ratio', 0.003460737897005368],\n",
       " ['kommune.single_parent_with_children_income', 0.0033227240870613664],\n",
       " ['delomrade.pop_density_log', -0.0033116362235849094],\n",
       " ['grunnkrets_id.mean_age', -0.00324911692969204],\n",
       " ['delomrade.c_age_31-55', -0.0031667473414391948],\n",
       " ['delomrade.age_70-76', -0.003017588532118309],\n",
       " ['delomrade.income_density_log', -0.0030152255750894035],\n",
       " ['kommune.other_households_income', -0.0027458092506490424],\n",
       " ['delomrade.single_parent_children_0_to_5_years', -0.002522912786278504],\n",
       " ['kommune.c_age_31-55_ratio', -0.0023401434027146557],\n",
       " ['delomrade.single_parent_children_18_or_above', 0.0022219758447958385],\n",
       " ['delomrade.age_14-20', 0.002161996561873262],\n",
       " ['delomrade.couple_children_18_or_above', 0.0020730764261707685],\n",
       " ['fylke.c_age_0-18_ratio', -0.002072130611936604],\n",
       " ['delomrade.age_42-48', -0.001944897501847362],\n",
       " ['delomrade.tot_pop', -0.0016260355792119033],\n",
       " ['delomrade.couple_with_children_income', -0.001486481310060261],\n",
       " ['grunnkrets_id.couple_with_children_income', -0.0014801687989270422],\n",
       " ['fylke.area_km2', 0.0013705427027094076],\n",
       " ['delomrade.single_parent_children_6_to_17_years', 0.0013563645098747948],\n",
       " ['delomrade.age_77-83', -0.0012842961600233497],\n",
       " ['fylke.other_households_income', 0.0012706833113911937],\n",
       " ['delomrade.tot_household', -0.001201809432425633],\n",
       " ['delomrade.age_49-55', -0.0011898621712455556],\n",
       " ['kommune.pop_density_log', -0.0011344202873063416],\n",
       " ['grunnkrets_id.all_households_income', -0.0010874417725604945],\n",
       " ['delomrade.all_households_income', -0.001086068466283167],\n",
       " ['delomrade.c_age_19-30', -0.0010629372211499258],\n",
       " ['delomrade.couple_without_children', -0.0009970561352676754],\n",
       " ['delomrade.age_0-6', -0.0009721424530016635],\n",
       " ['delomrade.c_age_56-90', -0.0009509641301308938],\n",
       " ['delomrade.age_63-69', -0.0009461921170293635],\n",
       " ['delomrade.total_income', -0.0009026253253166737],\n",
       " ['delomrade.couple_children_6_to_17_years', 0.0008774585412531943],\n",
       " ['delomrade.couple_children_0_to_5_years', -0.0008410747762718477],\n",
       " ['delomrade.c_age_31-55_ratio', -0.0008260706267141754],\n",
       " ['kommune.income_density_log', -0.0007286186131042602],\n",
       " ['delomrade.age_84-90', -0.0003856433141728281],\n",
       " ['delomrade.age_56-62', 0.00036651161829391317],\n",
       " ['delomrade.age_7-13', 0.00030172699198119217],\n",
       " ['delomrade.area_km2', 0.0001528483140519848],\n",
       " ['kommune.all_households_income', 8.673341259057183e-05],\n",
       " ['delomrade.age_21-27', -8.33899850892376e-05],\n",
       " ['delomrade.c_age_0-18', 5.098681213449815e-05]]"
      ]
     },
     "execution_count": 713,
     "metadata": {},
     "output_type": "execute_result"
    }
   ],
   "source": [
    "full_pop_dict = store_dataframes[\"train\"][['log_revenue'] + full_pop_columns].corr().iloc[0].to_dict()\n",
    "full_pop_sorted_relevant_dist_cols = [[k, v] for k, v in sorted(full_pop_dict.items(), key=lambda item: abs(item[1]), reverse=True)]\n",
    "full_pop_sorted_relevant_dist_cols"
   ]
  },
  {
   "cell_type": "code",
   "execution_count": 714,
   "metadata": {},
   "outputs": [],
   "source": [
    "full_pop_relevant_cols = full_pop_sorted_relevant_dist_cols[1:8]\n",
    "full_pop_relevant_cols = [r[0] for r in full_pop_relevant_cols]"
   ]
  },
  {
   "cell_type": "code",
   "execution_count": 715,
   "metadata": {},
   "outputs": [
    {
     "data": {
      "text/plain": [
       "['grunnkrets_id.income_density',\n",
       " 'grunnkrets_id.pop_density',\n",
       " 'delomrade.mean_age',\n",
       " 'grunnkrets_id.income_density_log',\n",
       " 'grunnkrets_id.pop_density_log',\n",
       " 'grunnkrets_id.tot_pop_log',\n",
       " 'grunnkrets_id.total_income_log']"
      ]
     },
     "execution_count": 715,
     "metadata": {},
     "output_type": "execute_result"
    }
   ],
   "source": [
    "full_pop_relevant_cols"
   ]
  },
  {
   "cell_type": "code",
   "execution_count": 716,
   "metadata": {},
   "outputs": [],
   "source": [
    "fylke_relevant_features = [col_name for col_name in store_dataframes[\"train\"].columns if col_name.startswith(\"fylke.\")]\n",
    "kommune_relevant_features = [col_name for col_name in store_dataframes[\"train\"].columns if col_name.startswith(\"kommune.\")]\n",
    "delomrade_relevant_features = [col_name for col_name in store_dataframes[\"train\"].columns if col_name.startswith(\"delomrade.\")]\n",
    "grunnkrets_relevant_features = [col_name for col_name in store_dataframes[\"train\"].columns if col_name.startswith(\"grunnkrets_id.\")]"
   ]
  },
  {
   "cell_type": "code",
   "execution_count": 717,
   "metadata": {},
   "outputs": [
    {
     "name": "stderr",
     "output_type": "stream",
     "text": [
      "/Users/oskarjor/NTNU/2022FALL/TDT4173/TDT4173/num_stores.py:19: FutureWarning: The default value of numeric_only in DataFrameGroupBy.sum is deprecated. In a future version, numeric_only will default to False. Either specify numeric_only or select only columns which should be valid for the function.\n",
      "  grouped = geo_df.groupby([ level , cat]).sum()['count'].to_frame()\n",
      "/Users/oskarjor/NTNU/2022FALL/TDT4173/TDT4173/num_stores.py:19: FutureWarning: The default value of numeric_only in DataFrameGroupBy.sum is deprecated. In a future version, numeric_only will default to False. Either specify numeric_only or select only columns which should be valid for the function.\n",
      "  grouped = geo_df.groupby([ level , cat]).sum()['count'].to_frame()\n",
      "/Users/oskarjor/NTNU/2022FALL/TDT4173/TDT4173/num_stores.py:19: FutureWarning: The default value of numeric_only in DataFrameGroupBy.sum is deprecated. In a future version, numeric_only will default to False. Either specify numeric_only or select only columns which should be valid for the function.\n",
      "  grouped = geo_df.groupby([ level , cat]).sum()['count'].to_frame()\n",
      "/Users/oskarjor/NTNU/2022FALL/TDT4173/TDT4173/num_stores.py:19: FutureWarning: The default value of numeric_only in DataFrameGroupBy.sum is deprecated. In a future version, numeric_only will default to False. Either specify numeric_only or select only columns which should be valid for the function.\n",
      "  grouped = geo_df.groupby([ level , cat]).sum()['count'].to_frame()\n",
      "/Users/oskarjor/NTNU/2022FALL/TDT4173/TDT4173/num_stores.py:19: FutureWarning: The default value of numeric_only in DataFrameGroupBy.sum is deprecated. In a future version, numeric_only will default to False. Either specify numeric_only or select only columns which should be valid for the function.\n",
      "  grouped = geo_df.groupby([ level , cat]).sum()['count'].to_frame()\n",
      "/Users/oskarjor/NTNU/2022FALL/TDT4173/TDT4173/num_stores.py:19: FutureWarning: The default value of numeric_only in DataFrameGroupBy.sum is deprecated. In a future version, numeric_only will default to False. Either specify numeric_only or select only columns which should be valid for the function.\n",
      "  grouped = geo_df.groupby([ level , cat]).sum()['count'].to_frame()\n",
      "/Users/oskarjor/NTNU/2022FALL/TDT4173/TDT4173/num_stores.py:19: FutureWarning: The default value of numeric_only in DataFrameGroupBy.sum is deprecated. In a future version, numeric_only will default to False. Either specify numeric_only or select only columns which should be valid for the function.\n",
      "  grouped = geo_df.groupby([ level , cat]).sum()['count'].to_frame()\n",
      "/Users/oskarjor/NTNU/2022FALL/TDT4173/TDT4173/num_stores.py:19: FutureWarning: The default value of numeric_only in DataFrameGroupBy.sum is deprecated. In a future version, numeric_only will default to False. Either specify numeric_only or select only columns which should be valid for the function.\n",
      "  grouped = geo_df.groupby([ level , cat]).sum()['count'].to_frame()\n",
      "/Users/oskarjor/NTNU/2022FALL/TDT4173/TDT4173/num_stores.py:19: FutureWarning: The default value of numeric_only in DataFrameGroupBy.sum is deprecated. In a future version, numeric_only will default to False. Either specify numeric_only or select only columns which should be valid for the function.\n",
      "  grouped = geo_df.groupby([ level , cat]).sum()['count'].to_frame()\n",
      "/Users/oskarjor/NTNU/2022FALL/TDT4173/TDT4173/num_stores.py:19: FutureWarning: The default value of numeric_only in DataFrameGroupBy.sum is deprecated. In a future version, numeric_only will default to False. Either specify numeric_only or select only columns which should be valid for the function.\n",
      "  grouped = geo_df.groupby([ level , cat]).sum()['count'].to_frame()\n",
      "/Users/oskarjor/NTNU/2022FALL/TDT4173/TDT4173/num_stores.py:19: FutureWarning: The default value of numeric_only in DataFrameGroupBy.sum is deprecated. In a future version, numeric_only will default to False. Either specify numeric_only or select only columns which should be valid for the function.\n",
      "  grouped = geo_df.groupby([ level , cat]).sum()['count'].to_frame()\n",
      "/Users/oskarjor/NTNU/2022FALL/TDT4173/TDT4173/num_stores.py:19: FutureWarning: The default value of numeric_only in DataFrameGroupBy.sum is deprecated. In a future version, numeric_only will default to False. Either specify numeric_only or select only columns which should be valid for the function.\n",
      "  grouped = geo_df.groupby([ level , cat]).sum()['count'].to_frame()\n",
      "/Users/oskarjor/NTNU/2022FALL/TDT4173/TDT4173/num_stores.py:19: FutureWarning: The default value of numeric_only in DataFrameGroupBy.sum is deprecated. In a future version, numeric_only will default to False. Either specify numeric_only or select only columns which should be valid for the function.\n",
      "  grouped = geo_df.groupby([ level , cat]).sum()['count'].to_frame()\n",
      "/Users/oskarjor/NTNU/2022FALL/TDT4173/TDT4173/num_stores.py:19: FutureWarning: The default value of numeric_only in DataFrameGroupBy.sum is deprecated. In a future version, numeric_only will default to False. Either specify numeric_only or select only columns which should be valid for the function.\n",
      "  grouped = geo_df.groupby([ level , cat]).sum()['count'].to_frame()\n",
      "/Users/oskarjor/NTNU/2022FALL/TDT4173/TDT4173/num_stores.py:19: FutureWarning: The default value of numeric_only in DataFrameGroupBy.sum is deprecated. In a future version, numeric_only will default to False. Either specify numeric_only or select only columns which should be valid for the function.\n",
      "  grouped = geo_df.groupby([ level , cat]).sum()['count'].to_frame()\n",
      "/Users/oskarjor/NTNU/2022FALL/TDT4173/TDT4173/num_stores.py:19: FutureWarning: The default value of numeric_only in DataFrameGroupBy.sum is deprecated. In a future version, numeric_only will default to False. Either specify numeric_only or select only columns which should be valid for the function.\n",
      "  grouped = geo_df.groupby([ level , cat]).sum()['count'].to_frame()\n",
      "/Users/oskarjor/NTNU/2022FALL/TDT4173/TDT4173/num_stores.py:19: FutureWarning: The default value of numeric_only in DataFrameGroupBy.sum is deprecated. In a future version, numeric_only will default to False. Either specify numeric_only or select only columns which should be valid for the function.\n",
      "  grouped = geo_df.groupby([ level , cat]).sum()['count'].to_frame()\n",
      "/Users/oskarjor/NTNU/2022FALL/TDT4173/TDT4173/num_stores.py:19: FutureWarning: The default value of numeric_only in DataFrameGroupBy.sum is deprecated. In a future version, numeric_only will default to False. Either specify numeric_only or select only columns which should be valid for the function.\n",
      "  grouped = geo_df.groupby([ level , cat]).sum()['count'].to_frame()\n",
      "/Users/oskarjor/NTNU/2022FALL/TDT4173/TDT4173/num_stores.py:19: FutureWarning: The default value of numeric_only in DataFrameGroupBy.sum is deprecated. In a future version, numeric_only will default to False. Either specify numeric_only or select only columns which should be valid for the function.\n",
      "  grouped = geo_df.groupby([ level , cat]).sum()['count'].to_frame()\n",
      "/Users/oskarjor/NTNU/2022FALL/TDT4173/TDT4173/num_stores.py:19: FutureWarning: The default value of numeric_only in DataFrameGroupBy.sum is deprecated. In a future version, numeric_only will default to False. Either specify numeric_only or select only columns which should be valid for the function.\n",
      "  grouped = geo_df.groupby([ level , cat]).sum()['count'].to_frame()\n",
      "/Users/oskarjor/NTNU/2022FALL/TDT4173/TDT4173/num_stores.py:19: FutureWarning: The default value of numeric_only in DataFrameGroupBy.sum is deprecated. In a future version, numeric_only will default to False. Either specify numeric_only or select only columns which should be valid for the function.\n",
      "  grouped = geo_df.groupby([ level , cat]).sum()['count'].to_frame()\n",
      "/Users/oskarjor/NTNU/2022FALL/TDT4173/TDT4173/num_stores.py:19: FutureWarning: The default value of numeric_only in DataFrameGroupBy.sum is deprecated. In a future version, numeric_only will default to False. Either specify numeric_only or select only columns which should be valid for the function.\n",
      "  grouped = geo_df.groupby([ level , cat]).sum()['count'].to_frame()\n",
      "/Users/oskarjor/NTNU/2022FALL/TDT4173/TDT4173/num_stores.py:19: FutureWarning: The default value of numeric_only in DataFrameGroupBy.sum is deprecated. In a future version, numeric_only will default to False. Either specify numeric_only or select only columns which should be valid for the function.\n",
      "  grouped = geo_df.groupby([ level , cat]).sum()['count'].to_frame()\n",
      "/Users/oskarjor/NTNU/2022FALL/TDT4173/TDT4173/num_stores.py:19: FutureWarning: The default value of numeric_only in DataFrameGroupBy.sum is deprecated. In a future version, numeric_only will default to False. Either specify numeric_only or select only columns which should be valid for the function.\n",
      "  grouped = geo_df.groupby([ level , cat]).sum()['count'].to_frame()\n",
      "/Users/oskarjor/NTNU/2022FALL/TDT4173/TDT4173/num_stores.py:19: FutureWarning: The default value of numeric_only in DataFrameGroupBy.sum is deprecated. In a future version, numeric_only will default to False. Either specify numeric_only or select only columns which should be valid for the function.\n",
      "  grouped = geo_df.groupby([ level , cat]).sum()['count'].to_frame()\n",
      "/Users/oskarjor/NTNU/2022FALL/TDT4173/TDT4173/num_stores.py:19: FutureWarning: The default value of numeric_only in DataFrameGroupBy.sum is deprecated. In a future version, numeric_only will default to False. Either specify numeric_only or select only columns which should be valid for the function.\n",
      "  grouped = geo_df.groupby([ level , cat]).sum()['count'].to_frame()\n",
      "/Users/oskarjor/NTNU/2022FALL/TDT4173/TDT4173/num_stores.py:19: FutureWarning: The default value of numeric_only in DataFrameGroupBy.sum is deprecated. In a future version, numeric_only will default to False. Either specify numeric_only or select only columns which should be valid for the function.\n",
      "  grouped = geo_df.groupby([ level , cat]).sum()['count'].to_frame()\n",
      "/Users/oskarjor/NTNU/2022FALL/TDT4173/TDT4173/num_stores.py:19: FutureWarning: The default value of numeric_only in DataFrameGroupBy.sum is deprecated. In a future version, numeric_only will default to False. Either specify numeric_only or select only columns which should be valid for the function.\n",
      "  grouped = geo_df.groupby([ level , cat]).sum()['count'].to_frame()\n",
      "/Users/oskarjor/NTNU/2022FALL/TDT4173/TDT4173/num_stores.py:19: FutureWarning: The default value of numeric_only in DataFrameGroupBy.sum is deprecated. In a future version, numeric_only will default to False. Either specify numeric_only or select only columns which should be valid for the function.\n",
      "  grouped = geo_df.groupby([ level , cat]).sum()['count'].to_frame()\n",
      "/Users/oskarjor/NTNU/2022FALL/TDT4173/TDT4173/num_stores.py:19: FutureWarning: The default value of numeric_only in DataFrameGroupBy.sum is deprecated. In a future version, numeric_only will default to False. Either specify numeric_only or select only columns which should be valid for the function.\n",
      "  grouped = geo_df.groupby([ level , cat]).sum()['count'].to_frame()\n",
      "/Users/oskarjor/NTNU/2022FALL/TDT4173/TDT4173/num_stores.py:19: FutureWarning: The default value of numeric_only in DataFrameGroupBy.sum is deprecated. In a future version, numeric_only will default to False. Either specify numeric_only or select only columns which should be valid for the function.\n",
      "  grouped = geo_df.groupby([ level , cat]).sum()['count'].to_frame()\n",
      "/Users/oskarjor/NTNU/2022FALL/TDT4173/TDT4173/num_stores.py:19: FutureWarning: The default value of numeric_only in DataFrameGroupBy.sum is deprecated. In a future version, numeric_only will default to False. Either specify numeric_only or select only columns which should be valid for the function.\n",
      "  grouped = geo_df.groupby([ level , cat]).sum()['count'].to_frame()\n",
      "/Users/oskarjor/NTNU/2022FALL/TDT4173/TDT4173/num_stores.py:19: FutureWarning: The default value of numeric_only in DataFrameGroupBy.sum is deprecated. In a future version, numeric_only will default to False. Either specify numeric_only or select only columns which should be valid for the function.\n",
      "  grouped = geo_df.groupby([ level , cat]).sum()['count'].to_frame()\n",
      "/Users/oskarjor/NTNU/2022FALL/TDT4173/TDT4173/num_stores.py:19: FutureWarning: The default value of numeric_only in DataFrameGroupBy.sum is deprecated. In a future version, numeric_only will default to False. Either specify numeric_only or select only columns which should be valid for the function.\n",
      "  grouped = geo_df.groupby([ level , cat]).sum()['count'].to_frame()\n",
      "/Users/oskarjor/NTNU/2022FALL/TDT4173/TDT4173/num_stores.py:19: FutureWarning: The default value of numeric_only in DataFrameGroupBy.sum is deprecated. In a future version, numeric_only will default to False. Either specify numeric_only or select only columns which should be valid for the function.\n",
      "  grouped = geo_df.groupby([ level , cat]).sum()['count'].to_frame()\n",
      "/Users/oskarjor/NTNU/2022FALL/TDT4173/TDT4173/num_stores.py:19: FutureWarning: The default value of numeric_only in DataFrameGroupBy.sum is deprecated. In a future version, numeric_only will default to False. Either specify numeric_only or select only columns which should be valid for the function.\n",
      "  grouped = geo_df.groupby([ level , cat]).sum()['count'].to_frame()\n",
      "/Users/oskarjor/NTNU/2022FALL/TDT4173/TDT4173/num_stores.py:19: FutureWarning: The default value of numeric_only in DataFrameGroupBy.sum is deprecated. In a future version, numeric_only will default to False. Either specify numeric_only or select only columns which should be valid for the function.\n",
      "  grouped = geo_df.groupby([ level , cat]).sum()['count'].to_frame()\n",
      "/Users/oskarjor/NTNU/2022FALL/TDT4173/TDT4173/num_stores.py:19: FutureWarning: The default value of numeric_only in DataFrameGroupBy.sum is deprecated. In a future version, numeric_only will default to False. Either specify numeric_only or select only columns which should be valid for the function.\n",
      "  grouped = geo_df.groupby([ level , cat]).sum()['count'].to_frame()\n",
      "/Users/oskarjor/NTNU/2022FALL/TDT4173/TDT4173/num_stores.py:19: FutureWarning: The default value of numeric_only in DataFrameGroupBy.sum is deprecated. In a future version, numeric_only will default to False. Either specify numeric_only or select only columns which should be valid for the function.\n",
      "  grouped = geo_df.groupby([ level , cat]).sum()['count'].to_frame()\n",
      "/Users/oskarjor/NTNU/2022FALL/TDT4173/TDT4173/num_stores.py:19: FutureWarning: The default value of numeric_only in DataFrameGroupBy.sum is deprecated. In a future version, numeric_only will default to False. Either specify numeric_only or select only columns which should be valid for the function.\n",
      "  grouped = geo_df.groupby([ level , cat]).sum()['count'].to_frame()\n",
      "/Users/oskarjor/NTNU/2022FALL/TDT4173/TDT4173/num_stores.py:19: FutureWarning: The default value of numeric_only in DataFrameGroupBy.sum is deprecated. In a future version, numeric_only will default to False. Either specify numeric_only or select only columns which should be valid for the function.\n",
      "  grouped = geo_df.groupby([ level , cat]).sum()['count'].to_frame()\n",
      "/Users/oskarjor/NTNU/2022FALL/TDT4173/TDT4173/num_stores.py:19: FutureWarning: The default value of numeric_only in DataFrameGroupBy.sum is deprecated. In a future version, numeric_only will default to False. Either specify numeric_only or select only columns which should be valid for the function.\n",
      "  grouped = geo_df.groupby([ level , cat]).sum()['count'].to_frame()\n",
      "/Users/oskarjor/NTNU/2022FALL/TDT4173/TDT4173/num_stores.py:19: FutureWarning: The default value of numeric_only in DataFrameGroupBy.sum is deprecated. In a future version, numeric_only will default to False. Either specify numeric_only or select only columns which should be valid for the function.\n",
      "  grouped = geo_df.groupby([ level , cat]).sum()['count'].to_frame()\n",
      "/Users/oskarjor/NTNU/2022FALL/TDT4173/TDT4173/num_stores.py:19: FutureWarning: The default value of numeric_only in DataFrameGroupBy.sum is deprecated. In a future version, numeric_only will default to False. Either specify numeric_only or select only columns which should be valid for the function.\n",
      "  grouped = geo_df.groupby([ level , cat]).sum()['count'].to_frame()\n",
      "/Users/oskarjor/NTNU/2022FALL/TDT4173/TDT4173/num_stores.py:19: FutureWarning: The default value of numeric_only in DataFrameGroupBy.sum is deprecated. In a future version, numeric_only will default to False. Either specify numeric_only or select only columns which should be valid for the function.\n",
      "  grouped = geo_df.groupby([ level , cat]).sum()['count'].to_frame()\n",
      "/Users/oskarjor/NTNU/2022FALL/TDT4173/TDT4173/num_stores.py:19: FutureWarning: The default value of numeric_only in DataFrameGroupBy.sum is deprecated. In a future version, numeric_only will default to False. Either specify numeric_only or select only columns which should be valid for the function.\n",
      "  grouped = geo_df.groupby([ level , cat]).sum()['count'].to_frame()\n",
      "/Users/oskarjor/NTNU/2022FALL/TDT4173/TDT4173/num_stores.py:19: FutureWarning: The default value of numeric_only in DataFrameGroupBy.sum is deprecated. In a future version, numeric_only will default to False. Either specify numeric_only or select only columns which should be valid for the function.\n",
      "  grouped = geo_df.groupby([ level , cat]).sum()['count'].to_frame()\n",
      "/Users/oskarjor/NTNU/2022FALL/TDT4173/TDT4173/num_stores.py:19: FutureWarning: The default value of numeric_only in DataFrameGroupBy.sum is deprecated. In a future version, numeric_only will default to False. Either specify numeric_only or select only columns which should be valid for the function.\n",
      "  grouped = geo_df.groupby([ level , cat]).sum()['count'].to_frame()\n",
      "/Users/oskarjor/NTNU/2022FALL/TDT4173/TDT4173/num_stores.py:19: FutureWarning: The default value of numeric_only in DataFrameGroupBy.sum is deprecated. In a future version, numeric_only will default to False. Either specify numeric_only or select only columns which should be valid for the function.\n",
      "  grouped = geo_df.groupby([ level , cat]).sum()['count'].to_frame()\n",
      "/Users/oskarjor/NTNU/2022FALL/TDT4173/TDT4173/num_stores.py:19: FutureWarning: The default value of numeric_only in DataFrameGroupBy.sum is deprecated. In a future version, numeric_only will default to False. Either specify numeric_only or select only columns which should be valid for the function.\n",
      "  grouped = geo_df.groupby([ level , cat]).sum()['count'].to_frame()\n",
      "/Users/oskarjor/NTNU/2022FALL/TDT4173/TDT4173/num_stores.py:19: FutureWarning: The default value of numeric_only in DataFrameGroupBy.sum is deprecated. In a future version, numeric_only will default to False. Either specify numeric_only or select only columns which should be valid for the function.\n",
      "  grouped = geo_df.groupby([ level , cat]).sum()['count'].to_frame()\n",
      "/Users/oskarjor/NTNU/2022FALL/TDT4173/TDT4173/num_stores.py:19: FutureWarning: The default value of numeric_only in DataFrameGroupBy.sum is deprecated. In a future version, numeric_only will default to False. Either specify numeric_only or select only columns which should be valid for the function.\n",
      "  grouped = geo_df.groupby([ level , cat]).sum()['count'].to_frame()\n",
      "/Users/oskarjor/NTNU/2022FALL/TDT4173/TDT4173/num_stores.py:19: FutureWarning: The default value of numeric_only in DataFrameGroupBy.sum is deprecated. In a future version, numeric_only will default to False. Either specify numeric_only or select only columns which should be valid for the function.\n",
      "  grouped = geo_df.groupby([ level , cat]).sum()['count'].to_frame()\n",
      "/Users/oskarjor/NTNU/2022FALL/TDT4173/TDT4173/num_stores.py:19: FutureWarning: The default value of numeric_only in DataFrameGroupBy.sum is deprecated. In a future version, numeric_only will default to False. Either specify numeric_only or select only columns which should be valid for the function.\n",
      "  grouped = geo_df.groupby([ level , cat]).sum()['count'].to_frame()\n",
      "/Users/oskarjor/NTNU/2022FALL/TDT4173/TDT4173/num_stores.py:19: FutureWarning: The default value of numeric_only in DataFrameGroupBy.sum is deprecated. In a future version, numeric_only will default to False. Either specify numeric_only or select only columns which should be valid for the function.\n",
      "  grouped = geo_df.groupby([ level , cat]).sum()['count'].to_frame()\n",
      "/Users/oskarjor/NTNU/2022FALL/TDT4173/TDT4173/num_stores.py:19: FutureWarning: The default value of numeric_only in DataFrameGroupBy.sum is deprecated. In a future version, numeric_only will default to False. Either specify numeric_only or select only columns which should be valid for the function.\n",
      "  grouped = geo_df.groupby([ level , cat]).sum()['count'].to_frame()\n",
      "/Users/oskarjor/NTNU/2022FALL/TDT4173/TDT4173/num_stores.py:19: FutureWarning: The default value of numeric_only in DataFrameGroupBy.sum is deprecated. In a future version, numeric_only will default to False. Either specify numeric_only or select only columns which should be valid for the function.\n",
      "  grouped = geo_df.groupby([ level , cat]).sum()['count'].to_frame()\n",
      "/Users/oskarjor/NTNU/2022FALL/TDT4173/TDT4173/num_stores.py:19: FutureWarning: The default value of numeric_only in DataFrameGroupBy.sum is deprecated. In a future version, numeric_only will default to False. Either specify numeric_only or select only columns which should be valid for the function.\n",
      "  grouped = geo_df.groupby([ level , cat]).sum()['count'].to_frame()\n",
      "/Users/oskarjor/NTNU/2022FALL/TDT4173/TDT4173/num_stores.py:19: FutureWarning: The default value of numeric_only in DataFrameGroupBy.sum is deprecated. In a future version, numeric_only will default to False. Either specify numeric_only or select only columns which should be valid for the function.\n",
      "  grouped = geo_df.groupby([ level , cat]).sum()['count'].to_frame()\n",
      "/Users/oskarjor/NTNU/2022FALL/TDT4173/TDT4173/num_stores.py:19: FutureWarning: The default value of numeric_only in DataFrameGroupBy.sum is deprecated. In a future version, numeric_only will default to False. Either specify numeric_only or select only columns which should be valid for the function.\n",
      "  grouped = geo_df.groupby([ level , cat]).sum()['count'].to_frame()\n",
      "/Users/oskarjor/NTNU/2022FALL/TDT4173/TDT4173/num_stores.py:19: FutureWarning: The default value of numeric_only in DataFrameGroupBy.sum is deprecated. In a future version, numeric_only will default to False. Either specify numeric_only or select only columns which should be valid for the function.\n",
      "  grouped = geo_df.groupby([ level , cat]).sum()['count'].to_frame()\n",
      "/Users/oskarjor/NTNU/2022FALL/TDT4173/TDT4173/num_stores.py:19: FutureWarning: The default value of numeric_only in DataFrameGroupBy.sum is deprecated. In a future version, numeric_only will default to False. Either specify numeric_only or select only columns which should be valid for the function.\n",
      "  grouped = geo_df.groupby([ level , cat]).sum()['count'].to_frame()\n",
      "/Users/oskarjor/NTNU/2022FALL/TDT4173/TDT4173/num_stores.py:19: FutureWarning: The default value of numeric_only in DataFrameGroupBy.sum is deprecated. In a future version, numeric_only will default to False. Either specify numeric_only or select only columns which should be valid for the function.\n",
      "  grouped = geo_df.groupby([ level , cat]).sum()['count'].to_frame()\n",
      "/Users/oskarjor/NTNU/2022FALL/TDT4173/TDT4173/num_stores.py:19: FutureWarning: The default value of numeric_only in DataFrameGroupBy.sum is deprecated. In a future version, numeric_only will default to False. Either specify numeric_only or select only columns which should be valid for the function.\n",
      "  grouped = geo_df.groupby([ level , cat]).sum()['count'].to_frame()\n"
     ]
    }
   ],
   "source": [
    "from num_stores import add_num_stores_info\n",
    "\n",
    "for df_name, df in store_dataframes.items():\n",
    "    store_dataframes[df_name] = add_num_stores_info(df)"
   ]
  },
  {
   "cell_type": "code",
   "execution_count": 718,
   "metadata": {},
   "outputs": [],
   "source": [
    "num_store_cols = list(store_dataframes[\"train\"].columns[-64:])"
   ]
  },
  {
   "cell_type": "code",
   "execution_count": 719,
   "metadata": {},
   "outputs": [
    {
     "data": {
      "text/plain": [
       "[['log_revenue', 1.0],\n",
       " ['fylke.plaace_cat_1_per_capita', 0.33418999230870905],\n",
       " ['fylke.plaace_cat_1_per_tot_income', 0.3283143301659981],\n",
       " ['kommune.plaace_cat_1_per_capita', 0.2819542574446876],\n",
       " ['kommune.plaace_cat_1_per_tot_income', 0.2686301934073755],\n",
       " ['fylke.plaace_cat_1_count', 0.1971101019208334],\n",
       " ['fylke.plaace_cat_4_per_capita', 0.18094002358872008],\n",
       " ['fylke.plaace_cat_4_per_tot_income', 0.17923520689726613],\n",
       " ['fylke.plaace_cat_3_per_capita', 0.16551994345727977],\n",
       " ['fylke.plaace_cat_3_per_tot_income', 0.16168295901219673],\n",
       " ['grunnkrets_id.plaace_cat_1_count', 0.13238053815084294],\n",
       " ['delomrade.plaace_cat_1_count', 0.10753666169151109],\n",
       " ['fylke.plaace_cat_4_count', 0.08518403193337079],\n",
       " ['kommune.plaace_cat_1_per_km2', 0.08318848084709703],\n",
       " ['kommune.plaace_cat_3_per_capita', 0.07637260668278562],\n",
       " ['fylke.plaace_cat_3_count', 0.07611427935502625],\n",
       " ['kommune.plaace_cat_4_per_capita', 0.07426649074316063],\n",
       " ['grunnkrets_id.plaace_cat_1_per_capita', 0.07059583136170798],\n",
       " ['delomrade.plaace_cat_1_per_capita', 0.0673148929232533],\n",
       " ['kommune.plaace_cat_3_per_tot_income', 0.06634474868938678],\n",
       " ['kommune.plaace_cat_4_per_tot_income', 0.06421806622922707],\n",
       " ['grunnkrets_id.plaace_cat_1_per_tot_income', 0.058558926065430804],\n",
       " ['kommune.plaace_cat_1_count', 0.05196028729406692],\n",
       " ['delomrade.plaace_cat_1_per_tot_income', 0.0514285516354659],\n",
       " ['fylke.plaace_cat_1_per_km2', 0.05073570656627278],\n",
       " ['delomrade.plaace_cat_1_per_km2', 0.046285488589519426],\n",
       " ['grunnkrets_id.plaace_cat_2_count', 0.0407893940690116],\n",
       " ['grunnkrets_id.plaace_cat_1_per_km2', 0.03854848453816126],\n",
       " ['grunnkrets_id.plaace_cat_3_count', 0.035965352486430846],\n",
       " ['grunnkrets_id.plaace_cat_4_per_km2', -0.029803964607775717],\n",
       " ['delomrade.plaace_cat_3_per_capita', 0.02896027639345192],\n",
       " ['fylke.plaace_cat_2_per_tot_income', 0.028031544147221775],\n",
       " ['delomrade.plaace_cat_3_count', 0.02715239113912575],\n",
       " ['fylke.plaace_cat_2_per_capita', 0.027108128334795915],\n",
       " ['delomrade.plaace_cat_3_per_tot_income', 0.026705040297627373],\n",
       " ['grunnkrets_id.plaace_cat_3_per_capita', 0.026236641005314216],\n",
       " ['grunnkrets_id.plaace_cat_3_per_tot_income', 0.024572123081171175],\n",
       " ['delomrade.plaace_cat_2_per_capita', 0.023002613263180212],\n",
       " ['grunnkrets_id.plaace_cat_2_per_capita', 0.02267725624680683],\n",
       " ['delomrade.plaace_cat_4_per_km2', -0.022123562273671488],\n",
       " ['delomrade.plaace_cat_2_per_tot_income', 0.02147987306261795],\n",
       " ['grunnkrets_id.plaace_cat_2_per_tot_income', 0.02007992379124367],\n",
       " ['delomrade.plaace_cat_2_count', 0.018693872793269097],\n",
       " ['kommune.plaace_cat_3_per_km2', 0.011065884250867785],\n",
       " ['delomrade.plaace_cat_3_per_km2', 0.011003239938152429],\n",
       " ['fylke.plaace_cat_3_per_km2', 0.01050439859950558],\n",
       " ['kommune.plaace_cat_4_count', -0.00964849500410226],\n",
       " ['grunnkrets_id.plaace_cat_4_count', 0.009312569279279245],\n",
       " ['delomrade.plaace_cat_4_count', -0.009058043422677369],\n",
       " ['delomrade.plaace_cat_2_per_km2', 0.009055243260167102],\n",
       " ['kommune.plaace_cat_2_per_capita', 0.008383193772091417],\n",
       " ['kommune.plaace_cat_2_per_tot_income', 0.008127836053868026],\n",
       " ['delomrade.plaace_cat_4_per_capita', 0.00750736314812978],\n",
       " ['kommune.plaace_cat_3_count', 0.006542475100365741],\n",
       " ['delomrade.plaace_cat_4_per_tot_income', 0.006029310129103314],\n",
       " ['grunnkrets_id.plaace_cat_4_per_capita', 0.005038834227119883],\n",
       " ['kommune.plaace_cat_4_per_km2', -0.004398542534623365],\n",
       " ['kommune.plaace_cat_2_per_km2', -0.0032464248609751652],\n",
       " ['grunnkrets_id.plaace_cat_4_per_tot_income', 0.0030178303806613982],\n",
       " ['grunnkrets_id.plaace_cat_2_per_km2', 0.0020756042276857353],\n",
       " ['fylke.plaace_cat_2_count', 0.0016364146501484471],\n",
       " ['grunnkrets_id.plaace_cat_3_per_km2', 0.0011590804357139717],\n",
       " ['fylke.plaace_cat_2_per_km2', -0.0007545007390287545],\n",
       " ['fylke.plaace_cat_4_per_km2', 0.0006628480476923035],\n",
       " ['kommune.plaace_cat_2_count', 0.00026866525403885247]]"
      ]
     },
     "execution_count": 719,
     "metadata": {},
     "output_type": "execute_result"
    }
   ],
   "source": [
    "num_store_dict = store_dataframes[\"train\"][['log_revenue'] + num_store_cols].corr().iloc[0].to_dict()\n",
    "num_store_sorted_relevant_cols = [[k, v] for k, v in sorted(num_store_dict.items(), key=lambda item: abs(item[1]), reverse=True)]\n",
    "num_store_sorted_relevant_cols"
   ]
  },
  {
   "cell_type": "code",
   "execution_count": 54,
   "metadata": {},
   "outputs": [],
   "source": [
    "num_store_relevant_cols = num_store_sorted_relevant_cols[1:15]\n",
    "num_store_relevant_cols = [r[0] for r in num_store_relevant_cols]"
   ]
  },
  {
   "cell_type": "markdown",
   "metadata": {},
   "source": [
    "## Adding mean revenue (plaace_cat, level)"
   ]
  },
  {
   "cell_type": "code",
   "execution_count": 720,
   "metadata": {},
   "outputs": [],
   "source": [
    "from avg_revenue import add_avg_revenue\n",
    "\n",
    "for df_name, df in store_dataframes.items():\n",
    "    store_dataframes[df_name] = add_avg_revenue(df, total=submission_with_whole_train)"
   ]
  },
  {
   "cell_type": "code",
   "execution_count": 721,
   "metadata": {},
   "outputs": [],
   "source": [
    "mean_rev_cols = list(store_dataframes[\"train\"].columns)[-20:]"
   ]
  },
  {
   "cell_type": "code",
   "execution_count": 722,
   "metadata": {},
   "outputs": [
    {
     "data": {
      "text/plain": [
       "[['log_revenue', 1.0],\n",
       " ['country.plaace_cat_0_mean_revenue', nan],\n",
       " ['country.plaace_cat_4_mean_revenue', 0.5086965809357913],\n",
       " ['country.plaace_cat_3_mean_revenue', 0.5040702021325972],\n",
       " ['fylke.plaace_cat_4_mean_revenue', 0.4941024731809248],\n",
       " ['fylke.plaace_cat_3_mean_revenue', 0.48932867443846284],\n",
       " ['kommune.plaace_cat_4_mean_revenue', 0.43662698654746335],\n",
       " ['kommune.plaace_cat_3_mean_revenue', 0.4299921137350498],\n",
       " ['delomrade.plaace_cat_4_mean_revenue', 0.41435511368423755],\n",
       " ['delomrade.plaace_cat_3_mean_revenue', 0.4060134442324854],\n",
       " ['country.plaace_cat_2_mean_revenue', 0.38622822057447803],\n",
       " ['fylke.plaace_cat_2_mean_revenue', 0.37675915499954615],\n",
       " ['country.plaace_cat_1_mean_revenue', 0.31597479646986176],\n",
       " ['fylke.plaace_cat_1_mean_revenue', 0.3093508806098102],\n",
       " ['kommune.plaace_cat_2_mean_revenue', 0.29652636200805776],\n",
       " ['kommune.plaace_cat_1_mean_revenue', 0.24695499192384035],\n",
       " ['delomrade.plaace_cat_2_mean_revenue', 0.2389899956305923],\n",
       " ['delomrade.plaace_cat_1_mean_revenue', 0.16879799623718392],\n",
       " ['fylke.plaace_cat_0_mean_revenue', -0.017656359573817167],\n",
       " ['delomrade.plaace_cat_0_mean_revenue', 0.015782436390302065],\n",
       " ['kommune.plaace_cat_0_mean_revenue', -0.013066066169850753]]"
      ]
     },
     "execution_count": 722,
     "metadata": {},
     "output_type": "execute_result"
    }
   ],
   "source": [
    "mean_rev_dict = store_dataframes[\"val\"][['log_revenue'] + mean_rev_cols].corr().iloc[0].to_dict()\n",
    "mean_rev_sorted_relevant_cols = [[k, v] for k, v in sorted(mean_rev_dict.items(), key=lambda item: abs(item[1]), reverse=True)]\n",
    "mean_rev_sorted_relevant_cols"
   ]
  },
  {
   "cell_type": "code",
   "execution_count": 723,
   "metadata": {},
   "outputs": [],
   "source": [
    "mean_rev_relevant_cols = mean_rev_sorted_relevant_cols[1:]\n",
    "mean_rev_relevant_cols = [r[0] for r in mean_rev_relevant_cols]"
   ]
  },
  {
   "cell_type": "code",
   "execution_count": 724,
   "metadata": {},
   "outputs": [],
   "source": [
    "mean_rev_relevant_log_cols = []\n",
    "for col in mean_rev_relevant_cols:\n",
    "    for df_name, df in store_dataframes.items():\n",
    "        store_dataframes[df_name][col + \"_log\"] = store_dataframes[df_name][col].apply(lambda x: np.log1p(x))\n",
    "    mean_rev_relevant_log_cols.append(col + \"_log\")"
   ]
  },
  {
   "cell_type": "code",
   "execution_count": 603,
   "metadata": {},
   "outputs": [],
   "source": [
    "from new_plaace_index import create_index_csv, add_new_plaace_index\n",
    "\n",
    "create_index_csv()"
   ]
  },
  {
   "cell_type": "code",
   "execution_count": 725,
   "metadata": {},
   "outputs": [],
   "source": [
    "for df_name, df in store_dataframes.items():\n",
    "    store_dataframes[df_name] = add_new_plaace_index(store_dataframes[df_name])"
   ]
  },
  {
   "cell_type": "markdown",
   "metadata": {},
   "source": [
    "# Read data directly from CSV (option 2)"
   ]
  },
  {
   "cell_type": "markdown",
   "metadata": {},
   "source": [
    "## Train, val split"
   ]
  },
  {
   "cell_type": "code",
   "execution_count": 756,
   "metadata": {},
   "outputs": [],
   "source": [
    "if submission_with_whole_train:\n",
    "    stores_train = pd.read_csv(\"temp_data/full_train_features_train.csv\", index_col=0)\n",
    "    stores_extra = pd.read_csv(\"temp_data/full_train_features_extra.csv\", index_col=0)\n",
    "    stores_test = pd.read_csv(\"temp_data/full_train_features_test.csv\", index_col=0)\n",
    "\n",
    "    old_store_dataframes = {\n",
    "        \"train\": stores_train, \n",
    "        \"extra\": stores_extra, \n",
    "        \"test\": stores_test, \n",
    "        }\n",
    "else:\n",
    "    stores_train = pd.read_csv(\"temp_data/full_features_train.csv\", index_col=0)\n",
    "    stores_val = pd.read_csv(\"temp_data/full_features_val.csv\", index_col=0)\n",
    "    stores_extra = pd.read_csv(\"temp_data/full_features_extra.csv\", index_col=0)\n",
    "    stores_test = pd.read_csv(\"temp_data/full_features_test.csv\", index_col=0)\n",
    "\n",
    "    old_store_dataframes = {\n",
    "        \"train\": stores_train, \n",
    "        \"extra\": stores_extra, \n",
    "        \"test\": stores_test, \n",
    "        \"val\": stores_val\n",
    "        }"
   ]
  },
  {
   "cell_type": "code",
   "execution_count": 783,
   "metadata": {},
   "outputs": [
    {
     "data": {
      "text/html": [
       "<div>\n",
       "<style scoped>\n",
       "    .dataframe tbody tr th:only-of-type {\n",
       "        vertical-align: middle;\n",
       "    }\n",
       "\n",
       "    .dataframe tbody tr th {\n",
       "        vertical-align: top;\n",
       "    }\n",
       "\n",
       "    .dataframe thead th {\n",
       "        text-align: right;\n",
       "    }\n",
       "</style>\n",
       "<table border=\"1\" class=\"dataframe\">\n",
       "  <thead>\n",
       "    <tr style=\"text-align: right;\">\n",
       "      <th></th>\n",
       "      <th>store_id</th>\n",
       "      <th>bounded_chain_name</th>\n",
       "      <th>plaace_cat_4</th>\n",
       "      <th>mean_revenue_4</th>\n",
       "      <th>log_mean_revenue_4</th>\n",
       "    </tr>\n",
       "  </thead>\n",
       "  <tbody>\n",
       "    <tr>\n",
       "      <th>0</th>\n",
       "      <td>990857423-990974489-88185</td>\n",
       "      <td>BAKER KLAUSEN DRAMMEN</td>\n",
       "      <td>1.2.2.0</td>\n",
       "      <td>5.448447</td>\n",
       "      <td>1.863839</td>\n",
       "    </tr>\n",
       "    <tr>\n",
       "      <th>1</th>\n",
       "      <td>948879220-972145203-18800</td>\n",
       "      <td>OTHER</td>\n",
       "      <td>3.4.2.0</td>\n",
       "      <td>2.971692</td>\n",
       "      <td>1.379192</td>\n",
       "    </tr>\n",
       "    <tr>\n",
       "      <th>2</th>\n",
       "      <td>951136751-971668970-6795</td>\n",
       "      <td>EXPERT</td>\n",
       "      <td>2.3.1.0</td>\n",
       "      <td>13.944457</td>\n",
       "      <td>2.704340</td>\n",
       "    </tr>\n",
       "    <tr>\n",
       "      <th>3</th>\n",
       "      <td>980237508-980246167-71346</td>\n",
       "      <td>OTHER</td>\n",
       "      <td>2.9.1.0</td>\n",
       "      <td>6.400961</td>\n",
       "      <td>2.001610</td>\n",
       "    </tr>\n",
       "    <tr>\n",
       "      <th>9</th>\n",
       "      <td>999307795-999654649-475462</td>\n",
       "      <td>LEATHERMAN HOLDING</td>\n",
       "      <td>2.4.6.0</td>\n",
       "      <td>4.652183</td>\n",
       "      <td>1.732042</td>\n",
       "    </tr>\n",
       "  </tbody>\n",
       "</table>\n",
       "</div>"
      ],
      "text/plain": [
       "                     store_id     bounded_chain_name plaace_cat_4  \\\n",
       "0   990857423-990974489-88185  BAKER KLAUSEN DRAMMEN      1.2.2.0   \n",
       "1   948879220-972145203-18800                  OTHER      3.4.2.0   \n",
       "2    951136751-971668970-6795                 EXPERT      2.3.1.0   \n",
       "3   980237508-980246167-71346                  OTHER      2.9.1.0   \n",
       "9  999307795-999654649-475462     LEATHERMAN HOLDING      2.4.6.0   \n",
       "\n",
       "   mean_revenue_4  log_mean_revenue_4  \n",
       "0        5.448447            1.863839  \n",
       "1        2.971692            1.379192  \n",
       "2       13.944457            2.704340  \n",
       "3        6.400961            2.001610  \n",
       "9        4.652183            1.732042  "
      ]
     },
     "execution_count": 783,
     "metadata": {},
     "output_type": "execute_result"
    }
   ],
   "source": [
    "rel_cols = [\"store_id\", \"bounded_chain_name\", \"plaace_cat_4\", \"mean_revenue_4\", \"log_mean_revenue_4\"]\n",
    "store_ids = [\n",
    "\"990857423-990974489-88185\", \n",
    "\"948879220-972145203-18800\", \n",
    "\"951136751-971668970-6795\", \n",
    "\"980237508-980246167-71346\", \n",
    "\"999307795-999654649-475462\"\n",
    "]\n",
    "old_store_dataframes[\"train\"][rel_cols][old_store_dataframes[\"train\"][\"store_id\"].isin(store_ids)]"
   ]
  },
  {
   "cell_type": "code",
   "execution_count": 784,
   "metadata": {},
   "outputs": [
    {
     "data": {
      "text/html": [
       "<div>\n",
       "<style scoped>\n",
       "    .dataframe tbody tr th:only-of-type {\n",
       "        vertical-align: middle;\n",
       "    }\n",
       "\n",
       "    .dataframe tbody tr th {\n",
       "        vertical-align: top;\n",
       "    }\n",
       "\n",
       "    .dataframe thead th {\n",
       "        text-align: right;\n",
       "    }\n",
       "</style>\n",
       "<table border=\"1\" class=\"dataframe\">\n",
       "  <thead>\n",
       "    <tr style=\"text-align: right;\">\n",
       "      <th></th>\n",
       "      <th>store_id</th>\n",
       "      <th>bounded_chain_name</th>\n",
       "      <th>plaace_cat_4</th>\n",
       "      <th>mean_revenue_4</th>\n",
       "      <th>log_mean_revenue_4</th>\n",
       "    </tr>\n",
       "  </thead>\n",
       "  <tbody>\n",
       "    <tr>\n",
       "      <th>0</th>\n",
       "      <td>990857423-990974489-88185</td>\n",
       "      <td>BAKER KLAUSEN DRAMMEN</td>\n",
       "      <td>1.2.2.0</td>\n",
       "      <td>4.886853</td>\n",
       "      <td>1.575334</td>\n",
       "    </tr>\n",
       "    <tr>\n",
       "      <th>36</th>\n",
       "      <td>948879220-972145203-18800</td>\n",
       "      <td>OTHER</td>\n",
       "      <td>3.4.2.0</td>\n",
       "      <td>1.731372</td>\n",
       "      <td>0.887143</td>\n",
       "    </tr>\n",
       "    <tr>\n",
       "      <th>88</th>\n",
       "      <td>951136751-971668970-6795</td>\n",
       "      <td>EXPERT</td>\n",
       "      <td>2.3.1.0</td>\n",
       "      <td>12.868180</td>\n",
       "      <td>2.223180</td>\n",
       "    </tr>\n",
       "    <tr>\n",
       "      <th>218</th>\n",
       "      <td>980237508-980246167-71346</td>\n",
       "      <td>OTHER</td>\n",
       "      <td>2.9.1.0</td>\n",
       "      <td>5.683577</td>\n",
       "      <td>1.684506</td>\n",
       "    </tr>\n",
       "    <tr>\n",
       "      <th>1736</th>\n",
       "      <td>999307795-999654649-475462</td>\n",
       "      <td>LEATHERMAN HOLDING</td>\n",
       "      <td>2.4.6.0</td>\n",
       "      <td>4.370217</td>\n",
       "      <td>1.479221</td>\n",
       "    </tr>\n",
       "  </tbody>\n",
       "</table>\n",
       "</div>"
      ],
      "text/plain": [
       "                        store_id     bounded_chain_name plaace_cat_4  \\\n",
       "0      990857423-990974489-88185  BAKER KLAUSEN DRAMMEN      1.2.2.0   \n",
       "36     948879220-972145203-18800                  OTHER      3.4.2.0   \n",
       "88      951136751-971668970-6795                 EXPERT      2.3.1.0   \n",
       "218    980237508-980246167-71346                  OTHER      2.9.1.0   \n",
       "1736  999307795-999654649-475462     LEATHERMAN HOLDING      2.4.6.0   \n",
       "\n",
       "      mean_revenue_4  log_mean_revenue_4  \n",
       "0           4.886853            1.575334  \n",
       "36          1.731372            0.887143  \n",
       "88         12.868180            2.223180  \n",
       "218         5.683577            1.684506  \n",
       "1736        4.370217            1.479221  "
      ]
     },
     "execution_count": 784,
     "metadata": {},
     "output_type": "execute_result"
    }
   ],
   "source": [
    "store_dataframes[\"train\"][rel_cols][store_dataframes[\"train\"][\"store_id\"].isin(store_ids)]"
   ]
  },
  {
   "cell_type": "code",
   "execution_count": 791,
   "metadata": {},
   "outputs": [],
   "source": [
    "temp_df = store_dataframes[\"train\"][store_dataframes[\"train\"].plaace_cat_4 == \"3.4.2.0\"]\n",
    "temp2_df = store_dataframes[\"val\"][store_dataframes[\"val\"].plaace_cat_4 == \"3.4.2.0\"]"
   ]
  },
  {
   "cell_type": "code",
   "execution_count": 794,
   "metadata": {},
   "outputs": [
    {
     "data": {
      "text/plain": [
       "2.9716923076923076"
      ]
     },
     "execution_count": 794,
     "metadata": {},
     "output_type": "execute_result"
    }
   ],
   "source": [
    "temp_df.revenue.sum() / temp_df.shape[0]"
   ]
  },
  {
   "cell_type": "code",
   "execution_count": null,
   "metadata": {},
   "outputs": [],
   "source": []
  },
  {
   "cell_type": "code",
   "execution_count": 739,
   "metadata": {},
   "outputs": [],
   "source": [
    "with open(\"relevant_cols.txt\", \"r\") as f:\n",
    "    data = f.readlines()\n",
    "\n",
    "comp_relevant_cols = data[0].strip().split(\",\")\n",
    "bus_relevant_cols = data[1].strip().split(\",\")\n",
    "num_store_relevant_cols = data[2].strip().split(\",\")\n",
    "full_pop_relevant_cols = data[3].strip().split(\",\")"
   ]
  },
  {
   "cell_type": "code",
   "execution_count": 740,
   "metadata": {},
   "outputs": [],
   "source": [
    "comp_relevant_cols = comp_relevant_cols[::2]"
   ]
  },
  {
   "cell_type": "code",
   "execution_count": 741,
   "metadata": {},
   "outputs": [],
   "source": [
    "comp_relevant_cols += [\n",
    "    'sum_dist_to_nearest_10_comp_plaace_2',\n",
    "    'sum_dist_to_nearest_5_comp_plaace_2', \n",
    "    'sum_dist_to_nearest_10_comp_plaace_1',\n",
    "    'sum_dist_to_nearest_5_comp_plaace_1', \n",
    "    'sum_dist_to_nearest_1_comp_plaace_1',\n",
    "    'sum_dist_to_nearest_1_comp_plaace_2'\n",
    "    ]"
   ]
  },
  {
   "cell_type": "code",
   "execution_count": 742,
   "metadata": {},
   "outputs": [],
   "source": [
    "bus_relevant_cols = bus_relevant_cols[::2]"
   ]
  },
  {
   "cell_type": "code",
   "execution_count": 743,
   "metadata": {},
   "outputs": [
    {
     "data": {
      "text/plain": [
       "['fylke.plaace_cat_1_count',\n",
       " 'fylke.plaace_cat_4_count',\n",
       " 'fylke.plaace_cat_3_count',\n",
       " 'delomrade.plaace_cat_1_count',\n",
       " 'kommune.plaace_cat_1_count',\n",
       " 'grunnkrets_id.plaace_cat_1_count']"
      ]
     },
     "execution_count": 743,
     "metadata": {},
     "output_type": "execute_result"
    }
   ],
   "source": [
    "num_store_relevant_cols"
   ]
  },
  {
   "cell_type": "markdown",
   "metadata": {},
   "source": [
    "# Transforming the data"
   ]
  },
  {
   "cell_type": "code",
   "execution_count": 726,
   "metadata": {},
   "outputs": [],
   "source": [
    "from RMSLE import rmsle\n",
    "from pred_var_utils import reverse_log1p_transform_pred_var\n",
    "from sklearn.model_selection import GridSearchCV"
   ]
  },
  {
   "cell_type": "code",
   "execution_count": 744,
   "metadata": {},
   "outputs": [],
   "source": [
    "from sklearn.impute import SimpleImputer\n",
    "from sklearn.pipeline import Pipeline\n",
    "from sklearn.compose import ColumnTransformer\n",
    "from sklearn.preprocessing import StandardScaler, OneHotEncoder, OrdinalEncoder\n",
    "\n",
    "\n",
    "OE_categorical_features = [\"bounded_chain_name\", \"kommune\", \"delomrade\", \"is_grocery\", \"plaace_cat_2\", \"plaace_cat_3\", \"plaace_cat_4\", \"new_plaace\"]\n",
    "OE_categorical_transformer = Pipeline(\n",
    "    steps=[\n",
    "        (\"imputer\", SimpleImputer(missing_values=np.nan, strategy=\"constant\")),\n",
    "        (\"encoder\", OrdinalEncoder(handle_unknown=\"use_encoded_value\", unknown_value=-1)),\n",
    "    ]\n",
    ")\n",
    "\n",
    "OH_categorical_features = [\"plaace_cat_1\"] #[\"fylke\", \"plaace_cat_2\"]\n",
    "OH_categorical_transformer = Pipeline(\n",
    "    steps=[\n",
    "        (\"imputer\", SimpleImputer(missing_values=np.nan, strategy=\"constant\")),\n",
    "        (\"encoder\", OneHotEncoder(handle_unknown=\"ignore\")),\n",
    "    ]\n",
    ")\n",
    "\n",
    "\n",
    "numerical_features = [\"lat\", \"lon\", \n",
    "#\"mean_revenue_1\", \"mean_revenue_2\", \"mean_revenue_3\", \"mean_revenue_4\", \n",
    "\"log_mean_revenue_1\", \"log_mean_revenue_2\", \"log_mean_revenue_3\", \"log_mean_revenue_4\", \n",
    "\"fylke.plaace_cat_1_mean_revenue_log\", #\"fylke.plaace_cat_3_mean_revenue_log\", \n",
    "\"log_chain_mean_revenue\"\n",
    "] + full_pop_relevant_cols + comp_relevant_cols + bus_relevant_cols + num_store_relevant_cols #+ mean_rev_relevant_log_cols\n",
    "numerical_transformer = Pipeline(\n",
    "    steps=[\n",
    "        (\"imputer\", SimpleImputer(strategy=\"mean\")), \n",
    "        (\"scaler\", StandardScaler(with_mean=True, with_std=True))]\n",
    ")\n",
    "\n",
    "\n",
    "preprocessor = ColumnTransformer(\n",
    "    transformers=[\n",
    "        (\"oe_cat\", OE_categorical_transformer, OE_categorical_features),\n",
    "        (\"oh_cat\", OH_categorical_transformer, OH_categorical_features),\n",
    "        (\"num\", numerical_transformer, numerical_features),\n",
    "    ],\n",
    "    remainder='drop'\n",
    ")\n",
    "\n",
    "preprocessor = ColumnTransformer(\n",
    "    transformers=[\n",
    "        (\"oe_cat\", OE_categorical_transformer, OE_categorical_features),\n",
    "        (\"oh_cat\", OH_categorical_transformer, OH_categorical_features),\n",
    "        (\"num\", numerical_transformer, numerical_features),\n",
    "    ],\n",
    "    remainder='drop'\n",
    ")\n",
    "\n",
    "\n",
    "X_train = preprocessor.fit_transform(store_dataframes[\"train\"])\n",
    "if not submission_with_whole_train:\n",
    "    X_val = preprocessor.transform(store_dataframes[\"val\"])"
   ]
  },
  {
   "cell_type": "code",
   "execution_count": 745,
   "metadata": {},
   "outputs": [],
   "source": [
    "y_train = np.array(store_dataframes[\"train\"].log_revenue)\n",
    "if not submission_with_whole_train:\n",
    "    y_val = np.array(store_dataframes[\"val\"].revenue)\n",
    "mean_y = y_train.mean()\n",
    "std_y = y_train.std()\n",
    "\n",
    "y_train -= mean_y\n",
    "y_train /= std_y"
   ]
  },
  {
   "cell_type": "markdown",
   "metadata": {},
   "source": [
    "# PCA"
   ]
  },
  {
   "cell_type": "code",
   "execution_count": null,
   "metadata": {},
   "outputs": [],
   "source": [
    "PCA_cols_dict = {\n",
    "    \"OE\": [],\n",
    "    \"OH\": [],  \n",
    "    \"num\": []\n",
    "}\n",
    "\n",
    "reduntant_cols = [\"store_id\", \"year\", \"store_name\", \"plaace_hierarchy_id\", \"sales_channel_name\", \"address\", \"revenue\", \"log_revenue\", \"point\"]\n",
    "\n",
    "for col_name, dtype in store_dataframes[\"train\"].dtypes.to_dict().items():\n",
    "    if(col_name in reduntant_cols):\n",
    "        continue\n",
    "    if(dtype == int or dtype == float):\n",
    "        _type = \"num\"\n",
    "    elif(dtype == bool):\n",
    "        _type = \"OE\"\n",
    "    elif(dtype == object):\n",
    "        if(store_dataframes[\"train\"][col_name].nunique() <= 10):\n",
    "            _type = \"OH\"\n",
    "        else:\n",
    "            _type = \"OE\"\n",
    "    else:\n",
    "        print(f\"Unknown type {dtype} encountered for columns {col_name}\")\n",
    "    PCA_cols_dict[_type].append(col_name)\n",
    "    "
   ]
  },
  {
   "cell_type": "code",
   "execution_count": null,
   "metadata": {},
   "outputs": [],
   "source": [
    "import numpy as np\n",
    "from sklearn.decomposition import PCA"
   ]
  },
  {
   "cell_type": "code",
   "execution_count": null,
   "metadata": {},
   "outputs": [],
   "source": [
    "preprocessor = ColumnTransformer(\n",
    "    transformers=[\n",
    "        (\"oe_cat\", OE_categorical_transformer, PCA_cols_dict[\"OE\"]),\n",
    "        (\"oh_cat\", OH_categorical_transformer, PCA_cols_dict[\"OH\"]),\n",
    "        (\"num\", numerical_transformer, PCA_cols_dict[\"num\"]),\n",
    "    ],\n",
    "    remainder='drop'\n",
    ")"
   ]
  },
  {
   "cell_type": "code",
   "execution_count": null,
   "metadata": {},
   "outputs": [],
   "source": [
    "pre_PCA_X_train = preprocessor.fit_transform(store_dataframes[\"train\"])\n",
    "if not submission_with_whole_train:\n",
    "    pre_PCA_X_val = preprocessor.transform(store_dataframes[\"val\"])"
   ]
  },
  {
   "cell_type": "code",
   "execution_count": null,
   "metadata": {},
   "outputs": [],
   "source": [
    "pca = PCA(n_components=25)\n",
    "PCA_X_train = pca.fit_transform(pre_PCA_X_train)\n",
    "if not submission_with_whole_train:\n",
    "    PCA_X_val = pca.transform(pre_PCA_X_val)"
   ]
  },
  {
   "cell_type": "code",
   "execution_count": null,
   "metadata": {},
   "outputs": [],
   "source": [
    "print(pca.explained_variance_ratio_)\n",
    "\n",
    "print(pca.singular_values_)"
   ]
  },
  {
   "cell_type": "markdown",
   "metadata": {},
   "source": [
    "# Training the model"
   ]
  },
  {
   "cell_type": "markdown",
   "metadata": {},
   "source": [
    "## Random Forest"
   ]
  },
  {
   "cell_type": "code",
   "execution_count": 496,
   "metadata": {},
   "outputs": [],
   "source": [
    "from sklearn.ensemble import RandomForestRegressor\n",
    "\n",
    "# best params (8.11)\n",
    "# {'max_features': 8, 'min_samples_leaf': 4, 'min_samples_split': 32, 'n_estimators': 500}\n",
    "# rmsle(on val): 0.719099511243053\n",
    "\n",
    "rf = RandomForestRegressor(random_state=0, n_jobs=-1, max_features=8, min_samples_leaf=4, min_samples_split=32, n_estimators=500)\n",
    "rf_params = {\n",
    "    \"n_estimators\" : (100, 250, 500), \n",
    "    \"max_features\" : (2, 4, 8), \n",
    "    \"min_samples_split\" : (4, 8, 16, 32), \n",
    "    \"min_samples_leaf\" : (1, 2, 4), \n",
    "    }\n",
    "\n",
    "rf_clf = GridSearchCV(rf, rf_params, verbose=2)"
   ]
  },
  {
   "cell_type": "code",
   "execution_count": 497,
   "metadata": {},
   "outputs": [
    {
     "data": {
      "text/plain": [
       "0.7295688027831453"
      ]
     },
     "execution_count": 497,
     "metadata": {},
     "output_type": "execute_result"
    }
   ],
   "source": [
    "rf.fit(X_train, y_train)\n",
    "rf_y_pred = reverse_log1p_transform_pred_var(rf.predict(X_val), std_y=std_y, mean_y=mean_y)\n",
    "rmsle(y_val, rf_y_pred)"
   ]
  },
  {
   "cell_type": "code",
   "execution_count": 221,
   "metadata": {},
   "outputs": [],
   "source": [
    "#rf_clf.best_params_"
   ]
  },
  {
   "cell_type": "code",
   "execution_count": 222,
   "metadata": {},
   "outputs": [],
   "source": [
    "#rf_clf.best_params_"
   ]
  },
  {
   "cell_type": "code",
   "execution_count": 223,
   "metadata": {},
   "outputs": [],
   "source": [
    "rf_y_pred = reverse_log1p_transform_pred_var(rf.predict(X_val), std_y=std_y, mean_y=mean_y)\n"
   ]
  },
  {
   "cell_type": "code",
   "execution_count": 224,
   "metadata": {},
   "outputs": [
    {
     "data": {
      "text/plain": [
       "0.7196111316627671"
      ]
     },
     "execution_count": 224,
     "metadata": {},
     "output_type": "execute_result"
    }
   ],
   "source": [
    "rmsle(y_val, rf_y_pred)"
   ]
  },
  {
   "cell_type": "markdown",
   "metadata": {},
   "source": [
    "## Linear Regression"
   ]
  },
  {
   "cell_type": "code",
   "execution_count": 479,
   "metadata": {},
   "outputs": [],
   "source": [
    "from sklearn.linear_model import LinearRegression\n",
    "\n",
    "lr = LinearRegression(n_jobs=-1)"
   ]
  },
  {
   "cell_type": "code",
   "execution_count": 480,
   "metadata": {},
   "outputs": [
    {
     "data": {
      "text/html": [
       "<style>#sk-container-id-29 {color: black;background-color: white;}#sk-container-id-29 pre{padding: 0;}#sk-container-id-29 div.sk-toggleable {background-color: white;}#sk-container-id-29 label.sk-toggleable__label {cursor: pointer;display: block;width: 100%;margin-bottom: 0;padding: 0.3em;box-sizing: border-box;text-align: center;}#sk-container-id-29 label.sk-toggleable__label-arrow:before {content: \"▸\";float: left;margin-right: 0.25em;color: #696969;}#sk-container-id-29 label.sk-toggleable__label-arrow:hover:before {color: black;}#sk-container-id-29 div.sk-estimator:hover label.sk-toggleable__label-arrow:before {color: black;}#sk-container-id-29 div.sk-toggleable__content {max-height: 0;max-width: 0;overflow: hidden;text-align: left;background-color: #f0f8ff;}#sk-container-id-29 div.sk-toggleable__content pre {margin: 0.2em;color: black;border-radius: 0.25em;background-color: #f0f8ff;}#sk-container-id-29 input.sk-toggleable__control:checked~div.sk-toggleable__content {max-height: 200px;max-width: 100%;overflow: auto;}#sk-container-id-29 input.sk-toggleable__control:checked~label.sk-toggleable__label-arrow:before {content: \"▾\";}#sk-container-id-29 div.sk-estimator input.sk-toggleable__control:checked~label.sk-toggleable__label {background-color: #d4ebff;}#sk-container-id-29 div.sk-label input.sk-toggleable__control:checked~label.sk-toggleable__label {background-color: #d4ebff;}#sk-container-id-29 input.sk-hidden--visually {border: 0;clip: rect(1px 1px 1px 1px);clip: rect(1px, 1px, 1px, 1px);height: 1px;margin: -1px;overflow: hidden;padding: 0;position: absolute;width: 1px;}#sk-container-id-29 div.sk-estimator {font-family: monospace;background-color: #f0f8ff;border: 1px dotted black;border-radius: 0.25em;box-sizing: border-box;margin-bottom: 0.5em;}#sk-container-id-29 div.sk-estimator:hover {background-color: #d4ebff;}#sk-container-id-29 div.sk-parallel-item::after {content: \"\";width: 100%;border-bottom: 1px solid gray;flex-grow: 1;}#sk-container-id-29 div.sk-label:hover label.sk-toggleable__label {background-color: #d4ebff;}#sk-container-id-29 div.sk-serial::before {content: \"\";position: absolute;border-left: 1px solid gray;box-sizing: border-box;top: 0;bottom: 0;left: 50%;z-index: 0;}#sk-container-id-29 div.sk-serial {display: flex;flex-direction: column;align-items: center;background-color: white;padding-right: 0.2em;padding-left: 0.2em;position: relative;}#sk-container-id-29 div.sk-item {position: relative;z-index: 1;}#sk-container-id-29 div.sk-parallel {display: flex;align-items: stretch;justify-content: center;background-color: white;position: relative;}#sk-container-id-29 div.sk-item::before, #sk-container-id-29 div.sk-parallel-item::before {content: \"\";position: absolute;border-left: 1px solid gray;box-sizing: border-box;top: 0;bottom: 0;left: 50%;z-index: -1;}#sk-container-id-29 div.sk-parallel-item {display: flex;flex-direction: column;z-index: 1;position: relative;background-color: white;}#sk-container-id-29 div.sk-parallel-item:first-child::after {align-self: flex-end;width: 50%;}#sk-container-id-29 div.sk-parallel-item:last-child::after {align-self: flex-start;width: 50%;}#sk-container-id-29 div.sk-parallel-item:only-child::after {width: 0;}#sk-container-id-29 div.sk-dashed-wrapped {border: 1px dashed gray;margin: 0 0.4em 0.5em 0.4em;box-sizing: border-box;padding-bottom: 0.4em;background-color: white;}#sk-container-id-29 div.sk-label label {font-family: monospace;font-weight: bold;display: inline-block;line-height: 1.2em;}#sk-container-id-29 div.sk-label-container {text-align: center;}#sk-container-id-29 div.sk-container {/* jupyter's `normalize.less` sets `[hidden] { display: none; }` but bootstrap.min.css set `[hidden] { display: none !important; }` so we also need the `!important` here to be able to override the default hidden behavior on the sphinx rendered scikit-learn.org. See: https://github.com/scikit-learn/scikit-learn/issues/21755 */display: inline-block !important;position: relative;}#sk-container-id-29 div.sk-text-repr-fallback {display: none;}</style><div id=\"sk-container-id-29\" class=\"sk-top-container\"><div class=\"sk-text-repr-fallback\"><pre>LinearRegression(n_jobs=-1)</pre><b>In a Jupyter environment, please rerun this cell to show the HTML representation or trust the notebook. <br />On GitHub, the HTML representation is unable to render, please try loading this page with nbviewer.org.</b></div><div class=\"sk-container\" hidden><div class=\"sk-item\"><div class=\"sk-estimator sk-toggleable\"><input class=\"sk-toggleable__control sk-hidden--visually\" id=\"sk-estimator-id-29\" type=\"checkbox\" checked><label for=\"sk-estimator-id-29\" class=\"sk-toggleable__label sk-toggleable__label-arrow\">LinearRegression</label><div class=\"sk-toggleable__content\"><pre>LinearRegression(n_jobs=-1)</pre></div></div></div></div></div>"
      ],
      "text/plain": [
       "LinearRegression(n_jobs=-1)"
      ]
     },
     "execution_count": 480,
     "metadata": {},
     "output_type": "execute_result"
    }
   ],
   "source": [
    "lr.fit(X_train, y_train)"
   ]
  },
  {
   "cell_type": "code",
   "execution_count": 481,
   "metadata": {},
   "outputs": [],
   "source": [
    "lr_y_pred = reverse_log1p_transform_pred_var(lr.predict(X_val), std_y, mean_y)\n",
    "lr_y_pred = np.array([max(0, xi) for xi in lr_y_pred])"
   ]
  },
  {
   "cell_type": "code",
   "execution_count": 482,
   "metadata": {},
   "outputs": [
    {
     "data": {
      "text/plain": [
       "0.7485071979848835"
      ]
     },
     "execution_count": 482,
     "metadata": {},
     "output_type": "execute_result"
    }
   ],
   "source": [
    "rmsle(y_val, lr_y_pred)"
   ]
  },
  {
   "cell_type": "markdown",
   "metadata": {},
   "source": [
    "## Light GBM"
   ]
  },
  {
   "cell_type": "code",
   "execution_count": 746,
   "metadata": {},
   "outputs": [],
   "source": [
    "from lightgbm import LGBMRegressor\n",
    "\n",
    "# best params (8.11)\n",
    "# {'learning_rate': 0.05, 'min_child_samples': 16, 'min_split_gain': 0, 'n_estimators': 100, 'num_leaves': 25}\n",
    "# rmsle(on val): 0.7208999886795342\n",
    "\n",
    "lgbm = LGBMRegressor(\n",
    "    random_state=0, \n",
    "    n_jobs=-1, \n",
    "    learning_rate=0.05, \n",
    "    min_child_samples=16, \n",
    "    min_split_gain=0, \n",
    "    n_estimators=100, \n",
    "    num_leaves=25\n",
    "    )\n",
    "\n",
    "lgbm_params = {\n",
    "    \"num_leaves\" : (10, 25, 31, 75), \n",
    "    \"learning_rate\" : (0.05, 0.1, 0.25), \n",
    "    \"n_estimators\" : (50, 100, 250), \n",
    "    \"min_split_gain\" : (0, 0.01), \n",
    "    \"min_child_samples\" : (4, 8, 16, 32), \n",
    "    #\"reg_alpha\" : (0, 0.01, 0.1), \n",
    "    #\"reg_lambda\" : (0, 0.01, 0.1), \n",
    "    }\n",
    "\n",
    "lgbm_clf = GridSearchCV(lgbm, lgbm_params, verbose=2)"
   ]
  },
  {
   "cell_type": "code",
   "execution_count": 747,
   "metadata": {},
   "outputs": [
    {
     "data": {
      "text/html": [
       "<style>#sk-container-id-45 {color: black;background-color: white;}#sk-container-id-45 pre{padding: 0;}#sk-container-id-45 div.sk-toggleable {background-color: white;}#sk-container-id-45 label.sk-toggleable__label {cursor: pointer;display: block;width: 100%;margin-bottom: 0;padding: 0.3em;box-sizing: border-box;text-align: center;}#sk-container-id-45 label.sk-toggleable__label-arrow:before {content: \"▸\";float: left;margin-right: 0.25em;color: #696969;}#sk-container-id-45 label.sk-toggleable__label-arrow:hover:before {color: black;}#sk-container-id-45 div.sk-estimator:hover label.sk-toggleable__label-arrow:before {color: black;}#sk-container-id-45 div.sk-toggleable__content {max-height: 0;max-width: 0;overflow: hidden;text-align: left;background-color: #f0f8ff;}#sk-container-id-45 div.sk-toggleable__content pre {margin: 0.2em;color: black;border-radius: 0.25em;background-color: #f0f8ff;}#sk-container-id-45 input.sk-toggleable__control:checked~div.sk-toggleable__content {max-height: 200px;max-width: 100%;overflow: auto;}#sk-container-id-45 input.sk-toggleable__control:checked~label.sk-toggleable__label-arrow:before {content: \"▾\";}#sk-container-id-45 div.sk-estimator input.sk-toggleable__control:checked~label.sk-toggleable__label {background-color: #d4ebff;}#sk-container-id-45 div.sk-label input.sk-toggleable__control:checked~label.sk-toggleable__label {background-color: #d4ebff;}#sk-container-id-45 input.sk-hidden--visually {border: 0;clip: rect(1px 1px 1px 1px);clip: rect(1px, 1px, 1px, 1px);height: 1px;margin: -1px;overflow: hidden;padding: 0;position: absolute;width: 1px;}#sk-container-id-45 div.sk-estimator {font-family: monospace;background-color: #f0f8ff;border: 1px dotted black;border-radius: 0.25em;box-sizing: border-box;margin-bottom: 0.5em;}#sk-container-id-45 div.sk-estimator:hover {background-color: #d4ebff;}#sk-container-id-45 div.sk-parallel-item::after {content: \"\";width: 100%;border-bottom: 1px solid gray;flex-grow: 1;}#sk-container-id-45 div.sk-label:hover label.sk-toggleable__label {background-color: #d4ebff;}#sk-container-id-45 div.sk-serial::before {content: \"\";position: absolute;border-left: 1px solid gray;box-sizing: border-box;top: 0;bottom: 0;left: 50%;z-index: 0;}#sk-container-id-45 div.sk-serial {display: flex;flex-direction: column;align-items: center;background-color: white;padding-right: 0.2em;padding-left: 0.2em;position: relative;}#sk-container-id-45 div.sk-item {position: relative;z-index: 1;}#sk-container-id-45 div.sk-parallel {display: flex;align-items: stretch;justify-content: center;background-color: white;position: relative;}#sk-container-id-45 div.sk-item::before, #sk-container-id-45 div.sk-parallel-item::before {content: \"\";position: absolute;border-left: 1px solid gray;box-sizing: border-box;top: 0;bottom: 0;left: 50%;z-index: -1;}#sk-container-id-45 div.sk-parallel-item {display: flex;flex-direction: column;z-index: 1;position: relative;background-color: white;}#sk-container-id-45 div.sk-parallel-item:first-child::after {align-self: flex-end;width: 50%;}#sk-container-id-45 div.sk-parallel-item:last-child::after {align-self: flex-start;width: 50%;}#sk-container-id-45 div.sk-parallel-item:only-child::after {width: 0;}#sk-container-id-45 div.sk-dashed-wrapped {border: 1px dashed gray;margin: 0 0.4em 0.5em 0.4em;box-sizing: border-box;padding-bottom: 0.4em;background-color: white;}#sk-container-id-45 div.sk-label label {font-family: monospace;font-weight: bold;display: inline-block;line-height: 1.2em;}#sk-container-id-45 div.sk-label-container {text-align: center;}#sk-container-id-45 div.sk-container {/* jupyter's `normalize.less` sets `[hidden] { display: none; }` but bootstrap.min.css set `[hidden] { display: none !important; }` so we also need the `!important` here to be able to override the default hidden behavior on the sphinx rendered scikit-learn.org. See: https://github.com/scikit-learn/scikit-learn/issues/21755 */display: inline-block !important;position: relative;}#sk-container-id-45 div.sk-text-repr-fallback {display: none;}</style><div id=\"sk-container-id-45\" class=\"sk-top-container\"><div class=\"sk-text-repr-fallback\"><pre>LGBMRegressor(learning_rate=0.05, min_child_samples=16, min_split_gain=0,\n",
       "              num_leaves=25, random_state=0)</pre><b>In a Jupyter environment, please rerun this cell to show the HTML representation or trust the notebook. <br />On GitHub, the HTML representation is unable to render, please try loading this page with nbviewer.org.</b></div><div class=\"sk-container\" hidden><div class=\"sk-item\"><div class=\"sk-estimator sk-toggleable\"><input class=\"sk-toggleable__control sk-hidden--visually\" id=\"sk-estimator-id-45\" type=\"checkbox\" checked><label for=\"sk-estimator-id-45\" class=\"sk-toggleable__label sk-toggleable__label-arrow\">LGBMRegressor</label><div class=\"sk-toggleable__content\"><pre>LGBMRegressor(learning_rate=0.05, min_child_samples=16, min_split_gain=0,\n",
       "              num_leaves=25, random_state=0)</pre></div></div></div></div></div>"
      ],
      "text/plain": [
       "LGBMRegressor(learning_rate=0.05, min_child_samples=16, min_split_gain=0,\n",
       "              num_leaves=25, random_state=0)"
      ]
     },
     "execution_count": 747,
     "metadata": {},
     "output_type": "execute_result"
    }
   ],
   "source": [
    "lgbm.fit(X_train, y_train)"
   ]
  },
  {
   "cell_type": "code",
   "execution_count": 748,
   "metadata": {},
   "outputs": [],
   "source": [
    "#lgbm_clf.best_params_"
   ]
  },
  {
   "cell_type": "code",
   "execution_count": 749,
   "metadata": {},
   "outputs": [],
   "source": [
    "lgbm_y_pred = reverse_log1p_transform_pred_var(lgbm.predict(X_val), std_y, mean_y)\n",
    "lgbm_y_pred = np.array([max(0, xi) for xi in lgbm_y_pred])"
   ]
  },
  {
   "cell_type": "code",
   "execution_count": 750,
   "metadata": {},
   "outputs": [
    {
     "data": {
      "text/plain": [
       "0.7344922753073084"
      ]
     },
     "execution_count": 750,
     "metadata": {},
     "output_type": "execute_result"
    }
   ],
   "source": [
    "rmsle(y_val, lgbm_y_pred)"
   ]
  },
  {
   "cell_type": "markdown",
   "metadata": {},
   "source": [
    "## CatBoost"
   ]
  },
  {
   "cell_type": "code",
   "execution_count": 751,
   "metadata": {},
   "outputs": [],
   "source": [
    "from catboost import CatBoostRegressor\n",
    "from sklearn.model_selection import GridSearchCV\n",
    "\n",
    "\n",
    "# best params (8.11)\n",
    "# {'depth': 6, 'l2_leaf_reg': 5, 'learning_rate': 0.05, 'eval_metric': 'RMSE'}\n",
    "# rmsle(on val) = 0.7190096805219454\n",
    "\n",
    "cb = CatBoostRegressor(\n",
    "    random_seed=0, \n",
    "    verbose=False, \n",
    "    eval_metric=\"RMSE\", \n",
    "    depth=6, \n",
    "    l2_leaf_reg= 5, \n",
    "    learning_rate= 0.05\n",
    "    )\n",
    "\n",
    "cb_params = grid = {\n",
    "    'learning_rate': [0.01, 0.03, 0.05, 0.1, 0.3],\n",
    "    'depth': [5, 6, 8, 10],\n",
    "    'l2_leaf_reg': [4, 5, 6, 7, 8], \n",
    "    }\n",
    "\n",
    "# cb_clf = cb.grid_search(cb_params, X=X_train, y=y_train)"
   ]
  },
  {
   "cell_type": "code",
   "execution_count": 752,
   "metadata": {},
   "outputs": [],
   "source": [
    "#cb_clf[\"params\"]"
   ]
  },
  {
   "cell_type": "code",
   "execution_count": 753,
   "metadata": {},
   "outputs": [
    {
     "data": {
      "text/plain": [
       "<catboost.core.CatBoostRegressor at 0x17eb7baf0>"
      ]
     },
     "execution_count": 753,
     "metadata": {},
     "output_type": "execute_result"
    }
   ],
   "source": [
    "cb.fit(X_train, y_train)"
   ]
  },
  {
   "cell_type": "code",
   "execution_count": 754,
   "metadata": {},
   "outputs": [],
   "source": [
    "cb_y_pred = reverse_log1p_transform_pred_var(cb.predict(X_val), std_y, mean_y)\n",
    "cb_y_pred = np.array([max(0, xi) for xi in cb_y_pred])"
   ]
  },
  {
   "cell_type": "code",
   "execution_count": 755,
   "metadata": {},
   "outputs": [
    {
     "data": {
      "text/plain": [
       "0.7366041432934709"
      ]
     },
     "execution_count": 755,
     "metadata": {},
     "output_type": "execute_result"
    }
   ],
   "source": [
    "rmsle(y_val, cb_y_pred)"
   ]
  },
  {
   "cell_type": "markdown",
   "metadata": {},
   "source": [
    "## Stacking classifiers"
   ]
  },
  {
   "cell_type": "code",
   "execution_count": null,
   "metadata": {},
   "outputs": [],
   "source": [
    "from sklearn.ensemble import StackingRegressor\n",
    "\n",
    "estimators = [\n",
    "    ('rf', rf), \n",
    "    ('cb', cb), \n",
    "    ('lgbm', lgbm), \n",
    "]\n",
    "\n",
    "rf_end_params = {\n",
    "    \"n_estimators\" : (50, 100, 250), \n",
    "    \"max_features\" : (1, 2, 3), \n",
    "    \"min_samples_split\" : (16, 32), \n",
    "    \"min_samples_leaf\" : (2, 4, 8), \n",
    "    }\n",
    "\n",
    "rf_end = RandomForestRegressor(random_state=0, n_jobs=-1, n_estimators=50, max_features=3)\n",
    "\n",
    "reg = StackingRegressor(\n",
    "    estimators=estimators,\n",
    "    final_estimator=rf_end\n",
    "    )"
   ]
  },
  {
   "cell_type": "code",
   "execution_count": null,
   "metadata": {},
   "outputs": [],
   "source": [
    "reg.fit(X_train, y_train)"
   ]
  },
  {
   "cell_type": "code",
   "execution_count": null,
   "metadata": {},
   "outputs": [],
   "source": [
    "reg_y_pred = reverse_log1p_transform_pred_var(reg.predict(X_val), std_y, mean_y)"
   ]
  },
  {
   "cell_type": "code",
   "execution_count": null,
   "metadata": {},
   "outputs": [],
   "source": [
    "rmsle(y_pred=reg_y_pred, y_true=y_val)"
   ]
  },
  {
   "cell_type": "markdown",
   "metadata": {},
   "source": [
    "## Creating the submission"
   ]
  },
  {
   "cell_type": "code",
   "execution_count": null,
   "metadata": {},
   "outputs": [],
   "source": [
    "# Predict on the test set \n",
    "X_test = preprocessor.transform(store_dataframes[\"test\"])\n",
    "y_test_pred = reverse_log1p_transform_pred_var(cb.predict(X_test), std_y, mean_y)\n",
    "\n",
    "# Generate submission dataframe \n",
    "# NOTE: It is important that the ID and predicted values match\n",
    "submission = pd.DataFrame()\n",
    "submission['id'] = stores_test.store_id \n",
    "submission['predicted'] = np.asarray(y_test_pred)\n",
    "\n",
    "# Save it to disk (`index=False` means don't save the index in the csv)\n",
    "submission.to_csv('submission.csv', index=False)"
   ]
  },
  {
   "cell_type": "markdown",
   "metadata": {},
   "source": [
    "# Create CSV of dataframes"
   ]
  },
  {
   "cell_type": "code",
   "execution_count": 144,
   "metadata": {},
   "outputs": [],
   "source": [
    "for df_name, df in store_dataframes.items():\n",
    "    filepath = Path(f\"temp_data/full_features_{df_name}_12_nov.csv\")  \n",
    "    filepath.parent.mkdir(parents=True, exist_ok=True)  \n",
    "    df.to_csv(filepath, index=True)"
   ]
  },
  {
   "cell_type": "code",
   "execution_count": null,
   "metadata": {},
   "outputs": [],
   "source": []
  }
 ],
 "metadata": {
  "kernelspec": {
   "display_name": "Python 3.9.12 ('tdt4173')",
   "language": "python",
   "name": "python3"
  },
  "language_info": {
   "codemirror_mode": {
    "name": "ipython",
    "version": 3
   },
   "file_extension": ".py",
   "mimetype": "text/x-python",
   "name": "python",
   "nbconvert_exporter": "python",
   "pygments_lexer": "ipython3",
   "version": "3.9.12"
  },
  "orig_nbformat": 4,
  "vscode": {
   "interpreter": {
    "hash": "39b33d5bb6aa9988fd454a923e38ef42550e1626b613fe9fb888665b5922e892"
   }
  }
 },
 "nbformat": 4,
 "nbformat_minor": 2
}
