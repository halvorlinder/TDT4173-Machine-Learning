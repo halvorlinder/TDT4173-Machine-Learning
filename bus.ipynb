{
 "cells": [
  {
   "cell_type": "code",
   "execution_count": 15,
   "metadata": {},
   "outputs": [
    {
     "name": "stdout",
     "output_type": "stream",
     "text": [
      "The autoreload extension is already loaded. To reload it, use:\n",
      "  %reload_ext autoreload\n"
     ]
    }
   ],
   "source": [
    "# Magic to automatically update imports if functions in utils are changed\n",
    "%load_ext autoreload\n",
    "%autoreload 2\n",
    "\n",
    "import pandas as pd\n",
    "import numpy as np\n",
    "import seaborn as sns\n",
    "import sklearn\n",
    "import matplotlib.pyplot as plt\n",
    "import math"
   ]
  },
  {
   "cell_type": "code",
   "execution_count": 2,
   "metadata": {},
   "outputs": [],
   "source": [
    "from sklearn.model_selection import train_test_split\n",
    "\n",
    "stores_train = pd.read_csv(\"data/stores_train.csv\")\n",
    "stores_test = pd.read_csv(\"data/stores_test.csv\")\n",
    "bus_routes = pd.read_csv(\"data/busstops_norway.csv\")\n",
    "stores_train, stores_val = train_test_split(stores_train, test_size=0.2, random_state=0)"
   ]
  },
  {
   "cell_type": "code",
   "execution_count": 7,
   "metadata": {},
   "outputs": [
    {
     "data": {
      "text/html": [
       "<div>\n",
       "<style scoped>\n",
       "    .dataframe tbody tr th:only-of-type {\n",
       "        vertical-align: middle;\n",
       "    }\n",
       "\n",
       "    .dataframe tbody tr th {\n",
       "        vertical-align: top;\n",
       "    }\n",
       "\n",
       "    .dataframe thead th {\n",
       "        text-align: right;\n",
       "    }\n",
       "</style>\n",
       "<table border=\"1\" class=\"dataframe\">\n",
       "  <thead>\n",
       "    <tr style=\"text-align: right;\">\n",
       "      <th></th>\n",
       "      <th>busstop_id</th>\n",
       "      <th>stopplace_type</th>\n",
       "      <th>importance_level</th>\n",
       "      <th>side_placement</th>\n",
       "      <th>geometry</th>\n",
       "    </tr>\n",
       "  </thead>\n",
       "  <tbody>\n",
       "    <tr>\n",
       "      <th>0</th>\n",
       "      <td>853cb081-cc32-4880-aa3e-26e96870d874</td>\n",
       "      <td>Plattform og lomme</td>\n",
       "      <td>Mangler viktighetsnivå</td>\n",
       "      <td>LEFT_AND_RIGHT</td>\n",
       "      <td>POINT(6.54064723379766 61.0618887850553)</td>\n",
       "    </tr>\n",
       "    <tr>\n",
       "      <th>1</th>\n",
       "      <td>156b052b-2771-497a-b4f4-97fed59e1aca</td>\n",
       "      <td>Lomme og skilt, ikke plattform</td>\n",
       "      <td>Mangler viktighetsnivå</td>\n",
       "      <td>LEFT_AND_RIGHT</td>\n",
       "      <td>POINT(5.89980086113255 60.1421872817075)</td>\n",
       "    </tr>\n",
       "    <tr>\n",
       "      <th>2</th>\n",
       "      <td>7312a280-e14f-4b09-a421-02e8fe1bc63e</td>\n",
       "      <td>NaN</td>\n",
       "      <td>Mangler viktighetsnivå</td>\n",
       "      <td>MIDDLE_LEFT</td>\n",
       "      <td>POINT(10.7781327278563 59.9299988828761)</td>\n",
       "    </tr>\n",
       "    <tr>\n",
       "      <th>3</th>\n",
       "      <td>d9cda2c7-355a-49c1-b56c-a33180d2a82e</td>\n",
       "      <td>NaN</td>\n",
       "      <td>Mangler viktighetsnivå</td>\n",
       "      <td>MIDDLE_LEFT</td>\n",
       "      <td>POINT(10.7781496457324 59.9301044643692)</td>\n",
       "    </tr>\n",
       "    <tr>\n",
       "      <th>4</th>\n",
       "      <td>f803bcd3-182d-450b-bbb4-113c6ca885c2</td>\n",
       "      <td>NaN</td>\n",
       "      <td>Mangler viktighetsnivå</td>\n",
       "      <td>MIDDLE_RIGHT</td>\n",
       "      <td>POINT(10.7781676444854 59.9302099995898)</td>\n",
       "    </tr>\n",
       "  </tbody>\n",
       "</table>\n",
       "</div>"
      ],
      "text/plain": [
       "                             busstop_id                  stopplace_type  \\\n",
       "0  853cb081-cc32-4880-aa3e-26e96870d874              Plattform og lomme   \n",
       "1  156b052b-2771-497a-b4f4-97fed59e1aca  Lomme og skilt, ikke plattform   \n",
       "2  7312a280-e14f-4b09-a421-02e8fe1bc63e                             NaN   \n",
       "3  d9cda2c7-355a-49c1-b56c-a33180d2a82e                             NaN   \n",
       "4  f803bcd3-182d-450b-bbb4-113c6ca885c2                             NaN   \n",
       "\n",
       "         importance_level  side_placement  \\\n",
       "0  Mangler viktighetsnivå  LEFT_AND_RIGHT   \n",
       "1  Mangler viktighetsnivå  LEFT_AND_RIGHT   \n",
       "2  Mangler viktighetsnivå     MIDDLE_LEFT   \n",
       "3  Mangler viktighetsnivå     MIDDLE_LEFT   \n",
       "4  Mangler viktighetsnivå    MIDDLE_RIGHT   \n",
       "\n",
       "                                   geometry  \n",
       "0  POINT(6.54064723379766 61.0618887850553)  \n",
       "1  POINT(5.89980086113255 60.1421872817075)  \n",
       "2  POINT(10.7781327278563 59.9299988828761)  \n",
       "3  POINT(10.7781496457324 59.9301044643692)  \n",
       "4  POINT(10.7781676444854 59.9302099995898)  "
      ]
     },
     "execution_count": 7,
     "metadata": {},
     "output_type": "execute_result"
    }
   ],
   "source": [
    "bus_routes.head()"
   ]
  },
  {
   "cell_type": "code",
   "execution_count": 53,
   "metadata": {},
   "outputs": [
    {
     "name": "stdout",
     "output_type": "stream",
     "text": [
      "133731\n"
     ]
    }
   ],
   "source": [
    "stores_train.head()\n",
    "print(stores_train.size)"
   ]
  },
  {
   "cell_type": "code",
   "execution_count": 14,
   "metadata": {},
   "outputs": [
    {
     "name": "stdout",
     "output_type": "stream",
     "text": [
      "['6.54064723379766', '61.0618887850553']\n"
     ]
    }
   ],
   "source": [
    "print(bus_routes[\"geometry\"].to_numpy()[0][6:-1].split(\" \"))\n",
    "    "
   ]
  },
  {
   "cell_type": "code",
   "execution_count": 20,
   "metadata": {},
   "outputs": [],
   "source": [
    "def distance_between_bus_stop_and_store(bus_point, lat, lon):\n",
    "    bus_point = np.array(bus_point[6:-1].split(\" \")).astype(float)\n",
    "    return math.hypot(bus_point[0] - lat, bus_point[1] - lon)"
   ]
  },
  {
   "cell_type": "code",
   "execution_count": 21,
   "metadata": {},
   "outputs": [
    {
     "name": "stdout",
     "output_type": "stream",
     "text": [
      "0.0838022954316392\n"
     ]
    }
   ],
   "source": [
    "print(distance_between_bus_stop_and_store(\"POINT(10.7781676444854 59.9302099995898)\", 10.7, 59.9))"
   ]
  },
  {
   "cell_type": "code",
   "execution_count": 51,
   "metadata": {},
   "outputs": [],
   "source": [
    "def closest_bus_stop(stores: pd.DataFrame, busses: pd.DataFrame):\n",
    "    stores[\"closest_bus_stop\"] = stores.apply(lambda store_row: min([distance_between_bus_stop_and_store(row, store_row.lat, store_row.lon) for (columnName, row) in busses[\"geometry\"].iteritems()]), axis=1)\n",
    "    "
   ]
  },
  {
   "cell_type": "code",
   "execution_count": 52,
   "metadata": {},
   "outputs": [
    {
     "name": "stdout",
     "output_type": "stream",
     "text": [
      "Index(['store_id', 'year', 'store_name', 'plaace_hierarchy_id',\n",
      "       'sales_channel_name', 'grunnkrets_id', 'address', 'lat', 'lon',\n",
      "       'chain_name', 'mall_name', 'revenue'],\n",
      "      dtype='object')\n"
     ]
    },
    {
     "data": {
      "text/html": [
       "<div>\n",
       "<style scoped>\n",
       "    .dataframe tbody tr th:only-of-type {\n",
       "        vertical-align: middle;\n",
       "    }\n",
       "\n",
       "    .dataframe tbody tr th {\n",
       "        vertical-align: top;\n",
       "    }\n",
       "\n",
       "    .dataframe thead th {\n",
       "        text-align: right;\n",
       "    }\n",
       "</style>\n",
       "<table border=\"1\" class=\"dataframe\">\n",
       "  <thead>\n",
       "    <tr style=\"text-align: right;\">\n",
       "      <th></th>\n",
       "      <th>store_id</th>\n",
       "      <th>year</th>\n",
       "      <th>store_name</th>\n",
       "      <th>plaace_hierarchy_id</th>\n",
       "      <th>sales_channel_name</th>\n",
       "      <th>grunnkrets_id</th>\n",
       "      <th>address</th>\n",
       "      <th>lat</th>\n",
       "      <th>lon</th>\n",
       "      <th>chain_name</th>\n",
       "      <th>mall_name</th>\n",
       "      <th>revenue</th>\n",
       "      <th>closest_bus_stop</th>\n",
       "    </tr>\n",
       "  </thead>\n",
       "  <tbody>\n",
       "    <tr>\n",
       "      <th>2506</th>\n",
       "      <td>990857423-990974489-88185</td>\n",
       "      <td>2016</td>\n",
       "      <td>BAKER KLAUSEN UNION</td>\n",
       "      <td>1.2.2.0</td>\n",
       "      <td>Bakery shop</td>\n",
       "      <td>6020601</td>\n",
       "      <td>GRØNLAND 54</td>\n",
       "      <td>59.743135</td>\n",
       "      <td>10.194627</td>\n",
       "      <td>BAKER KLAUSEN DRAMMEN</td>\n",
       "      <td>NaN</td>\n",
       "      <td>4.447</td>\n",
       "      <td>66.280115</td>\n",
       "    </tr>\n",
       "    <tr>\n",
       "      <th>12305</th>\n",
       "      <td>948879220-972145203-18800</td>\n",
       "      <td>2016</td>\n",
       "      <td>PRIKKEN RENS AS</td>\n",
       "      <td>3.4.2.0</td>\n",
       "      <td>Laundromats and dry cleaners</td>\n",
       "      <td>2350203</td>\n",
       "      <td>ENERGIVEGEN 5</td>\n",
       "      <td>60.149288</td>\n",
       "      <td>11.187290</td>\n",
       "      <td>NaN</td>\n",
       "      <td>NaN</td>\n",
       "      <td>2.040</td>\n",
       "      <td>65.579151</td>\n",
       "    </tr>\n",
       "    <tr>\n",
       "      <th>4142</th>\n",
       "      <td>951136751-971668970-6795</td>\n",
       "      <td>2016</td>\n",
       "      <td>EXPERT HOKKSUND</td>\n",
       "      <td>2.3.1.0</td>\n",
       "      <td>Electronics stores</td>\n",
       "      <td>6240307</td>\n",
       "      <td>SUNDMOEN NÆRINGSOMRÅDE</td>\n",
       "      <td>59.768986</td>\n",
       "      <td>9.899066</td>\n",
       "      <td>EXPERT</td>\n",
       "      <td>NaN</td>\n",
       "      <td>36.489</td>\n",
       "      <td>66.556084</td>\n",
       "    </tr>\n",
       "    <tr>\n",
       "      <th>8561</th>\n",
       "      <td>980237508-980246167-71346</td>\n",
       "      <td>2016</td>\n",
       "      <td>INVIT AS</td>\n",
       "      <td>2.9.1.0</td>\n",
       "      <td>Gifts and interior design shops</td>\n",
       "      <td>15040206</td>\n",
       "      <td>APOTEKERGATA 9</td>\n",
       "      <td>62.471607</td>\n",
       "      <td>6.151301</td>\n",
       "      <td>NaN</td>\n",
       "      <td>NaN</td>\n",
       "      <td>5.739</td>\n",
       "      <td>71.119809</td>\n",
       "    </tr>\n",
       "    <tr>\n",
       "      <th>818</th>\n",
       "      <td>974421305-974489902-136560</td>\n",
       "      <td>2016</td>\n",
       "      <td>MUCHO MAS</td>\n",
       "      <td>1.1.6.2</td>\n",
       "      <td>Restaurants</td>\n",
       "      <td>3012312</td>\n",
       "      <td>THORVALD MEYERS GATE 36</td>\n",
       "      <td>59.924205</td>\n",
       "      <td>10.759401</td>\n",
       "      <td>NaN</td>\n",
       "      <td>NaN</td>\n",
       "      <td>15.573</td>\n",
       "      <td>65.857399</td>\n",
       "    </tr>\n",
       "  </tbody>\n",
       "</table>\n",
       "</div>"
      ],
      "text/plain": [
       "                         store_id  year           store_name  \\\n",
       "2506    990857423-990974489-88185  2016  BAKER KLAUSEN UNION   \n",
       "12305   948879220-972145203-18800  2016      PRIKKEN RENS AS   \n",
       "4142     951136751-971668970-6795  2016      EXPERT HOKKSUND   \n",
       "8561    980237508-980246167-71346  2016             INVIT AS   \n",
       "818    974421305-974489902-136560  2016            MUCHO MAS   \n",
       "\n",
       "      plaace_hierarchy_id               sales_channel_name  grunnkrets_id  \\\n",
       "2506              1.2.2.0                      Bakery shop        6020601   \n",
       "12305             3.4.2.0     Laundromats and dry cleaners        2350203   \n",
       "4142              2.3.1.0               Electronics stores        6240307   \n",
       "8561              2.9.1.0  Gifts and interior design shops       15040206   \n",
       "818               1.1.6.2                      Restaurants        3012312   \n",
       "\n",
       "                       address        lat        lon             chain_name  \\\n",
       "2506               GRØNLAND 54  59.743135  10.194627  BAKER KLAUSEN DRAMMEN   \n",
       "12305            ENERGIVEGEN 5  60.149288  11.187290                    NaN   \n",
       "4142    SUNDMOEN NÆRINGSOMRÅDE  59.768986   9.899066                 EXPERT   \n",
       "8561            APOTEKERGATA 9  62.471607   6.151301                    NaN   \n",
       "818    THORVALD MEYERS GATE 36  59.924205  10.759401                    NaN   \n",
       "\n",
       "      mall_name  revenue  closest_bus_stop  \n",
       "2506        NaN    4.447         66.280115  \n",
       "12305       NaN    2.040         65.579151  \n",
       "4142        NaN   36.489         66.556084  \n",
       "8561        NaN    5.739         71.119809  \n",
       "818         NaN   15.573         65.857399  "
      ]
     },
     "execution_count": 52,
     "metadata": {},
     "output_type": "execute_result"
    }
   ],
   "source": [
    "closest_bus_stop(stores_train, bus_routes)\n",
    "\n",
    "stores_train.head()"
   ]
  }
 ],
 "metadata": {
  "kernelspec": {
   "display_name": "Python 3.10.3 64-bit",
   "language": "python",
   "name": "python3"
  },
  "language_info": {
   "codemirror_mode": {
    "name": "ipython",
    "version": 3
   },
   "file_extension": ".py",
   "mimetype": "text/x-python",
   "name": "python",
   "nbconvert_exporter": "python",
   "pygments_lexer": "ipython3",
   "version": "3.10.3"
  },
  "orig_nbformat": 4,
  "vscode": {
   "interpreter": {
    "hash": "cbf0af76588ebfddf007176c3bd99359cfdabb4f1ee078e7a6b227f52474e64b"
   }
  }
 },
 "nbformat": 4,
 "nbformat_minor": 2
}
