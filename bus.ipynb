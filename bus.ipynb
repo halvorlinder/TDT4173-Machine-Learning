{
 "cells": [
  {
   "cell_type": "code",
   "execution_count": 1,
   "metadata": {},
   "outputs": [],
   "source": [
    "# Magic to automatically update imports if functions in utils are changed\n",
    "%load_ext autoreload\n",
    "%autoreload 2\n",
    "\n",
    "import pandas as pd\n",
    "import numpy as np\n",
    "import seaborn as sns\n",
    "import sklearn\n",
    "import matplotlib.pyplot as plt\n",
    "import math"
   ]
  },
  {
   "cell_type": "code",
   "execution_count": 2,
   "metadata": {},
   "outputs": [],
   "source": [
    "from sklearn.model_selection import train_test_split\n",
    "\n",
    "stores_train = pd.read_csv(\"data/stores_train.csv\")\n",
    "stores_test = pd.read_csv(\"data/stores_test.csv\")\n",
    "bus_routes = pd.read_csv(\"data/busstops_norway.csv\")\n",
    "stores_train, stores_val = train_test_split(stores_train, test_size=0.2, random_state=0)"
   ]
  },
  {
   "cell_type": "code",
   "execution_count": 3,
   "metadata": {},
   "outputs": [
    {
     "data": {
      "text/html": [
       "<div>\n",
       "<style scoped>\n",
       "    .dataframe tbody tr th:only-of-type {\n",
       "        vertical-align: middle;\n",
       "    }\n",
       "\n",
       "    .dataframe tbody tr th {\n",
       "        vertical-align: top;\n",
       "    }\n",
       "\n",
       "    .dataframe thead th {\n",
       "        text-align: right;\n",
       "    }\n",
       "</style>\n",
       "<table border=\"1\" class=\"dataframe\">\n",
       "  <thead>\n",
       "    <tr style=\"text-align: right;\">\n",
       "      <th></th>\n",
       "      <th>busstop_id</th>\n",
       "      <th>stopplace_type</th>\n",
       "      <th>importance_level</th>\n",
       "      <th>side_placement</th>\n",
       "      <th>geometry</th>\n",
       "    </tr>\n",
       "  </thead>\n",
       "  <tbody>\n",
       "    <tr>\n",
       "      <th>0</th>\n",
       "      <td>853cb081-cc32-4880-aa3e-26e96870d874</td>\n",
       "      <td>Plattform og lomme</td>\n",
       "      <td>Mangler viktighetsnivå</td>\n",
       "      <td>LEFT_AND_RIGHT</td>\n",
       "      <td>POINT(6.54064723379766 61.0618887850553)</td>\n",
       "    </tr>\n",
       "    <tr>\n",
       "      <th>1</th>\n",
       "      <td>156b052b-2771-497a-b4f4-97fed59e1aca</td>\n",
       "      <td>Lomme og skilt, ikke plattform</td>\n",
       "      <td>Mangler viktighetsnivå</td>\n",
       "      <td>LEFT_AND_RIGHT</td>\n",
       "      <td>POINT(5.89980086113255 60.1421872817075)</td>\n",
       "    </tr>\n",
       "    <tr>\n",
       "      <th>2</th>\n",
       "      <td>7312a280-e14f-4b09-a421-02e8fe1bc63e</td>\n",
       "      <td>NaN</td>\n",
       "      <td>Mangler viktighetsnivå</td>\n",
       "      <td>MIDDLE_LEFT</td>\n",
       "      <td>POINT(10.7781327278563 59.9299988828761)</td>\n",
       "    </tr>\n",
       "    <tr>\n",
       "      <th>3</th>\n",
       "      <td>d9cda2c7-355a-49c1-b56c-a33180d2a82e</td>\n",
       "      <td>NaN</td>\n",
       "      <td>Mangler viktighetsnivå</td>\n",
       "      <td>MIDDLE_LEFT</td>\n",
       "      <td>POINT(10.7781496457324 59.9301044643692)</td>\n",
       "    </tr>\n",
       "    <tr>\n",
       "      <th>4</th>\n",
       "      <td>f803bcd3-182d-450b-bbb4-113c6ca885c2</td>\n",
       "      <td>NaN</td>\n",
       "      <td>Mangler viktighetsnivå</td>\n",
       "      <td>MIDDLE_RIGHT</td>\n",
       "      <td>POINT(10.7781676444854 59.9302099995898)</td>\n",
       "    </tr>\n",
       "  </tbody>\n",
       "</table>\n",
       "</div>"
      ],
      "text/plain": [
       "                             busstop_id                  stopplace_type  \\\n",
       "0  853cb081-cc32-4880-aa3e-26e96870d874              Plattform og lomme   \n",
       "1  156b052b-2771-497a-b4f4-97fed59e1aca  Lomme og skilt, ikke plattform   \n",
       "2  7312a280-e14f-4b09-a421-02e8fe1bc63e                             NaN   \n",
       "3  d9cda2c7-355a-49c1-b56c-a33180d2a82e                             NaN   \n",
       "4  f803bcd3-182d-450b-bbb4-113c6ca885c2                             NaN   \n",
       "\n",
       "         importance_level  side_placement  \\\n",
       "0  Mangler viktighetsnivå  LEFT_AND_RIGHT   \n",
       "1  Mangler viktighetsnivå  LEFT_AND_RIGHT   \n",
       "2  Mangler viktighetsnivå     MIDDLE_LEFT   \n",
       "3  Mangler viktighetsnivå     MIDDLE_LEFT   \n",
       "4  Mangler viktighetsnivå    MIDDLE_RIGHT   \n",
       "\n",
       "                                   geometry  \n",
       "0  POINT(6.54064723379766 61.0618887850553)  \n",
       "1  POINT(5.89980086113255 60.1421872817075)  \n",
       "2  POINT(10.7781327278563 59.9299988828761)  \n",
       "3  POINT(10.7781496457324 59.9301044643692)  \n",
       "4  POINT(10.7781676444854 59.9302099995898)  "
      ]
     },
     "execution_count": 3,
     "metadata": {},
     "output_type": "execute_result"
    }
   ],
   "source": [
    "bus_routes.head()"
   ]
  },
  {
   "cell_type": "code",
   "execution_count": 8,
   "metadata": {},
   "outputs": [
    {
     "data": {
      "text/html": [
       "<div>\n",
       "<style scoped>\n",
       "    .dataframe tbody tr th:only-of-type {\n",
       "        vertical-align: middle;\n",
       "    }\n",
       "\n",
       "    .dataframe tbody tr th {\n",
       "        vertical-align: top;\n",
       "    }\n",
       "\n",
       "    .dataframe thead th {\n",
       "        text-align: right;\n",
       "    }\n",
       "</style>\n",
       "<table border=\"1\" class=\"dataframe\">\n",
       "  <thead>\n",
       "    <tr style=\"text-align: right;\">\n",
       "      <th></th>\n",
       "      <th>store_id</th>\n",
       "      <th>year</th>\n",
       "      <th>store_name</th>\n",
       "      <th>plaace_hierarchy_id</th>\n",
       "      <th>sales_channel_name</th>\n",
       "      <th>grunnkrets_id</th>\n",
       "      <th>address</th>\n",
       "      <th>lat</th>\n",
       "      <th>lon</th>\n",
       "      <th>chain_name</th>\n",
       "      <th>mall_name</th>\n",
       "      <th>revenue</th>\n",
       "    </tr>\n",
       "  </thead>\n",
       "  <tbody>\n",
       "    <tr>\n",
       "      <th>2506</th>\n",
       "      <td>990857423-990974489-88185</td>\n",
       "      <td>2016</td>\n",
       "      <td>BAKER KLAUSEN UNION</td>\n",
       "      <td>1.2.2.0</td>\n",
       "      <td>Bakery shop</td>\n",
       "      <td>6020601</td>\n",
       "      <td>GRØNLAND 54</td>\n",
       "      <td>59.743135</td>\n",
       "      <td>10.194627</td>\n",
       "      <td>BAKER KLAUSEN DRAMMEN</td>\n",
       "      <td>NaN</td>\n",
       "      <td>4.447</td>\n",
       "    </tr>\n",
       "    <tr>\n",
       "      <th>12305</th>\n",
       "      <td>948879220-972145203-18800</td>\n",
       "      <td>2016</td>\n",
       "      <td>PRIKKEN RENS AS</td>\n",
       "      <td>3.4.2.0</td>\n",
       "      <td>Laundromats and dry cleaners</td>\n",
       "      <td>2350203</td>\n",
       "      <td>ENERGIVEGEN 5</td>\n",
       "      <td>60.149288</td>\n",
       "      <td>11.187290</td>\n",
       "      <td>NaN</td>\n",
       "      <td>NaN</td>\n",
       "      <td>2.040</td>\n",
       "    </tr>\n",
       "    <tr>\n",
       "      <th>4142</th>\n",
       "      <td>951136751-971668970-6795</td>\n",
       "      <td>2016</td>\n",
       "      <td>EXPERT HOKKSUND</td>\n",
       "      <td>2.3.1.0</td>\n",
       "      <td>Electronics stores</td>\n",
       "      <td>6240307</td>\n",
       "      <td>SUNDMOEN NÆRINGSOMRÅDE</td>\n",
       "      <td>59.768986</td>\n",
       "      <td>9.899066</td>\n",
       "      <td>EXPERT</td>\n",
       "      <td>NaN</td>\n",
       "      <td>36.489</td>\n",
       "    </tr>\n",
       "    <tr>\n",
       "      <th>8561</th>\n",
       "      <td>980237508-980246167-71346</td>\n",
       "      <td>2016</td>\n",
       "      <td>INVIT AS</td>\n",
       "      <td>2.9.1.0</td>\n",
       "      <td>Gifts and interior design shops</td>\n",
       "      <td>15040206</td>\n",
       "      <td>APOTEKERGATA 9</td>\n",
       "      <td>62.471607</td>\n",
       "      <td>6.151301</td>\n",
       "      <td>NaN</td>\n",
       "      <td>NaN</td>\n",
       "      <td>5.739</td>\n",
       "    </tr>\n",
       "    <tr>\n",
       "      <th>818</th>\n",
       "      <td>974421305-974489902-136560</td>\n",
       "      <td>2016</td>\n",
       "      <td>MUCHO MAS</td>\n",
       "      <td>1.1.6.2</td>\n",
       "      <td>Restaurants</td>\n",
       "      <td>3012312</td>\n",
       "      <td>THORVALD MEYERS GATE 36</td>\n",
       "      <td>59.924205</td>\n",
       "      <td>10.759401</td>\n",
       "      <td>NaN</td>\n",
       "      <td>NaN</td>\n",
       "      <td>15.573</td>\n",
       "    </tr>\n",
       "  </tbody>\n",
       "</table>\n",
       "</div>"
      ],
      "text/plain": [
       "                         store_id  year           store_name  \\\n",
       "2506    990857423-990974489-88185  2016  BAKER KLAUSEN UNION   \n",
       "12305   948879220-972145203-18800  2016      PRIKKEN RENS AS   \n",
       "4142     951136751-971668970-6795  2016      EXPERT HOKKSUND   \n",
       "8561    980237508-980246167-71346  2016             INVIT AS   \n",
       "818    974421305-974489902-136560  2016            MUCHO MAS   \n",
       "\n",
       "      plaace_hierarchy_id               sales_channel_name  grunnkrets_id  \\\n",
       "2506              1.2.2.0                      Bakery shop        6020601   \n",
       "12305             3.4.2.0     Laundromats and dry cleaners        2350203   \n",
       "4142              2.3.1.0               Electronics stores        6240307   \n",
       "8561              2.9.1.0  Gifts and interior design shops       15040206   \n",
       "818               1.1.6.2                      Restaurants        3012312   \n",
       "\n",
       "                       address        lat        lon             chain_name  \\\n",
       "2506               GRØNLAND 54  59.743135  10.194627  BAKER KLAUSEN DRAMMEN   \n",
       "12305            ENERGIVEGEN 5  60.149288  11.187290                    NaN   \n",
       "4142    SUNDMOEN NÆRINGSOMRÅDE  59.768986   9.899066                 EXPERT   \n",
       "8561            APOTEKERGATA 9  62.471607   6.151301                    NaN   \n",
       "818    THORVALD MEYERS GATE 36  59.924205  10.759401                    NaN   \n",
       "\n",
       "      mall_name  revenue  \n",
       "2506        NaN    4.447  \n",
       "12305       NaN    2.040  \n",
       "4142        NaN   36.489  \n",
       "8561        NaN    5.739  \n",
       "818         NaN   15.573  "
      ]
     },
     "execution_count": 8,
     "metadata": {},
     "output_type": "execute_result"
    }
   ],
   "source": [
    "stores_train.head()"
   ]
  },
  {
   "cell_type": "code",
   "execution_count": 37,
   "metadata": {},
   "outputs": [],
   "source": [
    "bus_routes[\"point\"] = bus_routes.geometry.apply(lambda x: np.array(x[6:-1].split(\" \")).astype(float)[::-1])"
   ]
  },
  {
   "cell_type": "code",
   "execution_count": 38,
   "metadata": {},
   "outputs": [
    {
     "data": {
      "text/plain": [
       "31872    [59.8408981892568, 9.91317503105806]\n",
       "30992    [60.8756816133745, 9.52131740260943]\n",
       "37142    [66.3895671727738, 14.2729724215622]\n",
       "26378    [61.3180344819583, 6.03435103001988]\n",
       "309      [59.6471402864059, 6.34829387887776]\n",
       "Name: point, dtype: object"
      ]
     },
     "execution_count": 38,
     "metadata": {},
     "output_type": "execute_result"
    }
   ],
   "source": [
    "bus_routes[\"point\"].sample(5)"
   ]
  },
  {
   "cell_type": "code",
   "execution_count": 42,
   "metadata": {},
   "outputs": [],
   "source": [
    "from scipy.spatial.distance import cdist\n",
    "\n",
    "\n",
    "def closest_point(point, points):\n",
    "    \"\"\" Find closest point from a list of points. \"\"\"\n",
    "    if(len(points) == 0):\n",
    "        return None\n",
    "    return points[cdist([point], points).argmin()]"
   ]
  },
  {
   "cell_type": "code",
   "execution_count": 43,
   "metadata": {},
   "outputs": [],
   "source": [
    "stores_train[\"point\"] = [(x, y) for x,y in zip(stores_train['lat'], stores_train['lon'])]"
   ]
  },
  {
   "cell_type": "code",
   "execution_count": 44,
   "metadata": {},
   "outputs": [],
   "source": [
    "stores_train['closest_bus_stop'] = [closest_point(x[\"point\"], list(bus_routes[\"point\"])) for _, x in stores_train.iterrows()]"
   ]
  },
  {
   "cell_type": "code",
   "execution_count": 45,
   "metadata": {},
   "outputs": [],
   "source": [
    "for i, row in stores_train.iterrows():\n",
    "    val = cdist(np.array(row[\"point\"]).reshape(1, -1), np.array(row[\"closest_bus_stop\"]).reshape(1, -1))\n",
    "    stores_train.at[i,'dist_to_nearest_bus_stop'] = val"
   ]
  },
  {
   "cell_type": "code",
   "execution_count": 52,
   "metadata": {},
   "outputs": [
    {
     "data": {
      "text/plain": [
       "6472     0.002180\n",
       "5298     0.000334\n",
       "346      0.001445\n",
       "5849     0.002093\n",
       "1733     0.001206\n",
       "12224    0.000725\n",
       "6153     0.002131\n",
       "2870     0.003380\n",
       "9990     0.000700\n",
       "1006     0.001384\n",
       "Name: dist_to_nearest_bus_stop, dtype: float64"
      ]
     },
     "execution_count": 52,
     "metadata": {},
     "output_type": "execute_result"
    }
   ],
   "source": [
    "stores_train[\"dist_to_nearest_bus_stop\"].sample(10)"
   ]
  },
  {
   "cell_type": "code",
   "execution_count": null,
   "metadata": {},
   "outputs": [],
   "source": []
  }
 ],
 "metadata": {
  "kernelspec": {
   "display_name": "Python 3.9.12 ('tdt4173')",
   "language": "python",
   "name": "python3"
  },
  "language_info": {
   "codemirror_mode": {
    "name": "ipython",
    "version": 3
   },
   "file_extension": ".py",
   "mimetype": "text/x-python",
   "name": "python",
   "nbconvert_exporter": "python",
   "pygments_lexer": "ipython3",
   "version": "3.9.12"
  },
  "orig_nbformat": 4,
  "vscode": {
   "interpreter": {
    "hash": "39b33d5bb6aa9988fd454a923e38ef42550e1626b613fe9fb888665b5922e892"
   }
  }
 },
 "nbformat": 4,
 "nbformat_minor": 2
}
