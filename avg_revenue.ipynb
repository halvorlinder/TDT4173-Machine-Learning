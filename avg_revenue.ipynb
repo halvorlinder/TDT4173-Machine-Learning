{
 "cells": [
  {
   "cell_type": "code",
   "execution_count": 1,
   "metadata": {},
   "outputs": [],
   "source": [
    "%load_ext autoreload\n",
    "%autoreload 2\n",
    "import pandas as pd\n",
    "from sklearn.model_selection import train_test_split\n",
    "\n",
    "stores_total_train = pd.read_csv(\"data/stores_train.csv\")\n",
    "stores_test = pd.read_csv(\"data/stores_test.csv\")\n",
    "stores_train, stores_val = train_test_split(stores_total_train, test_size=0.2, random_state=0)"
   ]
  },
  {
   "cell_type": "code",
   "execution_count": 2,
   "metadata": {},
   "outputs": [],
   "source": [
    "from utils import create_geographical_columns, split_plaace_cat\n",
    "revenue_df = split_plaace_cat(create_geographical_columns(stores_train))\n",
    "revenue_df_total = split_plaace_cat(create_geographical_columns(stores_total_train))\n",
    "result_df_val = split_plaace_cat(create_geographical_columns(stores_val))\n",
    "result_df_test = split_plaace_cat(create_geographical_columns(stores_test))\n",
    "result_df_test_total = split_plaace_cat(create_geographical_columns(stores_test))"
   ]
  },
  {
   "cell_type": "code",
   "execution_count": 60,
   "metadata": {},
   "outputs": [
    {
     "ename": "KeyError",
     "evalue": "'grunnkrets_id'",
     "output_type": "error",
     "traceback": [
      "\u001b[0;31m---------------------------------------------------------------------------\u001b[0m",
      "\u001b[0;31mKeyError\u001b[0m                                  Traceback (most recent call last)",
      "\u001b[0;32m/tmp/ipykernel_68576/3825622757.py\u001b[0m in \u001b[0;36m<module>\u001b[0;34m\u001b[0m\n\u001b[1;32m     13\u001b[0m     \u001b[0mrevenue_df_dict_total\u001b[0m\u001b[0;34m[\u001b[0m\u001b[0mlevel\u001b[0m\u001b[0;34m]\u001b[0m \u001b[0;34m=\u001b[0m \u001b[0mgrouped_df_total\u001b[0m\u001b[0;34m\u001b[0m\u001b[0;34m\u001b[0m\u001b[0m\n\u001b[1;32m     14\u001b[0m     \u001b[0mresult_df\u001b[0m \u001b[0;34m=\u001b[0m \u001b[0mpd\u001b[0m\u001b[0;34m.\u001b[0m\u001b[0mmerge\u001b[0m\u001b[0;34m(\u001b[0m\u001b[0mresult_df\u001b[0m\u001b[0;34m,\u001b[0m \u001b[0mgrouped_df\u001b[0m\u001b[0;34m,\u001b[0m \u001b[0mright_index\u001b[0m\u001b[0;34m=\u001b[0m\u001b[0;32mTrue\u001b[0m\u001b[0;34m,\u001b[0m \u001b[0mleft_on\u001b[0m\u001b[0;34m=\u001b[0m\u001b[0;34m[\u001b[0m\u001b[0mlevel\u001b[0m\u001b[0;34m,\u001b[0m \u001b[0;34m'plaace_cat_1'\u001b[0m\u001b[0;34m]\u001b[0m\u001b[0;34m,\u001b[0m \u001b[0mhow\u001b[0m\u001b[0;34m=\u001b[0m\u001b[0;34m'left'\u001b[0m\u001b[0;34m)\u001b[0m\u001b[0;34m\u001b[0m\u001b[0;34m\u001b[0m\u001b[0m\n\u001b[0;32m---> 15\u001b[0;31m     \u001b[0mresult_df_val\u001b[0m \u001b[0;34m=\u001b[0m \u001b[0mpd\u001b[0m\u001b[0;34m.\u001b[0m\u001b[0mmerge\u001b[0m\u001b[0;34m(\u001b[0m\u001b[0mresult_df_val\u001b[0m\u001b[0;34m,\u001b[0m \u001b[0mgrouped_df\u001b[0m\u001b[0;34m,\u001b[0m \u001b[0mright_index\u001b[0m\u001b[0;34m=\u001b[0m\u001b[0;32mTrue\u001b[0m\u001b[0;34m,\u001b[0m \u001b[0mleft_on\u001b[0m\u001b[0;34m=\u001b[0m\u001b[0;34m[\u001b[0m\u001b[0mlevel\u001b[0m\u001b[0;34m,\u001b[0m \u001b[0;34m'plaace_cat_1'\u001b[0m\u001b[0;34m]\u001b[0m\u001b[0;34m,\u001b[0m \u001b[0mhow\u001b[0m\u001b[0;34m=\u001b[0m\u001b[0;34m'left'\u001b[0m\u001b[0;34m)\u001b[0m\u001b[0;34m\u001b[0m\u001b[0;34m\u001b[0m\u001b[0m\n\u001b[0m\u001b[1;32m     16\u001b[0m     \u001b[0mresult_df_test\u001b[0m \u001b[0;34m=\u001b[0m \u001b[0mpd\u001b[0m\u001b[0;34m.\u001b[0m\u001b[0mmerge\u001b[0m\u001b[0;34m(\u001b[0m\u001b[0mresult_df_test\u001b[0m\u001b[0;34m,\u001b[0m \u001b[0mgrouped_df\u001b[0m\u001b[0;34m,\u001b[0m \u001b[0mright_index\u001b[0m\u001b[0;34m=\u001b[0m\u001b[0;32mTrue\u001b[0m\u001b[0;34m,\u001b[0m \u001b[0mleft_on\u001b[0m\u001b[0;34m=\u001b[0m\u001b[0;34m[\u001b[0m\u001b[0mlevel\u001b[0m\u001b[0;34m,\u001b[0m \u001b[0;34m'plaace_cat_1'\u001b[0m\u001b[0;34m]\u001b[0m\u001b[0;34m,\u001b[0m \u001b[0mhow\u001b[0m\u001b[0;34m=\u001b[0m\u001b[0;34m'left'\u001b[0m\u001b[0;34m)\u001b[0m\u001b[0;34m\u001b[0m\u001b[0;34m\u001b[0m\u001b[0m\n\u001b[1;32m     17\u001b[0m     \u001b[0mresult_df_test_total\u001b[0m \u001b[0;34m=\u001b[0m \u001b[0mpd\u001b[0m\u001b[0;34m.\u001b[0m\u001b[0mmerge\u001b[0m\u001b[0;34m(\u001b[0m\u001b[0mresult_df_test_total\u001b[0m\u001b[0;34m,\u001b[0m \u001b[0mgrouped_df_total\u001b[0m\u001b[0;34m,\u001b[0m \u001b[0mright_index\u001b[0m\u001b[0;34m=\u001b[0m\u001b[0;32mTrue\u001b[0m\u001b[0;34m,\u001b[0m \u001b[0mleft_on\u001b[0m\u001b[0;34m=\u001b[0m\u001b[0;34m[\u001b[0m\u001b[0mlevel\u001b[0m\u001b[0;34m,\u001b[0m \u001b[0;34m'plaace_cat_1'\u001b[0m\u001b[0;34m]\u001b[0m\u001b[0;34m,\u001b[0m \u001b[0mhow\u001b[0m\u001b[0;34m=\u001b[0m\u001b[0;34m'left'\u001b[0m\u001b[0;34m)\u001b[0m\u001b[0;34m\u001b[0m\u001b[0;34m\u001b[0m\u001b[0m\n",
      "\u001b[0;32m~/anaconda3/lib/python3.9/site-packages/pandas/core/reshape/merge.py\u001b[0m in \u001b[0;36mmerge\u001b[0;34m(left, right, how, on, left_on, right_on, left_index, right_index, sort, suffixes, copy, indicator, validate)\u001b[0m\n\u001b[1;32m    105\u001b[0m     \u001b[0mvalidate\u001b[0m\u001b[0;34m:\u001b[0m \u001b[0mstr\u001b[0m \u001b[0;34m|\u001b[0m \u001b[0;32mNone\u001b[0m \u001b[0;34m=\u001b[0m \u001b[0;32mNone\u001b[0m\u001b[0;34m,\u001b[0m\u001b[0;34m\u001b[0m\u001b[0;34m\u001b[0m\u001b[0m\n\u001b[1;32m    106\u001b[0m ) -> DataFrame:\n\u001b[0;32m--> 107\u001b[0;31m     op = _MergeOperation(\n\u001b[0m\u001b[1;32m    108\u001b[0m         \u001b[0mleft\u001b[0m\u001b[0;34m,\u001b[0m\u001b[0;34m\u001b[0m\u001b[0;34m\u001b[0m\u001b[0m\n\u001b[1;32m    109\u001b[0m         \u001b[0mright\u001b[0m\u001b[0;34m,\u001b[0m\u001b[0;34m\u001b[0m\u001b[0;34m\u001b[0m\u001b[0m\n",
      "\u001b[0;32m~/anaconda3/lib/python3.9/site-packages/pandas/core/reshape/merge.py\u001b[0m in \u001b[0;36m__init__\u001b[0;34m(self, left, right, how, on, left_on, right_on, axis, left_index, right_index, sort, suffixes, copy, indicator, validate)\u001b[0m\n\u001b[1;32m    698\u001b[0m             \u001b[0mself\u001b[0m\u001b[0;34m.\u001b[0m\u001b[0mright_join_keys\u001b[0m\u001b[0;34m,\u001b[0m\u001b[0;34m\u001b[0m\u001b[0;34m\u001b[0m\u001b[0m\n\u001b[1;32m    699\u001b[0m             \u001b[0mself\u001b[0m\u001b[0;34m.\u001b[0m\u001b[0mjoin_names\u001b[0m\u001b[0;34m,\u001b[0m\u001b[0;34m\u001b[0m\u001b[0;34m\u001b[0m\u001b[0m\n\u001b[0;32m--> 700\u001b[0;31m         ) = self._get_merge_keys()\n\u001b[0m\u001b[1;32m    701\u001b[0m \u001b[0;34m\u001b[0m\u001b[0m\n\u001b[1;32m    702\u001b[0m         \u001b[0;31m# validate the merge keys dtypes. We may need to coerce\u001b[0m\u001b[0;34m\u001b[0m\u001b[0;34m\u001b[0m\u001b[0m\n",
      "\u001b[0;32m~/anaconda3/lib/python3.9/site-packages/pandas/core/reshape/merge.py\u001b[0m in \u001b[0;36m_get_merge_keys\u001b[0;34m(self)\u001b[0m\n\u001b[1;32m   1120\u001b[0m                     \u001b[0mjoin_names\u001b[0m\u001b[0;34m.\u001b[0m\u001b[0mappend\u001b[0m\u001b[0;34m(\u001b[0m\u001b[0;32mNone\u001b[0m\u001b[0;34m)\u001b[0m\u001b[0;34m\u001b[0m\u001b[0;34m\u001b[0m\u001b[0m\n\u001b[1;32m   1121\u001b[0m                 \u001b[0;32melse\u001b[0m\u001b[0;34m:\u001b[0m\u001b[0;34m\u001b[0m\u001b[0;34m\u001b[0m\u001b[0m\n\u001b[0;32m-> 1122\u001b[0;31m                     \u001b[0mleft_keys\u001b[0m\u001b[0;34m.\u001b[0m\u001b[0mappend\u001b[0m\u001b[0;34m(\u001b[0m\u001b[0mleft\u001b[0m\u001b[0;34m.\u001b[0m\u001b[0m_get_label_or_level_values\u001b[0m\u001b[0;34m(\u001b[0m\u001b[0mk\u001b[0m\u001b[0;34m)\u001b[0m\u001b[0;34m)\u001b[0m\u001b[0;34m\u001b[0m\u001b[0;34m\u001b[0m\u001b[0m\n\u001b[0m\u001b[1;32m   1123\u001b[0m                     \u001b[0mjoin_names\u001b[0m\u001b[0;34m.\u001b[0m\u001b[0mappend\u001b[0m\u001b[0;34m(\u001b[0m\u001b[0mk\u001b[0m\u001b[0;34m)\u001b[0m\u001b[0;34m\u001b[0m\u001b[0;34m\u001b[0m\u001b[0m\n\u001b[1;32m   1124\u001b[0m             \u001b[0;32mif\u001b[0m \u001b[0misinstance\u001b[0m\u001b[0;34m(\u001b[0m\u001b[0mself\u001b[0m\u001b[0;34m.\u001b[0m\u001b[0mright\u001b[0m\u001b[0;34m.\u001b[0m\u001b[0mindex\u001b[0m\u001b[0;34m,\u001b[0m \u001b[0mMultiIndex\u001b[0m\u001b[0;34m)\u001b[0m\u001b[0;34m:\u001b[0m\u001b[0;34m\u001b[0m\u001b[0;34m\u001b[0m\u001b[0m\n",
      "\u001b[0;32m~/anaconda3/lib/python3.9/site-packages/pandas/core/generic.py\u001b[0m in \u001b[0;36m_get_label_or_level_values\u001b[0;34m(self, key, axis)\u001b[0m\n\u001b[1;32m   1838\u001b[0m             \u001b[0mvalues\u001b[0m \u001b[0;34m=\u001b[0m \u001b[0mself\u001b[0m\u001b[0;34m.\u001b[0m\u001b[0maxes\u001b[0m\u001b[0;34m[\u001b[0m\u001b[0maxis\u001b[0m\u001b[0;34m]\u001b[0m\u001b[0;34m.\u001b[0m\u001b[0mget_level_values\u001b[0m\u001b[0;34m(\u001b[0m\u001b[0mkey\u001b[0m\u001b[0;34m)\u001b[0m\u001b[0;34m.\u001b[0m\u001b[0m_values\u001b[0m\u001b[0;34m\u001b[0m\u001b[0;34m\u001b[0m\u001b[0m\n\u001b[1;32m   1839\u001b[0m         \u001b[0;32melse\u001b[0m\u001b[0;34m:\u001b[0m\u001b[0;34m\u001b[0m\u001b[0;34m\u001b[0m\u001b[0m\n\u001b[0;32m-> 1840\u001b[0;31m             \u001b[0;32mraise\u001b[0m \u001b[0mKeyError\u001b[0m\u001b[0;34m(\u001b[0m\u001b[0mkey\u001b[0m\u001b[0;34m)\u001b[0m\u001b[0;34m\u001b[0m\u001b[0;34m\u001b[0m\u001b[0m\n\u001b[0m\u001b[1;32m   1841\u001b[0m \u001b[0;34m\u001b[0m\u001b[0m\n\u001b[1;32m   1842\u001b[0m         \u001b[0;31m# Check for duplicates\u001b[0m\u001b[0;34m\u001b[0m\u001b[0;34m\u001b[0m\u001b[0m\n",
      "\u001b[0;31mKeyError\u001b[0m: 'grunnkrets_id'"
     ]
    }
   ],
   "source": [
    "from constants import *\n",
    "result_df = revenue_df.copy()\n",
    "revenue_df_dict : dict[str, pd.DataFrame]\n",
    "revenue_df_dict_total : dict[str, pd.DataFrame]\n",
    "revenue_df_dict = {}\n",
    "revenue_df_dict_total = {}\n",
    "for level in levels:\n",
    "    grouped_df = revenue_df.groupby([level, 'plaace_cat_1']).mean()['revenue'].to_frame()\n",
    "    grouped_df_total = revenue_df_total.groupby([level, 'plaace_cat_1']).mean()['revenue'].to_frame()\n",
    "    grouped_df.rename(columns={'revenue':f'{level}.mean_revenue'}, inplace=True)\n",
    "    grouped_df_total.rename(columns={'revenue':f'{level}.mean_revenue'}, inplace=True)\n",
    "    revenue_df_dict[level] = grouped_df\n",
    "    revenue_df_dict_total[level] = grouped_df_total\n",
    "    result_df = pd.merge(result_df, grouped_df, right_index=True, left_on=[level, 'plaace_cat_1'], how='left')\n",
    "    result_df_val = pd.merge(result_df_val, grouped_df, right_index=True, left_on=[level, 'plaace_cat_1'], how='left')\n",
    "    result_df_test = pd.merge(result_df_test, grouped_df, right_index=True, left_on=[level, 'plaace_cat_1'], how='left')\n",
    "    result_df_test_total = pd.merge(result_df_test_total, grouped_df_total, right_index=True, left_on=[level, 'plaace_cat_1'], how='left')"
   ]
  },
  {
   "cell_type": "code",
   "execution_count": 4,
   "metadata": {},
   "outputs": [],
   "source": [
    "result_df =  result_df[[f'{level}.mean_revenue' for level in levels]+['store_id', 'revenue']]\n",
    "result_df_val =  result_df_val[[f'{level}.mean_revenue' for level in levels]+['store_id', 'revenue']]\n",
    "result_df_test =  result_df_test[[f'{level}.mean_revenue' for level in levels]+['store_id']]\n",
    "result_df_test_total =  result_df_test_total[[f'{level}.mean_revenue' for level in levels]+['store_id']]"
   ]
  },
  {
   "cell_type": "code",
   "execution_count": 5,
   "metadata": {},
   "outputs": [
    {
     "data": {
      "text/plain": [
       "(2572, 6)"
      ]
     },
     "execution_count": 5,
     "metadata": {},
     "output_type": "execute_result"
    }
   ],
   "source": [
    "result_df_val.shape"
   ]
  },
  {
   "cell_type": "code",
   "execution_count": 6,
   "metadata": {},
   "outputs": [
    {
     "data": {
      "text/plain": [
       "grunnkrets_id.mean_revenue    818\n",
       "delomrade.mean_revenue        227\n",
       "kommune.mean_revenue           54\n",
       "fylke.mean_revenue              0\n",
       "store_id                        0\n",
       "revenue                         0\n",
       "dtype: int64"
      ]
     },
     "execution_count": 6,
     "metadata": {},
     "output_type": "execute_result"
    }
   ],
   "source": [
    "result_df_val.isna().sum()"
   ]
  },
  {
   "cell_type": "code",
   "execution_count": 7,
   "metadata": {},
   "outputs": [
    {
     "data": {
      "text/plain": [
       "grunnkrets_id.mean_revenue    2864\n",
       "delomrade.mean_revenue         833\n",
       "kommune.mean_revenue           202\n",
       "fylke.mean_revenue               0\n",
       "store_id                         0\n",
       "dtype: int64"
      ]
     },
     "execution_count": 7,
     "metadata": {},
     "output_type": "execute_result"
    }
   ],
   "source": [
    "result_df_test.isna().sum()"
   ]
  },
  {
   "cell_type": "code",
   "execution_count": 8,
   "metadata": {},
   "outputs": [
    {
     "data": {
      "text/plain": [
       "grunnkrets_id.mean_revenue    2541\n",
       "delomrade.mean_revenue         690\n",
       "kommune.mean_revenue           159\n",
       "fylke.mean_revenue               0\n",
       "store_id                         0\n",
       "dtype: int64"
      ]
     },
     "execution_count": 8,
     "metadata": {},
     "output_type": "execute_result"
    }
   ],
   "source": [
    "result_df_test_total.isna().sum()"
   ]
  },
  {
   "cell_type": "code",
   "execution_count": 9,
   "metadata": {},
   "outputs": [
    {
     "data": {
      "text/html": [
       "<div>\n",
       "<style scoped>\n",
       "    .dataframe tbody tr th:only-of-type {\n",
       "        vertical-align: middle;\n",
       "    }\n",
       "\n",
       "    .dataframe tbody tr th {\n",
       "        vertical-align: top;\n",
       "    }\n",
       "\n",
       "    .dataframe thead th {\n",
       "        text-align: right;\n",
       "    }\n",
       "</style>\n",
       "<table border=\"1\" class=\"dataframe\">\n",
       "  <thead>\n",
       "    <tr style=\"text-align: right;\">\n",
       "      <th></th>\n",
       "      <th>grunnkrets_id.mean_revenue</th>\n",
       "      <th>delomrade.mean_revenue</th>\n",
       "      <th>kommune.mean_revenue</th>\n",
       "      <th>fylke.mean_revenue</th>\n",
       "      <th>revenue</th>\n",
       "    </tr>\n",
       "  </thead>\n",
       "  <tbody>\n",
       "    <tr>\n",
       "      <th>grunnkrets_id.mean_revenue</th>\n",
       "      <td>1.000000</td>\n",
       "      <td>0.727092</td>\n",
       "      <td>0.489814</td>\n",
       "      <td>0.383120</td>\n",
       "      <td>0.727744</td>\n",
       "    </tr>\n",
       "    <tr>\n",
       "      <th>delomrade.mean_revenue</th>\n",
       "      <td>0.727092</td>\n",
       "      <td>1.000000</td>\n",
       "      <td>0.673662</td>\n",
       "      <td>0.526921</td>\n",
       "      <td>0.529137</td>\n",
       "    </tr>\n",
       "    <tr>\n",
       "      <th>kommune.mean_revenue</th>\n",
       "      <td>0.489814</td>\n",
       "      <td>0.673662</td>\n",
       "      <td>1.000000</td>\n",
       "      <td>0.782175</td>\n",
       "      <td>0.356459</td>\n",
       "    </tr>\n",
       "    <tr>\n",
       "      <th>fylke.mean_revenue</th>\n",
       "      <td>0.383120</td>\n",
       "      <td>0.526921</td>\n",
       "      <td>0.782175</td>\n",
       "      <td>1.000000</td>\n",
       "      <td>0.278813</td>\n",
       "    </tr>\n",
       "    <tr>\n",
       "      <th>revenue</th>\n",
       "      <td>0.727744</td>\n",
       "      <td>0.529137</td>\n",
       "      <td>0.356459</td>\n",
       "      <td>0.278813</td>\n",
       "      <td>1.000000</td>\n",
       "    </tr>\n",
       "  </tbody>\n",
       "</table>\n",
       "</div>"
      ],
      "text/plain": [
       "                            grunnkrets_id.mean_revenue  \\\n",
       "grunnkrets_id.mean_revenue                    1.000000   \n",
       "delomrade.mean_revenue                        0.727092   \n",
       "kommune.mean_revenue                          0.489814   \n",
       "fylke.mean_revenue                            0.383120   \n",
       "revenue                                       0.727744   \n",
       "\n",
       "                            delomrade.mean_revenue  kommune.mean_revenue  \\\n",
       "grunnkrets_id.mean_revenue                0.727092              0.489814   \n",
       "delomrade.mean_revenue                    1.000000              0.673662   \n",
       "kommune.mean_revenue                      0.673662              1.000000   \n",
       "fylke.mean_revenue                        0.526921              0.782175   \n",
       "revenue                                   0.529137              0.356459   \n",
       "\n",
       "                            fylke.mean_revenue   revenue  \n",
       "grunnkrets_id.mean_revenue            0.383120  0.727744  \n",
       "delomrade.mean_revenue                0.526921  0.529137  \n",
       "kommune.mean_revenue                  0.782175  0.356459  \n",
       "fylke.mean_revenue                    1.000000  0.278813  \n",
       "revenue                               0.278813  1.000000  "
      ]
     },
     "execution_count": 9,
     "metadata": {},
     "output_type": "execute_result"
    }
   ],
   "source": [
    "result_df.corr()"
   ]
  },
  {
   "cell_type": "code",
   "execution_count": 10,
   "metadata": {},
   "outputs": [
    {
     "data": {
      "text/html": [
       "<div>\n",
       "<style scoped>\n",
       "    .dataframe tbody tr th:only-of-type {\n",
       "        vertical-align: middle;\n",
       "    }\n",
       "\n",
       "    .dataframe tbody tr th {\n",
       "        vertical-align: top;\n",
       "    }\n",
       "\n",
       "    .dataframe thead th {\n",
       "        text-align: right;\n",
       "    }\n",
       "</style>\n",
       "<table border=\"1\" class=\"dataframe\">\n",
       "  <thead>\n",
       "    <tr style=\"text-align: right;\">\n",
       "      <th></th>\n",
       "      <th>grunnkrets_id.mean_revenue</th>\n",
       "      <th>delomrade.mean_revenue</th>\n",
       "      <th>kommune.mean_revenue</th>\n",
       "      <th>fylke.mean_revenue</th>\n",
       "      <th>revenue</th>\n",
       "    </tr>\n",
       "  </thead>\n",
       "  <tbody>\n",
       "    <tr>\n",
       "      <th>grunnkrets_id.mean_revenue</th>\n",
       "      <td>1.000000</td>\n",
       "      <td>0.704734</td>\n",
       "      <td>0.490257</td>\n",
       "      <td>0.377568</td>\n",
       "      <td>0.126271</td>\n",
       "    </tr>\n",
       "    <tr>\n",
       "      <th>delomrade.mean_revenue</th>\n",
       "      <td>0.704734</td>\n",
       "      <td>1.000000</td>\n",
       "      <td>0.598586</td>\n",
       "      <td>0.476958</td>\n",
       "      <td>0.111950</td>\n",
       "    </tr>\n",
       "    <tr>\n",
       "      <th>kommune.mean_revenue</th>\n",
       "      <td>0.490257</td>\n",
       "      <td>0.598586</td>\n",
       "      <td>1.000000</td>\n",
       "      <td>0.811830</td>\n",
       "      <td>0.190145</td>\n",
       "    </tr>\n",
       "    <tr>\n",
       "      <th>fylke.mean_revenue</th>\n",
       "      <td>0.377568</td>\n",
       "      <td>0.476958</td>\n",
       "      <td>0.811830</td>\n",
       "      <td>1.000000</td>\n",
       "      <td>0.257962</td>\n",
       "    </tr>\n",
       "    <tr>\n",
       "      <th>revenue</th>\n",
       "      <td>0.126271</td>\n",
       "      <td>0.111950</td>\n",
       "      <td>0.190145</td>\n",
       "      <td>0.257962</td>\n",
       "      <td>1.000000</td>\n",
       "    </tr>\n",
       "  </tbody>\n",
       "</table>\n",
       "</div>"
      ],
      "text/plain": [
       "                            grunnkrets_id.mean_revenue  \\\n",
       "grunnkrets_id.mean_revenue                    1.000000   \n",
       "delomrade.mean_revenue                        0.704734   \n",
       "kommune.mean_revenue                          0.490257   \n",
       "fylke.mean_revenue                            0.377568   \n",
       "revenue                                       0.126271   \n",
       "\n",
       "                            delomrade.mean_revenue  kommune.mean_revenue  \\\n",
       "grunnkrets_id.mean_revenue                0.704734              0.490257   \n",
       "delomrade.mean_revenue                    1.000000              0.598586   \n",
       "kommune.mean_revenue                      0.598586              1.000000   \n",
       "fylke.mean_revenue                        0.476958              0.811830   \n",
       "revenue                                   0.111950              0.190145   \n",
       "\n",
       "                            fylke.mean_revenue   revenue  \n",
       "grunnkrets_id.mean_revenue            0.377568  0.126271  \n",
       "delomrade.mean_revenue                0.476958  0.111950  \n",
       "kommune.mean_revenue                  0.811830  0.190145  \n",
       "fylke.mean_revenue                    1.000000  0.257962  \n",
       "revenue                               0.257962  1.000000  "
      ]
     },
     "execution_count": 10,
     "metadata": {},
     "output_type": "execute_result"
    }
   ],
   "source": [
    "result_df_val.corr()"
   ]
  },
  {
   "cell_type": "code",
   "execution_count": 11,
   "metadata": {},
   "outputs": [
    {
     "data": {
      "text/plain": [
       "{'grunnkrets_id':                             grunnkrets_id.mean_revenue\n",
       " grunnkrets_id plaace_cat_1                            \n",
       " 1010105       1                               5.160000\n",
       "               2                               7.286429\n",
       "               3                               4.202333\n",
       " 1010107       3                               1.628000\n",
       " 1010204       1                               4.304000\n",
       " ...                                                ...\n",
       " 20300303      2                               5.268667\n",
       "               3                               3.322000\n",
       " 20300309      3                               2.948000\n",
       " 20300310      1                               8.584000\n",
       "               2                              31.833000\n",
       " \n",
       " [5085 rows x 1 columns],\n",
       " 'delomrade':                         delomrade.mean_revenue\n",
       " delomrade plaace_cat_1                        \n",
       " 10101     1                           5.160000\n",
       "           2                           7.286429\n",
       "           3                           3.558750\n",
       " 10102     1                           1.259000\n",
       "           2                          21.945667\n",
       " ...                                        ...\n",
       " 203001    1                           0.110000\n",
       " 203002    2                          33.677500\n",
       " 203003    1                           5.234600\n",
       "           2                          12.200833\n",
       "           3                           3.095250\n",
       " \n",
       " [2609 rows x 1 columns],\n",
       " 'kommune':                       kommune.mean_revenue\n",
       " kommune plaace_cat_1                      \n",
       " 101     1                         3.714133\n",
       "         2                        12.502571\n",
       "         3                         2.109000\n",
       " 104     1                         4.548214\n",
       "         2                        11.034967\n",
       " ...                                    ...\n",
       " 2028    2                         7.964000\n",
       "         3                         0.768000\n",
       " 2030    1                         4.380500\n",
       "         2                        17.570000\n",
       "         3                         3.095250\n",
       " \n",
       " [1026 rows x 1 columns],\n",
       " 'fylke':                     fylke.mean_revenue\n",
       " fylke plaace_cat_1                    \n",
       " 1     1                       4.298008\n",
       "       2                      11.670968\n",
       "       3                       2.942025\n",
       " 2     1                       5.687879\n",
       "       2                      12.128390\n",
       "       3                       2.597460\n",
       " 3     1                       7.875826\n",
       "       2                      11.889669\n",
       "       3                       3.229937\n",
       " 4     1                       5.036562\n",
       "       2                      10.257949\n",
       "       3                       3.208458\n",
       " 5     1                       4.399070\n",
       "       2                      11.449114\n",
       "       3                       3.624400\n",
       " 6     1                       5.449875\n",
       "       2                      11.819115\n",
       "       3                       2.414771\n",
       " 7     1                       5.213938\n",
       "       2                      14.986380\n",
       "       3                       2.732644\n",
       " 8     1                       5.202351\n",
       "       2                      13.009123\n",
       "       3                       2.351732\n",
       " 9     1                       3.071000\n",
       "       2                      12.108582\n",
       "       3                       3.189159\n",
       " 10    1                       6.590538\n",
       "       2                       8.466158\n",
       "       3                       2.227396\n",
       " 11    1                       5.802197\n",
       "       2                      11.283483\n",
       "       3                       2.834601\n",
       " 12    1                       6.444249\n",
       "       2                      13.834091\n",
       "       3                       2.752043\n",
       " 14    1                       4.638463\n",
       "       2                      12.563836\n",
       "       3                       2.183306\n",
       " 15    1                       3.941750\n",
       "       2                      12.276322\n",
       "       3                       2.714313\n",
       " 16    1                       6.770620\n",
       "       2                      15.153350\n",
       "       3                       3.401138\n",
       " 17    1                       3.604429\n",
       "       2                      10.057362\n",
       "       3                       1.846456\n",
       " 18    1                       4.395353\n",
       "       2                      12.436910\n",
       "       3                       2.500819\n",
       " 19    1                       5.777000\n",
       "       2                      14.668321\n",
       "       3                       2.682839\n",
       " 20    1                       3.638298\n",
       "       2                      13.744613\n",
       "       3                       2.346595}"
      ]
     },
     "execution_count": 11,
     "metadata": {},
     "output_type": "execute_result"
    }
   ],
   "source": [
    "revenue_df_dict"
   ]
  },
  {
   "cell_type": "code",
   "execution_count": 12,
   "metadata": {},
   "outputs": [],
   "source": [
    "for level, df in revenue_df_dict.items():\n",
    "    df.to_csv(f'temp_data/{level}_mean_revenue.csv')"
   ]
  },
  {
   "cell_type": "code",
   "execution_count": 13,
   "metadata": {},
   "outputs": [],
   "source": [
    "for level, df in revenue_df_dict_total.items():\n",
    "    df.to_csv(f'temp_data/{level}_mean_revenue_total.csv')"
   ]
  },
  {
   "cell_type": "code",
   "execution_count": 69,
   "metadata": {},
   "outputs": [],
   "source": [
    "from avg_revenue import add_avg_revenue, create_avg_revenue_csvs\n",
    "\n",
    "create_avg_revenue_csvs()\n",
    "result = add_avg_revenue(stores_test, total=True)"
   ]
  },
  {
   "cell_type": "code",
   "execution_count": 70,
   "metadata": {},
   "outputs": [
    {
     "data": {
      "text/plain": [
       "store_id                                      0\n",
       "year                                          0\n",
       "store_name                                    0\n",
       "plaace_hierarchy_id                           0\n",
       "sales_channel_name                            0\n",
       "grunnkrets_id                                 0\n",
       "address                                    1237\n",
       "lat                                           0\n",
       "lon                                           0\n",
       "chain_name                                 6099\n",
       "mall_name                                  7084\n",
       "fylke                                         0\n",
       "kommune                                       0\n",
       "delomrade                                     0\n",
       "plaace_cat_1                                  0\n",
       "plaace_cat_2                                  0\n",
       "plaace_cat_3                                  0\n",
       "plaace_cat_4                                  0\n",
       "country                                       0\n",
       "grunnkrets_id.plaace_cat_1_mean_revenue       0\n",
       "grunnkrets_id.plaace_cat_2_mean_revenue       0\n",
       "grunnkrets_id.plaace_cat_3_mean_revenue       0\n",
       "grunnkrets_id.plaace_cat_4_mean_revenue       0\n",
       "delomrade.plaace_cat_1_mean_revenue           0\n",
       "delomrade.plaace_cat_2_mean_revenue           0\n",
       "delomrade.plaace_cat_3_mean_revenue           0\n",
       "delomrade.plaace_cat_4_mean_revenue           0\n",
       "kommune.plaace_cat_1_mean_revenue             0\n",
       "kommune.plaace_cat_2_mean_revenue             0\n",
       "kommune.plaace_cat_3_mean_revenue             0\n",
       "kommune.plaace_cat_4_mean_revenue             0\n",
       "fylke.plaace_cat_1_mean_revenue               0\n",
       "fylke.plaace_cat_2_mean_revenue               0\n",
       "fylke.plaace_cat_3_mean_revenue               0\n",
       "fylke.plaace_cat_4_mean_revenue               0\n",
       "country.plaace_cat_1_mean_revenue             0\n",
       "country.plaace_cat_2_mean_revenue             0\n",
       "country.plaace_cat_3_mean_revenue             0\n",
       "country.plaace_cat_4_mean_revenue             0\n",
       "dtype: int64"
      ]
     },
     "execution_count": 70,
     "metadata": {},
     "output_type": "execute_result"
    }
   ],
   "source": [
    "result.isna().sum()"
   ]
  },
  {
   "cell_type": "code",
   "execution_count": 71,
   "metadata": {},
   "outputs": [
    {
     "ename": "KeyError",
     "evalue": "\"['revenue'] not in index\"",
     "output_type": "error",
     "traceback": [
      "\u001b[0;31m---------------------------------------------------------------------------\u001b[0m",
      "\u001b[0;31mKeyError\u001b[0m                                  Traceback (most recent call last)",
      "\u001b[0;32m/tmp/ipykernel_68576/1209757392.py\u001b[0m in \u001b[0;36m<module>\u001b[0;34m\u001b[0m\n\u001b[0;32m----> 1\u001b[0;31m \u001b[0mresult\u001b[0m\u001b[0;34m[\u001b[0m\u001b[0;34m[\u001b[0m\u001b[0;34mf'{level}.{cat}_mean_revenue'\u001b[0m \u001b[0;32mfor\u001b[0m \u001b[0mlevel\u001b[0m \u001b[0;32min\u001b[0m \u001b[0mlevels_ext\u001b[0m \u001b[0;32mfor\u001b[0m \u001b[0mcat\u001b[0m \u001b[0;32min\u001b[0m \u001b[0mplaace_cols\u001b[0m\u001b[0;34m]\u001b[0m\u001b[0;34m+\u001b[0m\u001b[0;34m[\u001b[0m\u001b[0;34m'revenue'\u001b[0m\u001b[0;34m]\u001b[0m\u001b[0;34m]\u001b[0m\u001b[0;34m.\u001b[0m\u001b[0mcorr\u001b[0m\u001b[0;34m(\u001b[0m\u001b[0;34m)\u001b[0m\u001b[0;34m\u001b[0m\u001b[0;34m\u001b[0m\u001b[0m\n\u001b[0m",
      "\u001b[0;32m~/anaconda3/lib/python3.9/site-packages/pandas/core/frame.py\u001b[0m in \u001b[0;36m__getitem__\u001b[0;34m(self, key)\u001b[0m\n\u001b[1;32m   3509\u001b[0m             \u001b[0;32mif\u001b[0m \u001b[0mis_iterator\u001b[0m\u001b[0;34m(\u001b[0m\u001b[0mkey\u001b[0m\u001b[0;34m)\u001b[0m\u001b[0;34m:\u001b[0m\u001b[0;34m\u001b[0m\u001b[0;34m\u001b[0m\u001b[0m\n\u001b[1;32m   3510\u001b[0m                 \u001b[0mkey\u001b[0m \u001b[0;34m=\u001b[0m \u001b[0mlist\u001b[0m\u001b[0;34m(\u001b[0m\u001b[0mkey\u001b[0m\u001b[0;34m)\u001b[0m\u001b[0;34m\u001b[0m\u001b[0;34m\u001b[0m\u001b[0m\n\u001b[0;32m-> 3511\u001b[0;31m             \u001b[0mindexer\u001b[0m \u001b[0;34m=\u001b[0m \u001b[0mself\u001b[0m\u001b[0;34m.\u001b[0m\u001b[0mcolumns\u001b[0m\u001b[0;34m.\u001b[0m\u001b[0m_get_indexer_strict\u001b[0m\u001b[0;34m(\u001b[0m\u001b[0mkey\u001b[0m\u001b[0;34m,\u001b[0m \u001b[0;34m\"columns\"\u001b[0m\u001b[0;34m)\u001b[0m\u001b[0;34m[\u001b[0m\u001b[0;36m1\u001b[0m\u001b[0;34m]\u001b[0m\u001b[0;34m\u001b[0m\u001b[0;34m\u001b[0m\u001b[0m\n\u001b[0m\u001b[1;32m   3512\u001b[0m \u001b[0;34m\u001b[0m\u001b[0m\n\u001b[1;32m   3513\u001b[0m         \u001b[0;31m# take() does not accept boolean indexers\u001b[0m\u001b[0;34m\u001b[0m\u001b[0;34m\u001b[0m\u001b[0m\n",
      "\u001b[0;32m~/anaconda3/lib/python3.9/site-packages/pandas/core/indexes/base.py\u001b[0m in \u001b[0;36m_get_indexer_strict\u001b[0;34m(self, key, axis_name)\u001b[0m\n\u001b[1;32m   5794\u001b[0m             \u001b[0mkeyarr\u001b[0m\u001b[0;34m,\u001b[0m \u001b[0mindexer\u001b[0m\u001b[0;34m,\u001b[0m \u001b[0mnew_indexer\u001b[0m \u001b[0;34m=\u001b[0m \u001b[0mself\u001b[0m\u001b[0;34m.\u001b[0m\u001b[0m_reindex_non_unique\u001b[0m\u001b[0;34m(\u001b[0m\u001b[0mkeyarr\u001b[0m\u001b[0;34m)\u001b[0m\u001b[0;34m\u001b[0m\u001b[0;34m\u001b[0m\u001b[0m\n\u001b[1;32m   5795\u001b[0m \u001b[0;34m\u001b[0m\u001b[0m\n\u001b[0;32m-> 5796\u001b[0;31m         \u001b[0mself\u001b[0m\u001b[0;34m.\u001b[0m\u001b[0m_raise_if_missing\u001b[0m\u001b[0;34m(\u001b[0m\u001b[0mkeyarr\u001b[0m\u001b[0;34m,\u001b[0m \u001b[0mindexer\u001b[0m\u001b[0;34m,\u001b[0m \u001b[0maxis_name\u001b[0m\u001b[0;34m)\u001b[0m\u001b[0;34m\u001b[0m\u001b[0;34m\u001b[0m\u001b[0m\n\u001b[0m\u001b[1;32m   5797\u001b[0m \u001b[0;34m\u001b[0m\u001b[0m\n\u001b[1;32m   5798\u001b[0m         \u001b[0mkeyarr\u001b[0m \u001b[0;34m=\u001b[0m \u001b[0mself\u001b[0m\u001b[0;34m.\u001b[0m\u001b[0mtake\u001b[0m\u001b[0;34m(\u001b[0m\u001b[0mindexer\u001b[0m\u001b[0;34m)\u001b[0m\u001b[0;34m\u001b[0m\u001b[0;34m\u001b[0m\u001b[0m\n",
      "\u001b[0;32m~/anaconda3/lib/python3.9/site-packages/pandas/core/indexes/base.py\u001b[0m in \u001b[0;36m_raise_if_missing\u001b[0;34m(self, key, indexer, axis_name)\u001b[0m\n\u001b[1;32m   5857\u001b[0m \u001b[0;34m\u001b[0m\u001b[0m\n\u001b[1;32m   5858\u001b[0m             \u001b[0mnot_found\u001b[0m \u001b[0;34m=\u001b[0m \u001b[0mlist\u001b[0m\u001b[0;34m(\u001b[0m\u001b[0mensure_index\u001b[0m\u001b[0;34m(\u001b[0m\u001b[0mkey\u001b[0m\u001b[0;34m)\u001b[0m\u001b[0;34m[\u001b[0m\u001b[0mmissing_mask\u001b[0m\u001b[0;34m.\u001b[0m\u001b[0mnonzero\u001b[0m\u001b[0;34m(\u001b[0m\u001b[0;34m)\u001b[0m\u001b[0;34m[\u001b[0m\u001b[0;36m0\u001b[0m\u001b[0;34m]\u001b[0m\u001b[0;34m]\u001b[0m\u001b[0;34m.\u001b[0m\u001b[0munique\u001b[0m\u001b[0;34m(\u001b[0m\u001b[0;34m)\u001b[0m\u001b[0;34m)\u001b[0m\u001b[0;34m\u001b[0m\u001b[0;34m\u001b[0m\u001b[0m\n\u001b[0;32m-> 5859\u001b[0;31m             \u001b[0;32mraise\u001b[0m \u001b[0mKeyError\u001b[0m\u001b[0;34m(\u001b[0m\u001b[0;34mf\"{not_found} not in index\"\u001b[0m\u001b[0;34m)\u001b[0m\u001b[0;34m\u001b[0m\u001b[0;34m\u001b[0m\u001b[0m\n\u001b[0m\u001b[1;32m   5860\u001b[0m \u001b[0;34m\u001b[0m\u001b[0m\n\u001b[1;32m   5861\u001b[0m     \u001b[0;34m@\u001b[0m\u001b[0moverload\u001b[0m\u001b[0;34m\u001b[0m\u001b[0;34m\u001b[0m\u001b[0m\n",
      "\u001b[0;31mKeyError\u001b[0m: \"['revenue'] not in index\""
     ]
    }
   ],
   "source": [
    "result[[f'{level}.{cat}_mean_revenue' for level in levels_ext for cat in plaace_cols]+['revenue']].corr()"
   ]
  },
  {
   "cell_type": "code",
   "execution_count": null,
   "metadata": {},
   "outputs": [],
   "source": []
  },
  {
   "cell_type": "code",
   "execution_count": null,
   "metadata": {},
   "outputs": [],
   "source": []
  }
 ],
 "metadata": {
  "kernelspec": {
   "display_name": "Python 3.9.13 ('base')",
   "language": "python",
   "name": "python3"
  },
  "language_info": {
   "codemirror_mode": {
    "name": "ipython",
    "version": 3
   },
   "file_extension": ".py",
   "mimetype": "text/x-python",
   "name": "python",
   "nbconvert_exporter": "python",
   "pygments_lexer": "ipython3",
   "version": "3.9.13"
  },
  "orig_nbformat": 4,
  "vscode": {
   "interpreter": {
    "hash": "955c12110b07425d818bf9efcf8181463f40c3bfbdb705ae16c6eed56a6d2475"
   }
  }
 },
 "nbformat": 4,
 "nbformat_minor": 2
}
