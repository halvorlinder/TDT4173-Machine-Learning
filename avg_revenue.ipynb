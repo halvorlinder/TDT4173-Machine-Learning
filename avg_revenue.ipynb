{
 "cells": [
  {
   "cell_type": "code",
   "execution_count": 1,
   "metadata": {},
   "outputs": [],
   "source": [
    "%load_ext autoreload\n",
    "%autoreload 2\n",
    "import pandas as pd\n",
    "from sklearn.model_selection import train_test_split\n",
    "\n",
    "stores_total_train = pd.read_csv(\"data/stores_train.csv\")\n",
    "stores_test = pd.read_csv(\"data/stores_test.csv\")\n",
    "stores_train, stores_val = train_test_split(stores_total_train, test_size=0.2, random_state=0)"
   ]
  },
  {
   "cell_type": "code",
   "execution_count": 2,
   "metadata": {},
   "outputs": [],
   "source": [
    "from utils import create_geographical_columns, split_plaace_cat\n",
    "revenue_df = split_plaace_cat(create_geographical_columns(stores_train))\n",
    "revenue_df_total = split_plaace_cat(create_geographical_columns(stores_total_train))\n",
    "result_df_val = split_plaace_cat(create_geographical_columns(stores_val))\n",
    "result_df_test = split_plaace_cat(create_geographical_columns(stores_test))\n",
    "result_df_test_total = split_plaace_cat(create_geographical_columns(stores_test))"
   ]
  },
  {
   "cell_type": "code",
   "execution_count": 3,
   "metadata": {},
   "outputs": [],
   "source": [
    "from constants import *\n",
    "result_df = revenue_df.copy()\n",
    "revenue_df_dict : dict[str, pd.DataFrame]\n",
    "revenue_df_dict_total : dict[str, pd.DataFrame]\n",
    "revenue_df_dict = {}\n",
    "revenue_df_dict_total = {}\n",
    "for level in levels:\n",
    "    grouped_df = revenue_df.groupby([level, 'plaace_cat_1']).mean()['revenue'].to_frame()\n",
    "    grouped_df_total = revenue_df_total.groupby([level, 'plaace_cat_1']).mean()['revenue'].to_frame()\n",
    "    grouped_df.rename(columns={'revenue':f'{level}.mean_revenue'}, inplace=True)\n",
    "    grouped_df_total.rename(columns={'revenue':f'{level}.mean_revenue'}, inplace=True)\n",
    "    revenue_df_dict[level] = grouped_df\n",
    "    revenue_df_dict_total[level] = grouped_df_total\n",
    "    result_df = pd.merge(result_df, grouped_df, right_index=True, left_on=[level, 'plaace_cat_1'], how='left')\n",
    "    result_df_val = pd.merge(result_df_val, grouped_df, right_index=True, left_on=[level, 'plaace_cat_1'], how='left')\n",
    "    result_df_test = pd.merge(result_df_test, grouped_df, right_index=True, left_on=[level, 'plaace_cat_1'], how='left')\n",
    "    result_df_test_total = pd.merge(result_df_test_total, grouped_df_total, right_index=True, left_on=[level, 'plaace_cat_1'], how='left')"
   ]
  },
  {
   "cell_type": "code",
   "execution_count": 4,
   "metadata": {},
   "outputs": [],
   "source": [
    "result_df =  result_df[[f'{level}.mean_revenue' for level in levels]+['store_id', 'revenue']]\n",
    "result_df_val =  result_df_val[[f'{level}.mean_revenue' for level in levels]+['store_id', 'revenue']]\n",
    "result_df_test =  result_df_test[[f'{level}.mean_revenue' for level in levels]+['store_id']]\n",
    "result_df_test_total =  result_df_test_total[[f'{level}.mean_revenue' for level in levels]+['store_id']]"
   ]
  },
  {
   "cell_type": "code",
   "execution_count": 5,
   "metadata": {},
   "outputs": [
    {
     "data": {
      "text/plain": [
       "(2572, 6)"
      ]
     },
     "execution_count": 5,
     "metadata": {},
     "output_type": "execute_result"
    }
   ],
   "source": [
    "result_df_val.shape"
   ]
  },
  {
   "cell_type": "code",
   "execution_count": 6,
   "metadata": {},
   "outputs": [
    {
     "data": {
      "text/plain": [
       "grunnkrets_id.mean_revenue    818\n",
       "delomrade.mean_revenue        227\n",
       "kommune.mean_revenue           54\n",
       "fylke.mean_revenue              0\n",
       "store_id                        0\n",
       "revenue                         0\n",
       "dtype: int64"
      ]
     },
     "execution_count": 6,
     "metadata": {},
     "output_type": "execute_result"
    }
   ],
   "source": [
    "result_df_val.isna().sum()"
   ]
  },
  {
   "cell_type": "code",
   "execution_count": 7,
   "metadata": {},
   "outputs": [
    {
     "data": {
      "text/plain": [
       "grunnkrets_id.mean_revenue    2864\n",
       "delomrade.mean_revenue         833\n",
       "kommune.mean_revenue           202\n",
       "fylke.mean_revenue               0\n",
       "store_id                         0\n",
       "dtype: int64"
      ]
     },
     "execution_count": 7,
     "metadata": {},
     "output_type": "execute_result"
    }
   ],
   "source": [
    "result_df_test.isna().sum()"
   ]
  },
  {
   "cell_type": "code",
   "execution_count": 8,
   "metadata": {},
   "outputs": [
    {
     "data": {
      "text/plain": [
       "grunnkrets_id.mean_revenue    2541\n",
       "delomrade.mean_revenue         690\n",
       "kommune.mean_revenue           159\n",
       "fylke.mean_revenue               0\n",
       "store_id                         0\n",
       "dtype: int64"
      ]
     },
     "execution_count": 8,
     "metadata": {},
     "output_type": "execute_result"
    }
   ],
   "source": [
    "result_df_test_total.isna().sum()"
   ]
  },
  {
   "cell_type": "code",
   "execution_count": 9,
   "metadata": {},
   "outputs": [
    {
     "data": {
      "text/html": [
       "<div>\n",
       "<style scoped>\n",
       "    .dataframe tbody tr th:only-of-type {\n",
       "        vertical-align: middle;\n",
       "    }\n",
       "\n",
       "    .dataframe tbody tr th {\n",
       "        vertical-align: top;\n",
       "    }\n",
       "\n",
       "    .dataframe thead th {\n",
       "        text-align: right;\n",
       "    }\n",
       "</style>\n",
       "<table border=\"1\" class=\"dataframe\">\n",
       "  <thead>\n",
       "    <tr style=\"text-align: right;\">\n",
       "      <th></th>\n",
       "      <th>grunnkrets_id.mean_revenue</th>\n",
       "      <th>delomrade.mean_revenue</th>\n",
       "      <th>kommune.mean_revenue</th>\n",
       "      <th>fylke.mean_revenue</th>\n",
       "      <th>revenue</th>\n",
       "    </tr>\n",
       "  </thead>\n",
       "  <tbody>\n",
       "    <tr>\n",
       "      <th>grunnkrets_id.mean_revenue</th>\n",
       "      <td>1.000000</td>\n",
       "      <td>0.727092</td>\n",
       "      <td>0.489814</td>\n",
       "      <td>0.383120</td>\n",
       "      <td>0.727744</td>\n",
       "    </tr>\n",
       "    <tr>\n",
       "      <th>delomrade.mean_revenue</th>\n",
       "      <td>0.727092</td>\n",
       "      <td>1.000000</td>\n",
       "      <td>0.673662</td>\n",
       "      <td>0.526921</td>\n",
       "      <td>0.529137</td>\n",
       "    </tr>\n",
       "    <tr>\n",
       "      <th>kommune.mean_revenue</th>\n",
       "      <td>0.489814</td>\n",
       "      <td>0.673662</td>\n",
       "      <td>1.000000</td>\n",
       "      <td>0.782175</td>\n",
       "      <td>0.356459</td>\n",
       "    </tr>\n",
       "    <tr>\n",
       "      <th>fylke.mean_revenue</th>\n",
       "      <td>0.383120</td>\n",
       "      <td>0.526921</td>\n",
       "      <td>0.782175</td>\n",
       "      <td>1.000000</td>\n",
       "      <td>0.278813</td>\n",
       "    </tr>\n",
       "    <tr>\n",
       "      <th>revenue</th>\n",
       "      <td>0.727744</td>\n",
       "      <td>0.529137</td>\n",
       "      <td>0.356459</td>\n",
       "      <td>0.278813</td>\n",
       "      <td>1.000000</td>\n",
       "    </tr>\n",
       "  </tbody>\n",
       "</table>\n",
       "</div>"
      ],
      "text/plain": [
       "                            grunnkrets_id.mean_revenue  \\\n",
       "grunnkrets_id.mean_revenue                    1.000000   \n",
       "delomrade.mean_revenue                        0.727092   \n",
       "kommune.mean_revenue                          0.489814   \n",
       "fylke.mean_revenue                            0.383120   \n",
       "revenue                                       0.727744   \n",
       "\n",
       "                            delomrade.mean_revenue  kommune.mean_revenue  \\\n",
       "grunnkrets_id.mean_revenue                0.727092              0.489814   \n",
       "delomrade.mean_revenue                    1.000000              0.673662   \n",
       "kommune.mean_revenue                      0.673662              1.000000   \n",
       "fylke.mean_revenue                        0.526921              0.782175   \n",
       "revenue                                   0.529137              0.356459   \n",
       "\n",
       "                            fylke.mean_revenue   revenue  \n",
       "grunnkrets_id.mean_revenue            0.383120  0.727744  \n",
       "delomrade.mean_revenue                0.526921  0.529137  \n",
       "kommune.mean_revenue                  0.782175  0.356459  \n",
       "fylke.mean_revenue                    1.000000  0.278813  \n",
       "revenue                               0.278813  1.000000  "
      ]
     },
     "execution_count": 9,
     "metadata": {},
     "output_type": "execute_result"
    }
   ],
   "source": [
    "result_df.corr()"
   ]
  },
  {
   "cell_type": "code",
   "execution_count": 10,
   "metadata": {},
   "outputs": [
    {
     "data": {
      "text/html": [
       "<div>\n",
       "<style scoped>\n",
       "    .dataframe tbody tr th:only-of-type {\n",
       "        vertical-align: middle;\n",
       "    }\n",
       "\n",
       "    .dataframe tbody tr th {\n",
       "        vertical-align: top;\n",
       "    }\n",
       "\n",
       "    .dataframe thead th {\n",
       "        text-align: right;\n",
       "    }\n",
       "</style>\n",
       "<table border=\"1\" class=\"dataframe\">\n",
       "  <thead>\n",
       "    <tr style=\"text-align: right;\">\n",
       "      <th></th>\n",
       "      <th>grunnkrets_id.mean_revenue</th>\n",
       "      <th>delomrade.mean_revenue</th>\n",
       "      <th>kommune.mean_revenue</th>\n",
       "      <th>fylke.mean_revenue</th>\n",
       "      <th>revenue</th>\n",
       "    </tr>\n",
       "  </thead>\n",
       "  <tbody>\n",
       "    <tr>\n",
       "      <th>grunnkrets_id.mean_revenue</th>\n",
       "      <td>1.000000</td>\n",
       "      <td>0.704734</td>\n",
       "      <td>0.490257</td>\n",
       "      <td>0.377568</td>\n",
       "      <td>0.126271</td>\n",
       "    </tr>\n",
       "    <tr>\n",
       "      <th>delomrade.mean_revenue</th>\n",
       "      <td>0.704734</td>\n",
       "      <td>1.000000</td>\n",
       "      <td>0.598586</td>\n",
       "      <td>0.476958</td>\n",
       "      <td>0.111950</td>\n",
       "    </tr>\n",
       "    <tr>\n",
       "      <th>kommune.mean_revenue</th>\n",
       "      <td>0.490257</td>\n",
       "      <td>0.598586</td>\n",
       "      <td>1.000000</td>\n",
       "      <td>0.811830</td>\n",
       "      <td>0.190145</td>\n",
       "    </tr>\n",
       "    <tr>\n",
       "      <th>fylke.mean_revenue</th>\n",
       "      <td>0.377568</td>\n",
       "      <td>0.476958</td>\n",
       "      <td>0.811830</td>\n",
       "      <td>1.000000</td>\n",
       "      <td>0.257962</td>\n",
       "    </tr>\n",
       "    <tr>\n",
       "      <th>revenue</th>\n",
       "      <td>0.126271</td>\n",
       "      <td>0.111950</td>\n",
       "      <td>0.190145</td>\n",
       "      <td>0.257962</td>\n",
       "      <td>1.000000</td>\n",
       "    </tr>\n",
       "  </tbody>\n",
       "</table>\n",
       "</div>"
      ],
      "text/plain": [
       "                            grunnkrets_id.mean_revenue  \\\n",
       "grunnkrets_id.mean_revenue                    1.000000   \n",
       "delomrade.mean_revenue                        0.704734   \n",
       "kommune.mean_revenue                          0.490257   \n",
       "fylke.mean_revenue                            0.377568   \n",
       "revenue                                       0.126271   \n",
       "\n",
       "                            delomrade.mean_revenue  kommune.mean_revenue  \\\n",
       "grunnkrets_id.mean_revenue                0.704734              0.490257   \n",
       "delomrade.mean_revenue                    1.000000              0.598586   \n",
       "kommune.mean_revenue                      0.598586              1.000000   \n",
       "fylke.mean_revenue                        0.476958              0.811830   \n",
       "revenue                                   0.111950              0.190145   \n",
       "\n",
       "                            fylke.mean_revenue   revenue  \n",
       "grunnkrets_id.mean_revenue            0.377568  0.126271  \n",
       "delomrade.mean_revenue                0.476958  0.111950  \n",
       "kommune.mean_revenue                  0.811830  0.190145  \n",
       "fylke.mean_revenue                    1.000000  0.257962  \n",
       "revenue                               0.257962  1.000000  "
      ]
     },
     "execution_count": 10,
     "metadata": {},
     "output_type": "execute_result"
    }
   ],
   "source": [
    "result_df_val.corr()"
   ]
  },
  {
   "cell_type": "code",
   "execution_count": 11,
   "metadata": {},
   "outputs": [
    {
     "data": {
      "text/plain": [
       "{'grunnkrets_id':                             grunnkrets_id.mean_revenue\n",
       " grunnkrets_id plaace_cat_1                            \n",
       " 1010105       1                               5.160000\n",
       "               2                               7.286429\n",
       "               3                               4.202333\n",
       " 1010107       3                               1.628000\n",
       " 1010204       1                               4.304000\n",
       " ...                                                ...\n",
       " 20300303      2                               5.268667\n",
       "               3                               3.322000\n",
       " 20300309      3                               2.948000\n",
       " 20300310      1                               8.584000\n",
       "               2                              31.833000\n",
       " \n",
       " [5085 rows x 1 columns],\n",
       " 'delomrade':                         delomrade.mean_revenue\n",
       " delomrade plaace_cat_1                        \n",
       " 10101     1                           5.160000\n",
       "           2                           7.286429\n",
       "           3                           3.558750\n",
       " 10102     1                           1.259000\n",
       "           2                          21.945667\n",
       " ...                                        ...\n",
       " 203001    1                           0.110000\n",
       " 203002    2                          33.677500\n",
       " 203003    1                           5.234600\n",
       "           2                          12.200833\n",
       "           3                           3.095250\n",
       " \n",
       " [2609 rows x 1 columns],\n",
       " 'kommune':                       kommune.mean_revenue\n",
       " kommune plaace_cat_1                      \n",
       " 101     1                         3.714133\n",
       "         2                        12.502571\n",
       "         3                         2.109000\n",
       " 104     1                         4.548214\n",
       "         2                        11.034967\n",
       " ...                                    ...\n",
       " 2028    2                         7.964000\n",
       "         3                         0.768000\n",
       " 2030    1                         4.380500\n",
       "         2                        17.570000\n",
       "         3                         3.095250\n",
       " \n",
       " [1026 rows x 1 columns],\n",
       " 'fylke':                     fylke.mean_revenue\n",
       " fylke plaace_cat_1                    \n",
       " 1     1                       4.298008\n",
       "       2                      11.670968\n",
       "       3                       2.942025\n",
       " 2     1                       5.687879\n",
       "       2                      12.128390\n",
       "       3                       2.597460\n",
       " 3     1                       7.875826\n",
       "       2                      11.889669\n",
       "       3                       3.229937\n",
       " 4     1                       5.036562\n",
       "       2                      10.257949\n",
       "       3                       3.208458\n",
       " 5     1                       4.399070\n",
       "       2                      11.449114\n",
       "       3                       3.624400\n",
       " 6     1                       5.449875\n",
       "       2                      11.819115\n",
       "       3                       2.414771\n",
       " 7     1                       5.213938\n",
       "       2                      14.986380\n",
       "       3                       2.732644\n",
       " 8     1                       5.202351\n",
       "       2                      13.009123\n",
       "       3                       2.351732\n",
       " 9     1                       3.071000\n",
       "       2                      12.108582\n",
       "       3                       3.189159\n",
       " 10    1                       6.590538\n",
       "       2                       8.466158\n",
       "       3                       2.227396\n",
       " 11    1                       5.802197\n",
       "       2                      11.283483\n",
       "       3                       2.834601\n",
       " 12    1                       6.444249\n",
       "       2                      13.834091\n",
       "       3                       2.752043\n",
       " 14    1                       4.638463\n",
       "       2                      12.563836\n",
       "       3                       2.183306\n",
       " 15    1                       3.941750\n",
       "       2                      12.276322\n",
       "       3                       2.714313\n",
       " 16    1                       6.770620\n",
       "       2                      15.153350\n",
       "       3                       3.401138\n",
       " 17    1                       3.604429\n",
       "       2                      10.057362\n",
       "       3                       1.846456\n",
       " 18    1                       4.395353\n",
       "       2                      12.436910\n",
       "       3                       2.500819\n",
       " 19    1                       5.777000\n",
       "       2                      14.668321\n",
       "       3                       2.682839\n",
       " 20    1                       3.638298\n",
       "       2                      13.744613\n",
       "       3                       2.346595}"
      ]
     },
     "execution_count": 11,
     "metadata": {},
     "output_type": "execute_result"
    }
   ],
   "source": [
    "revenue_df_dict"
   ]
  },
  {
   "cell_type": "code",
   "execution_count": 12,
   "metadata": {},
   "outputs": [],
   "source": [
    "for level, df in revenue_df_dict.items():\n",
    "    df.to_csv(f'temp_data/{level}_mean_revenue.csv')"
   ]
  },
  {
   "cell_type": "code",
   "execution_count": 13,
   "metadata": {},
   "outputs": [],
   "source": [
    "for level, df in revenue_df_dict_total.items():\n",
    "    df.to_csv(f'temp_data/{level}_mean_revenue_total.csv')"
   ]
  },
  {
   "cell_type": "code",
   "execution_count": 33,
   "metadata": {},
   "outputs": [],
   "source": [
    "from avg_revenue import add_avg_revenue, create_avg_revenue_csvs\n",
    "\n",
    "create_avg_revenue_csvs()\n",
    "result = add_avg_revenue(stores_val, total=False)"
   ]
  },
  {
   "cell_type": "code",
   "execution_count": 34,
   "metadata": {},
   "outputs": [
    {
     "data": {
      "text/plain": [
       "store_id                               0\n",
       "year                                   0\n",
       "store_name                             0\n",
       "plaace_hierarchy_id                    0\n",
       "sales_channel_name                     0\n",
       "grunnkrets_id                          0\n",
       "address                              349\n",
       "lat                                    0\n",
       "lon                                    0\n",
       "chain_name                          1815\n",
       "mall_name                           2081\n",
       "revenue                                0\n",
       "fylke                                  0\n",
       "kommune                                0\n",
       "delomrade                              0\n",
       "plaace_cat_1                           0\n",
       "plaace_cat_2                           0\n",
       "plaace_cat_3                           0\n",
       "plaace_cat_4                           0\n",
       "grunnkrets_id.mean_revenue             0\n",
       "grunnkrets_id.mean_revenue_count       0\n",
       "delomrade.mean_revenue                 0\n",
       "delomrade.mean_revenue_count           0\n",
       "kommune.mean_revenue                   0\n",
       "kommune.mean_revenue_count             0\n",
       "fylke.mean_revenue                     0\n",
       "fylke.mean_revenue_count               0\n",
       "dtype: int64"
      ]
     },
     "execution_count": 34,
     "metadata": {},
     "output_type": "execute_result"
    }
   ],
   "source": [
    "result.isna().sum()"
   ]
  },
  {
   "cell_type": "code",
   "execution_count": 35,
   "metadata": {},
   "outputs": [
    {
     "data": {
      "text/html": [
       "<div>\n",
       "<style scoped>\n",
       "    .dataframe tbody tr th:only-of-type {\n",
       "        vertical-align: middle;\n",
       "    }\n",
       "\n",
       "    .dataframe tbody tr th {\n",
       "        vertical-align: top;\n",
       "    }\n",
       "\n",
       "    .dataframe thead th {\n",
       "        text-align: right;\n",
       "    }\n",
       "</style>\n",
       "<table border=\"1\" class=\"dataframe\">\n",
       "  <thead>\n",
       "    <tr style=\"text-align: right;\">\n",
       "      <th></th>\n",
       "      <th>store_id</th>\n",
       "      <th>year</th>\n",
       "      <th>store_name</th>\n",
       "      <th>plaace_hierarchy_id</th>\n",
       "      <th>sales_channel_name</th>\n",
       "      <th>grunnkrets_id</th>\n",
       "      <th>address</th>\n",
       "      <th>lat</th>\n",
       "      <th>lon</th>\n",
       "      <th>chain_name</th>\n",
       "      <th>...</th>\n",
       "      <th>plaace_cat_3</th>\n",
       "      <th>plaace_cat_4</th>\n",
       "      <th>grunnkrets_id.mean_revenue</th>\n",
       "      <th>grunnkrets_id.mean_revenue_count</th>\n",
       "      <th>delomrade.mean_revenue</th>\n",
       "      <th>delomrade.mean_revenue_count</th>\n",
       "      <th>kommune.mean_revenue</th>\n",
       "      <th>kommune.mean_revenue_count</th>\n",
       "      <th>fylke.mean_revenue</th>\n",
       "      <th>fylke.mean_revenue_count</th>\n",
       "    </tr>\n",
       "  </thead>\n",
       "  <tbody>\n",
       "  </tbody>\n",
       "</table>\n",
       "<p>0 rows × 27 columns</p>\n",
       "</div>"
      ],
      "text/plain": [
       "Empty DataFrame\n",
       "Columns: [store_id, year, store_name, plaace_hierarchy_id, sales_channel_name, grunnkrets_id, address, lat, lon, chain_name, mall_name, revenue, fylke, kommune, delomrade, plaace_cat_1, plaace_cat_2, plaace_cat_3, plaace_cat_4, grunnkrets_id.mean_revenue, grunnkrets_id.mean_revenue_count, delomrade.mean_revenue, delomrade.mean_revenue_count, kommune.mean_revenue, kommune.mean_revenue_count, fylke.mean_revenue, fylke.mean_revenue_count]\n",
       "Index: []\n",
       "\n",
       "[0 rows x 27 columns]"
      ]
     },
     "execution_count": 35,
     "metadata": {},
     "output_type": "execute_result"
    }
   ],
   "source": [
    "result[result['grunnkrets_id.mean_revenue_count'].isna()]"
   ]
  },
  {
   "cell_type": "code",
   "execution_count": 36,
   "metadata": {},
   "outputs": [
    {
     "data": {
      "text/html": [
       "<div>\n",
       "<style scoped>\n",
       "    .dataframe tbody tr th:only-of-type {\n",
       "        vertical-align: middle;\n",
       "    }\n",
       "\n",
       "    .dataframe tbody tr th {\n",
       "        vertical-align: top;\n",
       "    }\n",
       "\n",
       "    .dataframe thead th {\n",
       "        text-align: right;\n",
       "    }\n",
       "</style>\n",
       "<table border=\"1\" class=\"dataframe\">\n",
       "  <thead>\n",
       "    <tr style=\"text-align: right;\">\n",
       "      <th></th>\n",
       "      <th>grunnkrets_id.mean_revenue</th>\n",
       "      <th>delomrade.mean_revenue</th>\n",
       "      <th>kommune.mean_revenue</th>\n",
       "      <th>fylke.mean_revenue</th>\n",
       "      <th>revenue</th>\n",
       "    </tr>\n",
       "  </thead>\n",
       "  <tbody>\n",
       "    <tr>\n",
       "      <th>grunnkrets_id.mean_revenue</th>\n",
       "      <td>1.000000</td>\n",
       "      <td>0.668862</td>\n",
       "      <td>0.468267</td>\n",
       "      <td>0.396810</td>\n",
       "      <td>0.715079</td>\n",
       "    </tr>\n",
       "    <tr>\n",
       "      <th>delomrade.mean_revenue</th>\n",
       "      <td>0.668862</td>\n",
       "      <td>1.000000</td>\n",
       "      <td>0.668876</td>\n",
       "      <td>0.571474</td>\n",
       "      <td>0.478664</td>\n",
       "    </tr>\n",
       "    <tr>\n",
       "      <th>kommune.mean_revenue</th>\n",
       "      <td>0.468267</td>\n",
       "      <td>0.668876</td>\n",
       "      <td>1.000000</td>\n",
       "      <td>0.849542</td>\n",
       "      <td>0.318923</td>\n",
       "    </tr>\n",
       "    <tr>\n",
       "      <th>fylke.mean_revenue</th>\n",
       "      <td>0.396810</td>\n",
       "      <td>0.571474</td>\n",
       "      <td>0.849542</td>\n",
       "      <td>1.000000</td>\n",
       "      <td>0.271024</td>\n",
       "    </tr>\n",
       "    <tr>\n",
       "      <th>revenue</th>\n",
       "      <td>0.715079</td>\n",
       "      <td>0.478664</td>\n",
       "      <td>0.318923</td>\n",
       "      <td>0.271024</td>\n",
       "      <td>1.000000</td>\n",
       "    </tr>\n",
       "  </tbody>\n",
       "</table>\n",
       "</div>"
      ],
      "text/plain": [
       "                            grunnkrets_id.mean_revenue  \\\n",
       "grunnkrets_id.mean_revenue                    1.000000   \n",
       "delomrade.mean_revenue                        0.668862   \n",
       "kommune.mean_revenue                          0.468267   \n",
       "fylke.mean_revenue                            0.396810   \n",
       "revenue                                       0.715079   \n",
       "\n",
       "                            delomrade.mean_revenue  kommune.mean_revenue  \\\n",
       "grunnkrets_id.mean_revenue                0.668862              0.468267   \n",
       "delomrade.mean_revenue                    1.000000              0.668876   \n",
       "kommune.mean_revenue                      0.668876              1.000000   \n",
       "fylke.mean_revenue                        0.571474              0.849542   \n",
       "revenue                                   0.478664              0.318923   \n",
       "\n",
       "                            fylke.mean_revenue   revenue  \n",
       "grunnkrets_id.mean_revenue            0.396810  0.715079  \n",
       "delomrade.mean_revenue                0.571474  0.478664  \n",
       "kommune.mean_revenue                  0.849542  0.318923  \n",
       "fylke.mean_revenue                    1.000000  0.271024  \n",
       "revenue                               0.271024  1.000000  "
      ]
     },
     "execution_count": 36,
     "metadata": {},
     "output_type": "execute_result"
    }
   ],
   "source": [
    "result[[f'{level}.mean_revenue' for level in levels]+['revenue']].corr()"
   ]
  },
  {
   "cell_type": "code",
   "execution_count": null,
   "metadata": {},
   "outputs": [],
   "source": []
  }
 ],
 "metadata": {
  "kernelspec": {
   "display_name": "Python 3.9.13 ('base')",
   "language": "python",
   "name": "python3"
  },
  "language_info": {
   "codemirror_mode": {
    "name": "ipython",
    "version": 3
   },
   "file_extension": ".py",
   "mimetype": "text/x-python",
   "name": "python",
   "nbconvert_exporter": "python",
   "pygments_lexer": "ipython3",
   "version": "3.9.13"
  },
  "orig_nbformat": 4,
  "vscode": {
   "interpreter": {
    "hash": "955c12110b07425d818bf9efcf8181463f40c3bfbdb705ae16c6eed56a6d2475"
   }
  }
 },
 "nbformat": 4,
 "nbformat_minor": 2
}
